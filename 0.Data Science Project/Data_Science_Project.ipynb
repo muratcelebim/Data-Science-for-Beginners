{
  "nbformat": 4,
  "nbformat_minor": 0,
  "metadata": {
    "colab": {
      "provenance": [],
      "collapsed_sections": []
    },
    "kernelspec": {
      "name": "python3",
      "display_name": "Python 3"
    },
    "language_info": {
      "name": "python"
    }
  },
  "cells": [
    {
      "cell_type": "markdown",
      "source": [
        "# **Importing Libraries**"
      ],
      "metadata": {
        "id": "-00ifN5mLCKq"
      }
    },
    {
      "cell_type": "code",
      "source": [
        "# Kütüphanelerin Import Edilmesi\n",
        "\n",
        "# Numerik hesaplamalar yapabilmek için gerekli kütüphanenin import edilmesi.\n",
        "import numpy as np\n",
        "\n",
        "# Ver manipülasyonu ve analizi için gerekli kütüphanenin import edilmesi.\n",
        "import pandas as pd\n",
        "\n",
        "# Veri setleri ve grafik çizdirmek için gerekli kütüphanenin import edilmesi.\n",
        "import seaborn as sns\n",
        "\n",
        "# Grafik çizdirmek için gerekli kütüphanenin import edilmesi.\n",
        "import matplotlib.pyplot as plt\n",
        "\n",
        "# Eksik değerler için kütüphanenin önce indirilip sonra import edilmesi.\n",
        "#!pip install missingno\n",
        "import missingno as msno\n",
        "\n",
        "# Zaman kütüphanesinin import edilmesi.\n",
        "from datetime import date\n",
        "\n",
        "# Çok değişkenli aykırı değerleri yakalamak için kütüphanenin import edilmesi.\n",
        "from sklearn.neighbors import LocalOutlierFactor\n",
        "\n",
        "# Veri setini Holdout yöntemi ile eğitim ve test verisi olarak ikiye bölünmesi için gerekli kütüphanenin import edilmesi.\n",
        "from sklearn.model_selection import train_test_split\n",
        "\n",
        "# Model sonuçlarının değerlendirilmesi için kütüphanenin import edilmesi.\n",
        "from sklearn.metrics import accuracy_score\n",
        "\n",
        "# Ölçeklendirme için kütüphanelerin import edilmesi.\n",
        "from sklearn.preprocessing import MinMaxScaler, LabelEncoder, StandardScaler, RobustScaler\n",
        "\n",
        "\n",
        "# Sınıflandırma algoritmaları için kütüphanelerin import edilmesi.\n",
        "\n",
        "# Lojistik Regresyon algoritması için kütüphanenin import edilmesi\n",
        "from sklearn.linear_model import LogisticRegression\n",
        "\n",
        "# KNN algortiması için kütüphanin import edilmesi.\n",
        "from sklearn.neighbors import KNeighborsClassifier\n",
        "\n",
        "# Random Forest algortması kütüphnesinin import edilmesi.\n",
        "from sklearn.ensemble import RandomForestClassifier\n",
        "\n",
        "# Destek Vektör Makinesi algoritması kütüphanesinin import edilmesi.\n",
        "from sklearn.svm import SVC\n",
        "\n",
        "# LightGBM Algoritması kütüphanesinin import edilmesi\n",
        "from sklearn.ensemble import GradientBoostingClassifier\n",
        "\n",
        "# XGBoost Algoritması kütüphanesinin import edilmesi\n",
        "from xgboost import XGBClassifier\n",
        "\n",
        "# Decision Tree Classifier Algoritması kütüphanesinin import edilmesi.\n",
        "from sklearn.tree import DecisionTreeClassifier\n",
        "\n",
        "# Çıktı görüntülerinin daha iyi olması için gerekli ayarların yapılması\n",
        "pd.set_option(\"display.max_columns\", None)\n",
        "pd.set_option(\"display.max_rows\", None)\n",
        "pd.set_option(\"display.float_format\", lambda x: \"%3.f\" % x)\n",
        "pd.options.display.float_format = '{:,.3f}'.format\n",
        "pd.set_option(\"display.width\", 5000)"
      ],
      "metadata": {
        "id": "z7a3ApYZLJTy"
      },
      "execution_count": 1013,
      "outputs": []
    },
    {
      "cell_type": "markdown",
      "source": [
        "# **1. Step: Exploratory Data Analysis (EDA)**"
      ],
      "metadata": {
        "id": "pggVKpG1XbZl"
      }
    },
    {
      "cell_type": "markdown",
      "source": [
        "## **Genel Resim**"
      ],
      "metadata": {
        "id": "xZqsFtXzkLgO"
      }
    },
    {
      "cell_type": "markdown",
      "source": [
        "* Bu aşamada veri setini ve değişkenlerini, değişkenlerin veri tiplerini, eksek değer var mı yok mu şeklindeki sorulara cevap arayacağız.\n",
        "* Aynı zamanda değişkenlerin grafikleri çizdireceğiz.\n"
      ],
      "metadata": {
        "id": "_d1MWtGYZFSl"
      }
    },
    {
      "cell_type": "markdown",
      "source": [
        "Veri setimizi yükleyelim."
      ],
      "metadata": {
        "id": "p_pJuvVXacRI"
      }
    },
    {
      "cell_type": "code",
      "source": [
        "data = pd.read_csv(\"/content/drive/MyDrive/Sıfırdan Başlayanlar İçin Veri Bilimi - miuul/Veri Setleri/titanic_data.csv\")"
      ],
      "metadata": {
        "id": "QNmQKCRDXYwu"
      },
      "execution_count": 1014,
      "outputs": []
    },
    {
      "cell_type": "code",
      "source": [
        "df = data.copy()"
      ],
      "metadata": {
        "id": "1NGLKhR-ioAt"
      },
      "execution_count": 1015,
      "outputs": []
    },
    {
      "cell_type": "markdown",
      "source": [
        "* Proje süresince rahat çalışabilmemiz için birkaç işlem yapalım.\n",
        "1. Tüm değişkenleri tek bir yazı boyutuna getireim.\n",
        "2. PassengerId değişkeni bizim için hiçbir anlam taşımadığı için (çünkü index bilgisinden hiç bir farkı yok, sadece 1'den başlamış) o değişkeni silelim."
      ],
      "metadata": {
        "id": "tkXvf-9llc4Z"
      }
    },
    {
      "cell_type": "code",
      "source": [
        "df.columns = [col.upper() for col in df.columns]"
      ],
      "metadata": {
        "id": "miR9ZuftlBJ_"
      },
      "execution_count": 1016,
      "outputs": []
    },
    {
      "cell_type": "code",
      "source": [
        "df.drop(\"PASSENGERID\", inplace=True, axis=1)"
      ],
      "metadata": {
        "id": "nT6QBah5mByO"
      },
      "execution_count": 1017,
      "outputs": []
    },
    {
      "cell_type": "markdown",
      "source": [
        "Titanic veri setinin hikayesine bakalım:\n",
        "\n",
        "* Bu veri seti bir yolculuğu bu yolculuk esnasında meydana gelen kaza sonrasında yolcuların hayatta kalıp kalmama\n",
        "durumlarını ifade eden bir veri setidir. \n",
        "* Titanic gemisindeki yolcuların istatistiklerini tutan bir veri setidir. \n",
        "Veri setinde toplam 891 yolcu vardır.\n",
        "* Bir yolculuğa ait veri setidir. Veri setinde çeşitli dğeişkenler var ve bu gemiye binen kişilerin hayatta kalma ya da kalmama durumları survived değişkeni ile ifade edilmiş.\n",
        "\n",
        "Değişkenler: \n",
        "* survived: Hayatta kaldı mı ? (0 : Hayır , 1: Evet)\n",
        "* pclass: Yolculuk sınıfı ifade eder (1 (En iyi) , 2 (Orta) , 3 (En kötü))\n",
        "* sex: Yolcunun cinsiyeti (Male , Female)\n",
        "* age: Yolcunun yaşı (0.42 (1 yaşından küçük bebekler) , 80)\n",
        "* sibsp: Yolcunun gemide bulunan kardeş sayısı (0–8)    \n",
        "* parch: Yolcunun gemide bulunan akraba sayısı (0–6) - Uzak akraba\n",
        "* fare: Yolcunun bilet için ödediği tutar (0–512.3292)\n",
        "* embarked: Yolcunun gemiye bindiği kapı (S (En iyisi), C (Orta), Q (En Kötüsü))\n",
        "* embark_town: Yolcunun gemiye bindiği iskelenin bulunduğu şehir. - Bindiği limanı ifade ediyor.\n",
        "* cabin: Uçakta seyahat eden yolcu ve personellere verilen kabin numaralarıdır.\n",
        "* ticket: Bilet numarası.\n",
        "* Name: Yolcuların isim, meslek ve cinsiyet bilgisi."
      ],
      "metadata": {
        "id": "6rOaEwEcba6X"
      }
    },
    {
      "cell_type": "markdown",
      "source": [
        "ilk beş gözlemine bakalım."
      ],
      "metadata": {
        "id": "5jCtHP1DayL-"
      }
    },
    {
      "cell_type": "code",
      "source": [
        "df.head()"
      ],
      "metadata": {
        "colab": {
          "base_uri": "https://localhost:8080/",
          "height": 206
        },
        "id": "XnTvQQrtXYa9",
        "outputId": "31bb48d3-8236-446d-81fe-0cfba5b7b1d5"
      },
      "execution_count": 1018,
      "outputs": [
        {
          "output_type": "execute_result",
          "data": {
            "text/plain": [
              "   SURVIVED  PCLASS                                               NAME     SEX    AGE  SIBSP  PARCH            TICKET   FARE CABIN EMBARKED\n",
              "0         0       3                            Braund, Mr. Owen Harris    male 22.000      1      0         A/5 21171  7.250   NaN        S\n",
              "1         1       1  Cumings, Mrs. John Bradley (Florence Briggs Th...  female 38.000      1      0          PC 17599 71.283   C85        C\n",
              "2         1       3                             Heikkinen, Miss. Laina  female 26.000      0      0  STON/O2. 3101282  7.925   NaN        S\n",
              "3         1       1       Futrelle, Mrs. Jacques Heath (Lily May Peel)  female 35.000      1      0            113803 53.100  C123        S\n",
              "4         0       3                           Allen, Mr. William Henry    male 35.000      0      0            373450  8.050   NaN        S"
            ],
            "text/html": [
              "\n",
              "  <div id=\"df-792b338e-b8e6-4f84-9abc-8ac0cb93c07f\">\n",
              "    <div class=\"colab-df-container\">\n",
              "      <div>\n",
              "<style scoped>\n",
              "    .dataframe tbody tr th:only-of-type {\n",
              "        vertical-align: middle;\n",
              "    }\n",
              "\n",
              "    .dataframe tbody tr th {\n",
              "        vertical-align: top;\n",
              "    }\n",
              "\n",
              "    .dataframe thead th {\n",
              "        text-align: right;\n",
              "    }\n",
              "</style>\n",
              "<table border=\"1\" class=\"dataframe\">\n",
              "  <thead>\n",
              "    <tr style=\"text-align: right;\">\n",
              "      <th></th>\n",
              "      <th>SURVIVED</th>\n",
              "      <th>PCLASS</th>\n",
              "      <th>NAME</th>\n",
              "      <th>SEX</th>\n",
              "      <th>AGE</th>\n",
              "      <th>SIBSP</th>\n",
              "      <th>PARCH</th>\n",
              "      <th>TICKET</th>\n",
              "      <th>FARE</th>\n",
              "      <th>CABIN</th>\n",
              "      <th>EMBARKED</th>\n",
              "    </tr>\n",
              "  </thead>\n",
              "  <tbody>\n",
              "    <tr>\n",
              "      <th>0</th>\n",
              "      <td>0</td>\n",
              "      <td>3</td>\n",
              "      <td>Braund, Mr. Owen Harris</td>\n",
              "      <td>male</td>\n",
              "      <td>22.000</td>\n",
              "      <td>1</td>\n",
              "      <td>0</td>\n",
              "      <td>A/5 21171</td>\n",
              "      <td>7.250</td>\n",
              "      <td>NaN</td>\n",
              "      <td>S</td>\n",
              "    </tr>\n",
              "    <tr>\n",
              "      <th>1</th>\n",
              "      <td>1</td>\n",
              "      <td>1</td>\n",
              "      <td>Cumings, Mrs. John Bradley (Florence Briggs Th...</td>\n",
              "      <td>female</td>\n",
              "      <td>38.000</td>\n",
              "      <td>1</td>\n",
              "      <td>0</td>\n",
              "      <td>PC 17599</td>\n",
              "      <td>71.283</td>\n",
              "      <td>C85</td>\n",
              "      <td>C</td>\n",
              "    </tr>\n",
              "    <tr>\n",
              "      <th>2</th>\n",
              "      <td>1</td>\n",
              "      <td>3</td>\n",
              "      <td>Heikkinen, Miss. Laina</td>\n",
              "      <td>female</td>\n",
              "      <td>26.000</td>\n",
              "      <td>0</td>\n",
              "      <td>0</td>\n",
              "      <td>STON/O2. 3101282</td>\n",
              "      <td>7.925</td>\n",
              "      <td>NaN</td>\n",
              "      <td>S</td>\n",
              "    </tr>\n",
              "    <tr>\n",
              "      <th>3</th>\n",
              "      <td>1</td>\n",
              "      <td>1</td>\n",
              "      <td>Futrelle, Mrs. Jacques Heath (Lily May Peel)</td>\n",
              "      <td>female</td>\n",
              "      <td>35.000</td>\n",
              "      <td>1</td>\n",
              "      <td>0</td>\n",
              "      <td>113803</td>\n",
              "      <td>53.100</td>\n",
              "      <td>C123</td>\n",
              "      <td>S</td>\n",
              "    </tr>\n",
              "    <tr>\n",
              "      <th>4</th>\n",
              "      <td>0</td>\n",
              "      <td>3</td>\n",
              "      <td>Allen, Mr. William Henry</td>\n",
              "      <td>male</td>\n",
              "      <td>35.000</td>\n",
              "      <td>0</td>\n",
              "      <td>0</td>\n",
              "      <td>373450</td>\n",
              "      <td>8.050</td>\n",
              "      <td>NaN</td>\n",
              "      <td>S</td>\n",
              "    </tr>\n",
              "  </tbody>\n",
              "</table>\n",
              "</div>\n",
              "      <button class=\"colab-df-convert\" onclick=\"convertToInteractive('df-792b338e-b8e6-4f84-9abc-8ac0cb93c07f')\"\n",
              "              title=\"Convert this dataframe to an interactive table.\"\n",
              "              style=\"display:none;\">\n",
              "        \n",
              "  <svg xmlns=\"http://www.w3.org/2000/svg\" height=\"24px\"viewBox=\"0 0 24 24\"\n",
              "       width=\"24px\">\n",
              "    <path d=\"M0 0h24v24H0V0z\" fill=\"none\"/>\n",
              "    <path d=\"M18.56 5.44l.94 2.06.94-2.06 2.06-.94-2.06-.94-.94-2.06-.94 2.06-2.06.94zm-11 1L8.5 8.5l.94-2.06 2.06-.94-2.06-.94L8.5 2.5l-.94 2.06-2.06.94zm10 10l.94 2.06.94-2.06 2.06-.94-2.06-.94-.94-2.06-.94 2.06-2.06.94z\"/><path d=\"M17.41 7.96l-1.37-1.37c-.4-.4-.92-.59-1.43-.59-.52 0-1.04.2-1.43.59L10.3 9.45l-7.72 7.72c-.78.78-.78 2.05 0 2.83L4 21.41c.39.39.9.59 1.41.59.51 0 1.02-.2 1.41-.59l7.78-7.78 2.81-2.81c.8-.78.8-2.07 0-2.86zM5.41 20L4 18.59l7.72-7.72 1.47 1.35L5.41 20z\"/>\n",
              "  </svg>\n",
              "      </button>\n",
              "      \n",
              "  <style>\n",
              "    .colab-df-container {\n",
              "      display:flex;\n",
              "      flex-wrap:wrap;\n",
              "      gap: 12px;\n",
              "    }\n",
              "\n",
              "    .colab-df-convert {\n",
              "      background-color: #E8F0FE;\n",
              "      border: none;\n",
              "      border-radius: 50%;\n",
              "      cursor: pointer;\n",
              "      display: none;\n",
              "      fill: #1967D2;\n",
              "      height: 32px;\n",
              "      padding: 0 0 0 0;\n",
              "      width: 32px;\n",
              "    }\n",
              "\n",
              "    .colab-df-convert:hover {\n",
              "      background-color: #E2EBFA;\n",
              "      box-shadow: 0px 1px 2px rgba(60, 64, 67, 0.3), 0px 1px 3px 1px rgba(60, 64, 67, 0.15);\n",
              "      fill: #174EA6;\n",
              "    }\n",
              "\n",
              "    [theme=dark] .colab-df-convert {\n",
              "      background-color: #3B4455;\n",
              "      fill: #D2E3FC;\n",
              "    }\n",
              "\n",
              "    [theme=dark] .colab-df-convert:hover {\n",
              "      background-color: #434B5C;\n",
              "      box-shadow: 0px 1px 3px 1px rgba(0, 0, 0, 0.15);\n",
              "      filter: drop-shadow(0px 1px 2px rgba(0, 0, 0, 0.3));\n",
              "      fill: #FFFFFF;\n",
              "    }\n",
              "  </style>\n",
              "\n",
              "      <script>\n",
              "        const buttonEl =\n",
              "          document.querySelector('#df-792b338e-b8e6-4f84-9abc-8ac0cb93c07f button.colab-df-convert');\n",
              "        buttonEl.style.display =\n",
              "          google.colab.kernel.accessAllowed ? 'block' : 'none';\n",
              "\n",
              "        async function convertToInteractive(key) {\n",
              "          const element = document.querySelector('#df-792b338e-b8e6-4f84-9abc-8ac0cb93c07f');\n",
              "          const dataTable =\n",
              "            await google.colab.kernel.invokeFunction('convertToInteractive',\n",
              "                                                     [key], {});\n",
              "          if (!dataTable) return;\n",
              "\n",
              "          const docLinkHtml = 'Like what you see? Visit the ' +\n",
              "            '<a target=\"_blank\" href=https://colab.research.google.com/notebooks/data_table.ipynb>data table notebook</a>'\n",
              "            + ' to learn more about interactive tables.';\n",
              "          element.innerHTML = '';\n",
              "          dataTable['output_type'] = 'display_data';\n",
              "          await google.colab.output.renderOutput(dataTable, element);\n",
              "          const docLink = document.createElement('div');\n",
              "          docLink.innerHTML = docLinkHtml;\n",
              "          element.appendChild(docLink);\n",
              "        }\n",
              "      </script>\n",
              "    </div>\n",
              "  </div>\n",
              "  "
            ]
          },
          "metadata": {},
          "execution_count": 1018
        }
      ]
    },
    {
      "cell_type": "markdown",
      "source": [
        "Son beş gözleme bakalım."
      ],
      "metadata": {
        "id": "6QIpsdpQa7eo"
      }
    },
    {
      "cell_type": "code",
      "source": [
        "df.tail()"
      ],
      "metadata": {
        "colab": {
          "base_uri": "https://localhost:8080/",
          "height": 206
        },
        "id": "jW9986v1iYeN",
        "outputId": "919c7b66-b033-4642-bc2f-6bc0610938b6"
      },
      "execution_count": 1019,
      "outputs": [
        {
          "output_type": "execute_result",
          "data": {
            "text/plain": [
              "     SURVIVED  PCLASS                                      NAME     SEX    AGE  SIBSP  PARCH      TICKET   FARE CABIN EMBARKED\n",
              "886         0       2                     Montvila, Rev. Juozas    male 27.000      0      0      211536 13.000   NaN        S\n",
              "887         1       1              Graham, Miss. Margaret Edith  female 19.000      0      0      112053 30.000   B42        S\n",
              "888         0       3  Johnston, Miss. Catherine Helen \"Carrie\"  female    NaN      1      2  W./C. 6607 23.450   NaN        S\n",
              "889         1       1                     Behr, Mr. Karl Howell    male 26.000      0      0      111369 30.000  C148        C\n",
              "890         0       3                       Dooley, Mr. Patrick    male 32.000      0      0      370376  7.750   NaN        Q"
            ],
            "text/html": [
              "\n",
              "  <div id=\"df-8aed1e85-9f2f-45fc-a982-e03b18b588e6\">\n",
              "    <div class=\"colab-df-container\">\n",
              "      <div>\n",
              "<style scoped>\n",
              "    .dataframe tbody tr th:only-of-type {\n",
              "        vertical-align: middle;\n",
              "    }\n",
              "\n",
              "    .dataframe tbody tr th {\n",
              "        vertical-align: top;\n",
              "    }\n",
              "\n",
              "    .dataframe thead th {\n",
              "        text-align: right;\n",
              "    }\n",
              "</style>\n",
              "<table border=\"1\" class=\"dataframe\">\n",
              "  <thead>\n",
              "    <tr style=\"text-align: right;\">\n",
              "      <th></th>\n",
              "      <th>SURVIVED</th>\n",
              "      <th>PCLASS</th>\n",
              "      <th>NAME</th>\n",
              "      <th>SEX</th>\n",
              "      <th>AGE</th>\n",
              "      <th>SIBSP</th>\n",
              "      <th>PARCH</th>\n",
              "      <th>TICKET</th>\n",
              "      <th>FARE</th>\n",
              "      <th>CABIN</th>\n",
              "      <th>EMBARKED</th>\n",
              "    </tr>\n",
              "  </thead>\n",
              "  <tbody>\n",
              "    <tr>\n",
              "      <th>886</th>\n",
              "      <td>0</td>\n",
              "      <td>2</td>\n",
              "      <td>Montvila, Rev. Juozas</td>\n",
              "      <td>male</td>\n",
              "      <td>27.000</td>\n",
              "      <td>0</td>\n",
              "      <td>0</td>\n",
              "      <td>211536</td>\n",
              "      <td>13.000</td>\n",
              "      <td>NaN</td>\n",
              "      <td>S</td>\n",
              "    </tr>\n",
              "    <tr>\n",
              "      <th>887</th>\n",
              "      <td>1</td>\n",
              "      <td>1</td>\n",
              "      <td>Graham, Miss. Margaret Edith</td>\n",
              "      <td>female</td>\n",
              "      <td>19.000</td>\n",
              "      <td>0</td>\n",
              "      <td>0</td>\n",
              "      <td>112053</td>\n",
              "      <td>30.000</td>\n",
              "      <td>B42</td>\n",
              "      <td>S</td>\n",
              "    </tr>\n",
              "    <tr>\n",
              "      <th>888</th>\n",
              "      <td>0</td>\n",
              "      <td>3</td>\n",
              "      <td>Johnston, Miss. Catherine Helen \"Carrie\"</td>\n",
              "      <td>female</td>\n",
              "      <td>NaN</td>\n",
              "      <td>1</td>\n",
              "      <td>2</td>\n",
              "      <td>W./C. 6607</td>\n",
              "      <td>23.450</td>\n",
              "      <td>NaN</td>\n",
              "      <td>S</td>\n",
              "    </tr>\n",
              "    <tr>\n",
              "      <th>889</th>\n",
              "      <td>1</td>\n",
              "      <td>1</td>\n",
              "      <td>Behr, Mr. Karl Howell</td>\n",
              "      <td>male</td>\n",
              "      <td>26.000</td>\n",
              "      <td>0</td>\n",
              "      <td>0</td>\n",
              "      <td>111369</td>\n",
              "      <td>30.000</td>\n",
              "      <td>C148</td>\n",
              "      <td>C</td>\n",
              "    </tr>\n",
              "    <tr>\n",
              "      <th>890</th>\n",
              "      <td>0</td>\n",
              "      <td>3</td>\n",
              "      <td>Dooley, Mr. Patrick</td>\n",
              "      <td>male</td>\n",
              "      <td>32.000</td>\n",
              "      <td>0</td>\n",
              "      <td>0</td>\n",
              "      <td>370376</td>\n",
              "      <td>7.750</td>\n",
              "      <td>NaN</td>\n",
              "      <td>Q</td>\n",
              "    </tr>\n",
              "  </tbody>\n",
              "</table>\n",
              "</div>\n",
              "      <button class=\"colab-df-convert\" onclick=\"convertToInteractive('df-8aed1e85-9f2f-45fc-a982-e03b18b588e6')\"\n",
              "              title=\"Convert this dataframe to an interactive table.\"\n",
              "              style=\"display:none;\">\n",
              "        \n",
              "  <svg xmlns=\"http://www.w3.org/2000/svg\" height=\"24px\"viewBox=\"0 0 24 24\"\n",
              "       width=\"24px\">\n",
              "    <path d=\"M0 0h24v24H0V0z\" fill=\"none\"/>\n",
              "    <path d=\"M18.56 5.44l.94 2.06.94-2.06 2.06-.94-2.06-.94-.94-2.06-.94 2.06-2.06.94zm-11 1L8.5 8.5l.94-2.06 2.06-.94-2.06-.94L8.5 2.5l-.94 2.06-2.06.94zm10 10l.94 2.06.94-2.06 2.06-.94-2.06-.94-.94-2.06-.94 2.06-2.06.94z\"/><path d=\"M17.41 7.96l-1.37-1.37c-.4-.4-.92-.59-1.43-.59-.52 0-1.04.2-1.43.59L10.3 9.45l-7.72 7.72c-.78.78-.78 2.05 0 2.83L4 21.41c.39.39.9.59 1.41.59.51 0 1.02-.2 1.41-.59l7.78-7.78 2.81-2.81c.8-.78.8-2.07 0-2.86zM5.41 20L4 18.59l7.72-7.72 1.47 1.35L5.41 20z\"/>\n",
              "  </svg>\n",
              "      </button>\n",
              "      \n",
              "  <style>\n",
              "    .colab-df-container {\n",
              "      display:flex;\n",
              "      flex-wrap:wrap;\n",
              "      gap: 12px;\n",
              "    }\n",
              "\n",
              "    .colab-df-convert {\n",
              "      background-color: #E8F0FE;\n",
              "      border: none;\n",
              "      border-radius: 50%;\n",
              "      cursor: pointer;\n",
              "      display: none;\n",
              "      fill: #1967D2;\n",
              "      height: 32px;\n",
              "      padding: 0 0 0 0;\n",
              "      width: 32px;\n",
              "    }\n",
              "\n",
              "    .colab-df-convert:hover {\n",
              "      background-color: #E2EBFA;\n",
              "      box-shadow: 0px 1px 2px rgba(60, 64, 67, 0.3), 0px 1px 3px 1px rgba(60, 64, 67, 0.15);\n",
              "      fill: #174EA6;\n",
              "    }\n",
              "\n",
              "    [theme=dark] .colab-df-convert {\n",
              "      background-color: #3B4455;\n",
              "      fill: #D2E3FC;\n",
              "    }\n",
              "\n",
              "    [theme=dark] .colab-df-convert:hover {\n",
              "      background-color: #434B5C;\n",
              "      box-shadow: 0px 1px 3px 1px rgba(0, 0, 0, 0.15);\n",
              "      filter: drop-shadow(0px 1px 2px rgba(0, 0, 0, 0.3));\n",
              "      fill: #FFFFFF;\n",
              "    }\n",
              "  </style>\n",
              "\n",
              "      <script>\n",
              "        const buttonEl =\n",
              "          document.querySelector('#df-8aed1e85-9f2f-45fc-a982-e03b18b588e6 button.colab-df-convert');\n",
              "        buttonEl.style.display =\n",
              "          google.colab.kernel.accessAllowed ? 'block' : 'none';\n",
              "\n",
              "        async function convertToInteractive(key) {\n",
              "          const element = document.querySelector('#df-8aed1e85-9f2f-45fc-a982-e03b18b588e6');\n",
              "          const dataTable =\n",
              "            await google.colab.kernel.invokeFunction('convertToInteractive',\n",
              "                                                     [key], {});\n",
              "          if (!dataTable) return;\n",
              "\n",
              "          const docLinkHtml = 'Like what you see? Visit the ' +\n",
              "            '<a target=\"_blank\" href=https://colab.research.google.com/notebooks/data_table.ipynb>data table notebook</a>'\n",
              "            + ' to learn more about interactive tables.';\n",
              "          element.innerHTML = '';\n",
              "          dataTable['output_type'] = 'display_data';\n",
              "          await google.colab.output.renderOutput(dataTable, element);\n",
              "          const docLink = document.createElement('div');\n",
              "          docLink.innerHTML = docLinkHtml;\n",
              "          element.appendChild(docLink);\n",
              "        }\n",
              "      </script>\n",
              "    </div>\n",
              "  </div>\n",
              "  "
            ]
          },
          "metadata": {},
          "execution_count": 1019
        }
      ]
    },
    {
      "cell_type": "markdown",
      "source": [
        "Gözlem ve değişken sayılarına bakalım."
      ],
      "metadata": {
        "id": "Rdmvg-XSbBQM"
      }
    },
    {
      "cell_type": "code",
      "source": [
        "df.shape"
      ],
      "metadata": {
        "colab": {
          "base_uri": "https://localhost:8080/"
        },
        "id": "6Po523p4XYon",
        "outputId": "e743c491-627d-4a57-c5e8-ceb6c8a3ec78"
      },
      "execution_count": 1020,
      "outputs": [
        {
          "output_type": "execute_result",
          "data": {
            "text/plain": [
              "(891, 11)"
            ]
          },
          "metadata": {},
          "execution_count": 1020
        }
      ]
    },
    {
      "cell_type": "markdown",
      "source": [
        "891 gözlemden, 1 değişkenden oluşmakta.\n",
        "* 11 değişken özelllik değişkeni, 1 değişken (survived) hedef/target değişkenidir."
      ],
      "metadata": {
        "id": "0HUoshALbFyd"
      }
    },
    {
      "cell_type": "markdown",
      "source": [
        "Değişkenler hakkında bilgi almak istersek."
      ],
      "metadata": {
        "id": "hfgXmX2JhVQj"
      }
    },
    {
      "cell_type": "code",
      "source": [
        "df.info()"
      ],
      "metadata": {
        "colab": {
          "base_uri": "https://localhost:8080/"
        },
        "id": "Z0lMBhzxXYTC",
        "outputId": "e60702f9-1bc2-449c-cfec-4acf5758e6b9"
      },
      "execution_count": 1021,
      "outputs": [
        {
          "output_type": "stream",
          "name": "stdout",
          "text": [
            "<class 'pandas.core.frame.DataFrame'>\n",
            "RangeIndex: 891 entries, 0 to 890\n",
            "Data columns (total 11 columns):\n",
            " #   Column    Non-Null Count  Dtype  \n",
            "---  ------    --------------  -----  \n",
            " 0   SURVIVED  891 non-null    int64  \n",
            " 1   PCLASS    891 non-null    int64  \n",
            " 2   NAME      891 non-null    object \n",
            " 3   SEX       891 non-null    object \n",
            " 4   AGE       714 non-null    float64\n",
            " 5   SIBSP     891 non-null    int64  \n",
            " 6   PARCH     891 non-null    int64  \n",
            " 7   TICKET    891 non-null    object \n",
            " 8   FARE      891 non-null    float64\n",
            " 9   CABIN     204 non-null    object \n",
            " 10  EMBARKED  889 non-null    object \n",
            "dtypes: float64(2), int64(4), object(5)\n",
            "memory usage: 76.7+ KB\n"
          ]
        }
      ]
    },
    {
      "cell_type": "markdown",
      "source": [
        "* Bu çıktı bize ne anlatıyor?\n",
        "* Veri setinin bir veri çerçevesinde görüntülendiğini, 891 tane gözlem olduğunu, 11 tane değişken olduğunu, Age, Cabin ve Embarked değişkenlerinde eksik veriler olduğunu, 6 tane numerik değşken, 5 tane de kategorik değişken olduğunu anlatmakta."
      ],
      "metadata": {
        "id": "p-CnGKLRhdgI"
      }
    },
    {
      "cell_type": "markdown",
      "source": [
        "Değişken isimlerine erişmek istersek."
      ],
      "metadata": {
        "id": "UfFeTm7-jPGv"
      }
    },
    {
      "cell_type": "code",
      "source": [
        "df.columns"
      ],
      "metadata": {
        "colab": {
          "base_uri": "https://localhost:8080/"
        },
        "id": "WBfbN2fWXYQf",
        "outputId": "b7dcb28a-bf36-420a-a620-c60f3e4dcd6a"
      },
      "execution_count": 1022,
      "outputs": [
        {
          "output_type": "execute_result",
          "data": {
            "text/plain": [
              "Index(['SURVIVED', 'PCLASS', 'NAME', 'SEX', 'AGE', 'SIBSP', 'PARCH', 'TICKET', 'FARE', 'CABIN', 'EMBARKED'], dtype='object')"
            ]
          },
          "metadata": {},
          "execution_count": 1022
        }
      ]
    },
    {
      "cell_type": "markdown",
      "source": [
        "İndex bilgisine erişmek istersek."
      ],
      "metadata": {
        "id": "SH_aLlvCjXoX"
      }
    },
    {
      "cell_type": "code",
      "source": [
        "df.index"
      ],
      "metadata": {
        "colab": {
          "base_uri": "https://localhost:8080/"
        },
        "id": "8k7cleePXYOH",
        "outputId": "907003e2-2f44-45e6-f39d-390817c9b274"
      },
      "execution_count": 1023,
      "outputs": [
        {
          "output_type": "execute_result",
          "data": {
            "text/plain": [
              "RangeIndex(start=0, stop=891, step=1)"
            ]
          },
          "metadata": {},
          "execution_count": 1023
        }
      ]
    },
    {
      "cell_type": "markdown",
      "source": [
        "Sayısal değişkenlerin betimsel istatistiklerine erişmek istersek."
      ],
      "metadata": {
        "id": "XJkSfxerjdZf"
      }
    },
    {
      "cell_type": "code",
      "source": [
        "df.describe().T"
      ],
      "metadata": {
        "colab": {
          "base_uri": "https://localhost:8080/",
          "height": 238
        },
        "id": "CZfNUaVeXYLm",
        "outputId": "f084023c-b015-40bb-90c4-ebb53341f2cc"
      },
      "execution_count": 1024,
      "outputs": [
        {
          "output_type": "execute_result",
          "data": {
            "text/plain": [
              "           count   mean    std   min    25%    50%    75%     max\n",
              "SURVIVED 891.000  0.384  0.487 0.000  0.000  0.000  1.000   1.000\n",
              "PCLASS   891.000  2.309  0.836 1.000  2.000  3.000  3.000   3.000\n",
              "AGE      714.000 29.699 14.526 0.420 20.125 28.000 38.000  80.000\n",
              "SIBSP    891.000  0.523  1.103 0.000  0.000  0.000  1.000   8.000\n",
              "PARCH    891.000  0.382  0.806 0.000  0.000  0.000  0.000   6.000\n",
              "FARE     891.000 32.204 49.693 0.000  7.910 14.454 31.000 512.329"
            ],
            "text/html": [
              "\n",
              "  <div id=\"df-ca31ad66-a3dd-484f-85ff-d971d28944ef\">\n",
              "    <div class=\"colab-df-container\">\n",
              "      <div>\n",
              "<style scoped>\n",
              "    .dataframe tbody tr th:only-of-type {\n",
              "        vertical-align: middle;\n",
              "    }\n",
              "\n",
              "    .dataframe tbody tr th {\n",
              "        vertical-align: top;\n",
              "    }\n",
              "\n",
              "    .dataframe thead th {\n",
              "        text-align: right;\n",
              "    }\n",
              "</style>\n",
              "<table border=\"1\" class=\"dataframe\">\n",
              "  <thead>\n",
              "    <tr style=\"text-align: right;\">\n",
              "      <th></th>\n",
              "      <th>count</th>\n",
              "      <th>mean</th>\n",
              "      <th>std</th>\n",
              "      <th>min</th>\n",
              "      <th>25%</th>\n",
              "      <th>50%</th>\n",
              "      <th>75%</th>\n",
              "      <th>max</th>\n",
              "    </tr>\n",
              "  </thead>\n",
              "  <tbody>\n",
              "    <tr>\n",
              "      <th>SURVIVED</th>\n",
              "      <td>891.000</td>\n",
              "      <td>0.384</td>\n",
              "      <td>0.487</td>\n",
              "      <td>0.000</td>\n",
              "      <td>0.000</td>\n",
              "      <td>0.000</td>\n",
              "      <td>1.000</td>\n",
              "      <td>1.000</td>\n",
              "    </tr>\n",
              "    <tr>\n",
              "      <th>PCLASS</th>\n",
              "      <td>891.000</td>\n",
              "      <td>2.309</td>\n",
              "      <td>0.836</td>\n",
              "      <td>1.000</td>\n",
              "      <td>2.000</td>\n",
              "      <td>3.000</td>\n",
              "      <td>3.000</td>\n",
              "      <td>3.000</td>\n",
              "    </tr>\n",
              "    <tr>\n",
              "      <th>AGE</th>\n",
              "      <td>714.000</td>\n",
              "      <td>29.699</td>\n",
              "      <td>14.526</td>\n",
              "      <td>0.420</td>\n",
              "      <td>20.125</td>\n",
              "      <td>28.000</td>\n",
              "      <td>38.000</td>\n",
              "      <td>80.000</td>\n",
              "    </tr>\n",
              "    <tr>\n",
              "      <th>SIBSP</th>\n",
              "      <td>891.000</td>\n",
              "      <td>0.523</td>\n",
              "      <td>1.103</td>\n",
              "      <td>0.000</td>\n",
              "      <td>0.000</td>\n",
              "      <td>0.000</td>\n",
              "      <td>1.000</td>\n",
              "      <td>8.000</td>\n",
              "    </tr>\n",
              "    <tr>\n",
              "      <th>PARCH</th>\n",
              "      <td>891.000</td>\n",
              "      <td>0.382</td>\n",
              "      <td>0.806</td>\n",
              "      <td>0.000</td>\n",
              "      <td>0.000</td>\n",
              "      <td>0.000</td>\n",
              "      <td>0.000</td>\n",
              "      <td>6.000</td>\n",
              "    </tr>\n",
              "    <tr>\n",
              "      <th>FARE</th>\n",
              "      <td>891.000</td>\n",
              "      <td>32.204</td>\n",
              "      <td>49.693</td>\n",
              "      <td>0.000</td>\n",
              "      <td>7.910</td>\n",
              "      <td>14.454</td>\n",
              "      <td>31.000</td>\n",
              "      <td>512.329</td>\n",
              "    </tr>\n",
              "  </tbody>\n",
              "</table>\n",
              "</div>\n",
              "      <button class=\"colab-df-convert\" onclick=\"convertToInteractive('df-ca31ad66-a3dd-484f-85ff-d971d28944ef')\"\n",
              "              title=\"Convert this dataframe to an interactive table.\"\n",
              "              style=\"display:none;\">\n",
              "        \n",
              "  <svg xmlns=\"http://www.w3.org/2000/svg\" height=\"24px\"viewBox=\"0 0 24 24\"\n",
              "       width=\"24px\">\n",
              "    <path d=\"M0 0h24v24H0V0z\" fill=\"none\"/>\n",
              "    <path d=\"M18.56 5.44l.94 2.06.94-2.06 2.06-.94-2.06-.94-.94-2.06-.94 2.06-2.06.94zm-11 1L8.5 8.5l.94-2.06 2.06-.94-2.06-.94L8.5 2.5l-.94 2.06-2.06.94zm10 10l.94 2.06.94-2.06 2.06-.94-2.06-.94-.94-2.06-.94 2.06-2.06.94z\"/><path d=\"M17.41 7.96l-1.37-1.37c-.4-.4-.92-.59-1.43-.59-.52 0-1.04.2-1.43.59L10.3 9.45l-7.72 7.72c-.78.78-.78 2.05 0 2.83L4 21.41c.39.39.9.59 1.41.59.51 0 1.02-.2 1.41-.59l7.78-7.78 2.81-2.81c.8-.78.8-2.07 0-2.86zM5.41 20L4 18.59l7.72-7.72 1.47 1.35L5.41 20z\"/>\n",
              "  </svg>\n",
              "      </button>\n",
              "      \n",
              "  <style>\n",
              "    .colab-df-container {\n",
              "      display:flex;\n",
              "      flex-wrap:wrap;\n",
              "      gap: 12px;\n",
              "    }\n",
              "\n",
              "    .colab-df-convert {\n",
              "      background-color: #E8F0FE;\n",
              "      border: none;\n",
              "      border-radius: 50%;\n",
              "      cursor: pointer;\n",
              "      display: none;\n",
              "      fill: #1967D2;\n",
              "      height: 32px;\n",
              "      padding: 0 0 0 0;\n",
              "      width: 32px;\n",
              "    }\n",
              "\n",
              "    .colab-df-convert:hover {\n",
              "      background-color: #E2EBFA;\n",
              "      box-shadow: 0px 1px 2px rgba(60, 64, 67, 0.3), 0px 1px 3px 1px rgba(60, 64, 67, 0.15);\n",
              "      fill: #174EA6;\n",
              "    }\n",
              "\n",
              "    [theme=dark] .colab-df-convert {\n",
              "      background-color: #3B4455;\n",
              "      fill: #D2E3FC;\n",
              "    }\n",
              "\n",
              "    [theme=dark] .colab-df-convert:hover {\n",
              "      background-color: #434B5C;\n",
              "      box-shadow: 0px 1px 3px 1px rgba(0, 0, 0, 0.15);\n",
              "      filter: drop-shadow(0px 1px 2px rgba(0, 0, 0, 0.3));\n",
              "      fill: #FFFFFF;\n",
              "    }\n",
              "  </style>\n",
              "\n",
              "      <script>\n",
              "        const buttonEl =\n",
              "          document.querySelector('#df-ca31ad66-a3dd-484f-85ff-d971d28944ef button.colab-df-convert');\n",
              "        buttonEl.style.display =\n",
              "          google.colab.kernel.accessAllowed ? 'block' : 'none';\n",
              "\n",
              "        async function convertToInteractive(key) {\n",
              "          const element = document.querySelector('#df-ca31ad66-a3dd-484f-85ff-d971d28944ef');\n",
              "          const dataTable =\n",
              "            await google.colab.kernel.invokeFunction('convertToInteractive',\n",
              "                                                     [key], {});\n",
              "          if (!dataTable) return;\n",
              "\n",
              "          const docLinkHtml = 'Like what you see? Visit the ' +\n",
              "            '<a target=\"_blank\" href=https://colab.research.google.com/notebooks/data_table.ipynb>data table notebook</a>'\n",
              "            + ' to learn more about interactive tables.';\n",
              "          element.innerHTML = '';\n",
              "          dataTable['output_type'] = 'display_data';\n",
              "          await google.colab.output.renderOutput(dataTable, element);\n",
              "          const docLink = document.createElement('div');\n",
              "          docLink.innerHTML = docLinkHtml;\n",
              "          element.appendChild(docLink);\n",
              "        }\n",
              "      </script>\n",
              "    </div>\n",
              "  </div>\n",
              "  "
            ]
          },
          "metadata": {},
          "execution_count": 1024
        }
      ]
    },
    {
      "cell_type": "markdown",
      "source": [
        "* Bu çıktı bize veri setindeki sayısal değişkenlerin herbirinde kaç tane değer olduğunu, ortalama, standart sapma, minimum, maximum değerlerini ve çeyrekliklerdeki değerleri göstermektedir.\n",
        "* Bu çıktı ile bir değişkenin hangi iki değer aralığında değiştiğini ortalamadan ne kadar saptığı vb. bilgilere erişebiliyoruz."
      ],
      "metadata": {
        "id": "GblSX586jl5d"
      }
    },
    {
      "cell_type": "markdown",
      "source": [
        "Veri setinde eksik değer var mı yok mu sorusunu soralım.\n",
        "* True ya da False şeklinde bize çıktı verecektir.\n",
        "* True: Evet veri setinde en az bir tane eksik değer var,\n",
        "* False: Veri setinde hiç eksik değer yok."
      ],
      "metadata": {
        "id": "IKbuyKTRkQXD"
      }
    },
    {
      "cell_type": "code",
      "source": [
        "df.isnull().values.any()"
      ],
      "metadata": {
        "colab": {
          "base_uri": "https://localhost:8080/"
        },
        "id": "GmXTRZIDjiV3",
        "outputId": "74e9bff9-5702-42b5-b5f4-9a155a48a037"
      },
      "execution_count": 1025,
      "outputs": [
        {
          "output_type": "execute_result",
          "data": {
            "text/plain": [
              "True"
            ]
          },
          "metadata": {},
          "execution_count": 1025
        }
      ]
    },
    {
      "cell_type": "markdown",
      "source": [
        "* Her bir değişkende toplam eksik değerleri görmek istersek."
      ],
      "metadata": {
        "id": "iigpwOCKkcqx"
      }
    },
    {
      "cell_type": "code",
      "source": [
        "df.isnull().sum()"
      ],
      "metadata": {
        "colab": {
          "base_uri": "https://localhost:8080/"
        },
        "id": "G-tY60cDXYJO",
        "outputId": "52e1cdd5-b2a3-457d-8f06-40524ece155b"
      },
      "execution_count": 1026,
      "outputs": [
        {
          "output_type": "execute_result",
          "data": {
            "text/plain": [
              "SURVIVED      0\n",
              "PCLASS        0\n",
              "NAME          0\n",
              "SEX           0\n",
              "AGE         177\n",
              "SIBSP         0\n",
              "PARCH         0\n",
              "TICKET        0\n",
              "FARE          0\n",
              "CABIN       687\n",
              "EMBARKED      2\n",
              "dtype: int64"
            ]
          },
          "metadata": {},
          "execution_count": 1026
        }
      ]
    },
    {
      "cell_type": "markdown",
      "source": [
        "Age değişkeninde 177 adet, Cabin değişkeninde 687 adet ve Embarked değişkeninde ise 2 adet eksik değer bulunmakta."
      ],
      "metadata": {
        "id": "2Z1XHsoSkyJj"
      }
    },
    {
      "cell_type": "markdown",
      "source": [
        "## **Kategorik Değişkenlerin Analizi - (Analysis of Categorical Variables)**"
      ],
      "metadata": {
        "id": "ZQJ7s56SoD4s"
      }
    },
    {
      "cell_type": "markdown",
      "source": [
        "* Öncelikle veri setindeki değişkenleri veri tiplerine göre ayıracak şekilde bir fonksiyon yazalım.\n",
        "* Bu fonksiyon bize veri setimizdeki kategorik tipteki, sayısal tipteki, kategorik olup kardinalitesi yüksek tipteki ve son olarak sayısal gibi gözüküp kategorik olan değişkenleri birbirinden ayırıp bize liste formunda getirsin.\n",
        "* Açıklamalar fonksiyonun içindeki docstrin'de yer almaktadır."
      ],
      "metadata": {
        "id": "pAT51kAboPH0"
      }
    },
    {
      "cell_type": "code",
      "source": [
        "def grab_col_names(dataframe, cat_th = 10, car_th = 20):\n",
        "  \"\"\"\n",
        "    Veri setindeki kategorik, numerik ve kategorik fakat kardinal değişkenlerin isimlerini verir.\n",
        "\n",
        "    Parameters\n",
        "    ----------\n",
        "    dataframe: dataframe\n",
        "        değişken isimleri alınmak istenen dataframe'dir.\n",
        "    cat_th: int, float\n",
        "        numerik fakat kategorik olan değişkenler için sınıf eşik değeri\n",
        "    car_th: int, float\n",
        "        kategorik fakat kardinal değişkenler için sınıf eşik değeri\n",
        "\n",
        "    Returns\n",
        "    -------\n",
        "    cat_cols: list\n",
        "        Kategorik değişken listesi\n",
        "    num_cols: list\n",
        "        Numerik değişken listesi\n",
        "    cat_but_car: list\n",
        "        Kategorik görünümlü kardinal değişken listesi\n",
        "\n",
        "    Notes\n",
        "    ------\n",
        "    cat_cols + num_cols + cat_but_car = toplam değişken sayısı\n",
        "    num_but_cat cat_cols'un içerisinde.\n",
        "  \"\"\"\n",
        "  # Kategorik Değişkenler: cat_cols & num_but_car\n",
        "\n",
        "  cat_cols = [col for col in df.columns if str(df[col].dtypes) in [\"category\", \"bool\", \"object\"]] \n",
        "  # cat_cols: Veri tipi category, object ve bool olan değişkenleri seçer.\n",
        "\n",
        "  num_but_cat = [col for col in df.columns if (df[col].nunique() < 10) and (df[col].dtypes in [\"int64\", \"float64\"])]\n",
        "  # num_but_cat: Eşsiz değer sayısı 10'dan az ve int float olan değişkenleri seçer. \n",
        "  # Bu değişkenler sayısal gibi gözüküp kategorik değişkenlerdir.(survived, pclass değişkenleri gibi.)\n",
        "\n",
        "  cat_but_car = [col for col in df.columns if (df[col].nunique() > 20) and str(df[col].dtypes) in [\"category\", \"object\"]]\n",
        "  # cat_but_car: Eşsiz değeri 20'den büyük olup veri tipide category, object olan değişlenleri seçer.\n",
        "  # Bu değişkenler kullanacak olduğumuz modeller için anlamlı bir sonuç çıkarmamaktadır.\n",
        "  # Ölçüm niteliği taşımamaktadır.\n",
        "  # Kardinalitesi yüksek olan değişkenlerdir. (name, ticket ve kabin değişkenleri.)\n",
        "\n",
        "  cat_cols += num_but_cat\n",
        "  # cat_but_car değişkeni de numerik görünümlü kategorik değişken olduğu için bu değişkeni de cat_cols listesine ekleyelim.\n",
        "\n",
        "  cat_cols = [col for col in cat_cols if col not in cat_but_car]\n",
        "  # Kardinalitesi yüksek olan değişkenleri cat_cols listesinden çıkardık.\n",
        "\n",
        "  # Numerik Değişkenler: num_cols\n",
        "  num_cols = [col for col in df.columns if df[col].dtypes in [\"int64\", \"float64\"]]\n",
        "  #Veri tipi int ve float olan değişkenleri seçer.\n",
        "\n",
        "  num_cols = [col for col in num_cols if col not in cat_cols]\n",
        "  #Sayısal tipteki değişkenlerin içinde kategorik değişkenlerde var, onları almayıp onların dışındakileri al demek istedik.\n",
        "\n",
        "  # Raporlama Bölümü:\n",
        "  print(f\"Obsertavions - (Gözlem Sayısı): {dataframe.shape[0]}\")\n",
        "  print(f\"Variables (Değişken Sayısı): {dataframe.shape[1]}\")\n",
        "  print(f\"cat_cols (Kategorik Değişkenler): {len(cat_cols)}\")\n",
        "  print(f\"num_cols (Sayısal Değişkenler): {len(num_cols)}\")\n",
        "  print(f\"cat_but_car (Kardinalitesi Yüksek Değişkenler): {len(cat_but_car)}\")\n",
        "  print(f\"num_but_cat (Sayısal Görünümlü Kategorik Değişkenler): {len(num_but_cat)}\")\n",
        "\n",
        "  return cat_cols, num_cols, cat_but_car"
      ],
      "metadata": {
        "id": "oGo4JJZ-0xh9"
      },
      "execution_count": 1027,
      "outputs": []
    },
    {
      "cell_type": "code",
      "source": [
        "cat_cols, num_cols, cat_but_car = grab_col_names(df)"
      ],
      "metadata": {
        "colab": {
          "base_uri": "https://localhost:8080/"
        },
        "id": "_fffTM0U1jRH",
        "outputId": "70ef92b4-5777-4507-91c2-62a56b0c332b"
      },
      "execution_count": 1028,
      "outputs": [
        {
          "output_type": "stream",
          "name": "stdout",
          "text": [
            "Obsertavions - (Gözlem Sayısı): 891\n",
            "Variables (Değişken Sayısı): 11\n",
            "cat_cols (Kategorik Değişkenler): 6\n",
            "num_cols (Sayısal Değişkenler): 2\n",
            "cat_but_car (Kardinalitesi Yüksek Değişkenler): 3\n",
            "num_but_cat (Sayısal Görünümlü Kategorik Değişkenler): 4\n"
          ]
        }
      ]
    },
    {
      "cell_type": "code",
      "source": [
        "cat_cols"
      ],
      "metadata": {
        "colab": {
          "base_uri": "https://localhost:8080/"
        },
        "id": "lPcmUgYFoIjK",
        "outputId": "f6cd9768-8e34-4166-9c77-a5acbc68b9a5"
      },
      "execution_count": 1029,
      "outputs": [
        {
          "output_type": "execute_result",
          "data": {
            "text/plain": [
              "['SEX', 'EMBARKED', 'SURVIVED', 'PCLASS', 'SIBSP', 'PARCH']"
            ]
          },
          "metadata": {},
          "execution_count": 1029
        }
      ]
    },
    {
      "cell_type": "code",
      "source": [
        "num_cols"
      ],
      "metadata": {
        "colab": {
          "base_uri": "https://localhost:8080/"
        },
        "id": "8gdEpIlBoIge",
        "outputId": "980d8b0c-1803-4869-ec4d-921eeda176d9"
      },
      "execution_count": 1030,
      "outputs": [
        {
          "output_type": "execute_result",
          "data": {
            "text/plain": [
              "['AGE', 'FARE']"
            ]
          },
          "metadata": {},
          "execution_count": 1030
        }
      ]
    },
    {
      "cell_type": "code",
      "source": [
        "cat_but_car"
      ],
      "metadata": {
        "colab": {
          "base_uri": "https://localhost:8080/"
        },
        "id": "xRCca3QwoIaT",
        "outputId": "1d681e83-a896-43be-a98e-cb695e70db71"
      },
      "execution_count": 1031,
      "outputs": [
        {
          "output_type": "execute_result",
          "data": {
            "text/plain": [
              "['NAME', 'TICKET', 'CABIN']"
            ]
          },
          "metadata": {},
          "execution_count": 1031
        }
      ]
    },
    {
      "cell_type": "markdown",
      "source": [
        "Her bir kategorik değişkenin sınıflarının frekanslarını ve o sınıfların oranlarını alabileceğimiz ve aynı zamanda sütun grafiklerini çizdirebileceğimiz bir fonksiyon yazalım.."
      ],
      "metadata": {
        "id": "yllezBSt4yVH"
      }
    },
    {
      "cell_type": "code",
      "source": [
        "def cat_summary(dataframe, col_name, plot = False):\n",
        "  print(pd.DataFrame({col_name: dataframe[col_name].value_counts(),\n",
        "                      \"Ratio\": 100 * dataframe[col_name].value_counts() / len(dataframe)}))\n",
        "  print(\"#########################################\")\n",
        "  if plot:\n",
        "    sns.countplot(x = dataframe[col_name], data = dataframe);\n",
        "    plt.show(block=True)"
      ],
      "metadata": {
        "id": "9I-K4riW5VCY"
      },
      "execution_count": 1032,
      "outputs": []
    },
    {
      "cell_type": "code",
      "source": [
        "for col in cat_cols:\n",
        "  cat_summary(df, col, plot=True)"
      ],
      "metadata": {
        "colab": {
          "base_uri": "https://localhost:8080/",
          "height": 1000
        },
        "id": "NzZVQm5q6FnP",
        "outputId": "3d4a0d3f-1879-4546-8bdf-97bb336fa4f0"
      },
      "execution_count": 1033,
      "outputs": [
        {
          "output_type": "stream",
          "name": "stdout",
          "text": [
            "        SEX  Ratio\n",
            "male    577 64.759\n",
            "female  314 35.241\n",
            "#########################################\n"
          ]
        },
        {
          "output_type": "display_data",
          "data": {
            "text/plain": [
              "<Figure size 864x864 with 1 Axes>"
            ],
            "image/png": "[encoded data removed]"
          },
          "metadata": {}
        },
        {
          "output_type": "stream",
          "name": "stdout",
          "text": [
            "   EMBARKED  Ratio\n",
            "S       644 72.278\n",
            "C       168 18.855\n",
            "Q        77  8.642\n",
            "#########################################\n"
          ]
        },
        {
          "output_type": "display_data",
          "data": {
            "text/plain": [
              "<Figure size 864x864 with 1 Axes>"
            ],
            "image/png": "[encoded data removed]"
          },
          "metadata": {}
        },
        {
          "output_type": "stream",
          "name": "stdout",
          "text": [
            "   SURVIVED  Ratio\n",
            "0       549 61.616\n",
            "1       342 38.384\n",
            "#########################################\n"
          ]
        },
        {
          "output_type": "display_data",
          "data": {
            "text/plain": [
              "<Figure size 864x864 with 1 Axes>"
            ],
            "image/png": "[encoded data removed]"
          },
          "metadata": {}
        },
        {
          "output_type": "stream",
          "name": "stdout",
          "text": [
            "   PCLASS  Ratio\n",
            "3     491 55.107\n",
            "1     216 24.242\n",
            "2     184 20.651\n",
            "#########################################\n"
          ]
        },
        {
          "output_type": "display_data",
          "data": {
            "text/plain": [
              "<Figure size 864x864 with 1 Axes>"
            ],
            "image/png": "[encoded data removed]"
          },
          "metadata": {}
        },
        {
          "output_type": "stream",
          "name": "stdout",
          "text": [
            "   SIBSP  Ratio\n",
            "0    608 68.238\n",
            "1    209 23.457\n",
            "2     28  3.143\n",
            "4     18  2.020\n",
            "3     16  1.796\n",
            "8      7  0.786\n",
            "5      5  0.561\n",
            "#########################################\n"
          ]
        },
        {
          "output_type": "display_data",
          "data": {
            "text/plain": [
              "<Figure size 864x864 with 1 Axes>"
            ],
            "image/png": "[encoded data removed]"
          },
          "metadata": {}
        },
        {
          "output_type": "stream",
          "name": "stdout",
          "text": [
            "   PARCH  Ratio\n",
            "0    678 76.094\n",
            "1    118 13.244\n",
            "2     80  8.979\n",
            "5      5  0.561\n",
            "3      5  0.561\n",
            "4      4  0.449\n",
            "6      1  0.112\n",
            "#########################################\n"
          ]
        },
        {
          "output_type": "display_data",
          "data": {
            "text/plain": [
              "<Figure size 864x864 with 1 Axes>"
            ],
            "image/png": "[encoded data removed]"
          },
          "metadata": {}
        }
      ]
    },
    {
      "cell_type": "markdown",
      "source": [
        "* SEX: Gemide 577 erkek, 314 bulunmakta.\n",
        "* EMBARKED: 644 kişi S limanından, 168 kişi C limanından, 77 kişi Q limanından binmiş.  \n",
        "* PCLASS: 216 kişi 1. sınıf, 184 kişi 2. sınıf, 491 kişi ise 3. sınıf kalitede yolculuk etmişler.\n",
        "* SURVIVED: Gemiye binenlerin yaklaşık %38'i hayatta kalmış."
      ],
      "metadata": {
        "id": "7UuQyVU86PBt"
      }
    },
    {
      "cell_type": "markdown",
      "source": [
        "Tüm kategorik değişkenlerin eşsiz değerlerine erişmek istersek."
      ],
      "metadata": {
        "id": "NOdLsmTu7NSx"
      }
    },
    {
      "cell_type": "code",
      "source": [
        "for col in cat_cols:\n",
        "  print(col, df[col].unique())"
      ],
      "metadata": {
        "colab": {
          "base_uri": "https://localhost:8080/"
        },
        "id": "IIernv4s7M-Y",
        "outputId": "f7c41e85-9a22-43a5-da73-5e86783a8ae5"
      },
      "execution_count": 1034,
      "outputs": [
        {
          "output_type": "stream",
          "name": "stdout",
          "text": [
            "SEX ['male' 'female']\n",
            "EMBARKED ['S' 'C' 'Q' nan]\n",
            "SURVIVED [0 1]\n",
            "PCLASS [3 1 2]\n",
            "SIBSP [1 0 3 4 2 5 8]\n",
            "PARCH [0 1 2 5 3 4 6]\n"
          ]
        }
      ]
    },
    {
      "cell_type": "markdown",
      "source": [
        "* Tüm kategorik değişkenlerin eşsiz değerlerinin sayılarına erişmek istersek.\n",
        "* Kategorik değişkenlerin eşsiz sınıf değerlerine bakarak doğru değişkenleri seçip seçmediğimizi sağlamasını yaparak kontrol edelim."
      ],
      "metadata": {
        "id": "DP-bAOsm7fYe"
      }
    },
    {
      "cell_type": "code",
      "source": [
        "for col in cat_cols:\n",
        "  print(col, df[col].nunique())"
      ],
      "metadata": {
        "colab": {
          "base_uri": "https://localhost:8080/"
        },
        "id": "9TKRasnV4lIV",
        "outputId": "70bb9add-9d0d-4a9c-8d18-da046e4204cb"
      },
      "execution_count": 1035,
      "outputs": [
        {
          "output_type": "stream",
          "name": "stdout",
          "text": [
            "SEX 2\n",
            "EMBARKED 3\n",
            "SURVIVED 2\n",
            "PCLASS 3\n",
            "SIBSP 7\n",
            "PARCH 7\n"
          ]
        }
      ]
    },
    {
      "cell_type": "markdown",
      "source": [
        "Sadece kategorik değişkenleri veri setinden çekmek istersek."
      ],
      "metadata": {
        "id": "eUSA6bSF8hcm"
      }
    },
    {
      "cell_type": "code",
      "source": [
        "df[cat_cols].head()"
      ],
      "metadata": {
        "colab": {
          "base_uri": "https://localhost:8080/",
          "height": 206
        },
        "id": "fXYvwCmE4lF2",
        "outputId": "23764993-7f8f-49eb-d48c-e4bd47f6edce"
      },
      "execution_count": 1036,
      "outputs": [
        {
          "output_type": "execute_result",
          "data": {
            "text/plain": [
              "      SEX EMBARKED  SURVIVED  PCLASS  SIBSP  PARCH\n",
              "0    male        S         0       3      1      0\n",
              "1  female        C         1       1      1      0\n",
              "2  female        S         1       3      0      0\n",
              "3  female        S         1       1      1      0\n",
              "4    male        S         0       3      0      0"
            ],
            "text/html": [
              "\n",
              "  <div id=\"df-4655b2d6-b36a-4120-8929-362d28723eb4\">\n",
              "    <div class=\"colab-df-container\">\n",
              "      <div>\n",
              "<style scoped>\n",
              "    .dataframe tbody tr th:only-of-type {\n",
              "        vertical-align: middle;\n",
              "    }\n",
              "\n",
              "    .dataframe tbody tr th {\n",
              "        vertical-align: top;\n",
              "    }\n",
              "\n",
              "    .dataframe thead th {\n",
              "        text-align: right;\n",
              "    }\n",
              "</style>\n",
              "<table border=\"1\" class=\"dataframe\">\n",
              "  <thead>\n",
              "    <tr style=\"text-align: right;\">\n",
              "      <th></th>\n",
              "      <th>SEX</th>\n",
              "      <th>EMBARKED</th>\n",
              "      <th>SURVIVED</th>\n",
              "      <th>PCLASS</th>\n",
              "      <th>SIBSP</th>\n",
              "      <th>PARCH</th>\n",
              "    </tr>\n",
              "  </thead>\n",
              "  <tbody>\n",
              "    <tr>\n",
              "      <th>0</th>\n",
              "      <td>male</td>\n",
              "      <td>S</td>\n",
              "      <td>0</td>\n",
              "      <td>3</td>\n",
              "      <td>1</td>\n",
              "      <td>0</td>\n",
              "    </tr>\n",
              "    <tr>\n",
              "      <th>1</th>\n",
              "      <td>female</td>\n",
              "      <td>C</td>\n",
              "      <td>1</td>\n",
              "      <td>1</td>\n",
              "      <td>1</td>\n",
              "      <td>0</td>\n",
              "    </tr>\n",
              "    <tr>\n",
              "      <th>2</th>\n",
              "      <td>female</td>\n",
              "      <td>S</td>\n",
              "      <td>1</td>\n",
              "      <td>3</td>\n",
              "      <td>0</td>\n",
              "      <td>0</td>\n",
              "    </tr>\n",
              "    <tr>\n",
              "      <th>3</th>\n",
              "      <td>female</td>\n",
              "      <td>S</td>\n",
              "      <td>1</td>\n",
              "      <td>1</td>\n",
              "      <td>1</td>\n",
              "      <td>0</td>\n",
              "    </tr>\n",
              "    <tr>\n",
              "      <th>4</th>\n",
              "      <td>male</td>\n",
              "      <td>S</td>\n",
              "      <td>0</td>\n",
              "      <td>3</td>\n",
              "      <td>0</td>\n",
              "      <td>0</td>\n",
              "    </tr>\n",
              "  </tbody>\n",
              "</table>\n",
              "</div>\n",
              "      <button class=\"colab-df-convert\" onclick=\"convertToInteractive('df-4655b2d6-b36a-4120-8929-362d28723eb4')\"\n",
              "              title=\"Convert this dataframe to an interactive table.\"\n",
              "              style=\"display:none;\">\n",
              "        \n",
              "  <svg xmlns=\"http://www.w3.org/2000/svg\" height=\"24px\"viewBox=\"0 0 24 24\"\n",
              "       width=\"24px\">\n",
              "    <path d=\"M0 0h24v24H0V0z\" fill=\"none\"/>\n",
              "    <path d=\"M18.56 5.44l.94 2.06.94-2.06 2.06-.94-2.06-.94-.94-2.06-.94 2.06-2.06.94zm-11 1L8.5 8.5l.94-2.06 2.06-.94-2.06-.94L8.5 2.5l-.94 2.06-2.06.94zm10 10l.94 2.06.94-2.06 2.06-.94-2.06-.94-.94-2.06-.94 2.06-2.06.94z\"/><path d=\"M17.41 7.96l-1.37-1.37c-.4-.4-.92-.59-1.43-.59-.52 0-1.04.2-1.43.59L10.3 9.45l-7.72 7.72c-.78.78-.78 2.05 0 2.83L4 21.41c.39.39.9.59 1.41.59.51 0 1.02-.2 1.41-.59l7.78-7.78 2.81-2.81c.8-.78.8-2.07 0-2.86zM5.41 20L4 18.59l7.72-7.72 1.47 1.35L5.41 20z\"/>\n",
              "  </svg>\n",
              "      </button>\n",
              "      \n",
              "  <style>\n",
              "    .colab-df-container {\n",
              "      display:flex;\n",
              "      flex-wrap:wrap;\n",
              "      gap: 12px;\n",
              "    }\n",
              "\n",
              "    .colab-df-convert {\n",
              "      background-color: #E8F0FE;\n",
              "      border: none;\n",
              "      border-radius: 50%;\n",
              "      cursor: pointer;\n",
              "      display: none;\n",
              "      fill: #1967D2;\n",
              "      height: 32px;\n",
              "      padding: 0 0 0 0;\n",
              "      width: 32px;\n",
              "    }\n",
              "\n",
              "    .colab-df-convert:hover {\n",
              "      background-color: #E2EBFA;\n",
              "      box-shadow: 0px 1px 2px rgba(60, 64, 67, 0.3), 0px 1px 3px 1px rgba(60, 64, 67, 0.15);\n",
              "      fill: #174EA6;\n",
              "    }\n",
              "\n",
              "    [theme=dark] .colab-df-convert {\n",
              "      background-color: #3B4455;\n",
              "      fill: #D2E3FC;\n",
              "    }\n",
              "\n",
              "    [theme=dark] .colab-df-convert:hover {\n",
              "      background-color: #434B5C;\n",
              "      box-shadow: 0px 1px 3px 1px rgba(0, 0, 0, 0.15);\n",
              "      filter: drop-shadow(0px 1px 2px rgba(0, 0, 0, 0.3));\n",
              "      fill: #FFFFFF;\n",
              "    }\n",
              "  </style>\n",
              "\n",
              "      <script>\n",
              "        const buttonEl =\n",
              "          document.querySelector('#df-4655b2d6-b36a-4120-8929-362d28723eb4 button.colab-df-convert');\n",
              "        buttonEl.style.display =\n",
              "          google.colab.kernel.accessAllowed ? 'block' : 'none';\n",
              "\n",
              "        async function convertToInteractive(key) {\n",
              "          const element = document.querySelector('#df-4655b2d6-b36a-4120-8929-362d28723eb4');\n",
              "          const dataTable =\n",
              "            await google.colab.kernel.invokeFunction('convertToInteractive',\n",
              "                                                     [key], {});\n",
              "          if (!dataTable) return;\n",
              "\n",
              "          const docLinkHtml = 'Like what you see? Visit the ' +\n",
              "            '<a target=\"_blank\" href=https://colab.research.google.com/notebooks/data_table.ipynb>data table notebook</a>'\n",
              "            + ' to learn more about interactive tables.';\n",
              "          element.innerHTML = '';\n",
              "          dataTable['output_type'] = 'display_data';\n",
              "          await google.colab.output.renderOutput(dataTable, element);\n",
              "          const docLink = document.createElement('div');\n",
              "          docLink.innerHTML = docLinkHtml;\n",
              "          element.appendChild(docLink);\n",
              "        }\n",
              "      </script>\n",
              "    </div>\n",
              "  </div>\n",
              "  "
            ]
          },
          "metadata": {},
          "execution_count": 1036
        }
      ]
    },
    {
      "cell_type": "code",
      "source": [
        "df.head()"
      ],
      "metadata": {
        "colab": {
          "base_uri": "https://localhost:8080/",
          "height": 206
        },
        "id": "yr3bPdps4lDF",
        "outputId": "22f436e2-48d9-4e9a-ba44-adcaaae5e860"
      },
      "execution_count": 1037,
      "outputs": [
        {
          "output_type": "execute_result",
          "data": {
            "text/plain": [
              "   SURVIVED  PCLASS                                               NAME     SEX    AGE  SIBSP  PARCH            TICKET   FARE CABIN EMBARKED\n",
              "0         0       3                            Braund, Mr. Owen Harris    male 22.000      1      0         A/5 21171  7.250   NaN        S\n",
              "1         1       1  Cumings, Mrs. John Bradley (Florence Briggs Th...  female 38.000      1      0          PC 17599 71.283   C85        C\n",
              "2         1       3                             Heikkinen, Miss. Laina  female 26.000      0      0  STON/O2. 3101282  7.925   NaN        S\n",
              "3         1       1       Futrelle, Mrs. Jacques Heath (Lily May Peel)  female 35.000      1      0            113803 53.100  C123        S\n",
              "4         0       3                           Allen, Mr. William Henry    male 35.000      0      0            373450  8.050   NaN        S"
            ],
            "text/html": [
              "\n",
              "  <div id=\"df-34daaf97-8bcb-478a-ae67-79a9663b54e4\">\n",
              "    <div class=\"colab-df-container\">\n",
              "      <div>\n",
              "<style scoped>\n",
              "    .dataframe tbody tr th:only-of-type {\n",
              "        vertical-align: middle;\n",
              "    }\n",
              "\n",
              "    .dataframe tbody tr th {\n",
              "        vertical-align: top;\n",
              "    }\n",
              "\n",
              "    .dataframe thead th {\n",
              "        text-align: right;\n",
              "    }\n",
              "</style>\n",
              "<table border=\"1\" class=\"dataframe\">\n",
              "  <thead>\n",
              "    <tr style=\"text-align: right;\">\n",
              "      <th></th>\n",
              "      <th>SURVIVED</th>\n",
              "      <th>PCLASS</th>\n",
              "      <th>NAME</th>\n",
              "      <th>SEX</th>\n",
              "      <th>AGE</th>\n",
              "      <th>SIBSP</th>\n",
              "      <th>PARCH</th>\n",
              "      <th>TICKET</th>\n",
              "      <th>FARE</th>\n",
              "      <th>CABIN</th>\n",
              "      <th>EMBARKED</th>\n",
              "    </tr>\n",
              "  </thead>\n",
              "  <tbody>\n",
              "    <tr>\n",
              "      <th>0</th>\n",
              "      <td>0</td>\n",
              "      <td>3</td>\n",
              "      <td>Braund, Mr. Owen Harris</td>\n",
              "      <td>male</td>\n",
              "      <td>22.000</td>\n",
              "      <td>1</td>\n",
              "      <td>0</td>\n",
              "      <td>A/5 21171</td>\n",
              "      <td>7.250</td>\n",
              "      <td>NaN</td>\n",
              "      <td>S</td>\n",
              "    </tr>\n",
              "    <tr>\n",
              "      <th>1</th>\n",
              "      <td>1</td>\n",
              "      <td>1</td>\n",
              "      <td>Cumings, Mrs. John Bradley (Florence Briggs Th...</td>\n",
              "      <td>female</td>\n",
              "      <td>38.000</td>\n",
              "      <td>1</td>\n",
              "      <td>0</td>\n",
              "      <td>PC 17599</td>\n",
              "      <td>71.283</td>\n",
              "      <td>C85</td>\n",
              "      <td>C</td>\n",
              "    </tr>\n",
              "    <tr>\n",
              "      <th>2</th>\n",
              "      <td>1</td>\n",
              "      <td>3</td>\n",
              "      <td>Heikkinen, Miss. Laina</td>\n",
              "      <td>female</td>\n",
              "      <td>26.000</td>\n",
              "      <td>0</td>\n",
              "      <td>0</td>\n",
              "      <td>STON/O2. 3101282</td>\n",
              "      <td>7.925</td>\n",
              "      <td>NaN</td>\n",
              "      <td>S</td>\n",
              "    </tr>\n",
              "    <tr>\n",
              "      <th>3</th>\n",
              "      <td>1</td>\n",
              "      <td>1</td>\n",
              "      <td>Futrelle, Mrs. Jacques Heath (Lily May Peel)</td>\n",
              "      <td>female</td>\n",
              "      <td>35.000</td>\n",
              "      <td>1</td>\n",
              "      <td>0</td>\n",
              "      <td>113803</td>\n",
              "      <td>53.100</td>\n",
              "      <td>C123</td>\n",
              "      <td>S</td>\n",
              "    </tr>\n",
              "    <tr>\n",
              "      <th>4</th>\n",
              "      <td>0</td>\n",
              "      <td>3</td>\n",
              "      <td>Allen, Mr. William Henry</td>\n",
              "      <td>male</td>\n",
              "      <td>35.000</td>\n",
              "      <td>0</td>\n",
              "      <td>0</td>\n",
              "      <td>373450</td>\n",
              "      <td>8.050</td>\n",
              "      <td>NaN</td>\n",
              "      <td>S</td>\n",
              "    </tr>\n",
              "  </tbody>\n",
              "</table>\n",
              "</div>\n",
              "      <button class=\"colab-df-convert\" onclick=\"convertToInteractive('df-34daaf97-8bcb-478a-ae67-79a9663b54e4')\"\n",
              "              title=\"Convert this dataframe to an interactive table.\"\n",
              "              style=\"display:none;\">\n",
              "        \n",
              "  <svg xmlns=\"http://www.w3.org/2000/svg\" height=\"24px\"viewBox=\"0 0 24 24\"\n",
              "       width=\"24px\">\n",
              "    <path d=\"M0 0h24v24H0V0z\" fill=\"none\"/>\n",
              "    <path d=\"M18.56 5.44l.94 2.06.94-2.06 2.06-.94-2.06-.94-.94-2.06-.94 2.06-2.06.94zm-11 1L8.5 8.5l.94-2.06 2.06-.94-2.06-.94L8.5 2.5l-.94 2.06-2.06.94zm10 10l.94 2.06.94-2.06 2.06-.94-2.06-.94-.94-2.06-.94 2.06-2.06.94z\"/><path d=\"M17.41 7.96l-1.37-1.37c-.4-.4-.92-.59-1.43-.59-.52 0-1.04.2-1.43.59L10.3 9.45l-7.72 7.72c-.78.78-.78 2.05 0 2.83L4 21.41c.39.39.9.59 1.41.59.51 0 1.02-.2 1.41-.59l7.78-7.78 2.81-2.81c.8-.78.8-2.07 0-2.86zM5.41 20L4 18.59l7.72-7.72 1.47 1.35L5.41 20z\"/>\n",
              "  </svg>\n",
              "      </button>\n",
              "      \n",
              "  <style>\n",
              "    .colab-df-container {\n",
              "      display:flex;\n",
              "      flex-wrap:wrap;\n",
              "      gap: 12px;\n",
              "    }\n",
              "\n",
              "    .colab-df-convert {\n",
              "      background-color: #E8F0FE;\n",
              "      border: none;\n",
              "      border-radius: 50%;\n",
              "      cursor: pointer;\n",
              "      display: none;\n",
              "      fill: #1967D2;\n",
              "      height: 32px;\n",
              "      padding: 0 0 0 0;\n",
              "      width: 32px;\n",
              "    }\n",
              "\n",
              "    .colab-df-convert:hover {\n",
              "      background-color: #E2EBFA;\n",
              "      box-shadow: 0px 1px 2px rgba(60, 64, 67, 0.3), 0px 1px 3px 1px rgba(60, 64, 67, 0.15);\n",
              "      fill: #174EA6;\n",
              "    }\n",
              "\n",
              "    [theme=dark] .colab-df-convert {\n",
              "      background-color: #3B4455;\n",
              "      fill: #D2E3FC;\n",
              "    }\n",
              "\n",
              "    [theme=dark] .colab-df-convert:hover {\n",
              "      background-color: #434B5C;\n",
              "      box-shadow: 0px 1px 3px 1px rgba(0, 0, 0, 0.15);\n",
              "      filter: drop-shadow(0px 1px 2px rgba(0, 0, 0, 0.3));\n",
              "      fill: #FFFFFF;\n",
              "    }\n",
              "  </style>\n",
              "\n",
              "      <script>\n",
              "        const buttonEl =\n",
              "          document.querySelector('#df-34daaf97-8bcb-478a-ae67-79a9663b54e4 button.colab-df-convert');\n",
              "        buttonEl.style.display =\n",
              "          google.colab.kernel.accessAllowed ? 'block' : 'none';\n",
              "\n",
              "        async function convertToInteractive(key) {\n",
              "          const element = document.querySelector('#df-34daaf97-8bcb-478a-ae67-79a9663b54e4');\n",
              "          const dataTable =\n",
              "            await google.colab.kernel.invokeFunction('convertToInteractive',\n",
              "                                                     [key], {});\n",
              "          if (!dataTable) return;\n",
              "\n",
              "          const docLinkHtml = 'Like what you see? Visit the ' +\n",
              "            '<a target=\"_blank\" href=https://colab.research.google.com/notebooks/data_table.ipynb>data table notebook</a>'\n",
              "            + ' to learn more about interactive tables.';\n",
              "          element.innerHTML = '';\n",
              "          dataTable['output_type'] = 'display_data';\n",
              "          await google.colab.output.renderOutput(dataTable, element);\n",
              "          const docLink = document.createElement('div');\n",
              "          docLink.innerHTML = docLinkHtml;\n",
              "          element.appendChild(docLink);\n",
              "        }\n",
              "      </script>\n",
              "    </div>\n",
              "  </div>\n",
              "  "
            ]
          },
          "metadata": {},
          "execution_count": 1037
        }
      ]
    },
    {
      "cell_type": "markdown",
      "source": [
        "## **Sayısal Değişken Analizi (Analysis of Numerical Variables)**"
      ],
      "metadata": {
        "id": "YwTZ53fZA26p"
      }
    },
    {
      "cell_type": "markdown",
      "source": [
        "* Sayısal tipteki değişkenleri analiz etmeye çalışalım.\n",
        "* Elimizdeki sayısal tipteki dğeişkenler için grafik özelliği olan analiz fonksiyonu yazalım."
      ],
      "metadata": {
        "id": "Nm_yvOCVBbSb"
      }
    },
    {
      "cell_type": "code",
      "source": [
        "def num_summary(dataframe, numerical_col, plot=False):\n",
        "  quantiles = [0.05, 0.10, 0.20, 0.30, 0.40, 0.50, 0.60, 0.70, 0.80, 0.90, 0.95, 0.99]\n",
        "  print(dataframe[numerical_col].describe(quantiles).T, end=\"\\n\\n\")\n",
        "\n",
        "  if plt:\n",
        "    dataframe[numerical_col].hist()\n",
        "    plt.xlabel(numerical_col)\n",
        "    plt.title(numerical_col)\n",
        "    plt.show(block=True)"
      ],
      "metadata": {
        "id": "1xKPjF1J-lRX"
      },
      "execution_count": 1038,
      "outputs": []
    },
    {
      "cell_type": "code",
      "source": [
        "for col in num_cols:\n",
        "  num_summary(df, col, plot=True)"
      ],
      "metadata": {
        "colab": {
          "base_uri": "https://localhost:8080/",
          "height": 1000
        },
        "id": "_RlRRHYC-lOc",
        "outputId": "168fd5d7-6ce3-4428-998c-f4f0ccde4082"
      },
      "execution_count": 1039,
      "outputs": [
        {
          "output_type": "stream",
          "name": "stdout",
          "text": [
            "count   714.000\n",
            "mean     29.699\n",
            "std      14.526\n",
            "min       0.420\n",
            "5%        4.000\n",
            "10%      14.000\n",
            "20%      19.000\n",
            "30%      22.000\n",
            "40%      25.000\n",
            "50%      28.000\n",
            "60%      31.800\n",
            "70%      36.000\n",
            "80%      41.000\n",
            "90%      50.000\n",
            "95%      56.000\n",
            "99%      65.870\n",
            "max      80.000\n",
            "Name: AGE, dtype: float64\n",
            "\n"
          ]
        },
        {
          "output_type": "display_data",
          "data": {
            "text/plain": [
              "<Figure size 864x864 with 1 Axes>"
            ],
            "image/png": "[encoded data removed]"
          },
          "metadata": {}
        },
        {
          "output_type": "stream",
          "name": "stdout",
          "text": [
            "count   891.000\n",
            "mean     32.204\n",
            "std      49.693\n",
            "min       0.000\n",
            "5%        7.225\n",
            "10%       7.550\n",
            "20%       7.854\n",
            "30%       8.050\n",
            "40%      10.500\n",
            "50%      14.454\n",
            "60%      21.679\n",
            "70%      27.000\n",
            "80%      39.688\n",
            "90%      77.958\n",
            "95%     112.079\n",
            "99%     249.006\n",
            "max     512.329\n",
            "Name: FARE, dtype: float64\n",
            "\n"
          ]
        },
        {
          "output_type": "display_data",
          "data": {
            "text/plain": [
              "<Figure size 864x864 with 1 Axes>"
            ],
            "image/png": "[encoded data removed]"
          },
          "metadata": {}
        }
      ]
    },
    {
      "cell_type": "markdown",
      "source": [
        "## **Hedef Değişken Analizi (Analysis of Target Variables)**"
      ],
      "metadata": {
        "id": "JE97AgGlOCKP"
      }
    },
    {
      "cell_type": "markdown",
      "source": [
        "Elimizdeki hedef değişkenini kategorik değişkenler ve sayısal değişkenler açısından analiz edelim."
      ],
      "metadata": {
        "id": "Z-GUMDeoOQPw"
      }
    },
    {
      "cell_type": "markdown",
      "source": [
        "SURVIVED değişkeni sınıf frekanslarına oranlarına ve sütun grafiğine bakalım."
      ],
      "metadata": {
        "id": "M-Ka3AubOsla"
      }
    },
    {
      "cell_type": "code",
      "source": [
        "cat_summary(df, \"SURVIVED\", plot=True)"
      ],
      "metadata": {
        "colab": {
          "base_uri": "https://localhost:8080/",
          "height": 789
        },
        "id": "D1twgvxU-lJW",
        "outputId": "abd194e4-9521-4d9f-874c-b09c1039fa0d"
      },
      "execution_count": 1040,
      "outputs": [
        {
          "output_type": "stream",
          "name": "stdout",
          "text": [
            "   SURVIVED  Ratio\n",
            "0       549 61.616\n",
            "1       342 38.384\n",
            "#########################################\n"
          ]
        },
        {
          "output_type": "display_data",
          "data": {
            "text/plain": [
              "<Figure size 864x864 with 1 Axes>"
            ],
            "image/png": "[encoded data removed]"
          },
          "metadata": {}
        }
      ]
    },
    {
      "cell_type": "markdown",
      "source": [
        "Hayatta kalma durumunu ne etkiliyor, biz bunu bulmaya çalışıyor olacağız?"
      ],
      "metadata": {
        "id": "oxoSHRt3PNAT"
      }
    },
    {
      "cell_type": "markdown",
      "source": [
        "## **Hedef Değişkenin Kategorik Değişkenler İle Analizi**"
      ],
      "metadata": {
        "id": "y7yU7y5KPeX4"
      }
    },
    {
      "cell_type": "markdown",
      "source": [
        "Hedef değişkenini kategorik değişkenler kırılımında ortalamasını alabileceğimiz bir fonksiyon yazalım."
      ],
      "metadata": {
        "id": "ZdMTP1WePqLx"
      }
    },
    {
      "cell_type": "code",
      "source": [
        "def target_summary_with_cat(dataframe, target, categorical_col):\n",
        "    print(pd.DataFrame({\"TARGET_MEAN\": dataframe.groupby(categorical_col)[target].mean()}), end=\"\\n\\n\\n\")"
      ],
      "metadata": {
        "id": "rrcDZfJEQ8KF"
      },
      "execution_count": 1041,
      "outputs": []
    },
    {
      "cell_type": "code",
      "source": [
        "for col in cat_cols:\n",
        "  target_summary_with_cat(df, \"SURVIVED\", col)"
      ],
      "metadata": {
        "colab": {
          "base_uri": "https://localhost:8080/"
        },
        "id": "kTYF_K-F-lG0",
        "outputId": "0f7348dd-d5aa-49ec-9e41-9e641318bedc"
      },
      "execution_count": 1042,
      "outputs": [
        {
          "output_type": "stream",
          "name": "stdout",
          "text": [
            "        TARGET_MEAN\n",
            "SEX                \n",
            "female        0.742\n",
            "male          0.189\n",
            "\n",
            "\n",
            "          TARGET_MEAN\n",
            "EMBARKED             \n",
            "C               0.554\n",
            "Q               0.390\n",
            "S               0.337\n",
            "\n",
            "\n",
            "          TARGET_MEAN\n",
            "SURVIVED             \n",
            "0               0.000\n",
            "1               1.000\n",
            "\n",
            "\n",
            "        TARGET_MEAN\n",
            "PCLASS             \n",
            "1             0.630\n",
            "2             0.473\n",
            "3             0.242\n",
            "\n",
            "\n",
            "       TARGET_MEAN\n",
            "SIBSP             \n",
            "0            0.345\n",
            "1            0.536\n",
            "2            0.464\n",
            "3            0.250\n",
            "4            0.167\n",
            "5            0.000\n",
            "8            0.000\n",
            "\n",
            "\n",
            "       TARGET_MEAN\n",
            "PARCH             \n",
            "0            0.344\n",
            "1            0.551\n",
            "2            0.500\n",
            "3            0.600\n",
            "4            0.000\n",
            "5            0.200\n",
            "6            0.000\n",
            "\n",
            "\n"
          ]
        }
      ]
    },
    {
      "cell_type": "markdown",
      "source": [
        "* ilk gruplamaya baktığımızda kadınların %74'ü erkeklerin ise %18'i hayatta klamış.\n",
        "* İkinci gruplamada ise C lokasyonundan binenlerin %55'i hayatta kalmış.\n",
        "* 1.sınıf yolculuk yapanların %63'ü hayatta kalmış."
      ],
      "metadata": {
        "id": "5tWoe10oQORo"
      }
    },
    {
      "cell_type": "markdown",
      "source": [
        "## **Hedef Değişkenin Sayısal Değişkenler İle Analizi**"
      ],
      "metadata": {
        "id": "qnnUBlynRbQz"
      }
    },
    {
      "cell_type": "code",
      "source": [
        "def target_summary_with_num(dataframe, target, numerical_col):\n",
        "    print(pd.DataFrame({numerical_col + \"_MEAN\": dataframe.groupby(target)[numerical_col].mean()}), end=\"\\n\\n\\n\")"
      ],
      "metadata": {
        "id": "ZWLiwcrk-lEU"
      },
      "execution_count": 1043,
      "outputs": []
    },
    {
      "cell_type": "code",
      "source": [
        "for col in num_cols:\n",
        "  target_summary_with_num(df, \"SURVIVED\", col)"
      ],
      "metadata": {
        "colab": {
          "base_uri": "https://localhost:8080/"
        },
        "id": "XsFM9kvRRcSP",
        "outputId": "31c5609f-9218-41de-c891-d5f6c03a08a2"
      },
      "execution_count": 1044,
      "outputs": [
        {
          "output_type": "stream",
          "name": "stdout",
          "text": [
            "          AGE_MEAN\n",
            "SURVIVED          \n",
            "0           30.626\n",
            "1           28.344\n",
            "\n",
            "\n",
            "          FARE_MEAN\n",
            "SURVIVED           \n",
            "0            22.118\n",
            "1            48.395\n",
            "\n",
            "\n"
          ]
        }
      ]
    },
    {
      "cell_type": "markdown",
      "source": [
        "* 1. gruplamaya baktığımızda hayatta kalanların yaş ortalaması 28.\n",
        "* 2. gruplama da ise hayatta kalanların verdikleri ortalama ücret 48 parabirimi."
      ],
      "metadata": {
        "id": "ued_GIxeR1v_"
      }
    },
    {
      "cell_type": "markdown",
      "source": [
        "## **Korelasyon Analizi**"
      ],
      "metadata": {
        "id": "rDgPg6xtThph"
      }
    },
    {
      "cell_type": "markdown",
      "source": [
        "Korelasyon analizi için bir fonksiyon yazalım."
      ],
      "metadata": {
        "id": "eV06bq7tYS-y"
      }
    },
    {
      "cell_type": "code",
      "source": [
        "def high_correlated_cols(dataframe, plot=False, corr_th = 0.90):\n",
        "  corr = dataframe.corr() # korelasyon değrerlini oluşturduk.\n",
        "  cor_matrix = corr.abs() # sonra bunun mutlak değerini aldık.\n",
        "  upper_triangle_matrix = cor_matrix.where(np.triu(np.ones(cor_matrix.shape), k=1).astype(bool)) # Köşegen elemanlarına göre düzeltme işlemi yaptık.\n",
        "  drop_list = [col for col in upper_triangle_matrix.columns if any(upper_triangle_matrix[col] > corr_th)] # Belirli bir korelasyonun üzerinde olanları seç dedik. Ve liste içine atadık.\n",
        "  \n",
        "  if plot:\n",
        "    import seaborn as sns\n",
        "    import matplotlib.pyplot as plt\n",
        "    sns.set(rc = {\"figure.figsize\" : (12,12)})\n",
        "    sns.heatmap(corr, cmap = \"RdBu\")\n",
        "    plt.show()\n",
        "\n",
        "  return drop_list"
      ],
      "metadata": {
        "id": "tzeaOsRPRcHw"
      },
      "execution_count": 1045,
      "outputs": []
    },
    {
      "cell_type": "code",
      "source": [
        "drop_list = high_correlated_cols(df, plot=True)"
      ],
      "metadata": {
        "colab": {
          "base_uri": "https://localhost:8080/",
          "height": 707
        },
        "id": "09evoiCfRcFO",
        "outputId": "6c143903-edc1-4b06-ceea-6874f17806c4"
      },
      "execution_count": 1046,
      "outputs": [
        {
          "output_type": "display_data",
          "data": {
            "text/plain": [
              "<Figure size 864x864 with 2 Axes>"
            ],
            "image/png": "[encoded data removed]"
          },
          "metadata": {}
        }
      ]
    },
    {
      "cell_type": "code",
      "source": [
        "drop_list"
      ],
      "metadata": {
        "colab": {
          "base_uri": "https://localhost:8080/"
        },
        "id": "YOu89RA1RcCq",
        "outputId": "60ab3cd2-1665-4579-d4e3-93f4f316e8d0"
      },
      "execution_count": 1047,
      "outputs": [
        {
          "output_type": "execute_result",
          "data": {
            "text/plain": [
              "[]"
            ]
          },
          "metadata": {},
          "execution_count": 1047
        }
      ]
    },
    {
      "cell_type": "markdown",
      "source": [
        "* Görüldüğü üzere korelasyon değeri yüksek bir değişkenimiz yok.\n",
        "* Korelasyonu yüksek bir dğeişkenimiz olmadığı için silmemizi gerektirecek bir değişkenimiz de yok."
      ],
      "metadata": {
        "id": "5snYy81cYssq"
      }
    },
    {
      "cell_type": "markdown",
      "source": [
        "# **2. Step: Feature Engineering & Data Pre-Processing**"
      ],
      "metadata": {
        "id": "j-om4EASZ1jW"
      }
    },
    {
      "cell_type": "markdown",
      "source": [
        "## **Değişken Mühendisliği (Feature Engineering)**"
      ],
      "metadata": {
        "id": "I2qI4UechOQi"
      }
    },
    {
      "cell_type": "markdown",
      "source": [
        "Bu aşamada değişkenlerden yeni değişkenler türetmeye çalışacağız.\n",
        "* Normalde bizim için bir bilgi taşımayacak nitelikteki bir değişkenden yeni değişkenler (özellikler) türeteceğiz.\n",
        "* Yeni ürettiğimiz değişkenler hedef değişkenini yani hayatta kalıp kalmama durumunu etkileyen nitelikte olabilir."
      ],
      "metadata": {
        "id": "RDUlVnANilLm"
      }
    },
    {
      "cell_type": "code",
      "source": [
        "df.head()"
      ],
      "metadata": {
        "colab": {
          "base_uri": "https://localhost:8080/",
          "height": 206
        },
        "id": "xTHHS-r9hWuJ",
        "outputId": "714e12f0-de48-4b14-9a23-1cb142bc65d3"
      },
      "execution_count": 1048,
      "outputs": [
        {
          "output_type": "execute_result",
          "data": {
            "text/plain": [
              "   SURVIVED  PCLASS                                               NAME     SEX    AGE  SIBSP  PARCH            TICKET   FARE CABIN EMBARKED\n",
              "0         0       3                            Braund, Mr. Owen Harris    male 22.000      1      0         A/5 21171  7.250   NaN        S\n",
              "1         1       1  Cumings, Mrs. John Bradley (Florence Briggs Th...  female 38.000      1      0          PC 17599 71.283   C85        C\n",
              "2         1       3                             Heikkinen, Miss. Laina  female 26.000      0      0  STON/O2. 3101282  7.925   NaN        S\n",
              "3         1       1       Futrelle, Mrs. Jacques Heath (Lily May Peel)  female 35.000      1      0            113803 53.100  C123        S\n",
              "4         0       3                           Allen, Mr. William Henry    male 35.000      0      0            373450  8.050   NaN        S"
            ],
            "text/html": [
              "\n",
              "  <div id=\"df-84a9aee0-d37c-47ac-a6eb-97491411b7a5\">\n",
              "    <div class=\"colab-df-container\">\n",
              "      <div>\n",
              "<style scoped>\n",
              "    .dataframe tbody tr th:only-of-type {\n",
              "        vertical-align: middle;\n",
              "    }\n",
              "\n",
              "    .dataframe tbody tr th {\n",
              "        vertical-align: top;\n",
              "    }\n",
              "\n",
              "    .dataframe thead th {\n",
              "        text-align: right;\n",
              "    }\n",
              "</style>\n",
              "<table border=\"1\" class=\"dataframe\">\n",
              "  <thead>\n",
              "    <tr style=\"text-align: right;\">\n",
              "      <th></th>\n",
              "      <th>SURVIVED</th>\n",
              "      <th>PCLASS</th>\n",
              "      <th>NAME</th>\n",
              "      <th>SEX</th>\n",
              "      <th>AGE</th>\n",
              "      <th>SIBSP</th>\n",
              "      <th>PARCH</th>\n",
              "      <th>TICKET</th>\n",
              "      <th>FARE</th>\n",
              "      <th>CABIN</th>\n",
              "      <th>EMBARKED</th>\n",
              "    </tr>\n",
              "  </thead>\n",
              "  <tbody>\n",
              "    <tr>\n",
              "      <th>0</th>\n",
              "      <td>0</td>\n",
              "      <td>3</td>\n",
              "      <td>Braund, Mr. Owen Harris</td>\n",
              "      <td>male</td>\n",
              "      <td>22.000</td>\n",
              "      <td>1</td>\n",
              "      <td>0</td>\n",
              "      <td>A/5 21171</td>\n",
              "      <td>7.250</td>\n",
              "      <td>NaN</td>\n",
              "      <td>S</td>\n",
              "    </tr>\n",
              "    <tr>\n",
              "      <th>1</th>\n",
              "      <td>1</td>\n",
              "      <td>1</td>\n",
              "      <td>Cumings, Mrs. John Bradley (Florence Briggs Th...</td>\n",
              "      <td>female</td>\n",
              "      <td>38.000</td>\n",
              "      <td>1</td>\n",
              "      <td>0</td>\n",
              "      <td>PC 17599</td>\n",
              "      <td>71.283</td>\n",
              "      <td>C85</td>\n",
              "      <td>C</td>\n",
              "    </tr>\n",
              "    <tr>\n",
              "      <th>2</th>\n",
              "      <td>1</td>\n",
              "      <td>3</td>\n",
              "      <td>Heikkinen, Miss. Laina</td>\n",
              "      <td>female</td>\n",
              "      <td>26.000</td>\n",
              "      <td>0</td>\n",
              "      <td>0</td>\n",
              "      <td>STON/O2. 3101282</td>\n",
              "      <td>7.925</td>\n",
              "      <td>NaN</td>\n",
              "      <td>S</td>\n",
              "    </tr>\n",
              "    <tr>\n",
              "      <th>3</th>\n",
              "      <td>1</td>\n",
              "      <td>1</td>\n",
              "      <td>Futrelle, Mrs. Jacques Heath (Lily May Peel)</td>\n",
              "      <td>female</td>\n",
              "      <td>35.000</td>\n",
              "      <td>1</td>\n",
              "      <td>0</td>\n",
              "      <td>113803</td>\n",
              "      <td>53.100</td>\n",
              "      <td>C123</td>\n",
              "      <td>S</td>\n",
              "    </tr>\n",
              "    <tr>\n",
              "      <th>4</th>\n",
              "      <td>0</td>\n",
              "      <td>3</td>\n",
              "      <td>Allen, Mr. William Henry</td>\n",
              "      <td>male</td>\n",
              "      <td>35.000</td>\n",
              "      <td>0</td>\n",
              "      <td>0</td>\n",
              "      <td>373450</td>\n",
              "      <td>8.050</td>\n",
              "      <td>NaN</td>\n",
              "      <td>S</td>\n",
              "    </tr>\n",
              "  </tbody>\n",
              "</table>\n",
              "</div>\n",
              "      <button class=\"colab-df-convert\" onclick=\"convertToInteractive('df-84a9aee0-d37c-47ac-a6eb-97491411b7a5')\"\n",
              "              title=\"Convert this dataframe to an interactive table.\"\n",
              "              style=\"display:none;\">\n",
              "        \n",
              "  <svg xmlns=\"http://www.w3.org/2000/svg\" height=\"24px\"viewBox=\"0 0 24 24\"\n",
              "       width=\"24px\">\n",
              "    <path d=\"M0 0h24v24H0V0z\" fill=\"none\"/>\n",
              "    <path d=\"M18.56 5.44l.94 2.06.94-2.06 2.06-.94-2.06-.94-.94-2.06-.94 2.06-2.06.94zm-11 1L8.5 8.5l.94-2.06 2.06-.94-2.06-.94L8.5 2.5l-.94 2.06-2.06.94zm10 10l.94 2.06.94-2.06 2.06-.94-2.06-.94-.94-2.06-.94 2.06-2.06.94z\"/><path d=\"M17.41 7.96l-1.37-1.37c-.4-.4-.92-.59-1.43-.59-.52 0-1.04.2-1.43.59L10.3 9.45l-7.72 7.72c-.78.78-.78 2.05 0 2.83L4 21.41c.39.39.9.59 1.41.59.51 0 1.02-.2 1.41-.59l7.78-7.78 2.81-2.81c.8-.78.8-2.07 0-2.86zM5.41 20L4 18.59l7.72-7.72 1.47 1.35L5.41 20z\"/>\n",
              "  </svg>\n",
              "      </button>\n",
              "      \n",
              "  <style>\n",
              "    .colab-df-container {\n",
              "      display:flex;\n",
              "      flex-wrap:wrap;\n",
              "      gap: 12px;\n",
              "    }\n",
              "\n",
              "    .colab-df-convert {\n",
              "      background-color: #E8F0FE;\n",
              "      border: none;\n",
              "      border-radius: 50%;\n",
              "      cursor: pointer;\n",
              "      display: none;\n",
              "      fill: #1967D2;\n",
              "      height: 32px;\n",
              "      padding: 0 0 0 0;\n",
              "      width: 32px;\n",
              "    }\n",
              "\n",
              "    .colab-df-convert:hover {\n",
              "      background-color: #E2EBFA;\n",
              "      box-shadow: 0px 1px 2px rgba(60, 64, 67, 0.3), 0px 1px 3px 1px rgba(60, 64, 67, 0.15);\n",
              "      fill: #174EA6;\n",
              "    }\n",
              "\n",
              "    [theme=dark] .colab-df-convert {\n",
              "      background-color: #3B4455;\n",
              "      fill: #D2E3FC;\n",
              "    }\n",
              "\n",
              "    [theme=dark] .colab-df-convert:hover {\n",
              "      background-color: #434B5C;\n",
              "      box-shadow: 0px 1px 3px 1px rgba(0, 0, 0, 0.15);\n",
              "      filter: drop-shadow(0px 1px 2px rgba(0, 0, 0, 0.3));\n",
              "      fill: #FFFFFF;\n",
              "    }\n",
              "  </style>\n",
              "\n",
              "      <script>\n",
              "        const buttonEl =\n",
              "          document.querySelector('#df-84a9aee0-d37c-47ac-a6eb-97491411b7a5 button.colab-df-convert');\n",
              "        buttonEl.style.display =\n",
              "          google.colab.kernel.accessAllowed ? 'block' : 'none';\n",
              "\n",
              "        async function convertToInteractive(key) {\n",
              "          const element = document.querySelector('#df-84a9aee0-d37c-47ac-a6eb-97491411b7a5');\n",
              "          const dataTable =\n",
              "            await google.colab.kernel.invokeFunction('convertToInteractive',\n",
              "                                                     [key], {});\n",
              "          if (!dataTable) return;\n",
              "\n",
              "          const docLinkHtml = 'Like what you see? Visit the ' +\n",
              "            '<a target=\"_blank\" href=https://colab.research.google.com/notebooks/data_table.ipynb>data table notebook</a>'\n",
              "            + ' to learn more about interactive tables.';\n",
              "          element.innerHTML = '';\n",
              "          dataTable['output_type'] = 'display_data';\n",
              "          await google.colab.output.renderOutput(dataTable, element);\n",
              "          const docLink = document.createElement('div');\n",
              "          docLink.innerHTML = docLinkHtml;\n",
              "          element.appendChild(docLink);\n",
              "        }\n",
              "      </script>\n",
              "    </div>\n",
              "  </div>\n",
              "  "
            ]
          },
          "metadata": {},
          "execution_count": 1048
        }
      ]
    },
    {
      "cell_type": "markdown",
      "source": [
        "**1. CABIN değişkenine odaklanalım.**"
      ],
      "metadata": {
        "id": "jjzNpNvTjr82"
      }
    },
    {
      "cell_type": "code",
      "source": [
        "df[\"CABIN\"].head()"
      ],
      "metadata": {
        "colab": {
          "base_uri": "https://localhost:8080/"
        },
        "id": "dekpXePMj9LN",
        "outputId": "218a890e-b7e4-40ea-f3c6-e9e795b701d8"
      },
      "execution_count": 1049,
      "outputs": [
        {
          "output_type": "execute_result",
          "data": {
            "text/plain": [
              "0     NaN\n",
              "1     C85\n",
              "2     NaN\n",
              "3    C123\n",
              "4     NaN\n",
              "Name: CABIN, dtype: object"
            ]
          },
          "metadata": {},
          "execution_count": 1049
        }
      ]
    },
    {
      "cell_type": "markdown",
      "source": [
        "* Eksik değerlerine bakalım."
      ],
      "metadata": {
        "id": "HUBG5YCKkFWL"
      }
    },
    {
      "cell_type": "code",
      "source": [
        "df[\"CABIN\"].isnull().sum()"
      ],
      "metadata": {
        "colab": {
          "base_uri": "https://localhost:8080/"
        },
        "id": "P_kPIGukiT72",
        "outputId": "01568baa-c639-4621-91e9-7bb09f58272b"
      },
      "execution_count": 1050,
      "outputs": [
        {
          "output_type": "execute_result",
          "data": {
            "text/plain": [
              "687"
            ]
          },
          "metadata": {},
          "execution_count": 1050
        }
      ]
    },
    {
      "cell_type": "markdown",
      "source": [
        "Görüldüğü üzere değişkenin değerlerinin yarısından çoğu eksik.\n",
        "* Cabin değişkeni gemiye binen kişilere (yolcu, personel) eğer o kişinin kalacağı bir kabin varsa ona kabin numarası verilen bir değişkendir.\n",
        "* Bu değişken hem bu açıdan hem de içindeki veri açısından bizim için bir anlam taşımıyor.\n",
        "* O yüzden biz bu değişkeni kabin numarası olanlar ve olmayanlar olarak düşünelim ve cabin numarası olanlara 1, olmayanlara ise 0 yazdıralım."
      ],
      "metadata": {
        "id": "zVwwU_nij6b-"
      }
    },
    {
      "cell_type": "code",
      "source": [
        "df[\"NEW_CABIN_FLAG\"] = df[\"CABIN\"].notnull().astype(\"int\")"
      ],
      "metadata": {
        "id": "AiyP22EdiTwG"
      },
      "execution_count": 1051,
      "outputs": []
    },
    {
      "cell_type": "code",
      "source": [
        "df.head()"
      ],
      "metadata": {
        "colab": {
          "base_uri": "https://localhost:8080/",
          "height": 206
        },
        "id": "xSVPzD7riTfj",
        "outputId": "aea0e99c-0dd8-463e-fb44-bdcfa8b4ea52"
      },
      "execution_count": 1052,
      "outputs": [
        {
          "output_type": "execute_result",
          "data": {
            "text/plain": [
              "   SURVIVED  PCLASS                                               NAME     SEX    AGE  SIBSP  PARCH            TICKET   FARE CABIN EMBARKED  NEW_CABIN_FLAG\n",
              "0         0       3                            Braund, Mr. Owen Harris    male 22.000      1      0         A/5 21171  7.250   NaN        S               0\n",
              "1         1       1  Cumings, Mrs. John Bradley (Florence Briggs Th...  female 38.000      1      0          PC 17599 71.283   C85        C               1\n",
              "2         1       3                             Heikkinen, Miss. Laina  female 26.000      0      0  STON/O2. 3101282  7.925   NaN        S               0\n",
              "3         1       1       Futrelle, Mrs. Jacques Heath (Lily May Peel)  female 35.000      1      0            113803 53.100  C123        S               1\n",
              "4         0       3                           Allen, Mr. William Henry    male 35.000      0      0            373450  8.050   NaN        S               0"
            ],
            "text/html": [
              "\n",
              "  <div id=\"df-ae076c72-d6b4-480a-9770-e3451ff1b948\">\n",
              "    <div class=\"colab-df-container\">\n",
              "      <div>\n",
              "<style scoped>\n",
              "    .dataframe tbody tr th:only-of-type {\n",
              "        vertical-align: middle;\n",
              "    }\n",
              "\n",
              "    .dataframe tbody tr th {\n",
              "        vertical-align: top;\n",
              "    }\n",
              "\n",
              "    .dataframe thead th {\n",
              "        text-align: right;\n",
              "    }\n",
              "</style>\n",
              "<table border=\"1\" class=\"dataframe\">\n",
              "  <thead>\n",
              "    <tr style=\"text-align: right;\">\n",
              "      <th></th>\n",
              "      <th>SURVIVED</th>\n",
              "      <th>PCLASS</th>\n",
              "      <th>NAME</th>\n",
              "      <th>SEX</th>\n",
              "      <th>AGE</th>\n",
              "      <th>SIBSP</th>\n",
              "      <th>PARCH</th>\n",
              "      <th>TICKET</th>\n",
              "      <th>FARE</th>\n",
              "      <th>CABIN</th>\n",
              "      <th>EMBARKED</th>\n",
              "      <th>NEW_CABIN_FLAG</th>\n",
              "    </tr>\n",
              "  </thead>\n",
              "  <tbody>\n",
              "    <tr>\n",
              "      <th>0</th>\n",
              "      <td>0</td>\n",
              "      <td>3</td>\n",
              "      <td>Braund, Mr. Owen Harris</td>\n",
              "      <td>male</td>\n",
              "      <td>22.000</td>\n",
              "      <td>1</td>\n",
              "      <td>0</td>\n",
              "      <td>A/5 21171</td>\n",
              "      <td>7.250</td>\n",
              "      <td>NaN</td>\n",
              "      <td>S</td>\n",
              "      <td>0</td>\n",
              "    </tr>\n",
              "    <tr>\n",
              "      <th>1</th>\n",
              "      <td>1</td>\n",
              "      <td>1</td>\n",
              "      <td>Cumings, Mrs. John Bradley (Florence Briggs Th...</td>\n",
              "      <td>female</td>\n",
              "      <td>38.000</td>\n",
              "      <td>1</td>\n",
              "      <td>0</td>\n",
              "      <td>PC 17599</td>\n",
              "      <td>71.283</td>\n",
              "      <td>C85</td>\n",
              "      <td>C</td>\n",
              "      <td>1</td>\n",
              "    </tr>\n",
              "    <tr>\n",
              "      <th>2</th>\n",
              "      <td>1</td>\n",
              "      <td>3</td>\n",
              "      <td>Heikkinen, Miss. Laina</td>\n",
              "      <td>female</td>\n",
              "      <td>26.000</td>\n",
              "      <td>0</td>\n",
              "      <td>0</td>\n",
              "      <td>STON/O2. 3101282</td>\n",
              "      <td>7.925</td>\n",
              "      <td>NaN</td>\n",
              "      <td>S</td>\n",
              "      <td>0</td>\n",
              "    </tr>\n",
              "    <tr>\n",
              "      <th>3</th>\n",
              "      <td>1</td>\n",
              "      <td>1</td>\n",
              "      <td>Futrelle, Mrs. Jacques Heath (Lily May Peel)</td>\n",
              "      <td>female</td>\n",
              "      <td>35.000</td>\n",
              "      <td>1</td>\n",
              "      <td>0</td>\n",
              "      <td>113803</td>\n",
              "      <td>53.100</td>\n",
              "      <td>C123</td>\n",
              "      <td>S</td>\n",
              "      <td>1</td>\n",
              "    </tr>\n",
              "    <tr>\n",
              "      <th>4</th>\n",
              "      <td>0</td>\n",
              "      <td>3</td>\n",
              "      <td>Allen, Mr. William Henry</td>\n",
              "      <td>male</td>\n",
              "      <td>35.000</td>\n",
              "      <td>0</td>\n",
              "      <td>0</td>\n",
              "      <td>373450</td>\n",
              "      <td>8.050</td>\n",
              "      <td>NaN</td>\n",
              "      <td>S</td>\n",
              "      <td>0</td>\n",
              "    </tr>\n",
              "  </tbody>\n",
              "</table>\n",
              "</div>\n",
              "      <button class=\"colab-df-convert\" onclick=\"convertToInteractive('df-ae076c72-d6b4-480a-9770-e3451ff1b948')\"\n",
              "              title=\"Convert this dataframe to an interactive table.\"\n",
              "              style=\"display:none;\">\n",
              "        \n",
              "  <svg xmlns=\"http://www.w3.org/2000/svg\" height=\"24px\"viewBox=\"0 0 24 24\"\n",
              "       width=\"24px\">\n",
              "    <path d=\"M0 0h24v24H0V0z\" fill=\"none\"/>\n",
              "    <path d=\"M18.56 5.44l.94 2.06.94-2.06 2.06-.94-2.06-.94-.94-2.06-.94 2.06-2.06.94zm-11 1L8.5 8.5l.94-2.06 2.06-.94-2.06-.94L8.5 2.5l-.94 2.06-2.06.94zm10 10l.94 2.06.94-2.06 2.06-.94-2.06-.94-.94-2.06-.94 2.06-2.06.94z\"/><path d=\"M17.41 7.96l-1.37-1.37c-.4-.4-.92-.59-1.43-.59-.52 0-1.04.2-1.43.59L10.3 9.45l-7.72 7.72c-.78.78-.78 2.05 0 2.83L4 21.41c.39.39.9.59 1.41.59.51 0 1.02-.2 1.41-.59l7.78-7.78 2.81-2.81c.8-.78.8-2.07 0-2.86zM5.41 20L4 18.59l7.72-7.72 1.47 1.35L5.41 20z\"/>\n",
              "  </svg>\n",
              "      </button>\n",
              "      \n",
              "  <style>\n",
              "    .colab-df-container {\n",
              "      display:flex;\n",
              "      flex-wrap:wrap;\n",
              "      gap: 12px;\n",
              "    }\n",
              "\n",
              "    .colab-df-convert {\n",
              "      background-color: #E8F0FE;\n",
              "      border: none;\n",
              "      border-radius: 50%;\n",
              "      cursor: pointer;\n",
              "      display: none;\n",
              "      fill: #1967D2;\n",
              "      height: 32px;\n",
              "      padding: 0 0 0 0;\n",
              "      width: 32px;\n",
              "    }\n",
              "\n",
              "    .colab-df-convert:hover {\n",
              "      background-color: #E2EBFA;\n",
              "      box-shadow: 0px 1px 2px rgba(60, 64, 67, 0.3), 0px 1px 3px 1px rgba(60, 64, 67, 0.15);\n",
              "      fill: #174EA6;\n",
              "    }\n",
              "\n",
              "    [theme=dark] .colab-df-convert {\n",
              "      background-color: #3B4455;\n",
              "      fill: #D2E3FC;\n",
              "    }\n",
              "\n",
              "    [theme=dark] .colab-df-convert:hover {\n",
              "      background-color: #434B5C;\n",
              "      box-shadow: 0px 1px 3px 1px rgba(0, 0, 0, 0.15);\n",
              "      filter: drop-shadow(0px 1px 2px rgba(0, 0, 0, 0.3));\n",
              "      fill: #FFFFFF;\n",
              "    }\n",
              "  </style>\n",
              "\n",
              "      <script>\n",
              "        const buttonEl =\n",
              "          document.querySelector('#df-ae076c72-d6b4-480a-9770-e3451ff1b948 button.colab-df-convert');\n",
              "        buttonEl.style.display =\n",
              "          google.colab.kernel.accessAllowed ? 'block' : 'none';\n",
              "\n",
              "        async function convertToInteractive(key) {\n",
              "          const element = document.querySelector('#df-ae076c72-d6b4-480a-9770-e3451ff1b948');\n",
              "          const dataTable =\n",
              "            await google.colab.kernel.invokeFunction('convertToInteractive',\n",
              "                                                     [key], {});\n",
              "          if (!dataTable) return;\n",
              "\n",
              "          const docLinkHtml = 'Like what you see? Visit the ' +\n",
              "            '<a target=\"_blank\" href=https://colab.research.google.com/notebooks/data_table.ipynb>data table notebook</a>'\n",
              "            + ' to learn more about interactive tables.';\n",
              "          element.innerHTML = '';\n",
              "          dataTable['output_type'] = 'display_data';\n",
              "          await google.colab.output.renderOutput(dataTable, element);\n",
              "          const docLink = document.createElement('div');\n",
              "          docLink.innerHTML = docLinkHtml;\n",
              "          element.appendChild(docLink);\n",
              "        }\n",
              "      </script>\n",
              "    </div>\n",
              "  </div>\n",
              "  "
            ]
          },
          "metadata": {},
          "execution_count": 1052
        }
      ]
    },
    {
      "cell_type": "markdown",
      "source": [
        "* Bizim için bilgi taşımayan değişkenden artık bilgi taşıyan bir değişken türetmiş olabiliriz."
      ],
      "metadata": {
        "id": "zGADUMUIllJ2"
      }
    },
    {
      "cell_type": "code",
      "source": [
        "df.groupby(\"NEW_CABIN_FLAG\").agg({\"SURVIVED\":\"mean\"})"
      ],
      "metadata": {
        "colab": {
          "base_uri": "https://localhost:8080/",
          "height": 143
        },
        "id": "gNNDTNyviTVG",
        "outputId": "825b5376-500d-4c6d-d94a-63bc14ea1068"
      },
      "execution_count": 1053,
      "outputs": [
        {
          "output_type": "execute_result",
          "data": {
            "text/plain": [
              "                SURVIVED\n",
              "NEW_CABIN_FLAG          \n",
              "0                  0.300\n",
              "1                  0.667"
            ],
            "text/html": [
              "\n",
              "  <div id=\"df-76177beb-c2b4-4cc0-afe8-82b0af89b415\">\n",
              "    <div class=\"colab-df-container\">\n",
              "      <div>\n",
              "<style scoped>\n",
              "    .dataframe tbody tr th:only-of-type {\n",
              "        vertical-align: middle;\n",
              "    }\n",
              "\n",
              "    .dataframe tbody tr th {\n",
              "        vertical-align: top;\n",
              "    }\n",
              "\n",
              "    .dataframe thead th {\n",
              "        text-align: right;\n",
              "    }\n",
              "</style>\n",
              "<table border=\"1\" class=\"dataframe\">\n",
              "  <thead>\n",
              "    <tr style=\"text-align: right;\">\n",
              "      <th></th>\n",
              "      <th>SURVIVED</th>\n",
              "    </tr>\n",
              "    <tr>\n",
              "      <th>NEW_CABIN_FLAG</th>\n",
              "      <th></th>\n",
              "    </tr>\n",
              "  </thead>\n",
              "  <tbody>\n",
              "    <tr>\n",
              "      <th>0</th>\n",
              "      <td>0.300</td>\n",
              "    </tr>\n",
              "    <tr>\n",
              "      <th>1</th>\n",
              "      <td>0.667</td>\n",
              "    </tr>\n",
              "  </tbody>\n",
              "</table>\n",
              "</div>\n",
              "      <button class=\"colab-df-convert\" onclick=\"convertToInteractive('df-76177beb-c2b4-4cc0-afe8-82b0af89b415')\"\n",
              "              title=\"Convert this dataframe to an interactive table.\"\n",
              "              style=\"display:none;\">\n",
              "        \n",
              "  <svg xmlns=\"http://www.w3.org/2000/svg\" height=\"24px\"viewBox=\"0 0 24 24\"\n",
              "       width=\"24px\">\n",
              "    <path d=\"M0 0h24v24H0V0z\" fill=\"none\"/>\n",
              "    <path d=\"M18.56 5.44l.94 2.06.94-2.06 2.06-.94-2.06-.94-.94-2.06-.94 2.06-2.06.94zm-11 1L8.5 8.5l.94-2.06 2.06-.94-2.06-.94L8.5 2.5l-.94 2.06-2.06.94zm10 10l.94 2.06.94-2.06 2.06-.94-2.06-.94-.94-2.06-.94 2.06-2.06.94z\"/><path d=\"M17.41 7.96l-1.37-1.37c-.4-.4-.92-.59-1.43-.59-.52 0-1.04.2-1.43.59L10.3 9.45l-7.72 7.72c-.78.78-.78 2.05 0 2.83L4 21.41c.39.39.9.59 1.41.59.51 0 1.02-.2 1.41-.59l7.78-7.78 2.81-2.81c.8-.78.8-2.07 0-2.86zM5.41 20L4 18.59l7.72-7.72 1.47 1.35L5.41 20z\"/>\n",
              "  </svg>\n",
              "      </button>\n",
              "      \n",
              "  <style>\n",
              "    .colab-df-container {\n",
              "      display:flex;\n",
              "      flex-wrap:wrap;\n",
              "      gap: 12px;\n",
              "    }\n",
              "\n",
              "    .colab-df-convert {\n",
              "      background-color: #E8F0FE;\n",
              "      border: none;\n",
              "      border-radius: 50%;\n",
              "      cursor: pointer;\n",
              "      display: none;\n",
              "      fill: #1967D2;\n",
              "      height: 32px;\n",
              "      padding: 0 0 0 0;\n",
              "      width: 32px;\n",
              "    }\n",
              "\n",
              "    .colab-df-convert:hover {\n",
              "      background-color: #E2EBFA;\n",
              "      box-shadow: 0px 1px 2px rgba(60, 64, 67, 0.3), 0px 1px 3px 1px rgba(60, 64, 67, 0.15);\n",
              "      fill: #174EA6;\n",
              "    }\n",
              "\n",
              "    [theme=dark] .colab-df-convert {\n",
              "      background-color: #3B4455;\n",
              "      fill: #D2E3FC;\n",
              "    }\n",
              "\n",
              "    [theme=dark] .colab-df-convert:hover {\n",
              "      background-color: #434B5C;\n",
              "      box-shadow: 0px 1px 3px 1px rgba(0, 0, 0, 0.15);\n",
              "      filter: drop-shadow(0px 1px 2px rgba(0, 0, 0, 0.3));\n",
              "      fill: #FFFFFF;\n",
              "    }\n",
              "  </style>\n",
              "\n",
              "      <script>\n",
              "        const buttonEl =\n",
              "          document.querySelector('#df-76177beb-c2b4-4cc0-afe8-82b0af89b415 button.colab-df-convert');\n",
              "        buttonEl.style.display =\n",
              "          google.colab.kernel.accessAllowed ? 'block' : 'none';\n",
              "\n",
              "        async function convertToInteractive(key) {\n",
              "          const element = document.querySelector('#df-76177beb-c2b4-4cc0-afe8-82b0af89b415');\n",
              "          const dataTable =\n",
              "            await google.colab.kernel.invokeFunction('convertToInteractive',\n",
              "                                                     [key], {});\n",
              "          if (!dataTable) return;\n",
              "\n",
              "          const docLinkHtml = 'Like what you see? Visit the ' +\n",
              "            '<a target=\"_blank\" href=https://colab.research.google.com/notebooks/data_table.ipynb>data table notebook</a>'\n",
              "            + ' to learn more about interactive tables.';\n",
              "          element.innerHTML = '';\n",
              "          dataTable['output_type'] = 'display_data';\n",
              "          await google.colab.output.renderOutput(dataTable, element);\n",
              "          const docLink = document.createElement('div');\n",
              "          docLink.innerHTML = docLinkHtml;\n",
              "          element.appendChild(docLink);\n",
              "        }\n",
              "      </script>\n",
              "    </div>\n",
              "  </div>\n",
              "  "
            ]
          },
          "metadata": {},
          "execution_count": 1053
        }
      ]
    },
    {
      "cell_type": "markdown",
      "source": [
        "* Cabın numarası olanların %66'sı hayatta kalmış.\n",
        "* Bizim için bilgi taşımayan bir değişken artık önemli bir değişken haline geldi."
      ],
      "metadata": {
        "id": "qoUcBdyXmF0n"
      }
    },
    {
      "cell_type": "markdown",
      "source": [
        "**2. SIBSP\tPARCH\tdeğişkenine odaklanalım.**"
      ],
      "metadata": {
        "id": "ppQareEDnSvN"
      }
    },
    {
      "cell_type": "markdown",
      "source": [
        "* sibsp: Yolcunun gemide bulunan kardeş sayısı (0–8)\n",
        "* parch: Yolcunun gemide bulunan akraba sayısı (0–6) - Uzak akraba\n",
        "* Bu iki değişkenin toplamı sıfırdan büyük olması ilgili gözlemdeki kişinin gemide yalnız olmadığını gösterir."
      ],
      "metadata": {
        "id": "gTl1I-UlnksA"
      }
    },
    {
      "cell_type": "code",
      "source": [
        "df.loc[((df[\"SIBSP\"] + df[\"PARCH\"]) > 0), \"NEW_IS_ALONE\"] = \"NO\"   #Bu kişi yalnız değildir.\n",
        "df.loc[((df[\"SIBSP\"] + df[\"PARCH\"]) == 0), \"NEW_IS_ALONE\"] = \"YES\" #Bu kişi yalnızdır."
      ],
      "metadata": {
        "id": "ZQAi6qm1nZTx"
      },
      "execution_count": 1054,
      "outputs": []
    },
    {
      "cell_type": "code",
      "source": [
        "df.head()"
      ],
      "metadata": {
        "colab": {
          "base_uri": "https://localhost:8080/",
          "height": 285
        },
        "id": "1Y1sOzaWoIQa",
        "outputId": "5c9c06f7-5d62-4fab-d47c-c99c47f18caa"
      },
      "execution_count": 1055,
      "outputs": [
        {
          "output_type": "execute_result",
          "data": {
            "text/plain": [
              "   SURVIVED  PCLASS                                               NAME     SEX    AGE  SIBSP  PARCH            TICKET   FARE CABIN EMBARKED  NEW_CABIN_FLAG NEW_IS_ALONE\n",
              "0         0       3                            Braund, Mr. Owen Harris    male 22.000      1      0         A/5 21171  7.250   NaN        S               0           NO\n",
              "1         1       1  Cumings, Mrs. John Bradley (Florence Briggs Th...  female 38.000      1      0          PC 17599 71.283   C85        C               1           NO\n",
              "2         1       3                             Heikkinen, Miss. Laina  female 26.000      0      0  STON/O2. 3101282  7.925   NaN        S               0          YES\n",
              "3         1       1       Futrelle, Mrs. Jacques Heath (Lily May Peel)  female 35.000      1      0            113803 53.100  C123        S               1           NO\n",
              "4         0       3                           Allen, Mr. William Henry    male 35.000      0      0            373450  8.050   NaN        S               0          YES"
            ],
            "text/html": [
              "\n",
              "  <div id=\"df-882c8ee0-397b-455b-8f1d-cfe886d3109a\">\n",
              "    <div class=\"colab-df-container\">\n",
              "      <div>\n",
              "<style scoped>\n",
              "    .dataframe tbody tr th:only-of-type {\n",
              "        vertical-align: middle;\n",
              "    }\n",
              "\n",
              "    .dataframe tbody tr th {\n",
              "        vertical-align: top;\n",
              "    }\n",
              "\n",
              "    .dataframe thead th {\n",
              "        text-align: right;\n",
              "    }\n",
              "</style>\n",
              "<table border=\"1\" class=\"dataframe\">\n",
              "  <thead>\n",
              "    <tr style=\"text-align: right;\">\n",
              "      <th></th>\n",
              "      <th>SURVIVED</th>\n",
              "      <th>PCLASS</th>\n",
              "      <th>NAME</th>\n",
              "      <th>SEX</th>\n",
              "      <th>AGE</th>\n",
              "      <th>SIBSP</th>\n",
              "      <th>PARCH</th>\n",
              "      <th>TICKET</th>\n",
              "      <th>FARE</th>\n",
              "      <th>CABIN</th>\n",
              "      <th>EMBARKED</th>\n",
              "      <th>NEW_CABIN_FLAG</th>\n",
              "      <th>NEW_IS_ALONE</th>\n",
              "    </tr>\n",
              "  </thead>\n",
              "  <tbody>\n",
              "    <tr>\n",
              "      <th>0</th>\n",
              "      <td>0</td>\n",
              "      <td>3</td>\n",
              "      <td>Braund, Mr. Owen Harris</td>\n",
              "      <td>male</td>\n",
              "      <td>22.000</td>\n",
              "      <td>1</td>\n",
              "      <td>0</td>\n",
              "      <td>A/5 21171</td>\n",
              "      <td>7.250</td>\n",
              "      <td>NaN</td>\n",
              "      <td>S</td>\n",
              "      <td>0</td>\n",
              "      <td>NO</td>\n",
              "    </tr>\n",
              "    <tr>\n",
              "      <th>1</th>\n",
              "      <td>1</td>\n",
              "      <td>1</td>\n",
              "      <td>Cumings, Mrs. John Bradley (Florence Briggs Th...</td>\n",
              "      <td>female</td>\n",
              "      <td>38.000</td>\n",
              "      <td>1</td>\n",
              "      <td>0</td>\n",
              "      <td>PC 17599</td>\n",
              "      <td>71.283</td>\n",
              "      <td>C85</td>\n",
              "      <td>C</td>\n",
              "      <td>1</td>\n",
              "      <td>NO</td>\n",
              "    </tr>\n",
              "    <tr>\n",
              "      <th>2</th>\n",
              "      <td>1</td>\n",
              "      <td>3</td>\n",
              "      <td>Heikkinen, Miss. Laina</td>\n",
              "      <td>female</td>\n",
              "      <td>26.000</td>\n",
              "      <td>0</td>\n",
              "      <td>0</td>\n",
              "      <td>STON/O2. 3101282</td>\n",
              "      <td>7.925</td>\n",
              "      <td>NaN</td>\n",
              "      <td>S</td>\n",
              "      <td>0</td>\n",
              "      <td>YES</td>\n",
              "    </tr>\n",
              "    <tr>\n",
              "      <th>3</th>\n",
              "      <td>1</td>\n",
              "      <td>1</td>\n",
              "      <td>Futrelle, Mrs. Jacques Heath (Lily May Peel)</td>\n",
              "      <td>female</td>\n",
              "      <td>35.000</td>\n",
              "      <td>1</td>\n",
              "      <td>0</td>\n",
              "      <td>113803</td>\n",
              "      <td>53.100</td>\n",
              "      <td>C123</td>\n",
              "      <td>S</td>\n",
              "      <td>1</td>\n",
              "      <td>NO</td>\n",
              "    </tr>\n",
              "    <tr>\n",
              "      <th>4</th>\n",
              "      <td>0</td>\n",
              "      <td>3</td>\n",
              "      <td>Allen, Mr. William Henry</td>\n",
              "      <td>male</td>\n",
              "      <td>35.000</td>\n",
              "      <td>0</td>\n",
              "      <td>0</td>\n",
              "      <td>373450</td>\n",
              "      <td>8.050</td>\n",
              "      <td>NaN</td>\n",
              "      <td>S</td>\n",
              "      <td>0</td>\n",
              "      <td>YES</td>\n",
              "    </tr>\n",
              "  </tbody>\n",
              "</table>\n",
              "</div>\n",
              "      <button class=\"colab-df-convert\" onclick=\"convertToInteractive('df-882c8ee0-397b-455b-8f1d-cfe886d3109a')\"\n",
              "              title=\"Convert this dataframe to an interactive table.\"\n",
              "              style=\"display:none;\">\n",
              "        \n",
              "  <svg xmlns=\"http://www.w3.org/2000/svg\" height=\"24px\"viewBox=\"0 0 24 24\"\n",
              "       width=\"24px\">\n",
              "    <path d=\"M0 0h24v24H0V0z\" fill=\"none\"/>\n",
              "    <path d=\"M18.56 5.44l.94 2.06.94-2.06 2.06-.94-2.06-.94-.94-2.06-.94 2.06-2.06.94zm-11 1L8.5 8.5l.94-2.06 2.06-.94-2.06-.94L8.5 2.5l-.94 2.06-2.06.94zm10 10l.94 2.06.94-2.06 2.06-.94-2.06-.94-.94-2.06-.94 2.06-2.06.94z\"/><path d=\"M17.41 7.96l-1.37-1.37c-.4-.4-.92-.59-1.43-.59-.52 0-1.04.2-1.43.59L10.3 9.45l-7.72 7.72c-.78.78-.78 2.05 0 2.83L4 21.41c.39.39.9.59 1.41.59.51 0 1.02-.2 1.41-.59l7.78-7.78 2.81-2.81c.8-.78.8-2.07 0-2.86zM5.41 20L4 18.59l7.72-7.72 1.47 1.35L5.41 20z\"/>\n",
              "  </svg>\n",
              "      </button>\n",
              "      \n",
              "  <style>\n",
              "    .colab-df-container {\n",
              "      display:flex;\n",
              "      flex-wrap:wrap;\n",
              "      gap: 12px;\n",
              "    }\n",
              "\n",
              "    .colab-df-convert {\n",
              "      background-color: #E8F0FE;\n",
              "      border: none;\n",
              "      border-radius: 50%;\n",
              "      cursor: pointer;\n",
              "      display: none;\n",
              "      fill: #1967D2;\n",
              "      height: 32px;\n",
              "      padding: 0 0 0 0;\n",
              "      width: 32px;\n",
              "    }\n",
              "\n",
              "    .colab-df-convert:hover {\n",
              "      background-color: #E2EBFA;\n",
              "      box-shadow: 0px 1px 2px rgba(60, 64, 67, 0.3), 0px 1px 3px 1px rgba(60, 64, 67, 0.15);\n",
              "      fill: #174EA6;\n",
              "    }\n",
              "\n",
              "    [theme=dark] .colab-df-convert {\n",
              "      background-color: #3B4455;\n",
              "      fill: #D2E3FC;\n",
              "    }\n",
              "\n",
              "    [theme=dark] .colab-df-convert:hover {\n",
              "      background-color: #434B5C;\n",
              "      box-shadow: 0px 1px 3px 1px rgba(0, 0, 0, 0.15);\n",
              "      filter: drop-shadow(0px 1px 2px rgba(0, 0, 0, 0.3));\n",
              "      fill: #FFFFFF;\n",
              "    }\n",
              "  </style>\n",
              "\n",
              "      <script>\n",
              "        const buttonEl =\n",
              "          document.querySelector('#df-882c8ee0-397b-455b-8f1d-cfe886d3109a button.colab-df-convert');\n",
              "        buttonEl.style.display =\n",
              "          google.colab.kernel.accessAllowed ? 'block' : 'none';\n",
              "\n",
              "        async function convertToInteractive(key) {\n",
              "          const element = document.querySelector('#df-882c8ee0-397b-455b-8f1d-cfe886d3109a');\n",
              "          const dataTable =\n",
              "            await google.colab.kernel.invokeFunction('convertToInteractive',\n",
              "                                                     [key], {});\n",
              "          if (!dataTable) return;\n",
              "\n",
              "          const docLinkHtml = 'Like what you see? Visit the ' +\n",
              "            '<a target=\"_blank\" href=https://colab.research.google.com/notebooks/data_table.ipynb>data table notebook</a>'\n",
              "            + ' to learn more about interactive tables.';\n",
              "          element.innerHTML = '';\n",
              "          dataTable['output_type'] = 'display_data';\n",
              "          await google.colab.output.renderOutput(dataTable, element);\n",
              "          const docLink = document.createElement('div');\n",
              "          docLink.innerHTML = docLinkHtml;\n",
              "          element.appendChild(docLink);\n",
              "        }\n",
              "      </script>\n",
              "    </div>\n",
              "  </div>\n",
              "  "
            ]
          },
          "metadata": {},
          "execution_count": 1055
        }
      ]
    },
    {
      "cell_type": "markdown",
      "source": [
        "Oluşturduğumuz bu yeni değişkeninde hedef değişken kırılımında anlamlı olup olmadığını inceleyelim."
      ],
      "metadata": {
        "id": "qxhms2v3oKkH"
      }
    },
    {
      "cell_type": "code",
      "source": [
        "df.groupby(\"NEW_IS_ALONE\").agg({\"SURVIVED\":\"mean\"})"
      ],
      "metadata": {
        "colab": {
          "base_uri": "https://localhost:8080/",
          "height": 143
        },
        "id": "ipDTDnXpoKV_",
        "outputId": "32eb5258-a39d-40e6-95b4-ad876c957db4"
      },
      "execution_count": 1056,
      "outputs": [
        {
          "output_type": "execute_result",
          "data": {
            "text/plain": [
              "              SURVIVED\n",
              "NEW_IS_ALONE          \n",
              "NO               0.506\n",
              "YES              0.304"
            ],
            "text/html": [
              "\n",
              "  <div id=\"df-f1c5ec3c-e320-4025-bca2-42d189dc9db2\">\n",
              "    <div class=\"colab-df-container\">\n",
              "      <div>\n",
              "<style scoped>\n",
              "    .dataframe tbody tr th:only-of-type {\n",
              "        vertical-align: middle;\n",
              "    }\n",
              "\n",
              "    .dataframe tbody tr th {\n",
              "        vertical-align: top;\n",
              "    }\n",
              "\n",
              "    .dataframe thead th {\n",
              "        text-align: right;\n",
              "    }\n",
              "</style>\n",
              "<table border=\"1\" class=\"dataframe\">\n",
              "  <thead>\n",
              "    <tr style=\"text-align: right;\">\n",
              "      <th></th>\n",
              "      <th>SURVIVED</th>\n",
              "    </tr>\n",
              "    <tr>\n",
              "      <th>NEW_IS_ALONE</th>\n",
              "      <th></th>\n",
              "    </tr>\n",
              "  </thead>\n",
              "  <tbody>\n",
              "    <tr>\n",
              "      <th>NO</th>\n",
              "      <td>0.506</td>\n",
              "    </tr>\n",
              "    <tr>\n",
              "      <th>YES</th>\n",
              "      <td>0.304</td>\n",
              "    </tr>\n",
              "  </tbody>\n",
              "</table>\n",
              "</div>\n",
              "      <button class=\"colab-df-convert\" onclick=\"convertToInteractive('df-f1c5ec3c-e320-4025-bca2-42d189dc9db2')\"\n",
              "              title=\"Convert this dataframe to an interactive table.\"\n",
              "              style=\"display:none;\">\n",
              "        \n",
              "  <svg xmlns=\"http://www.w3.org/2000/svg\" height=\"24px\"viewBox=\"0 0 24 24\"\n",
              "       width=\"24px\">\n",
              "    <path d=\"M0 0h24v24H0V0z\" fill=\"none\"/>\n",
              "    <path d=\"M18.56 5.44l.94 2.06.94-2.06 2.06-.94-2.06-.94-.94-2.06-.94 2.06-2.06.94zm-11 1L8.5 8.5l.94-2.06 2.06-.94-2.06-.94L8.5 2.5l-.94 2.06-2.06.94zm10 10l.94 2.06.94-2.06 2.06-.94-2.06-.94-.94-2.06-.94 2.06-2.06.94z\"/><path d=\"M17.41 7.96l-1.37-1.37c-.4-.4-.92-.59-1.43-.59-.52 0-1.04.2-1.43.59L10.3 9.45l-7.72 7.72c-.78.78-.78 2.05 0 2.83L4 21.41c.39.39.9.59 1.41.59.51 0 1.02-.2 1.41-.59l7.78-7.78 2.81-2.81c.8-.78.8-2.07 0-2.86zM5.41 20L4 18.59l7.72-7.72 1.47 1.35L5.41 20z\"/>\n",
              "  </svg>\n",
              "      </button>\n",
              "      \n",
              "  <style>\n",
              "    .colab-df-container {\n",
              "      display:flex;\n",
              "      flex-wrap:wrap;\n",
              "      gap: 12px;\n",
              "    }\n",
              "\n",
              "    .colab-df-convert {\n",
              "      background-color: #E8F0FE;\n",
              "      border: none;\n",
              "      border-radius: 50%;\n",
              "      cursor: pointer;\n",
              "      display: none;\n",
              "      fill: #1967D2;\n",
              "      height: 32px;\n",
              "      padding: 0 0 0 0;\n",
              "      width: 32px;\n",
              "    }\n",
              "\n",
              "    .colab-df-convert:hover {\n",
              "      background-color: #E2EBFA;\n",
              "      box-shadow: 0px 1px 2px rgba(60, 64, 67, 0.3), 0px 1px 3px 1px rgba(60, 64, 67, 0.15);\n",
              "      fill: #174EA6;\n",
              "    }\n",
              "\n",
              "    [theme=dark] .colab-df-convert {\n",
              "      background-color: #3B4455;\n",
              "      fill: #D2E3FC;\n",
              "    }\n",
              "\n",
              "    [theme=dark] .colab-df-convert:hover {\n",
              "      background-color: #434B5C;\n",
              "      box-shadow: 0px 1px 3px 1px rgba(0, 0, 0, 0.15);\n",
              "      filter: drop-shadow(0px 1px 2px rgba(0, 0, 0, 0.3));\n",
              "      fill: #FFFFFF;\n",
              "    }\n",
              "  </style>\n",
              "\n",
              "      <script>\n",
              "        const buttonEl =\n",
              "          document.querySelector('#df-f1c5ec3c-e320-4025-bca2-42d189dc9db2 button.colab-df-convert');\n",
              "        buttonEl.style.display =\n",
              "          google.colab.kernel.accessAllowed ? 'block' : 'none';\n",
              "\n",
              "        async function convertToInteractive(key) {\n",
              "          const element = document.querySelector('#df-f1c5ec3c-e320-4025-bca2-42d189dc9db2');\n",
              "          const dataTable =\n",
              "            await google.colab.kernel.invokeFunction('convertToInteractive',\n",
              "                                                     [key], {});\n",
              "          if (!dataTable) return;\n",
              "\n",
              "          const docLinkHtml = 'Like what you see? Visit the ' +\n",
              "            '<a target=\"_blank\" href=https://colab.research.google.com/notebooks/data_table.ipynb>data table notebook</a>'\n",
              "            + ' to learn more about interactive tables.';\n",
              "          element.innerHTML = '';\n",
              "          dataTable['output_type'] = 'display_data';\n",
              "          await google.colab.output.renderOutput(dataTable, element);\n",
              "          const docLink = document.createElement('div');\n",
              "          docLink.innerHTML = docLinkHtml;\n",
              "          element.appendChild(docLink);\n",
              "        }\n",
              "      </script>\n",
              "    </div>\n",
              "  </div>\n",
              "  "
            ]
          },
          "metadata": {},
          "execution_count": 1056
        }
      ]
    },
    {
      "cell_type": "markdown",
      "source": [
        "* Gemi de yalnız olmayan her iki kişiden biri hayatta kalmış.\n",
        "* Yalnız olanların ise sadece %30'u hayatta kalmış.\n",
        "* Oluşturduğumuz bu yeni değişken de önemli bir değişken haline geldi."
      ],
      "metadata": {
        "id": "eO3BtO0dom7L"
      }
    },
    {
      "cell_type": "markdown",
      "source": [
        "**3. NAME\tdeğişkenine odaklanalım.**"
      ],
      "metadata": {
        "id": "27BrMBBDp7fl"
      }
    },
    {
      "cell_type": "markdown",
      "source": [
        "Name değişkenindeki string ifadeleri saydıralım."
      ],
      "metadata": {
        "id": "okke-pqoqa-q"
      }
    },
    {
      "cell_type": "code",
      "source": [
        "df[\"NEW_NAME_COUNT\"] = df[\"NAME\"].str.len()"
      ],
      "metadata": {
        "id": "Gph4Qil-qQ-j"
      },
      "execution_count": 1057,
      "outputs": []
    },
    {
      "cell_type": "code",
      "source": [
        "df.head()"
      ],
      "metadata": {
        "colab": {
          "base_uri": "https://localhost:8080/",
          "height": 302
        },
        "id": "V5dp6OrWrH03",
        "outputId": "b66c2970-df76-41a0-837c-30bd0f33bbdb"
      },
      "execution_count": 1058,
      "outputs": [
        {
          "output_type": "execute_result",
          "data": {
            "text/plain": [
              "   SURVIVED  PCLASS                                               NAME     SEX    AGE  SIBSP  PARCH            TICKET   FARE CABIN EMBARKED  NEW_CABIN_FLAG NEW_IS_ALONE  NEW_NAME_COUNT\n",
              "0         0       3                            Braund, Mr. Owen Harris    male 22.000      1      0         A/5 21171  7.250   NaN        S               0           NO              23\n",
              "1         1       1  Cumings, Mrs. John Bradley (Florence Briggs Th...  female 38.000      1      0          PC 17599 71.283   C85        C               1           NO              51\n",
              "2         1       3                             Heikkinen, Miss. Laina  female 26.000      0      0  STON/O2. 3101282  7.925   NaN        S               0          YES              22\n",
              "3         1       1       Futrelle, Mrs. Jacques Heath (Lily May Peel)  female 35.000      1      0            113803 53.100  C123        S               1           NO              44\n",
              "4         0       3                           Allen, Mr. William Henry    male 35.000      0      0            373450  8.050   NaN        S               0          YES              24"
            ],
            "text/html": [
              "\n",
              "  <div id=\"df-3b587723-f314-410f-9a1e-e65c0777f59a\">\n",
              "    <div class=\"colab-df-container\">\n",
              "      <div>\n",
              "<style scoped>\n",
              "    .dataframe tbody tr th:only-of-type {\n",
              "        vertical-align: middle;\n",
              "    }\n",
              "\n",
              "    .dataframe tbody tr th {\n",
              "        vertical-align: top;\n",
              "    }\n",
              "\n",
              "    .dataframe thead th {\n",
              "        text-align: right;\n",
              "    }\n",
              "</style>\n",
              "<table border=\"1\" class=\"dataframe\">\n",
              "  <thead>\n",
              "    <tr style=\"text-align: right;\">\n",
              "      <th></th>\n",
              "      <th>SURVIVED</th>\n",
              "      <th>PCLASS</th>\n",
              "      <th>NAME</th>\n",
              "      <th>SEX</th>\n",
              "      <th>AGE</th>\n",
              "      <th>SIBSP</th>\n",
              "      <th>PARCH</th>\n",
              "      <th>TICKET</th>\n",
              "      <th>FARE</th>\n",
              "      <th>CABIN</th>\n",
              "      <th>EMBARKED</th>\n",
              "      <th>NEW_CABIN_FLAG</th>\n",
              "      <th>NEW_IS_ALONE</th>\n",
              "      <th>NEW_NAME_COUNT</th>\n",
              "    </tr>\n",
              "  </thead>\n",
              "  <tbody>\n",
              "    <tr>\n",
              "      <th>0</th>\n",
              "      <td>0</td>\n",
              "      <td>3</td>\n",
              "      <td>Braund, Mr. Owen Harris</td>\n",
              "      <td>male</td>\n",
              "      <td>22.000</td>\n",
              "      <td>1</td>\n",
              "      <td>0</td>\n",
              "      <td>A/5 21171</td>\n",
              "      <td>7.250</td>\n",
              "      <td>NaN</td>\n",
              "      <td>S</td>\n",
              "      <td>0</td>\n",
              "      <td>NO</td>\n",
              "      <td>23</td>\n",
              "    </tr>\n",
              "    <tr>\n",
              "      <th>1</th>\n",
              "      <td>1</td>\n",
              "      <td>1</td>\n",
              "      <td>Cumings, Mrs. John Bradley (Florence Briggs Th...</td>\n",
              "      <td>female</td>\n",
              "      <td>38.000</td>\n",
              "      <td>1</td>\n",
              "      <td>0</td>\n",
              "      <td>PC 17599</td>\n",
              "      <td>71.283</td>\n",
              "      <td>C85</td>\n",
              "      <td>C</td>\n",
              "      <td>1</td>\n",
              "      <td>NO</td>\n",
              "      <td>51</td>\n",
              "    </tr>\n",
              "    <tr>\n",
              "      <th>2</th>\n",
              "      <td>1</td>\n",
              "      <td>3</td>\n",
              "      <td>Heikkinen, Miss. Laina</td>\n",
              "      <td>female</td>\n",
              "      <td>26.000</td>\n",
              "      <td>0</td>\n",
              "      <td>0</td>\n",
              "      <td>STON/O2. 3101282</td>\n",
              "      <td>7.925</td>\n",
              "      <td>NaN</td>\n",
              "      <td>S</td>\n",
              "      <td>0</td>\n",
              "      <td>YES</td>\n",
              "      <td>22</td>\n",
              "    </tr>\n",
              "    <tr>\n",
              "      <th>3</th>\n",
              "      <td>1</td>\n",
              "      <td>1</td>\n",
              "      <td>Futrelle, Mrs. Jacques Heath (Lily May Peel)</td>\n",
              "      <td>female</td>\n",
              "      <td>35.000</td>\n",
              "      <td>1</td>\n",
              "      <td>0</td>\n",
              "      <td>113803</td>\n",
              "      <td>53.100</td>\n",
              "      <td>C123</td>\n",
              "      <td>S</td>\n",
              "      <td>1</td>\n",
              "      <td>NO</td>\n",
              "      <td>44</td>\n",
              "    </tr>\n",
              "    <tr>\n",
              "      <th>4</th>\n",
              "      <td>0</td>\n",
              "      <td>3</td>\n",
              "      <td>Allen, Mr. William Henry</td>\n",
              "      <td>male</td>\n",
              "      <td>35.000</td>\n",
              "      <td>0</td>\n",
              "      <td>0</td>\n",
              "      <td>373450</td>\n",
              "      <td>8.050</td>\n",
              "      <td>NaN</td>\n",
              "      <td>S</td>\n",
              "      <td>0</td>\n",
              "      <td>YES</td>\n",
              "      <td>24</td>\n",
              "    </tr>\n",
              "  </tbody>\n",
              "</table>\n",
              "</div>\n",
              "      <button class=\"colab-df-convert\" onclick=\"convertToInteractive('df-3b587723-f314-410f-9a1e-e65c0777f59a')\"\n",
              "              title=\"Convert this dataframe to an interactive table.\"\n",
              "              style=\"display:none;\">\n",
              "        \n",
              "  <svg xmlns=\"http://www.w3.org/2000/svg\" height=\"24px\"viewBox=\"0 0 24 24\"\n",
              "       width=\"24px\">\n",
              "    <path d=\"M0 0h24v24H0V0z\" fill=\"none\"/>\n",
              "    <path d=\"M18.56 5.44l.94 2.06.94-2.06 2.06-.94-2.06-.94-.94-2.06-.94 2.06-2.06.94zm-11 1L8.5 8.5l.94-2.06 2.06-.94-2.06-.94L8.5 2.5l-.94 2.06-2.06.94zm10 10l.94 2.06.94-2.06 2.06-.94-2.06-.94-.94-2.06-.94 2.06-2.06.94z\"/><path d=\"M17.41 7.96l-1.37-1.37c-.4-.4-.92-.59-1.43-.59-.52 0-1.04.2-1.43.59L10.3 9.45l-7.72 7.72c-.78.78-.78 2.05 0 2.83L4 21.41c.39.39.9.59 1.41.59.51 0 1.02-.2 1.41-.59l7.78-7.78 2.81-2.81c.8-.78.8-2.07 0-2.86zM5.41 20L4 18.59l7.72-7.72 1.47 1.35L5.41 20z\"/>\n",
              "  </svg>\n",
              "      </button>\n",
              "      \n",
              "  <style>\n",
              "    .colab-df-container {\n",
              "      display:flex;\n",
              "      flex-wrap:wrap;\n",
              "      gap: 12px;\n",
              "    }\n",
              "\n",
              "    .colab-df-convert {\n",
              "      background-color: #E8F0FE;\n",
              "      border: none;\n",
              "      border-radius: 50%;\n",
              "      cursor: pointer;\n",
              "      display: none;\n",
              "      fill: #1967D2;\n",
              "      height: 32px;\n",
              "      padding: 0 0 0 0;\n",
              "      width: 32px;\n",
              "    }\n",
              "\n",
              "    .colab-df-convert:hover {\n",
              "      background-color: #E2EBFA;\n",
              "      box-shadow: 0px 1px 2px rgba(60, 64, 67, 0.3), 0px 1px 3px 1px rgba(60, 64, 67, 0.15);\n",
              "      fill: #174EA6;\n",
              "    }\n",
              "\n",
              "    [theme=dark] .colab-df-convert {\n",
              "      background-color: #3B4455;\n",
              "      fill: #D2E3FC;\n",
              "    }\n",
              "\n",
              "    [theme=dark] .colab-df-convert:hover {\n",
              "      background-color: #434B5C;\n",
              "      box-shadow: 0px 1px 3px 1px rgba(0, 0, 0, 0.15);\n",
              "      filter: drop-shadow(0px 1px 2px rgba(0, 0, 0, 0.3));\n",
              "      fill: #FFFFFF;\n",
              "    }\n",
              "  </style>\n",
              "\n",
              "      <script>\n",
              "        const buttonEl =\n",
              "          document.querySelector('#df-3b587723-f314-410f-9a1e-e65c0777f59a button.colab-df-convert');\n",
              "        buttonEl.style.display =\n",
              "          google.colab.kernel.accessAllowed ? 'block' : 'none';\n",
              "\n",
              "        async function convertToInteractive(key) {\n",
              "          const element = document.querySelector('#df-3b587723-f314-410f-9a1e-e65c0777f59a');\n",
              "          const dataTable =\n",
              "            await google.colab.kernel.invokeFunction('convertToInteractive',\n",
              "                                                     [key], {});\n",
              "          if (!dataTable) return;\n",
              "\n",
              "          const docLinkHtml = 'Like what you see? Visit the ' +\n",
              "            '<a target=\"_blank\" href=https://colab.research.google.com/notebooks/data_table.ipynb>data table notebook</a>'\n",
              "            + ' to learn more about interactive tables.';\n",
              "          element.innerHTML = '';\n",
              "          dataTable['output_type'] = 'display_data';\n",
              "          await google.colab.output.renderOutput(dataTable, element);\n",
              "          const docLink = document.createElement('div');\n",
              "          docLink.innerHTML = docLinkHtml;\n",
              "          element.appendChild(docLink);\n",
              "        }\n",
              "      </script>\n",
              "    </div>\n",
              "  </div>\n",
              "  "
            ]
          },
          "metadata": {},
          "execution_count": 1058
        }
      ]
    },
    {
      "cell_type": "markdown",
      "source": [
        "Name değişkenindeki isimleri saydıralım."
      ],
      "metadata": {
        "id": "kLg4JS0FqoRS"
      }
    },
    {
      "cell_type": "code",
      "source": [
        "df[\"NEW_NAME_WORD_COUNT\"] = df[\"NAME\"].apply(lambda x: len(str(x).split(\" \")))"
      ],
      "metadata": {
        "id": "wJM7SyxBqrO0"
      },
      "execution_count": 1059,
      "outputs": []
    },
    {
      "cell_type": "code",
      "source": [
        "df.head()"
      ],
      "metadata": {
        "colab": {
          "base_uri": "https://localhost:8080/",
          "height": 476
        },
        "id": "mz60BiqhrYWh",
        "outputId": "872f616e-fffe-4891-ba99-7b26a7b38f2e"
      },
      "execution_count": 1060,
      "outputs": [
        {
          "output_type": "execute_result",
          "data": {
            "text/plain": [
              "   SURVIVED  PCLASS                                               NAME     SEX    AGE  SIBSP  PARCH            TICKET   FARE CABIN EMBARKED  NEW_CABIN_FLAG NEW_IS_ALONE  NEW_NAME_COUNT  NEW_NAME_WORD_COUNT\n",
              "0         0       3                            Braund, Mr. Owen Harris    male 22.000      1      0         A/5 21171  7.250   NaN        S               0           NO              23                    4\n",
              "1         1       1  Cumings, Mrs. John Bradley (Florence Briggs Th...  female 38.000      1      0          PC 17599 71.283   C85        C               1           NO              51                    7\n",
              "2         1       3                             Heikkinen, Miss. Laina  female 26.000      0      0  STON/O2. 3101282  7.925   NaN        S               0          YES              22                    3\n",
              "3         1       1       Futrelle, Mrs. Jacques Heath (Lily May Peel)  female 35.000      1      0            113803 53.100  C123        S               1           NO              44                    7\n",
              "4         0       3                           Allen, Mr. William Henry    male 35.000      0      0            373450  8.050   NaN        S               0          YES              24                    4"
            ],
            "text/html": [
              "\n",
              "  <div id=\"df-811d27b9-7082-492a-8563-5b58b87d5f15\">\n",
              "    <div class=\"colab-df-container\">\n",
              "      <div>\n",
              "<style scoped>\n",
              "    .dataframe tbody tr th:only-of-type {\n",
              "        vertical-align: middle;\n",
              "    }\n",
              "\n",
              "    .dataframe tbody tr th {\n",
              "        vertical-align: top;\n",
              "    }\n",
              "\n",
              "    .dataframe thead th {\n",
              "        text-align: right;\n",
              "    }\n",
              "</style>\n",
              "<table border=\"1\" class=\"dataframe\">\n",
              "  <thead>\n",
              "    <tr style=\"text-align: right;\">\n",
              "      <th></th>\n",
              "      <th>SURVIVED</th>\n",
              "      <th>PCLASS</th>\n",
              "      <th>NAME</th>\n",
              "      <th>SEX</th>\n",
              "      <th>AGE</th>\n",
              "      <th>SIBSP</th>\n",
              "      <th>PARCH</th>\n",
              "      <th>TICKET</th>\n",
              "      <th>FARE</th>\n",
              "      <th>CABIN</th>\n",
              "      <th>EMBARKED</th>\n",
              "      <th>NEW_CABIN_FLAG</th>\n",
              "      <th>NEW_IS_ALONE</th>\n",
              "      <th>NEW_NAME_COUNT</th>\n",
              "      <th>NEW_NAME_WORD_COUNT</th>\n",
              "    </tr>\n",
              "  </thead>\n",
              "  <tbody>\n",
              "    <tr>\n",
              "      <th>0</th>\n",
              "      <td>0</td>\n",
              "      <td>3</td>\n",
              "      <td>Braund, Mr. Owen Harris</td>\n",
              "      <td>male</td>\n",
              "      <td>22.000</td>\n",
              "      <td>1</td>\n",
              "      <td>0</td>\n",
              "      <td>A/5 21171</td>\n",
              "      <td>7.250</td>\n",
              "      <td>NaN</td>\n",
              "      <td>S</td>\n",
              "      <td>0</td>\n",
              "      <td>NO</td>\n",
              "      <td>23</td>\n",
              "      <td>4</td>\n",
              "    </tr>\n",
              "    <tr>\n",
              "      <th>1</th>\n",
              "      <td>1</td>\n",
              "      <td>1</td>\n",
              "      <td>Cumings, Mrs. John Bradley (Florence Briggs Th...</td>\n",
              "      <td>female</td>\n",
              "      <td>38.000</td>\n",
              "      <td>1</td>\n",
              "      <td>0</td>\n",
              "      <td>PC 17599</td>\n",
              "      <td>71.283</td>\n",
              "      <td>C85</td>\n",
              "      <td>C</td>\n",
              "      <td>1</td>\n",
              "      <td>NO</td>\n",
              "      <td>51</td>\n",
              "      <td>7</td>\n",
              "    </tr>\n",
              "    <tr>\n",
              "      <th>2</th>\n",
              "      <td>1</td>\n",
              "      <td>3</td>\n",
              "      <td>Heikkinen, Miss. Laina</td>\n",
              "      <td>female</td>\n",
              "      <td>26.000</td>\n",
              "      <td>0</td>\n",
              "      <td>0</td>\n",
              "      <td>STON/O2. 3101282</td>\n",
              "      <td>7.925</td>\n",
              "      <td>NaN</td>\n",
              "      <td>S</td>\n",
              "      <td>0</td>\n",
              "      <td>YES</td>\n",
              "      <td>22</td>\n",
              "      <td>3</td>\n",
              "    </tr>\n",
              "    <tr>\n",
              "      <th>3</th>\n",
              "      <td>1</td>\n",
              "      <td>1</td>\n",
              "      <td>Futrelle, Mrs. Jacques Heath (Lily May Peel)</td>\n",
              "      <td>female</td>\n",
              "      <td>35.000</td>\n",
              "      <td>1</td>\n",
              "      <td>0</td>\n",
              "      <td>113803</td>\n",
              "      <td>53.100</td>\n",
              "      <td>C123</td>\n",
              "      <td>S</td>\n",
              "      <td>1</td>\n",
              "      <td>NO</td>\n",
              "      <td>44</td>\n",
              "      <td>7</td>\n",
              "    </tr>\n",
              "    <tr>\n",
              "      <th>4</th>\n",
              "      <td>0</td>\n",
              "      <td>3</td>\n",
              "      <td>Allen, Mr. William Henry</td>\n",
              "      <td>male</td>\n",
              "      <td>35.000</td>\n",
              "      <td>0</td>\n",
              "      <td>0</td>\n",
              "      <td>373450</td>\n",
              "      <td>8.050</td>\n",
              "      <td>NaN</td>\n",
              "      <td>S</td>\n",
              "      <td>0</td>\n",
              "      <td>YES</td>\n",
              "      <td>24</td>\n",
              "      <td>4</td>\n",
              "    </tr>\n",
              "  </tbody>\n",
              "</table>\n",
              "</div>\n",
              "      <button class=\"colab-df-convert\" onclick=\"convertToInteractive('df-811d27b9-7082-492a-8563-5b58b87d5f15')\"\n",
              "              title=\"Convert this dataframe to an interactive table.\"\n",
              "              style=\"display:none;\">\n",
              "        \n",
              "  <svg xmlns=\"http://www.w3.org/2000/svg\" height=\"24px\"viewBox=\"0 0 24 24\"\n",
              "       width=\"24px\">\n",
              "    <path d=\"M0 0h24v24H0V0z\" fill=\"none\"/>\n",
              "    <path d=\"M18.56 5.44l.94 2.06.94-2.06 2.06-.94-2.06-.94-.94-2.06-.94 2.06-2.06.94zm-11 1L8.5 8.5l.94-2.06 2.06-.94-2.06-.94L8.5 2.5l-.94 2.06-2.06.94zm10 10l.94 2.06.94-2.06 2.06-.94-2.06-.94-.94-2.06-.94 2.06-2.06.94z\"/><path d=\"M17.41 7.96l-1.37-1.37c-.4-.4-.92-.59-1.43-.59-.52 0-1.04.2-1.43.59L10.3 9.45l-7.72 7.72c-.78.78-.78 2.05 0 2.83L4 21.41c.39.39.9.59 1.41.59.51 0 1.02-.2 1.41-.59l7.78-7.78 2.81-2.81c.8-.78.8-2.07 0-2.86zM5.41 20L4 18.59l7.72-7.72 1.47 1.35L5.41 20z\"/>\n",
              "  </svg>\n",
              "      </button>\n",
              "      \n",
              "  <style>\n",
              "    .colab-df-container {\n",
              "      display:flex;\n",
              "      flex-wrap:wrap;\n",
              "      gap: 12px;\n",
              "    }\n",
              "\n",
              "    .colab-df-convert {\n",
              "      background-color: #E8F0FE;\n",
              "      border: none;\n",
              "      border-radius: 50%;\n",
              "      cursor: pointer;\n",
              "      display: none;\n",
              "      fill: #1967D2;\n",
              "      height: 32px;\n",
              "      padding: 0 0 0 0;\n",
              "      width: 32px;\n",
              "    }\n",
              "\n",
              "    .colab-df-convert:hover {\n",
              "      background-color: #E2EBFA;\n",
              "      box-shadow: 0px 1px 2px rgba(60, 64, 67, 0.3), 0px 1px 3px 1px rgba(60, 64, 67, 0.15);\n",
              "      fill: #174EA6;\n",
              "    }\n",
              "\n",
              "    [theme=dark] .colab-df-convert {\n",
              "      background-color: #3B4455;\n",
              "      fill: #D2E3FC;\n",
              "    }\n",
              "\n",
              "    [theme=dark] .colab-df-convert:hover {\n",
              "      background-color: #434B5C;\n",
              "      box-shadow: 0px 1px 3px 1px rgba(0, 0, 0, 0.15);\n",
              "      filter: drop-shadow(0px 1px 2px rgba(0, 0, 0, 0.3));\n",
              "      fill: #FFFFFF;\n",
              "    }\n",
              "  </style>\n",
              "\n",
              "      <script>\n",
              "        const buttonEl =\n",
              "          document.querySelector('#df-811d27b9-7082-492a-8563-5b58b87d5f15 button.colab-df-convert');\n",
              "        buttonEl.style.display =\n",
              "          google.colab.kernel.accessAllowed ? 'block' : 'none';\n",
              "\n",
              "        async function convertToInteractive(key) {\n",
              "          const element = document.querySelector('#df-811d27b9-7082-492a-8563-5b58b87d5f15');\n",
              "          const dataTable =\n",
              "            await google.colab.kernel.invokeFunction('convertToInteractive',\n",
              "                                                     [key], {});\n",
              "          if (!dataTable) return;\n",
              "\n",
              "          const docLinkHtml = 'Like what you see? Visit the ' +\n",
              "            '<a target=\"_blank\" href=https://colab.research.google.com/notebooks/data_table.ipynb>data table notebook</a>'\n",
              "            + ' to learn more about interactive tables.';\n",
              "          element.innerHTML = '';\n",
              "          dataTable['output_type'] = 'display_data';\n",
              "          await google.colab.output.renderOutput(dataTable, element);\n",
              "          const docLink = document.createElement('div');\n",
              "          docLink.innerHTML = docLinkHtml;\n",
              "          element.appendChild(docLink);\n",
              "        }\n",
              "      </script>\n",
              "    </div>\n",
              "  </div>\n",
              "  "
            ]
          },
          "metadata": {},
          "execution_count": 1060
        }
      ]
    },
    {
      "cell_type": "markdown",
      "source": [
        "* İsim değişkenine odaklandığımız da gemide doktorlar da var.\n",
        "* Acaba bir kişinin doktor olması hayatta kalma durumunu etkilemiş midir?\n",
        "* Bunu incelemek için bu bilgiyi de değişkene dönüştürelim."
      ],
      "metadata": {
        "id": "qKgC7_y3rfT3"
      }
    },
    {
      "cell_type": "code",
      "source": [
        "df[\"NEW_NAME_DR\"] = df[\"NAME\"].apply(lambda x: len([x for x in x.split() if x.startswith(\"Dr\")]))"
      ],
      "metadata": {
        "id": "nh_VdpQ1r0bd"
      },
      "execution_count": 1061,
      "outputs": []
    },
    {
      "cell_type": "code",
      "source": [
        "df.head()"
      ],
      "metadata": {
        "colab": {
          "base_uri": "https://localhost:8080/",
          "height": 548
        },
        "id": "evtmf-GCr4ex",
        "outputId": "7a640219-7f18-4666-d20c-5012b1c08108"
      },
      "execution_count": 1062,
      "outputs": [
        {
          "output_type": "execute_result",
          "data": {
            "text/plain": [
              "   SURVIVED  PCLASS                                               NAME     SEX    AGE  SIBSP  PARCH            TICKET   FARE CABIN EMBARKED  NEW_CABIN_FLAG NEW_IS_ALONE  NEW_NAME_COUNT  NEW_NAME_WORD_COUNT  NEW_NAME_DR\n",
              "0         0       3                            Braund, Mr. Owen Harris    male 22.000      1      0         A/5 21171  7.250   NaN        S               0           NO              23                    4            0\n",
              "1         1       1  Cumings, Mrs. John Bradley (Florence Briggs Th...  female 38.000      1      0          PC 17599 71.283   C85        C               1           NO              51                    7            0\n",
              "2         1       3                             Heikkinen, Miss. Laina  female 26.000      0      0  STON/O2. 3101282  7.925   NaN        S               0          YES              22                    3            0\n",
              "3         1       1       Futrelle, Mrs. Jacques Heath (Lily May Peel)  female 35.000      1      0            113803 53.100  C123        S               1           NO              44                    7            0\n",
              "4         0       3                           Allen, Mr. William Henry    male 35.000      0      0            373450  8.050   NaN        S               0          YES              24                    4            0"
            ],
            "text/html": [
              "\n",
              "  <div id=\"df-47afb08e-d54d-4090-b21b-4d511608dfb9\">\n",
              "    <div class=\"colab-df-container\">\n",
              "      <div>\n",
              "<style scoped>\n",
              "    .dataframe tbody tr th:only-of-type {\n",
              "        vertical-align: middle;\n",
              "    }\n",
              "\n",
              "    .dataframe tbody tr th {\n",
              "        vertical-align: top;\n",
              "    }\n",
              "\n",
              "    .dataframe thead th {\n",
              "        text-align: right;\n",
              "    }\n",
              "</style>\n",
              "<table border=\"1\" class=\"dataframe\">\n",
              "  <thead>\n",
              "    <tr style=\"text-align: right;\">\n",
              "      <th></th>\n",
              "      <th>SURVIVED</th>\n",
              "      <th>PCLASS</th>\n",
              "      <th>NAME</th>\n",
              "      <th>SEX</th>\n",
              "      <th>AGE</th>\n",
              "      <th>SIBSP</th>\n",
              "      <th>PARCH</th>\n",
              "      <th>TICKET</th>\n",
              "      <th>FARE</th>\n",
              "      <th>CABIN</th>\n",
              "      <th>EMBARKED</th>\n",
              "      <th>NEW_CABIN_FLAG</th>\n",
              "      <th>NEW_IS_ALONE</th>\n",
              "      <th>NEW_NAME_COUNT</th>\n",
              "      <th>NEW_NAME_WORD_COUNT</th>\n",
              "      <th>NEW_NAME_DR</th>\n",
              "    </tr>\n",
              "  </thead>\n",
              "  <tbody>\n",
              "    <tr>\n",
              "      <th>0</th>\n",
              "      <td>0</td>\n",
              "      <td>3</td>\n",
              "      <td>Braund, Mr. Owen Harris</td>\n",
              "      <td>male</td>\n",
              "      <td>22.000</td>\n",
              "      <td>1</td>\n",
              "      <td>0</td>\n",
              "      <td>A/5 21171</td>\n",
              "      <td>7.250</td>\n",
              "      <td>NaN</td>\n",
              "      <td>S</td>\n",
              "      <td>0</td>\n",
              "      <td>NO</td>\n",
              "      <td>23</td>\n",
              "      <td>4</td>\n",
              "      <td>0</td>\n",
              "    </tr>\n",
              "    <tr>\n",
              "      <th>1</th>\n",
              "      <td>1</td>\n",
              "      <td>1</td>\n",
              "      <td>Cumings, Mrs. John Bradley (Florence Briggs Th...</td>\n",
              "      <td>female</td>\n",
              "      <td>38.000</td>\n",
              "      <td>1</td>\n",
              "      <td>0</td>\n",
              "      <td>PC 17599</td>\n",
              "      <td>71.283</td>\n",
              "      <td>C85</td>\n",
              "      <td>C</td>\n",
              "      <td>1</td>\n",
              "      <td>NO</td>\n",
              "      <td>51</td>\n",
              "      <td>7</td>\n",
              "      <td>0</td>\n",
              "    </tr>\n",
              "    <tr>\n",
              "      <th>2</th>\n",
              "      <td>1</td>\n",
              "      <td>3</td>\n",
              "      <td>Heikkinen, Miss. Laina</td>\n",
              "      <td>female</td>\n",
              "      <td>26.000</td>\n",
              "      <td>0</td>\n",
              "      <td>0</td>\n",
              "      <td>STON/O2. 3101282</td>\n",
              "      <td>7.925</td>\n",
              "      <td>NaN</td>\n",
              "      <td>S</td>\n",
              "      <td>0</td>\n",
              "      <td>YES</td>\n",
              "      <td>22</td>\n",
              "      <td>3</td>\n",
              "      <td>0</td>\n",
              "    </tr>\n",
              "    <tr>\n",
              "      <th>3</th>\n",
              "      <td>1</td>\n",
              "      <td>1</td>\n",
              "      <td>Futrelle, Mrs. Jacques Heath (Lily May Peel)</td>\n",
              "      <td>female</td>\n",
              "      <td>35.000</td>\n",
              "      <td>1</td>\n",
              "      <td>0</td>\n",
              "      <td>113803</td>\n",
              "      <td>53.100</td>\n",
              "      <td>C123</td>\n",
              "      <td>S</td>\n",
              "      <td>1</td>\n",
              "      <td>NO</td>\n",
              "      <td>44</td>\n",
              "      <td>7</td>\n",
              "      <td>0</td>\n",
              "    </tr>\n",
              "    <tr>\n",
              "      <th>4</th>\n",
              "      <td>0</td>\n",
              "      <td>3</td>\n",
              "      <td>Allen, Mr. William Henry</td>\n",
              "      <td>male</td>\n",
              "      <td>35.000</td>\n",
              "      <td>0</td>\n",
              "      <td>0</td>\n",
              "      <td>373450</td>\n",
              "      <td>8.050</td>\n",
              "      <td>NaN</td>\n",
              "      <td>S</td>\n",
              "      <td>0</td>\n",
              "      <td>YES</td>\n",
              "      <td>24</td>\n",
              "      <td>4</td>\n",
              "      <td>0</td>\n",
              "    </tr>\n",
              "  </tbody>\n",
              "</table>\n",
              "</div>\n",
              "      <button class=\"colab-df-convert\" onclick=\"convertToInteractive('df-47afb08e-d54d-4090-b21b-4d511608dfb9')\"\n",
              "              title=\"Convert this dataframe to an interactive table.\"\n",
              "              style=\"display:none;\">\n",
              "        \n",
              "  <svg xmlns=\"http://www.w3.org/2000/svg\" height=\"24px\"viewBox=\"0 0 24 24\"\n",
              "       width=\"24px\">\n",
              "    <path d=\"M0 0h24v24H0V0z\" fill=\"none\"/>\n",
              "    <path d=\"M18.56 5.44l.94 2.06.94-2.06 2.06-.94-2.06-.94-.94-2.06-.94 2.06-2.06.94zm-11 1L8.5 8.5l.94-2.06 2.06-.94-2.06-.94L8.5 2.5l-.94 2.06-2.06.94zm10 10l.94 2.06.94-2.06 2.06-.94-2.06-.94-.94-2.06-.94 2.06-2.06.94z\"/><path d=\"M17.41 7.96l-1.37-1.37c-.4-.4-.92-.59-1.43-.59-.52 0-1.04.2-1.43.59L10.3 9.45l-7.72 7.72c-.78.78-.78 2.05 0 2.83L4 21.41c.39.39.9.59 1.41.59.51 0 1.02-.2 1.41-.59l7.78-7.78 2.81-2.81c.8-.78.8-2.07 0-2.86zM5.41 20L4 18.59l7.72-7.72 1.47 1.35L5.41 20z\"/>\n",
              "  </svg>\n",
              "      </button>\n",
              "      \n",
              "  <style>\n",
              "    .colab-df-container {\n",
              "      display:flex;\n",
              "      flex-wrap:wrap;\n",
              "      gap: 12px;\n",
              "    }\n",
              "\n",
              "    .colab-df-convert {\n",
              "      background-color: #E8F0FE;\n",
              "      border: none;\n",
              "      border-radius: 50%;\n",
              "      cursor: pointer;\n",
              "      display: none;\n",
              "      fill: #1967D2;\n",
              "      height: 32px;\n",
              "      padding: 0 0 0 0;\n",
              "      width: 32px;\n",
              "    }\n",
              "\n",
              "    .colab-df-convert:hover {\n",
              "      background-color: #E2EBFA;\n",
              "      box-shadow: 0px 1px 2px rgba(60, 64, 67, 0.3), 0px 1px 3px 1px rgba(60, 64, 67, 0.15);\n",
              "      fill: #174EA6;\n",
              "    }\n",
              "\n",
              "    [theme=dark] .colab-df-convert {\n",
              "      background-color: #3B4455;\n",
              "      fill: #D2E3FC;\n",
              "    }\n",
              "\n",
              "    [theme=dark] .colab-df-convert:hover {\n",
              "      background-color: #434B5C;\n",
              "      box-shadow: 0px 1px 3px 1px rgba(0, 0, 0, 0.15);\n",
              "      filter: drop-shadow(0px 1px 2px rgba(0, 0, 0, 0.3));\n",
              "      fill: #FFFFFF;\n",
              "    }\n",
              "  </style>\n",
              "\n",
              "      <script>\n",
              "        const buttonEl =\n",
              "          document.querySelector('#df-47afb08e-d54d-4090-b21b-4d511608dfb9 button.colab-df-convert');\n",
              "        buttonEl.style.display =\n",
              "          google.colab.kernel.accessAllowed ? 'block' : 'none';\n",
              "\n",
              "        async function convertToInteractive(key) {\n",
              "          const element = document.querySelector('#df-47afb08e-d54d-4090-b21b-4d511608dfb9');\n",
              "          const dataTable =\n",
              "            await google.colab.kernel.invokeFunction('convertToInteractive',\n",
              "                                                     [key], {});\n",
              "          if (!dataTable) return;\n",
              "\n",
              "          const docLinkHtml = 'Like what you see? Visit the ' +\n",
              "            '<a target=\"_blank\" href=https://colab.research.google.com/notebooks/data_table.ipynb>data table notebook</a>'\n",
              "            + ' to learn more about interactive tables.';\n",
              "          element.innerHTML = '';\n",
              "          dataTable['output_type'] = 'display_data';\n",
              "          await google.colab.output.renderOutput(dataTable, element);\n",
              "          const docLink = document.createElement('div');\n",
              "          docLink.innerHTML = docLinkHtml;\n",
              "          element.appendChild(docLink);\n",
              "        }\n",
              "      </script>\n",
              "    </div>\n",
              "  </div>\n",
              "  "
            ]
          },
          "metadata": {},
          "execution_count": 1062
        }
      ]
    },
    {
      "cell_type": "markdown",
      "source": [
        "* Bu şekilde göremedik.\n",
        "* Dr başlığına sahip olanlar filtreleyim."
      ],
      "metadata": {
        "id": "BgxbcSiWr9t4"
      }
    },
    {
      "cell_type": "code",
      "source": [
        "df[df[\"NEW_NAME_DR\"] == 1]"
      ],
      "metadata": {
        "colab": {
          "base_uri": "https://localhost:8080/",
          "height": 809
        },
        "id": "jzwRPyJUsFPK",
        "outputId": "a9ddf80f-9830-41c8-d613-0c4f1d08bdc1"
      },
      "execution_count": 1063,
      "outputs": [
        {
          "output_type": "execute_result",
          "data": {
            "text/plain": [
              "     SURVIVED  PCLASS                                             NAME     SEX    AGE  SIBSP  PARCH    TICKET    FARE        CABIN EMBARKED  NEW_CABIN_FLAG NEW_IS_ALONE  NEW_NAME_COUNT  NEW_NAME_WORD_COUNT  NEW_NAME_DR\n",
              "130         0       3                             Drazenoic, Mr. Jozef    male 33.000      0      0    349241   7.896          NaN        C               0          YES              20                    3            1\n",
              "245         0       1                      Minahan, Dr. William Edward    male 44.000      2      0     19928  90.000          C78        Q               1           NO              27                    4            1\n",
              "317         0       2                             Moraweck, Dr. Ernest    male 54.000      0      0     29011  14.000          NaN        S               0          YES              20                    3            1\n",
              "398         0       2                                 Pain, Dr. Alfred    male 23.000      0      0    244278  10.500          NaN        S               0          YES              16                    3            1\n",
              "416         1       2  Drew, Mrs. James Vivian (Lulu Thorne Christian)  female 34.000      1      1     28220  32.500          NaN        S               0           NO              47                    7            1\n",
              "632         1       1                        Stahelin-Maeglin, Dr. Max    male 32.000      0      0     13214  30.500          B50        C               1          YES              25                    3            1\n",
              "660         1       1                    Frauenthal, Dr. Henry William    male 50.000      2      0  PC 17611 133.650          NaN        S               0           NO              29                    4            1\n",
              "679         1       1               Cardeza, Mr. Thomas Drake Martinez    male 36.000      0      1  PC 17755 512.329  B51 B53 B55        C               1           NO              34                    5            1\n",
              "766         0       1                        Brewe, Dr. Arthur Jackson    male    NaN      0      0    112379  39.600          NaN        C               0          YES              25                    4            1\n",
              "796         1       1                      Leader, Dr. Alice (Farnham)  female 49.000      0      0     17465  25.929          D17        S               1          YES              27                    4            1"
            ],
            "text/html": [
              "\n",
              "  <div id=\"df-196aa11b-9a2f-4b4d-a392-7461ee2bf891\">\n",
              "    <div class=\"colab-df-container\">\n",
              "      <div>\n",
              "<style scoped>\n",
              "    .dataframe tbody tr th:only-of-type {\n",
              "        vertical-align: middle;\n",
              "    }\n",
              "\n",
              "    .dataframe tbody tr th {\n",
              "        vertical-align: top;\n",
              "    }\n",
              "\n",
              "    .dataframe thead th {\n",
              "        text-align: right;\n",
              "    }\n",
              "</style>\n",
              "<table border=\"1\" class=\"dataframe\">\n",
              "  <thead>\n",
              "    <tr style=\"text-align: right;\">\n",
              "      <th></th>\n",
              "      <th>SURVIVED</th>\n",
              "      <th>PCLASS</th>\n",
              "      <th>NAME</th>\n",
              "      <th>SEX</th>\n",
              "      <th>AGE</th>\n",
              "      <th>SIBSP</th>\n",
              "      <th>PARCH</th>\n",
              "      <th>TICKET</th>\n",
              "      <th>FARE</th>\n",
              "      <th>CABIN</th>\n",
              "      <th>EMBARKED</th>\n",
              "      <th>NEW_CABIN_FLAG</th>\n",
              "      <th>NEW_IS_ALONE</th>\n",
              "      <th>NEW_NAME_COUNT</th>\n",
              "      <th>NEW_NAME_WORD_COUNT</th>\n",
              "      <th>NEW_NAME_DR</th>\n",
              "    </tr>\n",
              "  </thead>\n",
              "  <tbody>\n",
              "    <tr>\n",
              "      <th>130</th>\n",
              "      <td>0</td>\n",
              "      <td>3</td>\n",
              "      <td>Drazenoic, Mr. Jozef</td>\n",
              "      <td>male</td>\n",
              "      <td>33.000</td>\n",
              "      <td>0</td>\n",
              "      <td>0</td>\n",
              "      <td>349241</td>\n",
              "      <td>7.896</td>\n",
              "      <td>NaN</td>\n",
              "      <td>C</td>\n",
              "      <td>0</td>\n",
              "      <td>YES</td>\n",
              "      <td>20</td>\n",
              "      <td>3</td>\n",
              "      <td>1</td>\n",
              "    </tr>\n",
              "    <tr>\n",
              "      <th>245</th>\n",
              "      <td>0</td>\n",
              "      <td>1</td>\n",
              "      <td>Minahan, Dr. William Edward</td>\n",
              "      <td>male</td>\n",
              "      <td>44.000</td>\n",
              "      <td>2</td>\n",
              "      <td>0</td>\n",
              "      <td>19928</td>\n",
              "      <td>90.000</td>\n",
              "      <td>C78</td>\n",
              "      <td>Q</td>\n",
              "      <td>1</td>\n",
              "      <td>NO</td>\n",
              "      <td>27</td>\n",
              "      <td>4</td>\n",
              "      <td>1</td>\n",
              "    </tr>\n",
              "    <tr>\n",
              "      <th>317</th>\n",
              "      <td>0</td>\n",
              "      <td>2</td>\n",
              "      <td>Moraweck, Dr. Ernest</td>\n",
              "      <td>male</td>\n",
              "      <td>54.000</td>\n",
              "      <td>0</td>\n",
              "      <td>0</td>\n",
              "      <td>29011</td>\n",
              "      <td>14.000</td>\n",
              "      <td>NaN</td>\n",
              "      <td>S</td>\n",
              "      <td>0</td>\n",
              "      <td>YES</td>\n",
              "      <td>20</td>\n",
              "      <td>3</td>\n",
              "      <td>1</td>\n",
              "    </tr>\n",
              "    <tr>\n",
              "      <th>398</th>\n",
              "      <td>0</td>\n",
              "      <td>2</td>\n",
              "      <td>Pain, Dr. Alfred</td>\n",
              "      <td>male</td>\n",
              "      <td>23.000</td>\n",
              "      <td>0</td>\n",
              "      <td>0</td>\n",
              "      <td>244278</td>\n",
              "      <td>10.500</td>\n",
              "      <td>NaN</td>\n",
              "      <td>S</td>\n",
              "      <td>0</td>\n",
              "      <td>YES</td>\n",
              "      <td>16</td>\n",
              "      <td>3</td>\n",
              "      <td>1</td>\n",
              "    </tr>\n",
              "    <tr>\n",
              "      <th>416</th>\n",
              "      <td>1</td>\n",
              "      <td>2</td>\n",
              "      <td>Drew, Mrs. James Vivian (Lulu Thorne Christian)</td>\n",
              "      <td>female</td>\n",
              "      <td>34.000</td>\n",
              "      <td>1</td>\n",
              "      <td>1</td>\n",
              "      <td>28220</td>\n",
              "      <td>32.500</td>\n",
              "      <td>NaN</td>\n",
              "      <td>S</td>\n",
              "      <td>0</td>\n",
              "      <td>NO</td>\n",
              "      <td>47</td>\n",
              "      <td>7</td>\n",
              "      <td>1</td>\n",
              "    </tr>\n",
              "    <tr>\n",
              "      <th>632</th>\n",
              "      <td>1</td>\n",
              "      <td>1</td>\n",
              "      <td>Stahelin-Maeglin, Dr. Max</td>\n",
              "      <td>male</td>\n",
              "      <td>32.000</td>\n",
              "      <td>0</td>\n",
              "      <td>0</td>\n",
              "      <td>13214</td>\n",
              "      <td>30.500</td>\n",
              "      <td>B50</td>\n",
              "      <td>C</td>\n",
              "      <td>1</td>\n",
              "      <td>YES</td>\n",
              "      <td>25</td>\n",
              "      <td>3</td>\n",
              "      <td>1</td>\n",
              "    </tr>\n",
              "    <tr>\n",
              "      <th>660</th>\n",
              "      <td>1</td>\n",
              "      <td>1</td>\n",
              "      <td>Frauenthal, Dr. Henry William</td>\n",
              "      <td>male</td>\n",
              "      <td>50.000</td>\n",
              "      <td>2</td>\n",
              "      <td>0</td>\n",
              "      <td>PC 17611</td>\n",
              "      <td>133.650</td>\n",
              "      <td>NaN</td>\n",
              "      <td>S</td>\n",
              "      <td>0</td>\n",
              "      <td>NO</td>\n",
              "      <td>29</td>\n",
              "      <td>4</td>\n",
              "      <td>1</td>\n",
              "    </tr>\n",
              "    <tr>\n",
              "      <th>679</th>\n",
              "      <td>1</td>\n",
              "      <td>1</td>\n",
              "      <td>Cardeza, Mr. Thomas Drake Martinez</td>\n",
              "      <td>male</td>\n",
              "      <td>36.000</td>\n",
              "      <td>0</td>\n",
              "      <td>1</td>\n",
              "      <td>PC 17755</td>\n",
              "      <td>512.329</td>\n",
              "      <td>B51 B53 B55</td>\n",
              "      <td>C</td>\n",
              "      <td>1</td>\n",
              "      <td>NO</td>\n",
              "      <td>34</td>\n",
              "      <td>5</td>\n",
              "      <td>1</td>\n",
              "    </tr>\n",
              "    <tr>\n",
              "      <th>766</th>\n",
              "      <td>0</td>\n",
              "      <td>1</td>\n",
              "      <td>Brewe, Dr. Arthur Jackson</td>\n",
              "      <td>male</td>\n",
              "      <td>NaN</td>\n",
              "      <td>0</td>\n",
              "      <td>0</td>\n",
              "      <td>112379</td>\n",
              "      <td>39.600</td>\n",
              "      <td>NaN</td>\n",
              "      <td>C</td>\n",
              "      <td>0</td>\n",
              "      <td>YES</td>\n",
              "      <td>25</td>\n",
              "      <td>4</td>\n",
              "      <td>1</td>\n",
              "    </tr>\n",
              "    <tr>\n",
              "      <th>796</th>\n",
              "      <td>1</td>\n",
              "      <td>1</td>\n",
              "      <td>Leader, Dr. Alice (Farnham)</td>\n",
              "      <td>female</td>\n",
              "      <td>49.000</td>\n",
              "      <td>0</td>\n",
              "      <td>0</td>\n",
              "      <td>17465</td>\n",
              "      <td>25.929</td>\n",
              "      <td>D17</td>\n",
              "      <td>S</td>\n",
              "      <td>1</td>\n",
              "      <td>YES</td>\n",
              "      <td>27</td>\n",
              "      <td>4</td>\n",
              "      <td>1</td>\n",
              "    </tr>\n",
              "  </tbody>\n",
              "</table>\n",
              "</div>\n",
              "      <button class=\"colab-df-convert\" onclick=\"convertToInteractive('df-196aa11b-9a2f-4b4d-a392-7461ee2bf891')\"\n",
              "              title=\"Convert this dataframe to an interactive table.\"\n",
              "              style=\"display:none;\">\n",
              "        \n",
              "  <svg xmlns=\"http://www.w3.org/2000/svg\" height=\"24px\"viewBox=\"0 0 24 24\"\n",
              "       width=\"24px\">\n",
              "    <path d=\"M0 0h24v24H0V0z\" fill=\"none\"/>\n",
              "    <path d=\"M18.56 5.44l.94 2.06.94-2.06 2.06-.94-2.06-.94-.94-2.06-.94 2.06-2.06.94zm-11 1L8.5 8.5l.94-2.06 2.06-.94-2.06-.94L8.5 2.5l-.94 2.06-2.06.94zm10 10l.94 2.06.94-2.06 2.06-.94-2.06-.94-.94-2.06-.94 2.06-2.06.94z\"/><path d=\"M17.41 7.96l-1.37-1.37c-.4-.4-.92-.59-1.43-.59-.52 0-1.04.2-1.43.59L10.3 9.45l-7.72 7.72c-.78.78-.78 2.05 0 2.83L4 21.41c.39.39.9.59 1.41.59.51 0 1.02-.2 1.41-.59l7.78-7.78 2.81-2.81c.8-.78.8-2.07 0-2.86zM5.41 20L4 18.59l7.72-7.72 1.47 1.35L5.41 20z\"/>\n",
              "  </svg>\n",
              "      </button>\n",
              "      \n",
              "  <style>\n",
              "    .colab-df-container {\n",
              "      display:flex;\n",
              "      flex-wrap:wrap;\n",
              "      gap: 12px;\n",
              "    }\n",
              "\n",
              "    .colab-df-convert {\n",
              "      background-color: #E8F0FE;\n",
              "      border: none;\n",
              "      border-radius: 50%;\n",
              "      cursor: pointer;\n",
              "      display: none;\n",
              "      fill: #1967D2;\n",
              "      height: 32px;\n",
              "      padding: 0 0 0 0;\n",
              "      width: 32px;\n",
              "    }\n",
              "\n",
              "    .colab-df-convert:hover {\n",
              "      background-color: #E2EBFA;\n",
              "      box-shadow: 0px 1px 2px rgba(60, 64, 67, 0.3), 0px 1px 3px 1px rgba(60, 64, 67, 0.15);\n",
              "      fill: #174EA6;\n",
              "    }\n",
              "\n",
              "    [theme=dark] .colab-df-convert {\n",
              "      background-color: #3B4455;\n",
              "      fill: #D2E3FC;\n",
              "    }\n",
              "\n",
              "    [theme=dark] .colab-df-convert:hover {\n",
              "      background-color: #434B5C;\n",
              "      box-shadow: 0px 1px 3px 1px rgba(0, 0, 0, 0.15);\n",
              "      filter: drop-shadow(0px 1px 2px rgba(0, 0, 0, 0.3));\n",
              "      fill: #FFFFFF;\n",
              "    }\n",
              "  </style>\n",
              "\n",
              "      <script>\n",
              "        const buttonEl =\n",
              "          document.querySelector('#df-196aa11b-9a2f-4b4d-a392-7461ee2bf891 button.colab-df-convert');\n",
              "        buttonEl.style.display =\n",
              "          google.colab.kernel.accessAllowed ? 'block' : 'none';\n",
              "\n",
              "        async function convertToInteractive(key) {\n",
              "          const element = document.querySelector('#df-196aa11b-9a2f-4b4d-a392-7461ee2bf891');\n",
              "          const dataTable =\n",
              "            await google.colab.kernel.invokeFunction('convertToInteractive',\n",
              "                                                     [key], {});\n",
              "          if (!dataTable) return;\n",
              "\n",
              "          const docLinkHtml = 'Like what you see? Visit the ' +\n",
              "            '<a target=\"_blank\" href=https://colab.research.google.com/notebooks/data_table.ipynb>data table notebook</a>'\n",
              "            + ' to learn more about interactive tables.';\n",
              "          element.innerHTML = '';\n",
              "          dataTable['output_type'] = 'display_data';\n",
              "          await google.colab.output.renderOutput(dataTable, element);\n",
              "          const docLink = document.createElement('div');\n",
              "          docLink.innerHTML = docLinkHtml;\n",
              "          element.appendChild(docLink);\n",
              "        }\n",
              "      </script>\n",
              "    </div>\n",
              "  </div>\n",
              "  "
            ]
          },
          "metadata": {},
          "execution_count": 1063
        }
      ]
    },
    {
      "cell_type": "markdown",
      "source": [
        "Doktorların sayısına bakalım."
      ],
      "metadata": {
        "id": "DkyWyenjsRqn"
      }
    },
    {
      "cell_type": "code",
      "source": [
        "len(df[df[\"NEW_NAME_DR\"] == 1])"
      ],
      "metadata": {
        "colab": {
          "base_uri": "https://localhost:8080/"
        },
        "id": "HDsclDRfsTbz",
        "outputId": "b7017345-fbc7-4ea8-bb93-15deae1ce5f5"
      },
      "execution_count": 1064,
      "outputs": [
        {
          "output_type": "execute_result",
          "data": {
            "text/plain": [
              "10"
            ]
          },
          "metadata": {},
          "execution_count": 1064
        }
      ]
    },
    {
      "cell_type": "markdown",
      "source": [
        "* Gemi de on kişi doktor.\n",
        "* Bu değişken bizim için anlamlı bir değişken mi bunu inceleyelim."
      ],
      "metadata": {
        "id": "4aqA-_QzsWq9"
      }
    },
    {
      "cell_type": "code",
      "source": [
        "df.groupby(\"NEW_NAME_DR\").agg({\"SURVIVED\":[\"mean\", \"count\"]})"
      ],
      "metadata": {
        "colab": {
          "base_uri": "https://localhost:8080/",
          "height": 175
        },
        "id": "6uSVCnDMtJCH",
        "outputId": "3e671b5d-503d-4028-adb9-10fb7d0d269e"
      },
      "execution_count": 1065,
      "outputs": [
        {
          "output_type": "execute_result",
          "data": {
            "text/plain": [
              "            SURVIVED      \n",
              "                mean count\n",
              "NEW_NAME_DR               \n",
              "0              0.383   881\n",
              "1              0.500    10"
            ],
            "text/html": [
              "\n",
              "  <div id=\"df-5a5600fc-0c1e-4700-9595-0df492711a0b\">\n",
              "    <div class=\"colab-df-container\">\n",
              "      <div>\n",
              "<style scoped>\n",
              "    .dataframe tbody tr th:only-of-type {\n",
              "        vertical-align: middle;\n",
              "    }\n",
              "\n",
              "    .dataframe tbody tr th {\n",
              "        vertical-align: top;\n",
              "    }\n",
              "\n",
              "    .dataframe thead tr th {\n",
              "        text-align: left;\n",
              "    }\n",
              "\n",
              "    .dataframe thead tr:last-of-type th {\n",
              "        text-align: right;\n",
              "    }\n",
              "</style>\n",
              "<table border=\"1\" class=\"dataframe\">\n",
              "  <thead>\n",
              "    <tr>\n",
              "      <th></th>\n",
              "      <th colspan=\"2\" halign=\"left\">SURVIVED</th>\n",
              "    </tr>\n",
              "    <tr>\n",
              "      <th></th>\n",
              "      <th>mean</th>\n",
              "      <th>count</th>\n",
              "    </tr>\n",
              "    <tr>\n",
              "      <th>NEW_NAME_DR</th>\n",
              "      <th></th>\n",
              "      <th></th>\n",
              "    </tr>\n",
              "  </thead>\n",
              "  <tbody>\n",
              "    <tr>\n",
              "      <th>0</th>\n",
              "      <td>0.383</td>\n",
              "      <td>881</td>\n",
              "    </tr>\n",
              "    <tr>\n",
              "      <th>1</th>\n",
              "      <td>0.500</td>\n",
              "      <td>10</td>\n",
              "    </tr>\n",
              "  </tbody>\n",
              "</table>\n",
              "</div>\n",
              "      <button class=\"colab-df-convert\" onclick=\"convertToInteractive('df-5a5600fc-0c1e-4700-9595-0df492711a0b')\"\n",
              "              title=\"Convert this dataframe to an interactive table.\"\n",
              "              style=\"display:none;\">\n",
              "        \n",
              "  <svg xmlns=\"http://www.w3.org/2000/svg\" height=\"24px\"viewBox=\"0 0 24 24\"\n",
              "       width=\"24px\">\n",
              "    <path d=\"M0 0h24v24H0V0z\" fill=\"none\"/>\n",
              "    <path d=\"M18.56 5.44l.94 2.06.94-2.06 2.06-.94-2.06-.94-.94-2.06-.94 2.06-2.06.94zm-11 1L8.5 8.5l.94-2.06 2.06-.94-2.06-.94L8.5 2.5l-.94 2.06-2.06.94zm10 10l.94 2.06.94-2.06 2.06-.94-2.06-.94-.94-2.06-.94 2.06-2.06.94z\"/><path d=\"M17.41 7.96l-1.37-1.37c-.4-.4-.92-.59-1.43-.59-.52 0-1.04.2-1.43.59L10.3 9.45l-7.72 7.72c-.78.78-.78 2.05 0 2.83L4 21.41c.39.39.9.59 1.41.59.51 0 1.02-.2 1.41-.59l7.78-7.78 2.81-2.81c.8-.78.8-2.07 0-2.86zM5.41 20L4 18.59l7.72-7.72 1.47 1.35L5.41 20z\"/>\n",
              "  </svg>\n",
              "      </button>\n",
              "      \n",
              "  <style>\n",
              "    .colab-df-container {\n",
              "      display:flex;\n",
              "      flex-wrap:wrap;\n",
              "      gap: 12px;\n",
              "    }\n",
              "\n",
              "    .colab-df-convert {\n",
              "      background-color: #E8F0FE;\n",
              "      border: none;\n",
              "      border-radius: 50%;\n",
              "      cursor: pointer;\n",
              "      display: none;\n",
              "      fill: #1967D2;\n",
              "      height: 32px;\n",
              "      padding: 0 0 0 0;\n",
              "      width: 32px;\n",
              "    }\n",
              "\n",
              "    .colab-df-convert:hover {\n",
              "      background-color: #E2EBFA;\n",
              "      box-shadow: 0px 1px 2px rgba(60, 64, 67, 0.3), 0px 1px 3px 1px rgba(60, 64, 67, 0.15);\n",
              "      fill: #174EA6;\n",
              "    }\n",
              "\n",
              "    [theme=dark] .colab-df-convert {\n",
              "      background-color: #3B4455;\n",
              "      fill: #D2E3FC;\n",
              "    }\n",
              "\n",
              "    [theme=dark] .colab-df-convert:hover {\n",
              "      background-color: #434B5C;\n",
              "      box-shadow: 0px 1px 3px 1px rgba(0, 0, 0, 0.15);\n",
              "      filter: drop-shadow(0px 1px 2px rgba(0, 0, 0, 0.3));\n",
              "      fill: #FFFFFF;\n",
              "    }\n",
              "  </style>\n",
              "\n",
              "      <script>\n",
              "        const buttonEl =\n",
              "          document.querySelector('#df-5a5600fc-0c1e-4700-9595-0df492711a0b button.colab-df-convert');\n",
              "        buttonEl.style.display =\n",
              "          google.colab.kernel.accessAllowed ? 'block' : 'none';\n",
              "\n",
              "        async function convertToInteractive(key) {\n",
              "          const element = document.querySelector('#df-5a5600fc-0c1e-4700-9595-0df492711a0b');\n",
              "          const dataTable =\n",
              "            await google.colab.kernel.invokeFunction('convertToInteractive',\n",
              "                                                     [key], {});\n",
              "          if (!dataTable) return;\n",
              "\n",
              "          const docLinkHtml = 'Like what you see? Visit the ' +\n",
              "            '<a target=\"_blank\" href=https://colab.research.google.com/notebooks/data_table.ipynb>data table notebook</a>'\n",
              "            + ' to learn more about interactive tables.';\n",
              "          element.innerHTML = '';\n",
              "          dataTable['output_type'] = 'display_data';\n",
              "          await google.colab.output.renderOutput(dataTable, element);\n",
              "          const docLink = document.createElement('div');\n",
              "          docLink.innerHTML = docLinkHtml;\n",
              "          element.appendChild(docLink);\n",
              "        }\n",
              "      </script>\n",
              "    </div>\n",
              "  </div>\n",
              "  "
            ]
          },
          "metadata": {},
          "execution_count": 1065
        }
      ]
    },
    {
      "cell_type": "markdown",
      "source": [
        "Görüldüğü üzere mesleği doktor olan iki kişiden biri hayatta kalmış."
      ],
      "metadata": {
        "id": "0cptv6zCtUs0"
      }
    },
    {
      "cell_type": "markdown",
      "source": [
        "Name değişkenindeki kişilerin tüm title bilgisini çekelim."
      ],
      "metadata": {
        "id": "8tbw6ZmSuUqZ"
      }
    },
    {
      "cell_type": "code",
      "source": [
        "df[\"NEW_TITLE\"] = df[\"NAME\"].str.extract(\" ([A-Za-z]+)\\.\", expand=False)"
      ],
      "metadata": {
        "id": "auT7mqZpuSTH"
      },
      "execution_count": 1066,
      "outputs": []
    },
    {
      "cell_type": "code",
      "source": [
        "df.head()"
      ],
      "metadata": {
        "colab": {
          "base_uri": "https://localhost:8080/",
          "height": 548
        },
        "id": "jCcX3Ge-ugy1",
        "outputId": "4fd1971a-32ee-477d-f793-f14dfc1fa193"
      },
      "execution_count": 1067,
      "outputs": [
        {
          "output_type": "execute_result",
          "data": {
            "text/plain": [
              "   SURVIVED  PCLASS                                               NAME     SEX    AGE  SIBSP  PARCH            TICKET   FARE CABIN EMBARKED  NEW_CABIN_FLAG NEW_IS_ALONE  NEW_NAME_COUNT  NEW_NAME_WORD_COUNT  NEW_NAME_DR NEW_TITLE\n",
              "0         0       3                            Braund, Mr. Owen Harris    male 22.000      1      0         A/5 21171  7.250   NaN        S               0           NO              23                    4            0        Mr\n",
              "1         1       1  Cumings, Mrs. John Bradley (Florence Briggs Th...  female 38.000      1      0          PC 17599 71.283   C85        C               1           NO              51                    7            0       Mrs\n",
              "2         1       3                             Heikkinen, Miss. Laina  female 26.000      0      0  STON/O2. 3101282  7.925   NaN        S               0          YES              22                    3            0      Miss\n",
              "3         1       1       Futrelle, Mrs. Jacques Heath (Lily May Peel)  female 35.000      1      0            113803 53.100  C123        S               1           NO              44                    7            0       Mrs\n",
              "4         0       3                           Allen, Mr. William Henry    male 35.000      0      0            373450  8.050   NaN        S               0          YES              24                    4            0        Mr"
            ],
            "text/html": [
              "\n",
              "  <div id=\"df-24b12712-bdd6-4e64-aa78-67b117e9eaa1\">\n",
              "    <div class=\"colab-df-container\">\n",
              "      <div>\n",
              "<style scoped>\n",
              "    .dataframe tbody tr th:only-of-type {\n",
              "        vertical-align: middle;\n",
              "    }\n",
              "\n",
              "    .dataframe tbody tr th {\n",
              "        vertical-align: top;\n",
              "    }\n",
              "\n",
              "    .dataframe thead th {\n",
              "        text-align: right;\n",
              "    }\n",
              "</style>\n",
              "<table border=\"1\" class=\"dataframe\">\n",
              "  <thead>\n",
              "    <tr style=\"text-align: right;\">\n",
              "      <th></th>\n",
              "      <th>SURVIVED</th>\n",
              "      <th>PCLASS</th>\n",
              "      <th>NAME</th>\n",
              "      <th>SEX</th>\n",
              "      <th>AGE</th>\n",
              "      <th>SIBSP</th>\n",
              "      <th>PARCH</th>\n",
              "      <th>TICKET</th>\n",
              "      <th>FARE</th>\n",
              "      <th>CABIN</th>\n",
              "      <th>EMBARKED</th>\n",
              "      <th>NEW_CABIN_FLAG</th>\n",
              "      <th>NEW_IS_ALONE</th>\n",
              "      <th>NEW_NAME_COUNT</th>\n",
              "      <th>NEW_NAME_WORD_COUNT</th>\n",
              "      <th>NEW_NAME_DR</th>\n",
              "      <th>NEW_TITLE</th>\n",
              "    </tr>\n",
              "  </thead>\n",
              "  <tbody>\n",
              "    <tr>\n",
              "      <th>0</th>\n",
              "      <td>0</td>\n",
              "      <td>3</td>\n",
              "      <td>Braund, Mr. Owen Harris</td>\n",
              "      <td>male</td>\n",
              "      <td>22.000</td>\n",
              "      <td>1</td>\n",
              "      <td>0</td>\n",
              "      <td>A/5 21171</td>\n",
              "      <td>7.250</td>\n",
              "      <td>NaN</td>\n",
              "      <td>S</td>\n",
              "      <td>0</td>\n",
              "      <td>NO</td>\n",
              "      <td>23</td>\n",
              "      <td>4</td>\n",
              "      <td>0</td>\n",
              "      <td>Mr</td>\n",
              "    </tr>\n",
              "    <tr>\n",
              "      <th>1</th>\n",
              "      <td>1</td>\n",
              "      <td>1</td>\n",
              "      <td>Cumings, Mrs. John Bradley (Florence Briggs Th...</td>\n",
              "      <td>female</td>\n",
              "      <td>38.000</td>\n",
              "      <td>1</td>\n",
              "      <td>0</td>\n",
              "      <td>PC 17599</td>\n",
              "      <td>71.283</td>\n",
              "      <td>C85</td>\n",
              "      <td>C</td>\n",
              "      <td>1</td>\n",
              "      <td>NO</td>\n",
              "      <td>51</td>\n",
              "      <td>7</td>\n",
              "      <td>0</td>\n",
              "      <td>Mrs</td>\n",
              "    </tr>\n",
              "    <tr>\n",
              "      <th>2</th>\n",
              "      <td>1</td>\n",
              "      <td>3</td>\n",
              "      <td>Heikkinen, Miss. Laina</td>\n",
              "      <td>female</td>\n",
              "      <td>26.000</td>\n",
              "      <td>0</td>\n",
              "      <td>0</td>\n",
              "      <td>STON/O2. 3101282</td>\n",
              "      <td>7.925</td>\n",
              "      <td>NaN</td>\n",
              "      <td>S</td>\n",
              "      <td>0</td>\n",
              "      <td>YES</td>\n",
              "      <td>22</td>\n",
              "      <td>3</td>\n",
              "      <td>0</td>\n",
              "      <td>Miss</td>\n",
              "    </tr>\n",
              "    <tr>\n",
              "      <th>3</th>\n",
              "      <td>1</td>\n",
              "      <td>1</td>\n",
              "      <td>Futrelle, Mrs. Jacques Heath (Lily May Peel)</td>\n",
              "      <td>female</td>\n",
              "      <td>35.000</td>\n",
              "      <td>1</td>\n",
              "      <td>0</td>\n",
              "      <td>113803</td>\n",
              "      <td>53.100</td>\n",
              "      <td>C123</td>\n",
              "      <td>S</td>\n",
              "      <td>1</td>\n",
              "      <td>NO</td>\n",
              "      <td>44</td>\n",
              "      <td>7</td>\n",
              "      <td>0</td>\n",
              "      <td>Mrs</td>\n",
              "    </tr>\n",
              "    <tr>\n",
              "      <th>4</th>\n",
              "      <td>0</td>\n",
              "      <td>3</td>\n",
              "      <td>Allen, Mr. William Henry</td>\n",
              "      <td>male</td>\n",
              "      <td>35.000</td>\n",
              "      <td>0</td>\n",
              "      <td>0</td>\n",
              "      <td>373450</td>\n",
              "      <td>8.050</td>\n",
              "      <td>NaN</td>\n",
              "      <td>S</td>\n",
              "      <td>0</td>\n",
              "      <td>YES</td>\n",
              "      <td>24</td>\n",
              "      <td>4</td>\n",
              "      <td>0</td>\n",
              "      <td>Mr</td>\n",
              "    </tr>\n",
              "  </tbody>\n",
              "</table>\n",
              "</div>\n",
              "      <button class=\"colab-df-convert\" onclick=\"convertToInteractive('df-24b12712-bdd6-4e64-aa78-67b117e9eaa1')\"\n",
              "              title=\"Convert this dataframe to an interactive table.\"\n",
              "              style=\"display:none;\">\n",
              "        \n",
              "  <svg xmlns=\"http://www.w3.org/2000/svg\" height=\"24px\"viewBox=\"0 0 24 24\"\n",
              "       width=\"24px\">\n",
              "    <path d=\"M0 0h24v24H0V0z\" fill=\"none\"/>\n",
              "    <path d=\"M18.56 5.44l.94 2.06.94-2.06 2.06-.94-2.06-.94-.94-2.06-.94 2.06-2.06.94zm-11 1L8.5 8.5l.94-2.06 2.06-.94-2.06-.94L8.5 2.5l-.94 2.06-2.06.94zm10 10l.94 2.06.94-2.06 2.06-.94-2.06-.94-.94-2.06-.94 2.06-2.06.94z\"/><path d=\"M17.41 7.96l-1.37-1.37c-.4-.4-.92-.59-1.43-.59-.52 0-1.04.2-1.43.59L10.3 9.45l-7.72 7.72c-.78.78-.78 2.05 0 2.83L4 21.41c.39.39.9.59 1.41.59.51 0 1.02-.2 1.41-.59l7.78-7.78 2.81-2.81c.8-.78.8-2.07 0-2.86zM5.41 20L4 18.59l7.72-7.72 1.47 1.35L5.41 20z\"/>\n",
              "  </svg>\n",
              "      </button>\n",
              "      \n",
              "  <style>\n",
              "    .colab-df-container {\n",
              "      display:flex;\n",
              "      flex-wrap:wrap;\n",
              "      gap: 12px;\n",
              "    }\n",
              "\n",
              "    .colab-df-convert {\n",
              "      background-color: #E8F0FE;\n",
              "      border: none;\n",
              "      border-radius: 50%;\n",
              "      cursor: pointer;\n",
              "      display: none;\n",
              "      fill: #1967D2;\n",
              "      height: 32px;\n",
              "      padding: 0 0 0 0;\n",
              "      width: 32px;\n",
              "    }\n",
              "\n",
              "    .colab-df-convert:hover {\n",
              "      background-color: #E2EBFA;\n",
              "      box-shadow: 0px 1px 2px rgba(60, 64, 67, 0.3), 0px 1px 3px 1px rgba(60, 64, 67, 0.15);\n",
              "      fill: #174EA6;\n",
              "    }\n",
              "\n",
              "    [theme=dark] .colab-df-convert {\n",
              "      background-color: #3B4455;\n",
              "      fill: #D2E3FC;\n",
              "    }\n",
              "\n",
              "    [theme=dark] .colab-df-convert:hover {\n",
              "      background-color: #434B5C;\n",
              "      box-shadow: 0px 1px 3px 1px rgba(0, 0, 0, 0.15);\n",
              "      filter: drop-shadow(0px 1px 2px rgba(0, 0, 0, 0.3));\n",
              "      fill: #FFFFFF;\n",
              "    }\n",
              "  </style>\n",
              "\n",
              "      <script>\n",
              "        const buttonEl =\n",
              "          document.querySelector('#df-24b12712-bdd6-4e64-aa78-67b117e9eaa1 button.colab-df-convert');\n",
              "        buttonEl.style.display =\n",
              "          google.colab.kernel.accessAllowed ? 'block' : 'none';\n",
              "\n",
              "        async function convertToInteractive(key) {\n",
              "          const element = document.querySelector('#df-24b12712-bdd6-4e64-aa78-67b117e9eaa1');\n",
              "          const dataTable =\n",
              "            await google.colab.kernel.invokeFunction('convertToInteractive',\n",
              "                                                     [key], {});\n",
              "          if (!dataTable) return;\n",
              "\n",
              "          const docLinkHtml = 'Like what you see? Visit the ' +\n",
              "            '<a target=\"_blank\" href=https://colab.research.google.com/notebooks/data_table.ipynb>data table notebook</a>'\n",
              "            + ' to learn more about interactive tables.';\n",
              "          element.innerHTML = '';\n",
              "          dataTable['output_type'] = 'display_data';\n",
              "          await google.colab.output.renderOutput(dataTable, element);\n",
              "          const docLink = document.createElement('div');\n",
              "          docLink.innerHTML = docLinkHtml;\n",
              "          element.appendChild(docLink);\n",
              "        }\n",
              "      </script>\n",
              "    </div>\n",
              "  </div>\n",
              "  "
            ]
          },
          "metadata": {},
          "execution_count": 1067
        }
      ]
    },
    {
      "cell_type": "markdown",
      "source": [
        "Yeni oluşturduğumuz değişken bizimiçin ne kadar  önemli bunu inceleyelim.\n"
      ],
      "metadata": {
        "id": "UAtrjUo8uqJT"
      }
    },
    {
      "cell_type": "code",
      "source": [
        "df.groupby([\"NEW_TITLE\"]).agg({\"SURVIVED\":\"mean\", \"AGE\": [\"count\", \"mean\"]})"
      ],
      "metadata": {
        "colab": {
          "base_uri": "https://localhost:8080/",
          "height": 645
        },
        "id": "qiT6OyUQuwRF",
        "outputId": "c2557494-fbba-4215-d3d7-c722c4733f74"
      },
      "execution_count": 1068,
      "outputs": [
        {
          "output_type": "execute_result",
          "data": {
            "text/plain": [
              "          SURVIVED   AGE       \n",
              "              mean count   mean\n",
              "NEW_TITLE                      \n",
              "Capt         0.000     1 70.000\n",
              "Col          0.500     2 58.000\n",
              "Countess     1.000     1 33.000\n",
              "Don          0.000     1 40.000\n",
              "Dr           0.429     6 42.000\n",
              "Jonkheer     0.000     1 38.000\n",
              "Lady         1.000     1 48.000\n",
              "Major        0.500     2 48.500\n",
              "Master       0.575    36  4.574\n",
              "Miss         0.698   146 21.774\n",
              "Mlle         1.000     2 24.000\n",
              "Mme          1.000     1 24.000\n",
              "Mr           0.157   398 32.368\n",
              "Mrs          0.792   108 35.898\n",
              "Ms           1.000     1 28.000\n",
              "Rev          0.000     6 43.167\n",
              "Sir          1.000     1 49.000"
            ],
            "text/html": [
              "\n",
              "  <div id=\"df-6e4295d1-e084-4c80-bc18-47ae91a09702\">\n",
              "    <div class=\"colab-df-container\">\n",
              "      <div>\n",
              "<style scoped>\n",
              "    .dataframe tbody tr th:only-of-type {\n",
              "        vertical-align: middle;\n",
              "    }\n",
              "\n",
              "    .dataframe tbody tr th {\n",
              "        vertical-align: top;\n",
              "    }\n",
              "\n",
              "    .dataframe thead tr th {\n",
              "        text-align: left;\n",
              "    }\n",
              "\n",
              "    .dataframe thead tr:last-of-type th {\n",
              "        text-align: right;\n",
              "    }\n",
              "</style>\n",
              "<table border=\"1\" class=\"dataframe\">\n",
              "  <thead>\n",
              "    <tr>\n",
              "      <th></th>\n",
              "      <th>SURVIVED</th>\n",
              "      <th colspan=\"2\" halign=\"left\">AGE</th>\n",
              "    </tr>\n",
              "    <tr>\n",
              "      <th></th>\n",
              "      <th>mean</th>\n",
              "      <th>count</th>\n",
              "      <th>mean</th>\n",
              "    </tr>\n",
              "    <tr>\n",
              "      <th>NEW_TITLE</th>\n",
              "      <th></th>\n",
              "      <th></th>\n",
              "      <th></th>\n",
              "    </tr>\n",
              "  </thead>\n",
              "  <tbody>\n",
              "    <tr>\n",
              "      <th>Capt</th>\n",
              "      <td>0.000</td>\n",
              "      <td>1</td>\n",
              "      <td>70.000</td>\n",
              "    </tr>\n",
              "    <tr>\n",
              "      <th>Col</th>\n",
              "      <td>0.500</td>\n",
              "      <td>2</td>\n",
              "      <td>58.000</td>\n",
              "    </tr>\n",
              "    <tr>\n",
              "      <th>Countess</th>\n",
              "      <td>1.000</td>\n",
              "      <td>1</td>\n",
              "      <td>33.000</td>\n",
              "    </tr>\n",
              "    <tr>\n",
              "      <th>Don</th>\n",
              "      <td>0.000</td>\n",
              "      <td>1</td>\n",
              "      <td>40.000</td>\n",
              "    </tr>\n",
              "    <tr>\n",
              "      <th>Dr</th>\n",
              "      <td>0.429</td>\n",
              "      <td>6</td>\n",
              "      <td>42.000</td>\n",
              "    </tr>\n",
              "    <tr>\n",
              "      <th>Jonkheer</th>\n",
              "      <td>0.000</td>\n",
              "      <td>1</td>\n",
              "      <td>38.000</td>\n",
              "    </tr>\n",
              "    <tr>\n",
              "      <th>Lady</th>\n",
              "      <td>1.000</td>\n",
              "      <td>1</td>\n",
              "      <td>48.000</td>\n",
              "    </tr>\n",
              "    <tr>\n",
              "      <th>Major</th>\n",
              "      <td>0.500</td>\n",
              "      <td>2</td>\n",
              "      <td>48.500</td>\n",
              "    </tr>\n",
              "    <tr>\n",
              "      <th>Master</th>\n",
              "      <td>0.575</td>\n",
              "      <td>36</td>\n",
              "      <td>4.574</td>\n",
              "    </tr>\n",
              "    <tr>\n",
              "      <th>Miss</th>\n",
              "      <td>0.698</td>\n",
              "      <td>146</td>\n",
              "      <td>21.774</td>\n",
              "    </tr>\n",
              "    <tr>\n",
              "      <th>Mlle</th>\n",
              "      <td>1.000</td>\n",
              "      <td>2</td>\n",
              "      <td>24.000</td>\n",
              "    </tr>\n",
              "    <tr>\n",
              "      <th>Mme</th>\n",
              "      <td>1.000</td>\n",
              "      <td>1</td>\n",
              "      <td>24.000</td>\n",
              "    </tr>\n",
              "    <tr>\n",
              "      <th>Mr</th>\n",
              "      <td>0.157</td>\n",
              "      <td>398</td>\n",
              "      <td>32.368</td>\n",
              "    </tr>\n",
              "    <tr>\n",
              "      <th>Mrs</th>\n",
              "      <td>0.792</td>\n",
              "      <td>108</td>\n",
              "      <td>35.898</td>\n",
              "    </tr>\n",
              "    <tr>\n",
              "      <th>Ms</th>\n",
              "      <td>1.000</td>\n",
              "      <td>1</td>\n",
              "      <td>28.000</td>\n",
              "    </tr>\n",
              "    <tr>\n",
              "      <th>Rev</th>\n",
              "      <td>0.000</td>\n",
              "      <td>6</td>\n",
              "      <td>43.167</td>\n",
              "    </tr>\n",
              "    <tr>\n",
              "      <th>Sir</th>\n",
              "      <td>1.000</td>\n",
              "      <td>1</td>\n",
              "      <td>49.000</td>\n",
              "    </tr>\n",
              "  </tbody>\n",
              "</table>\n",
              "</div>\n",
              "      <button class=\"colab-df-convert\" onclick=\"convertToInteractive('df-6e4295d1-e084-4c80-bc18-47ae91a09702')\"\n",
              "              title=\"Convert this dataframe to an interactive table.\"\n",
              "              style=\"display:none;\">\n",
              "        \n",
              "  <svg xmlns=\"http://www.w3.org/2000/svg\" height=\"24px\"viewBox=\"0 0 24 24\"\n",
              "       width=\"24px\">\n",
              "    <path d=\"M0 0h24v24H0V0z\" fill=\"none\"/>\n",
              "    <path d=\"M18.56 5.44l.94 2.06.94-2.06 2.06-.94-2.06-.94-.94-2.06-.94 2.06-2.06.94zm-11 1L8.5 8.5l.94-2.06 2.06-.94-2.06-.94L8.5 2.5l-.94 2.06-2.06.94zm10 10l.94 2.06.94-2.06 2.06-.94-2.06-.94-.94-2.06-.94 2.06-2.06.94z\"/><path d=\"M17.41 7.96l-1.37-1.37c-.4-.4-.92-.59-1.43-.59-.52 0-1.04.2-1.43.59L10.3 9.45l-7.72 7.72c-.78.78-.78 2.05 0 2.83L4 21.41c.39.39.9.59 1.41.59.51 0 1.02-.2 1.41-.59l7.78-7.78 2.81-2.81c.8-.78.8-2.07 0-2.86zM5.41 20L4 18.59l7.72-7.72 1.47 1.35L5.41 20z\"/>\n",
              "  </svg>\n",
              "      </button>\n",
              "      \n",
              "  <style>\n",
              "    .colab-df-container {\n",
              "      display:flex;\n",
              "      flex-wrap:wrap;\n",
              "      gap: 12px;\n",
              "    }\n",
              "\n",
              "    .colab-df-convert {\n",
              "      background-color: #E8F0FE;\n",
              "      border: none;\n",
              "      border-radius: 50%;\n",
              "      cursor: pointer;\n",
              "      display: none;\n",
              "      fill: #1967D2;\n",
              "      height: 32px;\n",
              "      padding: 0 0 0 0;\n",
              "      width: 32px;\n",
              "    }\n",
              "\n",
              "    .colab-df-convert:hover {\n",
              "      background-color: #E2EBFA;\n",
              "      box-shadow: 0px 1px 2px rgba(60, 64, 67, 0.3), 0px 1px 3px 1px rgba(60, 64, 67, 0.15);\n",
              "      fill: #174EA6;\n",
              "    }\n",
              "\n",
              "    [theme=dark] .colab-df-convert {\n",
              "      background-color: #3B4455;\n",
              "      fill: #D2E3FC;\n",
              "    }\n",
              "\n",
              "    [theme=dark] .colab-df-convert:hover {\n",
              "      background-color: #434B5C;\n",
              "      box-shadow: 0px 1px 3px 1px rgba(0, 0, 0, 0.15);\n",
              "      filter: drop-shadow(0px 1px 2px rgba(0, 0, 0, 0.3));\n",
              "      fill: #FFFFFF;\n",
              "    }\n",
              "  </style>\n",
              "\n",
              "      <script>\n",
              "        const buttonEl =\n",
              "          document.querySelector('#df-6e4295d1-e084-4c80-bc18-47ae91a09702 button.colab-df-convert');\n",
              "        buttonEl.style.display =\n",
              "          google.colab.kernel.accessAllowed ? 'block' : 'none';\n",
              "\n",
              "        async function convertToInteractive(key) {\n",
              "          const element = document.querySelector('#df-6e4295d1-e084-4c80-bc18-47ae91a09702');\n",
              "          const dataTable =\n",
              "            await google.colab.kernel.invokeFunction('convertToInteractive',\n",
              "                                                     [key], {});\n",
              "          if (!dataTable) return;\n",
              "\n",
              "          const docLinkHtml = 'Like what you see? Visit the ' +\n",
              "            '<a target=\"_blank\" href=https://colab.research.google.com/notebooks/data_table.ipynb>data table notebook</a>'\n",
              "            + ' to learn more about interactive tables.';\n",
              "          element.innerHTML = '';\n",
              "          dataTable['output_type'] = 'display_data';\n",
              "          await google.colab.output.renderOutput(dataTable, element);\n",
              "          const docLink = document.createElement('div');\n",
              "          docLink.innerHTML = docLinkHtml;\n",
              "          element.appendChild(docLink);\n",
              "        }\n",
              "      </script>\n",
              "    </div>\n",
              "  </div>\n",
              "  "
            ]
          },
          "metadata": {},
          "execution_count": 1068
        }
      ]
    },
    {
      "cell_type": "markdown",
      "source": [
        "Bizim için bilgi taşımayan Name değişkeninden birçok anlamlı değişken çıkardık."
      ],
      "metadata": {
        "id": "8QRIOtKpu_ia"
      }
    },
    {
      "cell_type": "markdown",
      "source": [
        "**4. AGE ve PCLASS değiişkenlerine odaklanalım.**"
      ],
      "metadata": {
        "id": "oZgsbsQa1JXP"
      }
    },
    {
      "cell_type": "code",
      "source": [
        "df[\"NEW_AGE_PCLASS\"] = df[\"AGE\"] * df[\"PCLASS\"]"
      ],
      "metadata": {
        "id": "_hs-jUiL1YHA"
      },
      "execution_count": 1069,
      "outputs": []
    },
    {
      "cell_type": "markdown",
      "source": [
        "Yaşı küçük olup birinci sınıf yolculuk yapanlar, yaşı büyük olup üçüncü sınıf yolculuk yapan kişileri tespit etmek için bu iki değişkeni çarptık."
      ],
      "metadata": {
        "id": "5ctuOkrf1cpL"
      }
    },
    {
      "cell_type": "markdown",
      "source": [
        "**5. SIBSP ve PARCH değiişkenlerine odaklanalım.**"
      ],
      "metadata": {
        "id": "fD6uVVu9198E"
      }
    },
    {
      "cell_type": "markdown",
      "source": [
        "* Aile boyutlarını (her ailede kaç kişi olduğunu) incelemek amaçlı yeni bir değişken oluşturalım.\n",
        "* Kardeş sayısı, akraba sayısı ve kendisi."
      ],
      "metadata": {
        "id": "tZo32_5S2G1E"
      }
    },
    {
      "cell_type": "code",
      "source": [
        "df[\"NEW_FAMILY_SIZE\"] = df[\"SIBSP\"] + df[\"PARCH\"] + 1"
      ],
      "metadata": {
        "id": "fWHbfcgw19k5"
      },
      "execution_count": 1070,
      "outputs": []
    },
    {
      "cell_type": "code",
      "source": [
        "df.head()"
      ],
      "metadata": {
        "colab": {
          "base_uri": "https://localhost:8080/",
          "height": 548
        },
        "id": "E3x7X30J25NY",
        "outputId": "0d86f446-da1a-4274-9ece-ad04a8fc3b5d"
      },
      "execution_count": 1071,
      "outputs": [
        {
          "output_type": "execute_result",
          "data": {
            "text/plain": [
              "   SURVIVED  PCLASS                                               NAME     SEX    AGE  SIBSP  PARCH            TICKET   FARE CABIN EMBARKED  NEW_CABIN_FLAG NEW_IS_ALONE  NEW_NAME_COUNT  NEW_NAME_WORD_COUNT  NEW_NAME_DR NEW_TITLE  NEW_AGE_PCLASS  NEW_FAMILY_SIZE\n",
              "0         0       3                            Braund, Mr. Owen Harris    male 22.000      1      0         A/5 21171  7.250   NaN        S               0           NO              23                    4            0        Mr          66.000                2\n",
              "1         1       1  Cumings, Mrs. John Bradley (Florence Briggs Th...  female 38.000      1      0          PC 17599 71.283   C85        C               1           NO              51                    7            0       Mrs          38.000                2\n",
              "2         1       3                             Heikkinen, Miss. Laina  female 26.000      0      0  STON/O2. 3101282  7.925   NaN        S               0          YES              22                    3            0      Miss          78.000                1\n",
              "3         1       1       Futrelle, Mrs. Jacques Heath (Lily May Peel)  female 35.000      1      0            113803 53.100  C123        S               1           NO              44                    7            0       Mrs          35.000                2\n",
              "4         0       3                           Allen, Mr. William Henry    male 35.000      0      0            373450  8.050   NaN        S               0          YES              24                    4            0        Mr         105.000                1"
            ],
            "text/html": [
              "\n",
              "  <div id=\"df-c89e2c92-877f-44a2-8aef-425fe600fde0\">\n",
              "    <div class=\"colab-df-container\">\n",
              "      <div>\n",
              "<style scoped>\n",
              "    .dataframe tbody tr th:only-of-type {\n",
              "        vertical-align: middle;\n",
              "    }\n",
              "\n",
              "    .dataframe tbody tr th {\n",
              "        vertical-align: top;\n",
              "    }\n",
              "\n",
              "    .dataframe thead th {\n",
              "        text-align: right;\n",
              "    }\n",
              "</style>\n",
              "<table border=\"1\" class=\"dataframe\">\n",
              "  <thead>\n",
              "    <tr style=\"text-align: right;\">\n",
              "      <th></th>\n",
              "      <th>SURVIVED</th>\n",
              "      <th>PCLASS</th>\n",
              "      <th>NAME</th>\n",
              "      <th>SEX</th>\n",
              "      <th>AGE</th>\n",
              "      <th>SIBSP</th>\n",
              "      <th>PARCH</th>\n",
              "      <th>TICKET</th>\n",
              "      <th>FARE</th>\n",
              "      <th>CABIN</th>\n",
              "      <th>EMBARKED</th>\n",
              "      <th>NEW_CABIN_FLAG</th>\n",
              "      <th>NEW_IS_ALONE</th>\n",
              "      <th>NEW_NAME_COUNT</th>\n",
              "      <th>NEW_NAME_WORD_COUNT</th>\n",
              "      <th>NEW_NAME_DR</th>\n",
              "      <th>NEW_TITLE</th>\n",
              "      <th>NEW_AGE_PCLASS</th>\n",
              "      <th>NEW_FAMILY_SIZE</th>\n",
              "    </tr>\n",
              "  </thead>\n",
              "  <tbody>\n",
              "    <tr>\n",
              "      <th>0</th>\n",
              "      <td>0</td>\n",
              "      <td>3</td>\n",
              "      <td>Braund, Mr. Owen Harris</td>\n",
              "      <td>male</td>\n",
              "      <td>22.000</td>\n",
              "      <td>1</td>\n",
              "      <td>0</td>\n",
              "      <td>A/5 21171</td>\n",
              "      <td>7.250</td>\n",
              "      <td>NaN</td>\n",
              "      <td>S</td>\n",
              "      <td>0</td>\n",
              "      <td>NO</td>\n",
              "      <td>23</td>\n",
              "      <td>4</td>\n",
              "      <td>0</td>\n",
              "      <td>Mr</td>\n",
              "      <td>66.000</td>\n",
              "      <td>2</td>\n",
              "    </tr>\n",
              "    <tr>\n",
              "      <th>1</th>\n",
              "      <td>1</td>\n",
              "      <td>1</td>\n",
              "      <td>Cumings, Mrs. John Bradley (Florence Briggs Th...</td>\n",
              "      <td>female</td>\n",
              "      <td>38.000</td>\n",
              "      <td>1</td>\n",
              "      <td>0</td>\n",
              "      <td>PC 17599</td>\n",
              "      <td>71.283</td>\n",
              "      <td>C85</td>\n",
              "      <td>C</td>\n",
              "      <td>1</td>\n",
              "      <td>NO</td>\n",
              "      <td>51</td>\n",
              "      <td>7</td>\n",
              "      <td>0</td>\n",
              "      <td>Mrs</td>\n",
              "      <td>38.000</td>\n",
              "      <td>2</td>\n",
              "    </tr>\n",
              "    <tr>\n",
              "      <th>2</th>\n",
              "      <td>1</td>\n",
              "      <td>3</td>\n",
              "      <td>Heikkinen, Miss. Laina</td>\n",
              "      <td>female</td>\n",
              "      <td>26.000</td>\n",
              "      <td>0</td>\n",
              "      <td>0</td>\n",
              "      <td>STON/O2. 3101282</td>\n",
              "      <td>7.925</td>\n",
              "      <td>NaN</td>\n",
              "      <td>S</td>\n",
              "      <td>0</td>\n",
              "      <td>YES</td>\n",
              "      <td>22</td>\n",
              "      <td>3</td>\n",
              "      <td>0</td>\n",
              "      <td>Miss</td>\n",
              "      <td>78.000</td>\n",
              "      <td>1</td>\n",
              "    </tr>\n",
              "    <tr>\n",
              "      <th>3</th>\n",
              "      <td>1</td>\n",
              "      <td>1</td>\n",
              "      <td>Futrelle, Mrs. Jacques Heath (Lily May Peel)</td>\n",
              "      <td>female</td>\n",
              "      <td>35.000</td>\n",
              "      <td>1</td>\n",
              "      <td>0</td>\n",
              "      <td>113803</td>\n",
              "      <td>53.100</td>\n",
              "      <td>C123</td>\n",
              "      <td>S</td>\n",
              "      <td>1</td>\n",
              "      <td>NO</td>\n",
              "      <td>44</td>\n",
              "      <td>7</td>\n",
              "      <td>0</td>\n",
              "      <td>Mrs</td>\n",
              "      <td>35.000</td>\n",
              "      <td>2</td>\n",
              "    </tr>\n",
              "    <tr>\n",
              "      <th>4</th>\n",
              "      <td>0</td>\n",
              "      <td>3</td>\n",
              "      <td>Allen, Mr. William Henry</td>\n",
              "      <td>male</td>\n",
              "      <td>35.000</td>\n",
              "      <td>0</td>\n",
              "      <td>0</td>\n",
              "      <td>373450</td>\n",
              "      <td>8.050</td>\n",
              "      <td>NaN</td>\n",
              "      <td>S</td>\n",
              "      <td>0</td>\n",
              "      <td>YES</td>\n",
              "      <td>24</td>\n",
              "      <td>4</td>\n",
              "      <td>0</td>\n",
              "      <td>Mr</td>\n",
              "      <td>105.000</td>\n",
              "      <td>1</td>\n",
              "    </tr>\n",
              "  </tbody>\n",
              "</table>\n",
              "</div>\n",
              "      <button class=\"colab-df-convert\" onclick=\"convertToInteractive('df-c89e2c92-877f-44a2-8aef-425fe600fde0')\"\n",
              "              title=\"Convert this dataframe to an interactive table.\"\n",
              "              style=\"display:none;\">\n",
              "        \n",
              "  <svg xmlns=\"http://www.w3.org/2000/svg\" height=\"24px\"viewBox=\"0 0 24 24\"\n",
              "       width=\"24px\">\n",
              "    <path d=\"M0 0h24v24H0V0z\" fill=\"none\"/>\n",
              "    <path d=\"M18.56 5.44l.94 2.06.94-2.06 2.06-.94-2.06-.94-.94-2.06-.94 2.06-2.06.94zm-11 1L8.5 8.5l.94-2.06 2.06-.94-2.06-.94L8.5 2.5l-.94 2.06-2.06.94zm10 10l.94 2.06.94-2.06 2.06-.94-2.06-.94-.94-2.06-.94 2.06-2.06.94z\"/><path d=\"M17.41 7.96l-1.37-1.37c-.4-.4-.92-.59-1.43-.59-.52 0-1.04.2-1.43.59L10.3 9.45l-7.72 7.72c-.78.78-.78 2.05 0 2.83L4 21.41c.39.39.9.59 1.41.59.51 0 1.02-.2 1.41-.59l7.78-7.78 2.81-2.81c.8-.78.8-2.07 0-2.86zM5.41 20L4 18.59l7.72-7.72 1.47 1.35L5.41 20z\"/>\n",
              "  </svg>\n",
              "      </button>\n",
              "      \n",
              "  <style>\n",
              "    .colab-df-container {\n",
              "      display:flex;\n",
              "      flex-wrap:wrap;\n",
              "      gap: 12px;\n",
              "    }\n",
              "\n",
              "    .colab-df-convert {\n",
              "      background-color: #E8F0FE;\n",
              "      border: none;\n",
              "      border-radius: 50%;\n",
              "      cursor: pointer;\n",
              "      display: none;\n",
              "      fill: #1967D2;\n",
              "      height: 32px;\n",
              "      padding: 0 0 0 0;\n",
              "      width: 32px;\n",
              "    }\n",
              "\n",
              "    .colab-df-convert:hover {\n",
              "      background-color: #E2EBFA;\n",
              "      box-shadow: 0px 1px 2px rgba(60, 64, 67, 0.3), 0px 1px 3px 1px rgba(60, 64, 67, 0.15);\n",
              "      fill: #174EA6;\n",
              "    }\n",
              "\n",
              "    [theme=dark] .colab-df-convert {\n",
              "      background-color: #3B4455;\n",
              "      fill: #D2E3FC;\n",
              "    }\n",
              "\n",
              "    [theme=dark] .colab-df-convert:hover {\n",
              "      background-color: #434B5C;\n",
              "      box-shadow: 0px 1px 3px 1px rgba(0, 0, 0, 0.15);\n",
              "      filter: drop-shadow(0px 1px 2px rgba(0, 0, 0, 0.3));\n",
              "      fill: #FFFFFF;\n",
              "    }\n",
              "  </style>\n",
              "\n",
              "      <script>\n",
              "        const buttonEl =\n",
              "          document.querySelector('#df-c89e2c92-877f-44a2-8aef-425fe600fde0 button.colab-df-convert');\n",
              "        buttonEl.style.display =\n",
              "          google.colab.kernel.accessAllowed ? 'block' : 'none';\n",
              "\n",
              "        async function convertToInteractive(key) {\n",
              "          const element = document.querySelector('#df-c89e2c92-877f-44a2-8aef-425fe600fde0');\n",
              "          const dataTable =\n",
              "            await google.colab.kernel.invokeFunction('convertToInteractive',\n",
              "                                                     [key], {});\n",
              "          if (!dataTable) return;\n",
              "\n",
              "          const docLinkHtml = 'Like what you see? Visit the ' +\n",
              "            '<a target=\"_blank\" href=https://colab.research.google.com/notebooks/data_table.ipynb>data table notebook</a>'\n",
              "            + ' to learn more about interactive tables.';\n",
              "          element.innerHTML = '';\n",
              "          dataTable['output_type'] = 'display_data';\n",
              "          await google.colab.output.renderOutput(dataTable, element);\n",
              "          const docLink = document.createElement('div');\n",
              "          docLink.innerHTML = docLinkHtml;\n",
              "          element.appendChild(docLink);\n",
              "        }\n",
              "      </script>\n",
              "    </div>\n",
              "  </div>\n",
              "  "
            ]
          },
          "metadata": {},
          "execution_count": 1071
        }
      ]
    },
    {
      "cell_type": "markdown",
      "source": [
        "**6. AGE  değiişkenine odaklanalım.**"
      ],
      "metadata": {
        "id": "bm7901kR6oNn"
      }
    },
    {
      "cell_type": "code",
      "source": [
        "df.loc[(df[\"AGE\"] < 18), \"NEW_AGE_CAT\"] = \"young\"\n",
        "df.loc[((df[\"AGE\"] > 18) & (df[\"AGE\"] < 56)), \"NEW_AGE_CAT\"] = \"mature\"\n",
        "df.loc[(df[\"AGE\"] >= 56), \"NEW_AGE_CAT\"] = \"senior\""
      ],
      "metadata": {
        "id": "OMEeVaGm6n1m"
      },
      "execution_count": 1072,
      "outputs": []
    },
    {
      "cell_type": "markdown",
      "source": [
        "**7. AGE ve SEX değiişkenlerine odaklanalım.**"
      ],
      "metadata": {
        "id": "ETODHutk2kJV"
      }
    },
    {
      "cell_type": "markdown",
      "source": [
        "* Yaşı 21 ve 21'den küçük olup erkek olanlar.\n",
        "* Yaşı 50 ve 50'den küçük olup 21'den büyük olup erkek olanlar.\n",
        "* Yaşı 50'den büyük olup erkek olanlar.\n",
        "***\n",
        "* Yaşı 21 ve 21'den küçük olup kadın olanlar.\n",
        "* Yaşı 50 ve 50'den küçük olup 21'den büyük olup kadın olanlar.\n",
        "* Yaşı 50'den büyük olup kadın olanlar."
      ],
      "metadata": {
        "id": "431yczA5tfRJ"
      }
    },
    {
      "cell_type": "code",
      "source": [
        "# Erkekler için:\n",
        "df.loc[(df['SEX'] == 'male') & (df['AGE'] <= 21), 'NEW_SEX_CAT'] = 'youngmale' #Genç erkek\n",
        "df.loc[(df['SEX'] == 'male') & (df['AGE'] > 21) & (df['AGE'] <= 50), 'NEW_SEX_CAT'] = 'maturemale' #Olgun erkek\n",
        "df.loc[(df['SEX'] == 'male') & (df['AGE'] > 50), 'NEW_SEX_CAT'] = 'seniormale' #Kıdemli erkek\n",
        "\n",
        "# Kadınlar için:\n",
        "df.loc[(df['SEX'] == 'female') & (df['AGE'] <= 21), 'NEW_SEX_CAT'] = 'youngfemale' #Genç kadın\n",
        "df.loc[(df['SEX'] == 'female') & (df['AGE'] > 21) & (df['AGE'] <= 50), 'NEW_SEX_CAT'] = 'maturefemale' ##Olgun kadın\n",
        "df.loc[(df['SEX'] == 'female') & (df['AGE'] > 50), 'NEW_SEX_CAT'] = 'seniorfemale' ##Kıdemli kadın"
      ],
      "metadata": {
        "id": "ZjX_Hm2f2npL"
      },
      "execution_count": 1073,
      "outputs": []
    },
    {
      "cell_type": "markdown",
      "source": [
        "* Yeni oluşturduğumuz bu NEW_SEX_CAT değişkenin bizim için önemini araştıralım.\n",
        "* Yani bu değişkenin hedef değişkene etkilerini araştıralım."
      ],
      "metadata": {
        "id": "XX2NmJNu2-4q"
      }
    },
    {
      "cell_type": "code",
      "source": [
        "df.groupby(\"NEW_SEX_CAT\").agg({\"SURVIVED\" : \"mean\"})"
      ],
      "metadata": {
        "colab": {
          "base_uri": "https://localhost:8080/",
          "height": 269
        },
        "id": "FpwOJGcC3ILU",
        "outputId": "2ca5a08b-77cc-4195-de4f-1df76a2d0ab7"
      },
      "execution_count": 1074,
      "outputs": [
        {
          "output_type": "execute_result",
          "data": {
            "text/plain": [
              "              SURVIVED\n",
              "NEW_SEX_CAT           \n",
              "maturefemale     0.775\n",
              "maturemale       0.199\n",
              "seniorfemale     0.941\n",
              "seniormale       0.128\n",
              "youngfemale      0.679\n",
              "youngmale        0.250"
            ],
            "text/html": [
              "\n",
              "  <div id=\"df-1b76a173-a40d-4017-bd80-38a182f404e0\">\n",
              "    <div class=\"colab-df-container\">\n",
              "      <div>\n",
              "<style scoped>\n",
              "    .dataframe tbody tr th:only-of-type {\n",
              "        vertical-align: middle;\n",
              "    }\n",
              "\n",
              "    .dataframe tbody tr th {\n",
              "        vertical-align: top;\n",
              "    }\n",
              "\n",
              "    .dataframe thead th {\n",
              "        text-align: right;\n",
              "    }\n",
              "</style>\n",
              "<table border=\"1\" class=\"dataframe\">\n",
              "  <thead>\n",
              "    <tr style=\"text-align: right;\">\n",
              "      <th></th>\n",
              "      <th>SURVIVED</th>\n",
              "    </tr>\n",
              "    <tr>\n",
              "      <th>NEW_SEX_CAT</th>\n",
              "      <th></th>\n",
              "    </tr>\n",
              "  </thead>\n",
              "  <tbody>\n",
              "    <tr>\n",
              "      <th>maturefemale</th>\n",
              "      <td>0.775</td>\n",
              "    </tr>\n",
              "    <tr>\n",
              "      <th>maturemale</th>\n",
              "      <td>0.199</td>\n",
              "    </tr>\n",
              "    <tr>\n",
              "      <th>seniorfemale</th>\n",
              "      <td>0.941</td>\n",
              "    </tr>\n",
              "    <tr>\n",
              "      <th>seniormale</th>\n",
              "      <td>0.128</td>\n",
              "    </tr>\n",
              "    <tr>\n",
              "      <th>youngfemale</th>\n",
              "      <td>0.679</td>\n",
              "    </tr>\n",
              "    <tr>\n",
              "      <th>youngmale</th>\n",
              "      <td>0.250</td>\n",
              "    </tr>\n",
              "  </tbody>\n",
              "</table>\n",
              "</div>\n",
              "      <button class=\"colab-df-convert\" onclick=\"convertToInteractive('df-1b76a173-a40d-4017-bd80-38a182f404e0')\"\n",
              "              title=\"Convert this dataframe to an interactive table.\"\n",
              "              style=\"display:none;\">\n",
              "        \n",
              "  <svg xmlns=\"http://www.w3.org/2000/svg\" height=\"24px\"viewBox=\"0 0 24 24\"\n",
              "       width=\"24px\">\n",
              "    <path d=\"M0 0h24v24H0V0z\" fill=\"none\"/>\n",
              "    <path d=\"M18.56 5.44l.94 2.06.94-2.06 2.06-.94-2.06-.94-.94-2.06-.94 2.06-2.06.94zm-11 1L8.5 8.5l.94-2.06 2.06-.94-2.06-.94L8.5 2.5l-.94 2.06-2.06.94zm10 10l.94 2.06.94-2.06 2.06-.94-2.06-.94-.94-2.06-.94 2.06-2.06.94z\"/><path d=\"M17.41 7.96l-1.37-1.37c-.4-.4-.92-.59-1.43-.59-.52 0-1.04.2-1.43.59L10.3 9.45l-7.72 7.72c-.78.78-.78 2.05 0 2.83L4 21.41c.39.39.9.59 1.41.59.51 0 1.02-.2 1.41-.59l7.78-7.78 2.81-2.81c.8-.78.8-2.07 0-2.86zM5.41 20L4 18.59l7.72-7.72 1.47 1.35L5.41 20z\"/>\n",
              "  </svg>\n",
              "      </button>\n",
              "      \n",
              "  <style>\n",
              "    .colab-df-container {\n",
              "      display:flex;\n",
              "      flex-wrap:wrap;\n",
              "      gap: 12px;\n",
              "    }\n",
              "\n",
              "    .colab-df-convert {\n",
              "      background-color: #E8F0FE;\n",
              "      border: none;\n",
              "      border-radius: 50%;\n",
              "      cursor: pointer;\n",
              "      display: none;\n",
              "      fill: #1967D2;\n",
              "      height: 32px;\n",
              "      padding: 0 0 0 0;\n",
              "      width: 32px;\n",
              "    }\n",
              "\n",
              "    .colab-df-convert:hover {\n",
              "      background-color: #E2EBFA;\n",
              "      box-shadow: 0px 1px 2px rgba(60, 64, 67, 0.3), 0px 1px 3px 1px rgba(60, 64, 67, 0.15);\n",
              "      fill: #174EA6;\n",
              "    }\n",
              "\n",
              "    [theme=dark] .colab-df-convert {\n",
              "      background-color: #3B4455;\n",
              "      fill: #D2E3FC;\n",
              "    }\n",
              "\n",
              "    [theme=dark] .colab-df-convert:hover {\n",
              "      background-color: #434B5C;\n",
              "      box-shadow: 0px 1px 3px 1px rgba(0, 0, 0, 0.15);\n",
              "      filter: drop-shadow(0px 1px 2px rgba(0, 0, 0, 0.3));\n",
              "      fill: #FFFFFF;\n",
              "    }\n",
              "  </style>\n",
              "\n",
              "      <script>\n",
              "        const buttonEl =\n",
              "          document.querySelector('#df-1b76a173-a40d-4017-bd80-38a182f404e0 button.colab-df-convert');\n",
              "        buttonEl.style.display =\n",
              "          google.colab.kernel.accessAllowed ? 'block' : 'none';\n",
              "\n",
              "        async function convertToInteractive(key) {\n",
              "          const element = document.querySelector('#df-1b76a173-a40d-4017-bd80-38a182f404e0');\n",
              "          const dataTable =\n",
              "            await google.colab.kernel.invokeFunction('convertToInteractive',\n",
              "                                                     [key], {});\n",
              "          if (!dataTable) return;\n",
              "\n",
              "          const docLinkHtml = 'Like what you see? Visit the ' +\n",
              "            '<a target=\"_blank\" href=https://colab.research.google.com/notebooks/data_table.ipynb>data table notebook</a>'\n",
              "            + ' to learn more about interactive tables.';\n",
              "          element.innerHTML = '';\n",
              "          dataTable['output_type'] = 'display_data';\n",
              "          await google.colab.output.renderOutput(dataTable, element);\n",
              "          const docLink = document.createElement('div');\n",
              "          docLink.innerHTML = docLinkHtml;\n",
              "          element.appendChild(docLink);\n",
              "        }\n",
              "      </script>\n",
              "    </div>\n",
              "  </div>\n",
              "  "
            ]
          },
          "metadata": {},
          "execution_count": 1074
        }
      ]
    },
    {
      "cell_type": "markdown",
      "source": [
        "* Uzman kadınların %94'ü hayatta kalmış.\n",
        "* Bu değişken bizim için çok önemli olduğu açıktır."
      ],
      "metadata": {
        "id": "pIkuFDIa4YiG"
      }
    },
    {
      "cell_type": "code",
      "source": [
        "df.head()"
      ],
      "metadata": {
        "colab": {
          "base_uri": "https://localhost:8080/",
          "height": 548
        },
        "id": "fKPC0X5i4vel",
        "outputId": "cdc3afa8-066d-4f3a-ef35-6c4381a9b9a1"
      },
      "execution_count": 1075,
      "outputs": [
        {
          "output_type": "execute_result",
          "data": {
            "text/plain": [
              "   SURVIVED  PCLASS                                               NAME     SEX    AGE  SIBSP  PARCH            TICKET   FARE CABIN EMBARKED  NEW_CABIN_FLAG NEW_IS_ALONE  NEW_NAME_COUNT  NEW_NAME_WORD_COUNT  NEW_NAME_DR NEW_TITLE  NEW_AGE_PCLASS  NEW_FAMILY_SIZE NEW_AGE_CAT   NEW_SEX_CAT\n",
              "0         0       3                            Braund, Mr. Owen Harris    male 22.000      1      0         A/5 21171  7.250   NaN        S               0           NO              23                    4            0        Mr          66.000                2      mature    maturemale\n",
              "1         1       1  Cumings, Mrs. John Bradley (Florence Briggs Th...  female 38.000      1      0          PC 17599 71.283   C85        C               1           NO              51                    7            0       Mrs          38.000                2      mature  maturefemale\n",
              "2         1       3                             Heikkinen, Miss. Laina  female 26.000      0      0  STON/O2. 3101282  7.925   NaN        S               0          YES              22                    3            0      Miss          78.000                1      mature  maturefemale\n",
              "3         1       1       Futrelle, Mrs. Jacques Heath (Lily May Peel)  female 35.000      1      0            113803 53.100  C123        S               1           NO              44                    7            0       Mrs          35.000                2      mature  maturefemale\n",
              "4         0       3                           Allen, Mr. William Henry    male 35.000      0      0            373450  8.050   NaN        S               0          YES              24                    4            0        Mr         105.000                1      mature    maturemale"
            ],
            "text/html": [
              "\n",
              "  <div id=\"df-6ff42fb8-763f-49e5-8da8-77f4549caedf\">\n",
              "    <div class=\"colab-df-container\">\n",
              "      <div>\n",
              "<style scoped>\n",
              "    .dataframe tbody tr th:only-of-type {\n",
              "        vertical-align: middle;\n",
              "    }\n",
              "\n",
              "    .dataframe tbody tr th {\n",
              "        vertical-align: top;\n",
              "    }\n",
              "\n",
              "    .dataframe thead th {\n",
              "        text-align: right;\n",
              "    }\n",
              "</style>\n",
              "<table border=\"1\" class=\"dataframe\">\n",
              "  <thead>\n",
              "    <tr style=\"text-align: right;\">\n",
              "      <th></th>\n",
              "      <th>SURVIVED</th>\n",
              "      <th>PCLASS</th>\n",
              "      <th>NAME</th>\n",
              "      <th>SEX</th>\n",
              "      <th>AGE</th>\n",
              "      <th>SIBSP</th>\n",
              "      <th>PARCH</th>\n",
              "      <th>TICKET</th>\n",
              "      <th>FARE</th>\n",
              "      <th>CABIN</th>\n",
              "      <th>EMBARKED</th>\n",
              "      <th>NEW_CABIN_FLAG</th>\n",
              "      <th>NEW_IS_ALONE</th>\n",
              "      <th>NEW_NAME_COUNT</th>\n",
              "      <th>NEW_NAME_WORD_COUNT</th>\n",
              "      <th>NEW_NAME_DR</th>\n",
              "      <th>NEW_TITLE</th>\n",
              "      <th>NEW_AGE_PCLASS</th>\n",
              "      <th>NEW_FAMILY_SIZE</th>\n",
              "      <th>NEW_AGE_CAT</th>\n",
              "      <th>NEW_SEX_CAT</th>\n",
              "    </tr>\n",
              "  </thead>\n",
              "  <tbody>\n",
              "    <tr>\n",
              "      <th>0</th>\n",
              "      <td>0</td>\n",
              "      <td>3</td>\n",
              "      <td>Braund, Mr. Owen Harris</td>\n",
              "      <td>male</td>\n",
              "      <td>22.000</td>\n",
              "      <td>1</td>\n",
              "      <td>0</td>\n",
              "      <td>A/5 21171</td>\n",
              "      <td>7.250</td>\n",
              "      <td>NaN</td>\n",
              "      <td>S</td>\n",
              "      <td>0</td>\n",
              "      <td>NO</td>\n",
              "      <td>23</td>\n",
              "      <td>4</td>\n",
              "      <td>0</td>\n",
              "      <td>Mr</td>\n",
              "      <td>66.000</td>\n",
              "      <td>2</td>\n",
              "      <td>mature</td>\n",
              "      <td>maturemale</td>\n",
              "    </tr>\n",
              "    <tr>\n",
              "      <th>1</th>\n",
              "      <td>1</td>\n",
              "      <td>1</td>\n",
              "      <td>Cumings, Mrs. John Bradley (Florence Briggs Th...</td>\n",
              "      <td>female</td>\n",
              "      <td>38.000</td>\n",
              "      <td>1</td>\n",
              "      <td>0</td>\n",
              "      <td>PC 17599</td>\n",
              "      <td>71.283</td>\n",
              "      <td>C85</td>\n",
              "      <td>C</td>\n",
              "      <td>1</td>\n",
              "      <td>NO</td>\n",
              "      <td>51</td>\n",
              "      <td>7</td>\n",
              "      <td>0</td>\n",
              "      <td>Mrs</td>\n",
              "      <td>38.000</td>\n",
              "      <td>2</td>\n",
              "      <td>mature</td>\n",
              "      <td>maturefemale</td>\n",
              "    </tr>\n",
              "    <tr>\n",
              "      <th>2</th>\n",
              "      <td>1</td>\n",
              "      <td>3</td>\n",
              "      <td>Heikkinen, Miss. Laina</td>\n",
              "      <td>female</td>\n",
              "      <td>26.000</td>\n",
              "      <td>0</td>\n",
              "      <td>0</td>\n",
              "      <td>STON/O2. 3101282</td>\n",
              "      <td>7.925</td>\n",
              "      <td>NaN</td>\n",
              "      <td>S</td>\n",
              "      <td>0</td>\n",
              "      <td>YES</td>\n",
              "      <td>22</td>\n",
              "      <td>3</td>\n",
              "      <td>0</td>\n",
              "      <td>Miss</td>\n",
              "      <td>78.000</td>\n",
              "      <td>1</td>\n",
              "      <td>mature</td>\n",
              "      <td>maturefemale</td>\n",
              "    </tr>\n",
              "    <tr>\n",
              "      <th>3</th>\n",
              "      <td>1</td>\n",
              "      <td>1</td>\n",
              "      <td>Futrelle, Mrs. Jacques Heath (Lily May Peel)</td>\n",
              "      <td>female</td>\n",
              "      <td>35.000</td>\n",
              "      <td>1</td>\n",
              "      <td>0</td>\n",
              "      <td>113803</td>\n",
              "      <td>53.100</td>\n",
              "      <td>C123</td>\n",
              "      <td>S</td>\n",
              "      <td>1</td>\n",
              "      <td>NO</td>\n",
              "      <td>44</td>\n",
              "      <td>7</td>\n",
              "      <td>0</td>\n",
              "      <td>Mrs</td>\n",
              "      <td>35.000</td>\n",
              "      <td>2</td>\n",
              "      <td>mature</td>\n",
              "      <td>maturefemale</td>\n",
              "    </tr>\n",
              "    <tr>\n",
              "      <th>4</th>\n",
              "      <td>0</td>\n",
              "      <td>3</td>\n",
              "      <td>Allen, Mr. William Henry</td>\n",
              "      <td>male</td>\n",
              "      <td>35.000</td>\n",
              "      <td>0</td>\n",
              "      <td>0</td>\n",
              "      <td>373450</td>\n",
              "      <td>8.050</td>\n",
              "      <td>NaN</td>\n",
              "      <td>S</td>\n",
              "      <td>0</td>\n",
              "      <td>YES</td>\n",
              "      <td>24</td>\n",
              "      <td>4</td>\n",
              "      <td>0</td>\n",
              "      <td>Mr</td>\n",
              "      <td>105.000</td>\n",
              "      <td>1</td>\n",
              "      <td>mature</td>\n",
              "      <td>maturemale</td>\n",
              "    </tr>\n",
              "  </tbody>\n",
              "</table>\n",
              "</div>\n",
              "      <button class=\"colab-df-convert\" onclick=\"convertToInteractive('df-6ff42fb8-763f-49e5-8da8-77f4549caedf')\"\n",
              "              title=\"Convert this dataframe to an interactive table.\"\n",
              "              style=\"display:none;\">\n",
              "        \n",
              "  <svg xmlns=\"http://www.w3.org/2000/svg\" height=\"24px\"viewBox=\"0 0 24 24\"\n",
              "       width=\"24px\">\n",
              "    <path d=\"M0 0h24v24H0V0z\" fill=\"none\"/>\n",
              "    <path d=\"M18.56 5.44l.94 2.06.94-2.06 2.06-.94-2.06-.94-.94-2.06-.94 2.06-2.06.94zm-11 1L8.5 8.5l.94-2.06 2.06-.94-2.06-.94L8.5 2.5l-.94 2.06-2.06.94zm10 10l.94 2.06.94-2.06 2.06-.94-2.06-.94-.94-2.06-.94 2.06-2.06.94z\"/><path d=\"M17.41 7.96l-1.37-1.37c-.4-.4-.92-.59-1.43-.59-.52 0-1.04.2-1.43.59L10.3 9.45l-7.72 7.72c-.78.78-.78 2.05 0 2.83L4 21.41c.39.39.9.59 1.41.59.51 0 1.02-.2 1.41-.59l7.78-7.78 2.81-2.81c.8-.78.8-2.07 0-2.86zM5.41 20L4 18.59l7.72-7.72 1.47 1.35L5.41 20z\"/>\n",
              "  </svg>\n",
              "      </button>\n",
              "      \n",
              "  <style>\n",
              "    .colab-df-container {\n",
              "      display:flex;\n",
              "      flex-wrap:wrap;\n",
              "      gap: 12px;\n",
              "    }\n",
              "\n",
              "    .colab-df-convert {\n",
              "      background-color: #E8F0FE;\n",
              "      border: none;\n",
              "      border-radius: 50%;\n",
              "      cursor: pointer;\n",
              "      display: none;\n",
              "      fill: #1967D2;\n",
              "      height: 32px;\n",
              "      padding: 0 0 0 0;\n",
              "      width: 32px;\n",
              "    }\n",
              "\n",
              "    .colab-df-convert:hover {\n",
              "      background-color: #E2EBFA;\n",
              "      box-shadow: 0px 1px 2px rgba(60, 64, 67, 0.3), 0px 1px 3px 1px rgba(60, 64, 67, 0.15);\n",
              "      fill: #174EA6;\n",
              "    }\n",
              "\n",
              "    [theme=dark] .colab-df-convert {\n",
              "      background-color: #3B4455;\n",
              "      fill: #D2E3FC;\n",
              "    }\n",
              "\n",
              "    [theme=dark] .colab-df-convert:hover {\n",
              "      background-color: #434B5C;\n",
              "      box-shadow: 0px 1px 3px 1px rgba(0, 0, 0, 0.15);\n",
              "      filter: drop-shadow(0px 1px 2px rgba(0, 0, 0, 0.3));\n",
              "      fill: #FFFFFF;\n",
              "    }\n",
              "  </style>\n",
              "\n",
              "      <script>\n",
              "        const buttonEl =\n",
              "          document.querySelector('#df-6ff42fb8-763f-49e5-8da8-77f4549caedf button.colab-df-convert');\n",
              "        buttonEl.style.display =\n",
              "          google.colab.kernel.accessAllowed ? 'block' : 'none';\n",
              "\n",
              "        async function convertToInteractive(key) {\n",
              "          const element = document.querySelector('#df-6ff42fb8-763f-49e5-8da8-77f4549caedf');\n",
              "          const dataTable =\n",
              "            await google.colab.kernel.invokeFunction('convertToInteractive',\n",
              "                                                     [key], {});\n",
              "          if (!dataTable) return;\n",
              "\n",
              "          const docLinkHtml = 'Like what you see? Visit the ' +\n",
              "            '<a target=\"_blank\" href=https://colab.research.google.com/notebooks/data_table.ipynb>data table notebook</a>'\n",
              "            + ' to learn more about interactive tables.';\n",
              "          element.innerHTML = '';\n",
              "          dataTable['output_type'] = 'display_data';\n",
              "          await google.colab.output.renderOutput(dataTable, element);\n",
              "          const docLink = document.createElement('div');\n",
              "          docLink.innerHTML = docLinkHtml;\n",
              "          element.appendChild(docLink);\n",
              "        }\n",
              "      </script>\n",
              "    </div>\n",
              "  </div>\n",
              "  "
            ]
          },
          "metadata": {},
          "execution_count": 1075
        }
      ]
    },
    {
      "cell_type": "markdown",
      "source": [
        "Değişken sayımızı tekrar bakalım."
      ],
      "metadata": {
        "id": "4-g7LqtZuPPC"
      }
    },
    {
      "cell_type": "code",
      "source": [
        "df.shape"
      ],
      "metadata": {
        "colab": {
          "base_uri": "https://localhost:8080/"
        },
        "id": "VvcxD9W_4wz9",
        "outputId": "b9ebfe73-daf9-44bc-c2de-a3d02895ef80"
      },
      "execution_count": 1076,
      "outputs": [
        {
          "output_type": "execute_result",
          "data": {
            "text/plain": [
              "(891, 21)"
            ]
          },
          "metadata": {},
          "execution_count": 1076
        }
      ]
    },
    {
      "cell_type": "markdown",
      "source": [
        "11 değişkenimiz vardı, şimdi ise 20 değişkene çıktı."
      ],
      "metadata": {
        "id": "DPI8uH3m5eu5"
      }
    },
    {
      "cell_type": "markdown",
      "source": [
        "* Değişken türetme işlemimiz tamamlandı.\n",
        "* Şimdi tekrardan değişkenlerimizi veri tiplerine göre ayrıştıralım."
      ],
      "metadata": {
        "id": "yE56MyRl64y_"
      }
    },
    {
      "cell_type": "code",
      "source": [
        "cat_cols, num_cols, cat_but_car = grab_col_names(df)"
      ],
      "metadata": {
        "colab": {
          "base_uri": "https://localhost:8080/"
        },
        "id": "6O7hSGrG7AV4",
        "outputId": "ef61827f-a717-4d28-a22f-a813df083334"
      },
      "execution_count": 1077,
      "outputs": [
        {
          "output_type": "stream",
          "name": "stdout",
          "text": [
            "Obsertavions - (Gözlem Sayısı): 891\n",
            "Variables (Değişken Sayısı): 21\n",
            "cat_cols (Kategorik Değişkenler): 14\n",
            "num_cols (Sayısal Değişkenler): 4\n",
            "cat_but_car (Kardinalitesi Yüksek Değişkenler): 3\n",
            "num_but_cat (Sayısal Görünümlü Kategorik Değişkenler): 8\n"
          ]
        }
      ]
    },
    {
      "cell_type": "code",
      "source": [
        "cat_cols"
      ],
      "metadata": {
        "colab": {
          "base_uri": "https://localhost:8080/"
        },
        "id": "A5S3w2BX7NKc",
        "outputId": "dc0f9b98-0e3f-4690-bb16-dba444a63c34"
      },
      "execution_count": 1078,
      "outputs": [
        {
          "output_type": "execute_result",
          "data": {
            "text/plain": [
              "['SEX',\n",
              " 'EMBARKED',\n",
              " 'NEW_IS_ALONE',\n",
              " 'NEW_TITLE',\n",
              " 'NEW_AGE_CAT',\n",
              " 'NEW_SEX_CAT',\n",
              " 'SURVIVED',\n",
              " 'PCLASS',\n",
              " 'SIBSP',\n",
              " 'PARCH',\n",
              " 'NEW_CABIN_FLAG',\n",
              " 'NEW_NAME_WORD_COUNT',\n",
              " 'NEW_NAME_DR',\n",
              " 'NEW_FAMILY_SIZE']"
            ]
          },
          "metadata": {},
          "execution_count": 1078
        }
      ]
    },
    {
      "cell_type": "code",
      "source": [
        "num_cols"
      ],
      "metadata": {
        "colab": {
          "base_uri": "https://localhost:8080/"
        },
        "id": "vSOFjQHX7Vnr",
        "outputId": "0ef02027-b00d-4388-b1a1-bed42f5be137"
      },
      "execution_count": 1079,
      "outputs": [
        {
          "output_type": "execute_result",
          "data": {
            "text/plain": [
              "['AGE', 'FARE', 'NEW_NAME_COUNT', 'NEW_AGE_PCLASS']"
            ]
          },
          "metadata": {},
          "execution_count": 1079
        }
      ]
    },
    {
      "cell_type": "code",
      "source": [
        "cat_but_car"
      ],
      "metadata": {
        "colab": {
          "base_uri": "https://localhost:8080/"
        },
        "id": "DNuVYJBW7ViM",
        "outputId": "ea715add-622f-46c5-d4b4-9a917582472f"
      },
      "execution_count": 1080,
      "outputs": [
        {
          "output_type": "execute_result",
          "data": {
            "text/plain": [
              "['NAME', 'TICKET', 'CABIN']"
            ]
          },
          "metadata": {},
          "execution_count": 1080
        }
      ]
    },
    {
      "cell_type": "markdown",
      "source": [
        "## **Aykırı Değerler (Outliers)**"
      ],
      "metadata": {
        "id": "U7KyoDZiey45"
      }
    },
    {
      "cell_type": "markdown",
      "source": [
        "Veri setindeki sayısal değişkenlerin genel eğilimin dışında kalan değerlere aykırı değer denir.\n",
        "\n"
      ],
      "metadata": {
        "id": "8LDRlzasXD8I"
      }
    },
    {
      "cell_type": "code",
      "source": [
        "for col in num_cols:\n",
        "  sns.boxplot(x=df[col])\n",
        "  plt.show(block=True)"
      ],
      "metadata": {
        "id": "ARa02Tuja1h0",
        "colab": {
          "base_uri": "https://localhost:8080/",
          "height": 1000
        },
        "outputId": "8c833550-b953-4ae2-e50d-68eda69d26b0"
      },
      "execution_count": 1081,
      "outputs": [
        {
          "output_type": "display_data",
          "data": {
            "text/plain": [
              "<Figure size 864x864 with 1 Axes>"
            ],
            "image/png": "[encoded data removed]"
          },
          "metadata": {}
        },
        {
          "output_type": "display_data",
          "data": {
            "text/plain": [
              "<Figure size 864x864 with 1 Axes>"
            ],
            "image/png": "[encoded data removed]"
          },
          "metadata": {}
        },
        {
          "output_type": "display_data",
          "data": {
            "text/plain": [
              "<Figure size 864x864 with 1 Axes>"
            ],
            "image/png": "[encoded data removed]"
          },
          "metadata": {}
        },
        {
          "output_type": "display_data",
          "data": {
            "text/plain": [
              "<Figure size 864x864 with 1 Axes>"
            ],
            "image/png": "[encoded data removed]"
          },
          "metadata": {}
        }
      ]
    },
    {
      "cell_type": "markdown",
      "source": [
        "* Görüldüğü üzere iki sayısal değişken için de incelediğimizde şuan aykırı değerler var.\n",
        "* Aykırı değerlerin eşik değerlerini hesaplayan bir fonksiyon yazalım.\n"
      ],
      "metadata": {
        "id": "YukrEj8IZRZu"
      }
    },
    {
      "cell_type": "code",
      "source": [
        "def outlier_thresholds(dataframe, col_name, q1=0.25, q3=0.75):\n",
        "  quartile1 = dataframe[col_name].quantile(q1)\n",
        "  quartile3 = dataframe[col_name].quantile(q3)\n",
        "  interquantile_range = quartile3 - quartile1\n",
        "  up_limit = quartile3 + 1.5 * interquantile_range\n",
        "  low_limit = quartile1 - 1.5 * interquantile_range\n",
        "  return low_limit, up_limit"
      ],
      "metadata": {
        "id": "oxeEpwATa1eZ"
      },
      "execution_count": 1082,
      "outputs": []
    },
    {
      "cell_type": "code",
      "source": [
        "for col in num_cols:\n",
        "  print(col, outlier_thresholds(df, col))"
      ],
      "metadata": {
        "id": "1Xp7VJjBa1cW",
        "colab": {
          "base_uri": "https://localhost:8080/"
        },
        "outputId": "1d9a411c-341d-4d60-994a-a5ab5d1ea0e0"
      },
      "execution_count": 1083,
      "outputs": [
        {
          "output_type": "stream",
          "name": "stdout",
          "text": [
            "AGE (-6.6875, 64.8125)\n",
            "FARE (-26.724, 65.6344)\n",
            "NEW_NAME_COUNT (5.0, 45.0)\n",
            "NEW_AGE_PCLASS (-26.5, 145.5)\n"
          ]
        }
      ]
    },
    {
      "cell_type": "markdown",
      "source": [
        "Veri setimiz de aykırı değer var mı sorusuna cavp arayalım."
      ],
      "metadata": {
        "id": "sBhxI7S1aOfV"
      }
    },
    {
      "cell_type": "code",
      "source": [
        "def check_outlier(dataframe, col_name):\n",
        "  low_limit, up_limit = outlier_thresholds(dataframe, col_name)\n",
        "  if dataframe[(dataframe[col_name] > up_limit) | (dataframe[col_name] < low_limit)].any(axis=None):\n",
        "    return True\n",
        "  else:\n",
        "    return False"
      ],
      "metadata": {
        "id": "eJnsKAtRa1Y1"
      },
      "execution_count": 1084,
      "outputs": []
    },
    {
      "cell_type": "code",
      "source": [
        "for col in num_cols:\n",
        "  print(col, check_outlier(df, col))"
      ],
      "metadata": {
        "id": "YLbBcdrba1WN",
        "colab": {
          "base_uri": "https://localhost:8080/"
        },
        "outputId": "e1c09874-2706-46e3-9a83-39d253deef95"
      },
      "execution_count": 1085,
      "outputs": [
        {
          "output_type": "stream",
          "name": "stdout",
          "text": [
            "AGE True\n",
            "FARE True\n",
            "NEW_NAME_COUNT True\n",
            "NEW_AGE_PCLASS True\n"
          ]
        }
      ]
    },
    {
      "cell_type": "markdown",
      "source": [
        "* Dört değişkende de aykırı olduğunu göstermekte.\n",
        "* Aykırı değere sahip gözlemleri erişmek için bir fonksiyon yazalım."
      ],
      "metadata": {
        "id": "4rJ8H_7Yanmz"
      }
    },
    {
      "cell_type": "code",
      "source": [
        "def grab_outliers(dataframe, col_name, index=False):\n",
        "  low, up = outlier_thresholds(dataframe, col_name)\n",
        "\n",
        "  if dataframe[((dataframe[col_name] < low) | (dataframe[col_name] > up))].shape[0] > 10:\n",
        "    print(dataframe[((dataframe[col_name] < low) | (dataframe[col_name] > up))].head())\n",
        "  else:\n",
        "    print(dataframe[((dataframe[col_name] < low) | (dataframe[col_name] > up))])\n",
        "  \n",
        "  if index:\n",
        "    outlier_index = dataframe[((dataframe[col_name] < low) | (dataframe[col_name] > up))].index\n",
        "    return outlier_index"
      ],
      "metadata": {
        "id": "VbnQ_nk1a1UO"
      },
      "execution_count": 1086,
      "outputs": []
    },
    {
      "cell_type": "markdown",
      "source": [
        "Yaş değişkeni için aykırı gözlemler ve index bilgileri."
      ],
      "metadata": {
        "id": "q-F1uYYQcUlf"
      }
    },
    {
      "cell_type": "code",
      "source": [
        "grab_outliers(df, \"AGE\", index=True)"
      ],
      "metadata": {
        "id": "0vvPExTEa1QN",
        "colab": {
          "base_uri": "https://localhost:8080/"
        },
        "outputId": "e3032f1c-5f56-4577-b62e-e988ddbdf9af"
      },
      "execution_count": 1087,
      "outputs": [
        {
          "output_type": "stream",
          "name": "stdout",
          "text": [
            "     SURVIVED  PCLASS                            NAME   SEX    AGE  SIBSP  PARCH      TICKET   FARE CABIN EMBARKED  NEW_CABIN_FLAG NEW_IS_ALONE  NEW_NAME_COUNT  NEW_NAME_WORD_COUNT  NEW_NAME_DR NEW_TITLE  NEW_AGE_PCLASS  NEW_FAMILY_SIZE NEW_AGE_CAT NEW_SEX_CAT\n",
            "33          0       2           Wheadon, Mr. Edward H  male 66.000      0      0  C.A. 24579 10.500   NaN        S               0          YES              21                    4            0        Mr         132.000                1      senior  seniormale\n",
            "54          0       1  Ostby, Mr. Engelhart Cornelius  male 65.000      0      1      113509 61.979   B30        C               1           NO              30                    4            0        Mr          65.000                2      senior  seniormale\n",
            "96          0       1       Goldschmidt, Mr. George B  male 71.000      0      0    PC 17754 34.654    A5        C               1          YES              25                    4            0        Mr          71.000                1      senior  seniormale\n",
            "116         0       3            Connors, Mr. Patrick  male 70.500      0      0      370369  7.750   NaN        Q               0          YES              20                    3            0        Mr         211.500                1      senior  seniormale\n",
            "280         0       3                Duane, Mr. Frank  male 65.000      0      0      336439  7.750   NaN        Q               0          YES              16                    3            0        Mr         195.000                1      senior  seniormale\n"
          ]
        },
        {
          "output_type": "execute_result",
          "data": {
            "text/plain": [
              "Int64Index([33, 54, 96, 116, 280, 456, 493, 630, 672, 745, 851], dtype='int64')"
            ]
          },
          "metadata": {},
          "execution_count": 1087
        }
      ]
    },
    {
      "cell_type": "markdown",
      "source": [
        "Fare değişkeni için aykırı olan gözlemler ve index bilgileri."
      ],
      "metadata": {
        "id": "GE8VCUSocX_v"
      }
    },
    {
      "cell_type": "code",
      "source": [
        "grab_outliers(df, \"FARE\", index=True)"
      ],
      "metadata": {
        "id": "dckJ9tEva1Nr",
        "colab": {
          "base_uri": "https://localhost:8080/"
        },
        "outputId": "b54d1ece-6fde-4fd4-827f-1b344851cca3"
      },
      "execution_count": 1088,
      "outputs": [
        {
          "output_type": "stream",
          "name": "stdout",
          "text": [
            "    SURVIVED  PCLASS                                               NAME     SEX    AGE  SIBSP  PARCH    TICKET    FARE        CABIN EMBARKED  NEW_CABIN_FLAG NEW_IS_ALONE  NEW_NAME_COUNT  NEW_NAME_WORD_COUNT  NEW_NAME_DR NEW_TITLE  NEW_AGE_PCLASS  NEW_FAMILY_SIZE NEW_AGE_CAT   NEW_SEX_CAT\n",
            "1          1       1  Cumings, Mrs. John Bradley (Florence Briggs Th...  female 38.000      1      0  PC 17599  71.283          C85        C               1           NO              51                    7            0       Mrs          38.000                2      mature  maturefemale\n",
            "27         0       1                     Fortune, Mr. Charles Alexander    male 19.000      3      2     19950 263.000  C23 C25 C27        S               1           NO              30                    4            0        Mr          19.000                6      mature     youngmale\n",
            "31         1       1     Spencer, Mrs. William Augustus (Marie Eugenie)  female    NaN      1      0  PC 17569 146.521          B78        C               1           NO              46                    6            0       Mrs             NaN                2         NaN           NaN\n",
            "34         0       1                            Meyer, Mr. Edgar Joseph    male 28.000      1      0  PC 17604  82.171          NaN        C               0           NO              23                    4            0        Mr          28.000                2      mature    maturemale\n",
            "52         1       1           Harper, Mrs. Henry Sleeper (Myna Haxtun)  female 49.000      1      0  PC 17572  76.729          D33        C               1           NO              40                    6            0       Mrs          49.000                2      mature  maturefemale\n"
          ]
        },
        {
          "output_type": "execute_result",
          "data": {
            "text/plain": [
              "Int64Index([  1,  27,  31,  34,  52,  61,  62,  72,  88, 102,\n",
              "            ...\n",
              "            792, 802, 820, 829, 835, 846, 849, 856, 863, 879], dtype='int64', length=116)"
            ]
          },
          "metadata": {},
          "execution_count": 1088
        }
      ]
    },
    {
      "cell_type": "markdown",
      "source": [
        "NEW_NAME_COUNT değişkeni için aykırı olan gözlemler ve index bilgileri."
      ],
      "metadata": {
        "id": "kKQdojvmupGS"
      }
    },
    {
      "cell_type": "code",
      "source": [
        "grab_outliers(df, \"NEW_NAME_COUNT\", index=True)"
      ],
      "metadata": {
        "colab": {
          "base_uri": "https://localhost:8080/"
        },
        "id": "T07TR_wpurYs",
        "outputId": "4c7b32a9-aa16-44aa-8c87-e8155a1bc022"
      },
      "execution_count": 1089,
      "outputs": [
        {
          "output_type": "stream",
          "name": "stdout",
          "text": [
            "    SURVIVED  PCLASS                                               NAME     SEX    AGE  SIBSP  PARCH    TICKET    FARE CABIN EMBARKED  NEW_CABIN_FLAG NEW_IS_ALONE  NEW_NAME_COUNT  NEW_NAME_WORD_COUNT  NEW_NAME_DR NEW_TITLE  NEW_AGE_PCLASS  NEW_FAMILY_SIZE NEW_AGE_CAT   NEW_SEX_CAT\n",
            "1          1       1  Cumings, Mrs. John Bradley (Florence Briggs Th...  female 38.000      1      0  PC 17599  71.283   C85        C               1           NO              51                    7            0       Mrs          38.000                2      mature  maturefemale\n",
            "8          1       3  Johnson, Mrs. Oscar W (Elisabeth Vilhelmina Berg)  female 27.000      0      2    347742  11.133   NaN        S               0           NO              49                    7            0       Mrs          81.000                3      mature  maturefemale\n",
            "18         0       3  Vander Planke, Mrs. Julius (Emelia Maria Vande...  female 31.000      1      0    345763  18.000   NaN        S               0           NO              55                    7            0       Mrs          93.000                2      mature  maturefemale\n",
            "25         1       3  Asplund, Mrs. Carl Oscar (Selma Augusta Emilia...  female 38.000      1      5    347077  31.387   NaN        S               0           NO              57                    8            0       Mrs         114.000                7      mature  maturefemale\n",
            "31         1       1     Spencer, Mrs. William Augustus (Marie Eugenie)  female    NaN      1      0  PC 17569 146.521   B78        C               1           NO              46                    6            0       Mrs             NaN                2         NaN           NaN\n"
          ]
        },
        {
          "output_type": "execute_result",
          "data": {
            "text/plain": [
              "Int64Index([1, 8, 18, 25, 31, 40, 41, 53, 85, 132, 142, 161, 165, 167, 186, 192, 299, 307, 319, 323, 328, 334, 366, 383, 394, 416, 423, 427, 431, 432, 486, 498, 513, 518, 523, 556, 581, 591, 600, 608, 610, 617, 669, 670, 700, 705, 709, 710, 759, 779, 799, 809, 820, 862, 871], dtype='int64')"
            ]
          },
          "metadata": {},
          "execution_count": 1089
        }
      ]
    },
    {
      "cell_type": "markdown",
      "source": [
        "NEW_AGE_PCLASS değişkeni için aykırı olan gözlemler ve index bilgileri."
      ],
      "metadata": {
        "id": "8uAKSByMu2G4"
      }
    },
    {
      "cell_type": "code",
      "source": [
        "grab_outliers(df, \"NEW_AGE_PCLASS\", index=True)"
      ],
      "metadata": {
        "colab": {
          "base_uri": "https://localhost:8080/"
        },
        "id": "thQc2Wvtu2oj",
        "outputId": "b1f9de7a-3506-4d73-b27c-62bffeb65c30"
      },
      "execution_count": 1090,
      "outputs": [
        {
          "output_type": "stream",
          "name": "stdout",
          "text": [
            "     SURVIVED  PCLASS                     NAME   SEX    AGE  SIBSP  PARCH      TICKET  FARE CABIN EMBARKED  NEW_CABIN_FLAG NEW_IS_ALONE  NEW_NAME_COUNT  NEW_NAME_WORD_COUNT  NEW_NAME_DR NEW_TITLE  NEW_AGE_PCLASS  NEW_FAMILY_SIZE NEW_AGE_CAT NEW_SEX_CAT\n",
            "94          0       3        Coxon, Mr. Daniel  male 59.000      0      0      364500 7.250   NaN        S               0          YES              17                    3            0        Mr         177.000                1      senior  seniormale\n",
            "116         0       3     Connors, Mr. Patrick  male 70.500      0      0      370369 7.750   NaN        Q               0          YES              20                    3            0        Mr         211.500                1      senior  seniormale\n",
            "152         0       3         Meo, Mr. Alfonzo  male 55.500      0      0  A.5. 11206 8.050   NaN        S               0          YES              16                    3            0        Mr         166.500                1      mature  seniormale\n",
            "222         0       3  Green, Mr. George Henry  male 51.000      0      0       21440 8.050   NaN        S               0          YES              23                    4            0        Mr         153.000                1      mature  seniormale\n",
            "280         0       3         Duane, Mr. Frank  male 65.000      0      0      336439 7.750   NaN        Q               0          YES              16                    3            0        Mr         195.000                1      senior  seniormale\n"
          ]
        },
        {
          "output_type": "execute_result",
          "data": {
            "text/plain": [
              "Int64Index([94, 116, 152, 222, 280, 326, 406, 482, 483, 597, 631, 851], dtype='int64')"
            ]
          },
          "metadata": {},
          "execution_count": 1090
        }
      ]
    },
    {
      "cell_type": "markdown",
      "source": [
        "**Aykırı değer problemini baskılama yöntemini ile çözelim.**"
      ],
      "metadata": {
        "id": "810BSj29fOOQ"
      }
    },
    {
      "cell_type": "markdown",
      "source": [
        "Aykırı değerleri alt sınırın altındaki değerlere alt sınır, üst sınırın üstünde kalan değerlere ise üst sınır değerleri ile değiştirebileceğimiz bir fonksiyon yazalım."
      ],
      "metadata": {
        "id": "7OX-bzGmfqVZ"
      }
    },
    {
      "cell_type": "code",
      "source": [
        "def replace_with_threasholds(dataframe, variable):\n",
        "  low_limit, up_limit = outlier_thresholds(dataframe, variable)\n",
        "  dataframe.loc[(dataframe[variable] < low_limit), variable] = low_limit\n",
        "  dataframe.loc[(dataframe[variable] > up_limit), variable] = up_limit"
      ],
      "metadata": {
        "id": "PhGyDhV_aGhv"
      },
      "execution_count": 1091,
      "outputs": []
    },
    {
      "cell_type": "markdown",
      "source": [
        "Aykırı değere sahip tüm sayısal değişkenler için aykırı değerleri eşik değerleri ile baskılayalım."
      ],
      "metadata": {
        "id": "CXyZjiFDfmGW"
      }
    },
    {
      "cell_type": "code",
      "source": [
        "for col in num_cols:\n",
        "  replace_with_threasholds(df, col)"
      ],
      "metadata": {
        "id": "miEGCUMcaGdZ"
      },
      "execution_count": 1092,
      "outputs": []
    },
    {
      "cell_type": "markdown",
      "source": [
        "* Aykırı değer problemimiz çözüldü.\n",
        "* Tekrardan aykırı değer sorgusu yapalım."
      ],
      "metadata": {
        "id": "V5tC4LREgFM_"
      }
    },
    {
      "cell_type": "code",
      "source": [
        "for col in num_cols:\n",
        "  print(col, check_outlier(df, col))"
      ],
      "metadata": {
        "colab": {
          "base_uri": "https://localhost:8080/"
        },
        "outputId": "80f9b903-bf34-4325-f587-1e3f07824955",
        "id": "t2PrK1KsgN5h"
      },
      "execution_count": 1093,
      "outputs": [
        {
          "output_type": "stream",
          "name": "stdout",
          "text": [
            "AGE False\n",
            "FARE False\n",
            "NEW_NAME_COUNT False\n",
            "NEW_AGE_PCLASS False\n"
          ]
        }
      ]
    },
    {
      "cell_type": "markdown",
      "source": [
        "Görüldüğü üzere artık aykırı değerimiz kalmadı."
      ],
      "metadata": {
        "id": "pvHwtd2ngQCU"
      }
    },
    {
      "cell_type": "markdown",
      "source": [
        "## **Eksik Değerler (Missing Values)**"
      ],
      "metadata": {
        "id": "ofDZQ8cm79pc"
      }
    },
    {
      "cell_type": "markdown",
      "source": [
        "* Öncelikle CABIN değişkeni tek başına bir bilgi taşımıyor o yüzden bu değişkeni silelim.\n",
        "* Feature Engineering bölümünde zaten bu değişkenden yeni değişken türetmiştir.\n",
        "* Ayrıca Ticket ve NAME değişkenlerini de silelim.\n",
        "* Çünkü NAME değişkeni kardinalitesi yüksek bir değişken ve TICKET değişkeni de bilgi taşımamakta.\n"
      ],
      "metadata": {
        "id": "qKSH76lFAK4s"
      }
    },
    {
      "cell_type": "code",
      "source": [
        "df.drop(\"CABIN\", inplace=True,  axis=1)"
      ],
      "metadata": {
        "id": "XsdbvLVAAWLL"
      },
      "execution_count": 1094,
      "outputs": []
    },
    {
      "cell_type": "code",
      "source": [
        "remove_cols = [\"TICKET\", \"NAME\"]"
      ],
      "metadata": {
        "id": "J_B_I6ALAzZm"
      },
      "execution_count": 1095,
      "outputs": []
    },
    {
      "cell_type": "code",
      "source": [
        "df.drop(remove_cols, inplace=True, axis=1)"
      ],
      "metadata": {
        "id": "xnv0ue8cA6VF"
      },
      "execution_count": 1096,
      "outputs": []
    },
    {
      "cell_type": "markdown",
      "source": [
        "Değişkenler de eksik değer var mı bununn sorgusunu yapıp ardından eksik değerleri dolduralım."
      ],
      "metadata": {
        "id": "BLOV8jS_8v_S"
      }
    },
    {
      "cell_type": "markdown",
      "source": [
        "Değişken bazında eksik değer sorgusu yapalım."
      ],
      "metadata": {
        "id": "KF5TkNQZ-2iH"
      }
    },
    {
      "cell_type": "code",
      "source": [
        "df.isnull().sum()"
      ],
      "metadata": {
        "colab": {
          "base_uri": "https://localhost:8080/"
        },
        "id": "3AhsYlY2-xNN",
        "outputId": "49a50a8c-2bca-408d-e81c-039f1ae67b9a"
      },
      "execution_count": 1097,
      "outputs": [
        {
          "output_type": "execute_result",
          "data": {
            "text/plain": [
              "SURVIVED                 0\n",
              "PCLASS                   0\n",
              "SEX                      0\n",
              "AGE                    177\n",
              "SIBSP                    0\n",
              "PARCH                    0\n",
              "FARE                     0\n",
              "EMBARKED                 2\n",
              "NEW_CABIN_FLAG           0\n",
              "NEW_IS_ALONE             0\n",
              "NEW_NAME_COUNT           0\n",
              "NEW_NAME_WORD_COUNT      0\n",
              "NEW_NAME_DR              0\n",
              "NEW_TITLE                0\n",
              "NEW_AGE_PCLASS         177\n",
              "NEW_FAMILY_SIZE          0\n",
              "NEW_AGE_CAT            203\n",
              "NEW_SEX_CAT            177\n",
              "dtype: int64"
            ]
          },
          "metadata": {},
          "execution_count": 1097
        }
      ]
    },
    {
      "cell_type": "markdown",
      "source": [
        "Toplam da beş tane eksik değer bulunmakta.\n",
        "* Bu eksik değerler için bir fonksiyon yazalım.\n",
        "* Bize eksik değerlerin veri seti boyutuna oranını ve eksik değre sahip değişkenleri getirsin."
      ],
      "metadata": {
        "id": "OJdww22G_B9z"
      }
    },
    {
      "cell_type": "code",
      "source": [
        "def missing_values_table(dataframe, na_name=False):\n",
        "  na_columns = [col for col in dataframe.columns if dataframe[col].isnull().sum() > 0]\n",
        "  n_miss = dataframe[na_columns].isnull().sum().sort_values(ascending=False)\n",
        "  ratio = (dataframe[na_columns].isnull().sum() / df.shape[0] * 100).sort_values(ascending=False)\n",
        "  missing_df = pd.concat([n_miss, np.round(ratio, 2)], axis=1, keys=[\"n_miss\", \"ratio\"])\n",
        "  print(missing_df, end=\"\\n\")\n",
        "\n",
        "  if na_name:\n",
        "    return na_columns"
      ],
      "metadata": {
        "id": "KA-DvKrNaGXl"
      },
      "execution_count": 1098,
      "outputs": []
    },
    {
      "cell_type": "code",
      "source": [
        "missing_values_table(df, na_name=True)"
      ],
      "metadata": {
        "id": "6ivPu_NAaGTL",
        "colab": {
          "base_uri": "https://localhost:8080/"
        },
        "outputId": "22208a9e-7e79-45d3-f66a-32a22cf34adf"
      },
      "execution_count": 1099,
      "outputs": [
        {
          "output_type": "stream",
          "name": "stdout",
          "text": [
            "                n_miss  ratio\n",
            "NEW_AGE_CAT        203 22.780\n",
            "AGE                177 19.870\n",
            "NEW_AGE_PCLASS     177 19.870\n",
            "NEW_SEX_CAT        177 19.870\n",
            "EMBARKED             2  0.220\n"
          ]
        },
        {
          "output_type": "execute_result",
          "data": {
            "text/plain": [
              "['AGE', 'EMBARKED', 'NEW_AGE_PCLASS', 'NEW_AGE_CAT', 'NEW_SEX_CAT']"
            ]
          },
          "metadata": {},
          "execution_count": 1099
        }
      ]
    },
    {
      "cell_type": "markdown",
      "source": [
        "Yaş değişkenini yaş değişkenin eksik değerleri yeni oluşturduğumuz NEW_TITLE kırılımında median değerlerini o title'a bağlı eksik yaş değerlerine atayalım."
      ],
      "metadata": {
        "id": "xY3778aFESxF"
      }
    },
    {
      "cell_type": "code",
      "source": [
        "df[\"AGE\"] = df[\"AGE\"].fillna(df.groupby(\"NEW_TITLE\")[\"AGE\"].transform(\"median\"))"
      ],
      "metadata": {
        "id": "cAHiU6voaGNx"
      },
      "execution_count": 1100,
      "outputs": []
    },
    {
      "cell_type": "code",
      "source": [
        "missing_values_table(df, na_name=True)"
      ],
      "metadata": {
        "id": "IvmBO-ACaGKJ",
        "colab": {
          "base_uri": "https://localhost:8080/"
        },
        "outputId": "9e2e7e2d-67a1-4a20-b14e-44329176da80"
      },
      "execution_count": 1101,
      "outputs": [
        {
          "output_type": "stream",
          "name": "stdout",
          "text": [
            "                n_miss  ratio\n",
            "NEW_AGE_CAT        203 22.780\n",
            "NEW_AGE_PCLASS     177 19.870\n",
            "NEW_SEX_CAT        177 19.870\n",
            "EMBARKED             2  0.220\n"
          ]
        },
        {
          "output_type": "execute_result",
          "data": {
            "text/plain": [
              "['EMBARKED', 'NEW_AGE_PCLASS', 'NEW_AGE_CAT', 'NEW_SEX_CAT']"
            ]
          },
          "metadata": {},
          "execution_count": 1101
        }
      ]
    },
    {
      "cell_type": "markdown",
      "source": [
        "* Yaş değişkenindeki eksik değerler gitti ama yaş değişkeninden oluşturduğumuz yeni değişkenlerin eksik değerleri gitmedi.\n",
        "* O değişkenleri tekrardan oluşturmalıyız."
      ],
      "metadata": {
        "id": "92Szerx5Epb-"
      }
    },
    {
      "cell_type": "code",
      "execution_count": 1102,
      "metadata": {
        "id": "T-UwLB-WQmfs"
      },
      "outputs": [],
      "source": [
        "df[\"NEW_AGE_PCLASS\"] = df[\"AGE\"] * df[\"PCLASS\"]"
      ]
    },
    {
      "cell_type": "code",
      "execution_count": 1103,
      "metadata": {
        "id": "jD2S6_g8Qkgn"
      },
      "outputs": [],
      "source": [
        "df.loc[(df['AGE'] < 18), 'NEW_AGE_CAT'] = 'young'\n",
        "df.loc[(df['AGE'] >= 18) & (df['AGE'] < 56), 'NEW_AGE_CAT'] = 'mature'\n",
        "df.loc[(df['AGE'] >= 56), 'NEW_AGE_CAT'] = 'senior'"
      ]
    },
    {
      "cell_type": "code",
      "execution_count": 1104,
      "metadata": {
        "id": "C4I9MXdbH7sE"
      },
      "outputs": [],
      "source": [
        "df.loc[(df['SEX'] == 'male') & (df['AGE'] <= 21), 'NEW_SEX_CAT'] = 'youngmale'\n",
        "df.loc[(df['SEX'] == 'male') & (df['AGE'] > 21) & (df['AGE'] < 50), 'NEW_SEX_CAT'] = 'maturemale'\n",
        "df.loc[(df['SEX'] == 'male') & (df['AGE'] >= 50), 'NEW_SEX_CAT'] = 'seniormale'\n",
        "df.loc[(df['SEX'] == 'female') & (df['AGE'] <= 21), 'NEW_SEX_CAT'] = 'youngfemale'\n",
        "df.loc[(df['SEX'] == 'female') & (df['AGE'] > 21) & (df['AGE'] < 50), 'NEW_SEX_CAT'] = 'maturefemale'\n",
        "df.loc[(df['SEX'] == 'female') & (df['AGE'] >= 50), 'NEW_SEX_CAT'] = 'seniorfemale'"
      ]
    },
    {
      "cell_type": "markdown",
      "source": [
        "Tekrardan eksik değer kontrolü yapalım."
      ],
      "metadata": {
        "id": "xw1eGpCSE5dl"
      }
    },
    {
      "cell_type": "code",
      "source": [
        "missing_values_table(df, na_name=True)"
      ],
      "metadata": {
        "id": "7gr57sMyaGHY",
        "colab": {
          "base_uri": "https://localhost:8080/"
        },
        "outputId": "9058ca97-6f3c-499e-902b-fd70b3219b34"
      },
      "execution_count": 1105,
      "outputs": [
        {
          "output_type": "stream",
          "name": "stdout",
          "text": [
            "          n_miss  ratio\n",
            "EMBARKED       2  0.220\n"
          ]
        },
        {
          "output_type": "execute_result",
          "data": {
            "text/plain": [
              "['EMBARKED']"
            ]
          },
          "metadata": {},
          "execution_count": 1105
        }
      ]
    },
    {
      "cell_type": "markdown",
      "source": [
        "* EMBARKED değişkeni hariç diğer değişkenlerin eksik değerli doldurulmuş oldu.\n",
        "* EMBARKED değişkenine de o değişkeni mode'u ile (en çok tekrar eden değeri) dolduralım.\n",
        "* Genellenebilirlik kaygısından dolayı kategorik tipteki tüm değişkenlerin için mode'u ile doldurmaya çalıştık.\n",
        "* Yani EMBARKED değişkeni haricinde eksik değere sahip kategorik değişken olmuş olsaydı onları da mode'u ile doldurmuş olacaktık."
      ],
      "metadata": {
        "id": "A-OEdolOFBS1"
      }
    },
    {
      "cell_type": "code",
      "source": [
        "df = df.apply(lambda x: x.fillna(x.mode()[0]) if (x.dtype == \"O\" and len(x.unique()) <= 10) else x, axis=0)"
      ],
      "metadata": {
        "id": "hA4HHD4QaGEb"
      },
      "execution_count": 1106,
      "outputs": []
    },
    {
      "cell_type": "markdown",
      "source": [
        "Son olarak tekrardan eksik değerler ile dolduralım."
      ],
      "metadata": {
        "id": "9eBC3REOFpmR"
      }
    },
    {
      "cell_type": "code",
      "source": [
        "missing_values_table(df, na_name=True)"
      ],
      "metadata": {
        "id": "n-omj1sHaGA1",
        "colab": {
          "base_uri": "https://localhost:8080/"
        },
        "outputId": "1d0a3c8d-a097-4727-e7fc-7094fab3cae0"
      },
      "execution_count": 1107,
      "outputs": [
        {
          "output_type": "stream",
          "name": "stdout",
          "text": [
            "Empty DataFrame\n",
            "Columns: [n_miss, ratio]\n",
            "Index: []\n"
          ]
        },
        {
          "output_type": "execute_result",
          "data": {
            "text/plain": [
              "[]"
            ]
          },
          "metadata": {},
          "execution_count": 1107
        }
      ]
    },
    {
      "cell_type": "markdown",
      "source": [
        "Artık eksik değerimiz yok."
      ],
      "metadata": {
        "id": "9PqUIRSSF0H_"
      }
    },
    {
      "cell_type": "markdown",
      "source": [
        "## **Encoding**"
      ],
      "metadata": {
        "id": "aaYUS8eSGBdl"
      }
    },
    {
      "cell_type": "markdown",
      "source": [
        "**Label Encoding**"
      ],
      "metadata": {
        "id": "3AY8-4BQHHvG"
      }
    },
    {
      "cell_type": "markdown",
      "source": [
        "Eşsiz sınıf değeri iki olup category ve object tipteki değişkenleri dönüştürelim."
      ],
      "metadata": {
        "id": "ivv82exzGVuE"
      }
    },
    {
      "cell_type": "code",
      "source": [
        "binary_cols = [col for col in df.columns if df[col].dtype not in [int, float] and df[col].nunique() == 2]"
      ],
      "metadata": {
        "id": "bHcUvGZlaF7R"
      },
      "execution_count": 1108,
      "outputs": []
    },
    {
      "cell_type": "code",
      "source": [
        "binary_cols"
      ],
      "metadata": {
        "id": "OT0Jz17BaF4X",
        "colab": {
          "base_uri": "https://localhost:8080/"
        },
        "outputId": "4fea3d2d-ba33-44a9-bbbd-3186e1ce3ca1"
      },
      "execution_count": 1109,
      "outputs": [
        {
          "output_type": "execute_result",
          "data": {
            "text/plain": [
              "['SEX', 'NEW_IS_ALONE']"
            ]
          },
          "metadata": {},
          "execution_count": 1109
        }
      ]
    },
    {
      "cell_type": "code",
      "source": [
        "def label_encoder(dataframe, binary_col): #binary_col: Yani iki sınıflı bir değişken girmemiz gerekiyor.\n",
        "  labelencoder = LabelEncoder()\n",
        "  dataframe[binary_col] = labelencoder.fit_transform(dataframe[binary_col])\n",
        "  return dataframe"
      ],
      "metadata": {
        "id": "pzJ18cE2aF11"
      },
      "execution_count": 1110,
      "outputs": []
    },
    {
      "cell_type": "code",
      "source": [
        "for col in binary_cols:\n",
        "  df = label_encoder(df, col)"
      ],
      "metadata": {
        "id": "nSvPbHmvaFzN"
      },
      "execution_count": 1111,
      "outputs": []
    },
    {
      "cell_type": "code",
      "source": [
        "df.head()"
      ],
      "metadata": {
        "id": "xm4nmrLGaFhr",
        "colab": {
          "base_uri": "https://localhost:8080/",
          "height": 270
        },
        "outputId": "78926aaf-4d6a-45d5-c578-7a1888ed28bb"
      },
      "execution_count": 1112,
      "outputs": [
        {
          "output_type": "execute_result",
          "data": {
            "text/plain": [
              "   SURVIVED  PCLASS  SEX    AGE  SIBSP  PARCH   FARE EMBARKED  NEW_CABIN_FLAG  NEW_IS_ALONE  NEW_NAME_COUNT  NEW_NAME_WORD_COUNT  NEW_NAME_DR NEW_TITLE  NEW_AGE_PCLASS  NEW_FAMILY_SIZE NEW_AGE_CAT   NEW_SEX_CAT\n",
              "0         0       3    1 22.000      1      0  7.250        S               0             0              23                    4            0        Mr          66.000                2      mature    maturemale\n",
              "1         1       1    0 38.000      1      0 65.634        C               1             0              45                    7            0       Mrs          38.000                2      mature  maturefemale\n",
              "2         1       3    0 26.000      0      0  7.925        S               0             1              22                    3            0      Miss          78.000                1      mature  maturefemale\n",
              "3         1       1    0 35.000      1      0 53.100        S               1             0              44                    7            0       Mrs          35.000                2      mature  maturefemale\n",
              "4         0       3    1 35.000      0      0  8.050        S               0             1              24                    4            0        Mr         105.000                1      mature    maturemale"
            ],
            "text/html": [
              "\n",
              "  <div id=\"df-0c4b18a2-64ed-4978-8163-c4c9a79114f1\">\n",
              "    <div class=\"colab-df-container\">\n",
              "      <div>\n",
              "<style scoped>\n",
              "    .dataframe tbody tr th:only-of-type {\n",
              "        vertical-align: middle;\n",
              "    }\n",
              "\n",
              "    .dataframe tbody tr th {\n",
              "        vertical-align: top;\n",
              "    }\n",
              "\n",
              "    .dataframe thead th {\n",
              "        text-align: right;\n",
              "    }\n",
              "</style>\n",
              "<table border=\"1\" class=\"dataframe\">\n",
              "  <thead>\n",
              "    <tr style=\"text-align: right;\">\n",
              "      <th></th>\n",
              "      <th>SURVIVED</th>\n",
              "      <th>PCLASS</th>\n",
              "      <th>SEX</th>\n",
              "      <th>AGE</th>\n",
              "      <th>SIBSP</th>\n",
              "      <th>PARCH</th>\n",
              "      <th>FARE</th>\n",
              "      <th>EMBARKED</th>\n",
              "      <th>NEW_CABIN_FLAG</th>\n",
              "      <th>NEW_IS_ALONE</th>\n",
              "      <th>NEW_NAME_COUNT</th>\n",
              "      <th>NEW_NAME_WORD_COUNT</th>\n",
              "      <th>NEW_NAME_DR</th>\n",
              "      <th>NEW_TITLE</th>\n",
              "      <th>NEW_AGE_PCLASS</th>\n",
              "      <th>NEW_FAMILY_SIZE</th>\n",
              "      <th>NEW_AGE_CAT</th>\n",
              "      <th>NEW_SEX_CAT</th>\n",
              "    </tr>\n",
              "  </thead>\n",
              "  <tbody>\n",
              "    <tr>\n",
              "      <th>0</th>\n",
              "      <td>0</td>\n",
              "      <td>3</td>\n",
              "      <td>1</td>\n",
              "      <td>22.000</td>\n",
              "      <td>1</td>\n",
              "      <td>0</td>\n",
              "      <td>7.250</td>\n",
              "      <td>S</td>\n",
              "      <td>0</td>\n",
              "      <td>0</td>\n",
              "      <td>23</td>\n",
              "      <td>4</td>\n",
              "      <td>0</td>\n",
              "      <td>Mr</td>\n",
              "      <td>66.000</td>\n",
              "      <td>2</td>\n",
              "      <td>mature</td>\n",
              "      <td>maturemale</td>\n",
              "    </tr>\n",
              "    <tr>\n",
              "      <th>1</th>\n",
              "      <td>1</td>\n",
              "      <td>1</td>\n",
              "      <td>0</td>\n",
              "      <td>38.000</td>\n",
              "      <td>1</td>\n",
              "      <td>0</td>\n",
              "      <td>65.634</td>\n",
              "      <td>C</td>\n",
              "      <td>1</td>\n",
              "      <td>0</td>\n",
              "      <td>45</td>\n",
              "      <td>7</td>\n",
              "      <td>0</td>\n",
              "      <td>Mrs</td>\n",
              "      <td>38.000</td>\n",
              "      <td>2</td>\n",
              "      <td>mature</td>\n",
              "      <td>maturefemale</td>\n",
              "    </tr>\n",
              "    <tr>\n",
              "      <th>2</th>\n",
              "      <td>1</td>\n",
              "      <td>3</td>\n",
              "      <td>0</td>\n",
              "      <td>26.000</td>\n",
              "      <td>0</td>\n",
              "      <td>0</td>\n",
              "      <td>7.925</td>\n",
              "      <td>S</td>\n",
              "      <td>0</td>\n",
              "      <td>1</td>\n",
              "      <td>22</td>\n",
              "      <td>3</td>\n",
              "      <td>0</td>\n",
              "      <td>Miss</td>\n",
              "      <td>78.000</td>\n",
              "      <td>1</td>\n",
              "      <td>mature</td>\n",
              "      <td>maturefemale</td>\n",
              "    </tr>\n",
              "    <tr>\n",
              "      <th>3</th>\n",
              "      <td>1</td>\n",
              "      <td>1</td>\n",
              "      <td>0</td>\n",
              "      <td>35.000</td>\n",
              "      <td>1</td>\n",
              "      <td>0</td>\n",
              "      <td>53.100</td>\n",
              "      <td>S</td>\n",
              "      <td>1</td>\n",
              "      <td>0</td>\n",
              "      <td>44</td>\n",
              "      <td>7</td>\n",
              "      <td>0</td>\n",
              "      <td>Mrs</td>\n",
              "      <td>35.000</td>\n",
              "      <td>2</td>\n",
              "      <td>mature</td>\n",
              "      <td>maturefemale</td>\n",
              "    </tr>\n",
              "    <tr>\n",
              "      <th>4</th>\n",
              "      <td>0</td>\n",
              "      <td>3</td>\n",
              "      <td>1</td>\n",
              "      <td>35.000</td>\n",
              "      <td>0</td>\n",
              "      <td>0</td>\n",
              "      <td>8.050</td>\n",
              "      <td>S</td>\n",
              "      <td>0</td>\n",
              "      <td>1</td>\n",
              "      <td>24</td>\n",
              "      <td>4</td>\n",
              "      <td>0</td>\n",
              "      <td>Mr</td>\n",
              "      <td>105.000</td>\n",
              "      <td>1</td>\n",
              "      <td>mature</td>\n",
              "      <td>maturemale</td>\n",
              "    </tr>\n",
              "  </tbody>\n",
              "</table>\n",
              "</div>\n",
              "      <button class=\"colab-df-convert\" onclick=\"convertToInteractive('df-0c4b18a2-64ed-4978-8163-c4c9a79114f1')\"\n",
              "              title=\"Convert this dataframe to an interactive table.\"\n",
              "              style=\"display:none;\">\n",
              "        \n",
              "  <svg xmlns=\"http://www.w3.org/2000/svg\" height=\"24px\"viewBox=\"0 0 24 24\"\n",
              "       width=\"24px\">\n",
              "    <path d=\"M0 0h24v24H0V0z\" fill=\"none\"/>\n",
              "    <path d=\"M18.56 5.44l.94 2.06.94-2.06 2.06-.94-2.06-.94-.94-2.06-.94 2.06-2.06.94zm-11 1L8.5 8.5l.94-2.06 2.06-.94-2.06-.94L8.5 2.5l-.94 2.06-2.06.94zm10 10l.94 2.06.94-2.06 2.06-.94-2.06-.94-.94-2.06-.94 2.06-2.06.94z\"/><path d=\"M17.41 7.96l-1.37-1.37c-.4-.4-.92-.59-1.43-.59-.52 0-1.04.2-1.43.59L10.3 9.45l-7.72 7.72c-.78.78-.78 2.05 0 2.83L4 21.41c.39.39.9.59 1.41.59.51 0 1.02-.2 1.41-.59l7.78-7.78 2.81-2.81c.8-.78.8-2.07 0-2.86zM5.41 20L4 18.59l7.72-7.72 1.47 1.35L5.41 20z\"/>\n",
              "  </svg>\n",
              "      </button>\n",
              "      \n",
              "  <style>\n",
              "    .colab-df-container {\n",
              "      display:flex;\n",
              "      flex-wrap:wrap;\n",
              "      gap: 12px;\n",
              "    }\n",
              "\n",
              "    .colab-df-convert {\n",
              "      background-color: #E8F0FE;\n",
              "      border: none;\n",
              "      border-radius: 50%;\n",
              "      cursor: pointer;\n",
              "      display: none;\n",
              "      fill: #1967D2;\n",
              "      height: 32px;\n",
              "      padding: 0 0 0 0;\n",
              "      width: 32px;\n",
              "    }\n",
              "\n",
              "    .colab-df-convert:hover {\n",
              "      background-color: #E2EBFA;\n",
              "      box-shadow: 0px 1px 2px rgba(60, 64, 67, 0.3), 0px 1px 3px 1px rgba(60, 64, 67, 0.15);\n",
              "      fill: #174EA6;\n",
              "    }\n",
              "\n",
              "    [theme=dark] .colab-df-convert {\n",
              "      background-color: #3B4455;\n",
              "      fill: #D2E3FC;\n",
              "    }\n",
              "\n",
              "    [theme=dark] .colab-df-convert:hover {\n",
              "      background-color: #434B5C;\n",
              "      box-shadow: 0px 1px 3px 1px rgba(0, 0, 0, 0.15);\n",
              "      filter: drop-shadow(0px 1px 2px rgba(0, 0, 0, 0.3));\n",
              "      fill: #FFFFFF;\n",
              "    }\n",
              "  </style>\n",
              "\n",
              "      <script>\n",
              "        const buttonEl =\n",
              "          document.querySelector('#df-0c4b18a2-64ed-4978-8163-c4c9a79114f1 button.colab-df-convert');\n",
              "        buttonEl.style.display =\n",
              "          google.colab.kernel.accessAllowed ? 'block' : 'none';\n",
              "\n",
              "        async function convertToInteractive(key) {\n",
              "          const element = document.querySelector('#df-0c4b18a2-64ed-4978-8163-c4c9a79114f1');\n",
              "          const dataTable =\n",
              "            await google.colab.kernel.invokeFunction('convertToInteractive',\n",
              "                                                     [key], {});\n",
              "          if (!dataTable) return;\n",
              "\n",
              "          const docLinkHtml = 'Like what you see? Visit the ' +\n",
              "            '<a target=\"_blank\" href=https://colab.research.google.com/notebooks/data_table.ipynb>data table notebook</a>'\n",
              "            + ' to learn more about interactive tables.';\n",
              "          element.innerHTML = '';\n",
              "          dataTable['output_type'] = 'display_data';\n",
              "          await google.colab.output.renderOutput(dataTable, element);\n",
              "          const docLink = document.createElement('div');\n",
              "          docLink.innerHTML = docLinkHtml;\n",
              "          element.appendChild(docLink);\n",
              "        }\n",
              "      </script>\n",
              "    </div>\n",
              "  </div>\n",
              "  "
            ]
          },
          "metadata": {},
          "execution_count": 1112
        }
      ]
    },
    {
      "cell_type": "markdown",
      "source": [
        "**Rare Encoding**"
      ],
      "metadata": {
        "id": "p4iVv9biHLA2"
      }
    },
    {
      "cell_type": "code",
      "source": [
        "def rare_analyser(dataframe, target, cat_cols):\n",
        "    for col in cat_cols:\n",
        "        print(col, \":\", len(dataframe[col].value_counts())) #İlgili kategorik değişkenin kaç sınıfı var bilgisi.\n",
        "        print(pd.DataFrame({\"COUNT\": dataframe[col].value_counts(), #Sınıf frekansı\n",
        "                            \"RATIO\": dataframe[col].value_counts() / len(dataframe), #Sınıfın tüm ver seti boyutuna oranı.\n",
        "                            \"TARGET_MEAN\": dataframe.groupby(col)[target].mean()}), end=\"\\n\\n\\n\") #Bağımlı değişkene göre groupby alınıp ortalama işlemi yapılması."
      ],
      "metadata": {
        "id": "cPf65o-NG_Ey"
      },
      "execution_count": 1113,
      "outputs": []
    },
    {
      "cell_type": "code",
      "source": [
        "rare_analyser(df, \"SURVIVED\", cat_cols)"
      ],
      "metadata": {
        "colab": {
          "base_uri": "https://localhost:8080/"
        },
        "id": "UP5_2fVZHLvp",
        "outputId": "5b86a804-f979-43fd-cd31-65c0c6bf81ef"
      },
      "execution_count": 1114,
      "outputs": [
        {
          "output_type": "stream",
          "name": "stdout",
          "text": [
            "SEX : 2\n",
            "   COUNT  RATIO  TARGET_MEAN\n",
            "0    314  0.352        0.742\n",
            "1    577  0.648        0.189\n",
            "\n",
            "\n",
            "EMBARKED : 3\n",
            "   COUNT  RATIO  TARGET_MEAN\n",
            "C    168  0.189        0.554\n",
            "Q     77  0.086        0.390\n",
            "S    646  0.725        0.339\n",
            "\n",
            "\n",
            "NEW_IS_ALONE : 2\n",
            "   COUNT  RATIO  TARGET_MEAN\n",
            "0    354  0.397        0.506\n",
            "1    537  0.603        0.304\n",
            "\n",
            "\n",
            "NEW_TITLE : 17\n",
            "          COUNT  RATIO  TARGET_MEAN\n",
            "Capt          1  0.001        0.000\n",
            "Col           2  0.002        0.500\n",
            "Countess      1  0.001        1.000\n",
            "Don           1  0.001        0.000\n",
            "Dr            7  0.008        0.429\n",
            "Jonkheer      1  0.001        0.000\n",
            "Lady          1  0.001        1.000\n",
            "Major         2  0.002        0.500\n",
            "Master       40  0.045        0.575\n",
            "Miss        182  0.204        0.698\n",
            "Mlle          2  0.002        1.000\n",
            "Mme           1  0.001        1.000\n",
            "Mr          517  0.580        0.157\n",
            "Mrs         125  0.140        0.792\n",
            "Ms            1  0.001        1.000\n",
            "Rev           6  0.007        0.000\n",
            "Sir           1  0.001        1.000\n",
            "\n",
            "\n",
            "NEW_AGE_CAT : 3\n",
            "        COUNT  RATIO  TARGET_MEAN\n",
            "mature    735  0.825        0.363\n",
            "senior     39  0.044        0.308\n",
            "young     117  0.131        0.538\n",
            "\n",
            "\n",
            "NEW_SEX_CAT : 6\n",
            "              COUNT  RATIO  TARGET_MEAN\n",
            "maturefemale    172  0.193        0.779\n",
            "maturemale      401  0.450        0.175\n",
            "seniorfemale     22  0.025        0.909\n",
            "seniormale       52  0.058        0.135\n",
            "youngfemale     120  0.135        0.658\n",
            "youngmale       124  0.139        0.258\n",
            "\n",
            "\n",
            "SURVIVED : 2\n",
            "   COUNT  RATIO  TARGET_MEAN\n",
            "0    549  0.616        0.000\n",
            "1    342  0.384        1.000\n",
            "\n",
            "\n",
            "PCLASS : 3\n",
            "   COUNT  RATIO  TARGET_MEAN\n",
            "1    216  0.242        0.630\n",
            "2    184  0.207        0.473\n",
            "3    491  0.551        0.242\n",
            "\n",
            "\n",
            "SIBSP : 7\n",
            "   COUNT  RATIO  TARGET_MEAN\n",
            "0    608  0.682        0.345\n",
            "1    209  0.235        0.536\n",
            "2     28  0.031        0.464\n",
            "3     16  0.018        0.250\n",
            "4     18  0.020        0.167\n",
            "5      5  0.006        0.000\n",
            "8      7  0.008        0.000\n",
            "\n",
            "\n",
            "PARCH : 7\n",
            "   COUNT  RATIO  TARGET_MEAN\n",
            "0    678  0.761        0.344\n",
            "1    118  0.132        0.551\n",
            "2     80  0.090        0.500\n",
            "3      5  0.006        0.600\n",
            "4      4  0.004        0.000\n",
            "5      5  0.006        0.200\n",
            "6      1  0.001        0.000\n",
            "\n",
            "\n",
            "NEW_CABIN_FLAG : 2\n",
            "   COUNT  RATIO  TARGET_MEAN\n",
            "0    687  0.771        0.300\n",
            "1    204  0.229        0.667\n",
            "\n",
            "\n",
            "NEW_NAME_WORD_COUNT : 8\n",
            "    COUNT  RATIO  TARGET_MEAN\n",
            "3     305  0.342        0.292\n",
            "4     388  0.435        0.340\n",
            "5      96  0.108        0.427\n",
            "6      53  0.059        0.774\n",
            "7      38  0.043        0.842\n",
            "8       9  0.010        0.556\n",
            "9       1  0.001        1.000\n",
            "14      1  0.001        1.000\n",
            "\n",
            "\n",
            "NEW_NAME_DR : 2\n",
            "   COUNT  RATIO  TARGET_MEAN\n",
            "0    881  0.989        0.383\n",
            "1     10  0.011        0.500\n",
            "\n",
            "\n",
            "NEW_FAMILY_SIZE : 9\n",
            "    COUNT  RATIO  TARGET_MEAN\n",
            "1     537  0.603        0.304\n",
            "2     161  0.181        0.553\n",
            "3     102  0.114        0.578\n",
            "4      29  0.033        0.724\n",
            "5      15  0.017        0.200\n",
            "6      22  0.025        0.136\n",
            "7      12  0.013        0.333\n",
            "8       6  0.007        0.000\n",
            "11      7  0.008        0.000\n",
            "\n",
            "\n"
          ]
        }
      ]
    },
    {
      "cell_type": "markdown",
      "source": [
        "* Sınıflarının frekansları tüm veri setine oranı %1'in altında olanları RARE bir sınıf altında toplamak istedik.\n",
        "* Çün One Hot Encoding işlemi yapınca her sınıf için değişken oluşturacak ve içerisinde saedece bir tane değer olup diğerlerinin hepsi sıfır olması gereksiz bir değişken oluşturduğumuz anlamına gelir.\n",
        "* Gereksiz değişkenlerde iterasyon ve optimizasyon sürelerini olumsuz etkiliyor olacaktır."
      ],
      "metadata": {
        "id": "cQ37h6AiHpL7"
      }
    },
    {
      "cell_type": "code",
      "source": [
        "def rare_encoder(dataframe, rare_perc):\n",
        "  temp_df = dataframe.copy() #Fonksiyonun bir kopyası alınmış.\n",
        "\n",
        "  rare_columns = [col for col in df.columns if temp_df[col].dtypes == \"O\" \n",
        "                  and (temp_df[col].value_counts() / len(temp_df) < rare_perc).any(axis=None)]\n",
        "\n",
        "\n",
        "  for var in rare_columns:\n",
        "    tmp = temp_df[var].value_counts() / len(temp_df)\n",
        "    rare_labels = tmp[tmp < rare_perc].index\n",
        "    temp_df[var] = np.where(temp_df[var].isin(rare_labels), \"Rare\", temp_df[var])\n",
        "\n",
        "  return temp_df"
      ],
      "metadata": {
        "id": "2ZMHYTmsH90T"
      },
      "execution_count": 1115,
      "outputs": []
    },
    {
      "cell_type": "code",
      "source": [
        "df = rare_encoder(df, 0.01)"
      ],
      "metadata": {
        "id": "ym1oKk2NHLs_"
      },
      "execution_count": 1116,
      "outputs": []
    },
    {
      "cell_type": "code",
      "source": [
        "df.head()"
      ],
      "metadata": {
        "colab": {
          "base_uri": "https://localhost:8080/",
          "height": 270
        },
        "id": "5HhrXNQPHLqC",
        "outputId": "19b0e18b-f182-4a9f-ec89-e15163000375"
      },
      "execution_count": 1117,
      "outputs": [
        {
          "output_type": "execute_result",
          "data": {
            "text/plain": [
              "   SURVIVED  PCLASS  SEX    AGE  SIBSP  PARCH   FARE EMBARKED  NEW_CABIN_FLAG  NEW_IS_ALONE  NEW_NAME_COUNT  NEW_NAME_WORD_COUNT  NEW_NAME_DR NEW_TITLE  NEW_AGE_PCLASS  NEW_FAMILY_SIZE NEW_AGE_CAT   NEW_SEX_CAT\n",
              "0         0       3    1 22.000      1      0  7.250        S               0             0              23                    4            0        Mr          66.000                2      mature    maturemale\n",
              "1         1       1    0 38.000      1      0 65.634        C               1             0              45                    7            0       Mrs          38.000                2      mature  maturefemale\n",
              "2         1       3    0 26.000      0      0  7.925        S               0             1              22                    3            0      Miss          78.000                1      mature  maturefemale\n",
              "3         1       1    0 35.000      1      0 53.100        S               1             0              44                    7            0       Mrs          35.000                2      mature  maturefemale\n",
              "4         0       3    1 35.000      0      0  8.050        S               0             1              24                    4            0        Mr         105.000                1      mature    maturemale"
            ],
            "text/html": [
              "\n",
              "  <div id=\"df-5f54637e-1544-45cc-9fb4-0f61ba4a4448\">\n",
              "    <div class=\"colab-df-container\">\n",
              "      <div>\n",
              "<style scoped>\n",
              "    .dataframe tbody tr th:only-of-type {\n",
              "        vertical-align: middle;\n",
              "    }\n",
              "\n",
              "    .dataframe tbody tr th {\n",
              "        vertical-align: top;\n",
              "    }\n",
              "\n",
              "    .dataframe thead th {\n",
              "        text-align: right;\n",
              "    }\n",
              "</style>\n",
              "<table border=\"1\" class=\"dataframe\">\n",
              "  <thead>\n",
              "    <tr style=\"text-align: right;\">\n",
              "      <th></th>\n",
              "      <th>SURVIVED</th>\n",
              "      <th>PCLASS</th>\n",
              "      <th>SEX</th>\n",
              "      <th>AGE</th>\n",
              "      <th>SIBSP</th>\n",
              "      <th>PARCH</th>\n",
              "      <th>FARE</th>\n",
              "      <th>EMBARKED</th>\n",
              "      <th>NEW_CABIN_FLAG</th>\n",
              "      <th>NEW_IS_ALONE</th>\n",
              "      <th>NEW_NAME_COUNT</th>\n",
              "      <th>NEW_NAME_WORD_COUNT</th>\n",
              "      <th>NEW_NAME_DR</th>\n",
              "      <th>NEW_TITLE</th>\n",
              "      <th>NEW_AGE_PCLASS</th>\n",
              "      <th>NEW_FAMILY_SIZE</th>\n",
              "      <th>NEW_AGE_CAT</th>\n",
              "      <th>NEW_SEX_CAT</th>\n",
              "    </tr>\n",
              "  </thead>\n",
              "  <tbody>\n",
              "    <tr>\n",
              "      <th>0</th>\n",
              "      <td>0</td>\n",
              "      <td>3</td>\n",
              "      <td>1</td>\n",
              "      <td>22.000</td>\n",
              "      <td>1</td>\n",
              "      <td>0</td>\n",
              "      <td>7.250</td>\n",
              "      <td>S</td>\n",
              "      <td>0</td>\n",
              "      <td>0</td>\n",
              "      <td>23</td>\n",
              "      <td>4</td>\n",
              "      <td>0</td>\n",
              "      <td>Mr</td>\n",
              "      <td>66.000</td>\n",
              "      <td>2</td>\n",
              "      <td>mature</td>\n",
              "      <td>maturemale</td>\n",
              "    </tr>\n",
              "    <tr>\n",
              "      <th>1</th>\n",
              "      <td>1</td>\n",
              "      <td>1</td>\n",
              "      <td>0</td>\n",
              "      <td>38.000</td>\n",
              "      <td>1</td>\n",
              "      <td>0</td>\n",
              "      <td>65.634</td>\n",
              "      <td>C</td>\n",
              "      <td>1</td>\n",
              "      <td>0</td>\n",
              "      <td>45</td>\n",
              "      <td>7</td>\n",
              "      <td>0</td>\n",
              "      <td>Mrs</td>\n",
              "      <td>38.000</td>\n",
              "      <td>2</td>\n",
              "      <td>mature</td>\n",
              "      <td>maturefemale</td>\n",
              "    </tr>\n",
              "    <tr>\n",
              "      <th>2</th>\n",
              "      <td>1</td>\n",
              "      <td>3</td>\n",
              "      <td>0</td>\n",
              "      <td>26.000</td>\n",
              "      <td>0</td>\n",
              "      <td>0</td>\n",
              "      <td>7.925</td>\n",
              "      <td>S</td>\n",
              "      <td>0</td>\n",
              "      <td>1</td>\n",
              "      <td>22</td>\n",
              "      <td>3</td>\n",
              "      <td>0</td>\n",
              "      <td>Miss</td>\n",
              "      <td>78.000</td>\n",
              "      <td>1</td>\n",
              "      <td>mature</td>\n",
              "      <td>maturefemale</td>\n",
              "    </tr>\n",
              "    <tr>\n",
              "      <th>3</th>\n",
              "      <td>1</td>\n",
              "      <td>1</td>\n",
              "      <td>0</td>\n",
              "      <td>35.000</td>\n",
              "      <td>1</td>\n",
              "      <td>0</td>\n",
              "      <td>53.100</td>\n",
              "      <td>S</td>\n",
              "      <td>1</td>\n",
              "      <td>0</td>\n",
              "      <td>44</td>\n",
              "      <td>7</td>\n",
              "      <td>0</td>\n",
              "      <td>Mrs</td>\n",
              "      <td>35.000</td>\n",
              "      <td>2</td>\n",
              "      <td>mature</td>\n",
              "      <td>maturefemale</td>\n",
              "    </tr>\n",
              "    <tr>\n",
              "      <th>4</th>\n",
              "      <td>0</td>\n",
              "      <td>3</td>\n",
              "      <td>1</td>\n",
              "      <td>35.000</td>\n",
              "      <td>0</td>\n",
              "      <td>0</td>\n",
              "      <td>8.050</td>\n",
              "      <td>S</td>\n",
              "      <td>0</td>\n",
              "      <td>1</td>\n",
              "      <td>24</td>\n",
              "      <td>4</td>\n",
              "      <td>0</td>\n",
              "      <td>Mr</td>\n",
              "      <td>105.000</td>\n",
              "      <td>1</td>\n",
              "      <td>mature</td>\n",
              "      <td>maturemale</td>\n",
              "    </tr>\n",
              "  </tbody>\n",
              "</table>\n",
              "</div>\n",
              "      <button class=\"colab-df-convert\" onclick=\"convertToInteractive('df-5f54637e-1544-45cc-9fb4-0f61ba4a4448')\"\n",
              "              title=\"Convert this dataframe to an interactive table.\"\n",
              "              style=\"display:none;\">\n",
              "        \n",
              "  <svg xmlns=\"http://www.w3.org/2000/svg\" height=\"24px\"viewBox=\"0 0 24 24\"\n",
              "       width=\"24px\">\n",
              "    <path d=\"M0 0h24v24H0V0z\" fill=\"none\"/>\n",
              "    <path d=\"M18.56 5.44l.94 2.06.94-2.06 2.06-.94-2.06-.94-.94-2.06-.94 2.06-2.06.94zm-11 1L8.5 8.5l.94-2.06 2.06-.94-2.06-.94L8.5 2.5l-.94 2.06-2.06.94zm10 10l.94 2.06.94-2.06 2.06-.94-2.06-.94-.94-2.06-.94 2.06-2.06.94z\"/><path d=\"M17.41 7.96l-1.37-1.37c-.4-.4-.92-.59-1.43-.59-.52 0-1.04.2-1.43.59L10.3 9.45l-7.72 7.72c-.78.78-.78 2.05 0 2.83L4 21.41c.39.39.9.59 1.41.59.51 0 1.02-.2 1.41-.59l7.78-7.78 2.81-2.81c.8-.78.8-2.07 0-2.86zM5.41 20L4 18.59l7.72-7.72 1.47 1.35L5.41 20z\"/>\n",
              "  </svg>\n",
              "      </button>\n",
              "      \n",
              "  <style>\n",
              "    .colab-df-container {\n",
              "      display:flex;\n",
              "      flex-wrap:wrap;\n",
              "      gap: 12px;\n",
              "    }\n",
              "\n",
              "    .colab-df-convert {\n",
              "      background-color: #E8F0FE;\n",
              "      border: none;\n",
              "      border-radius: 50%;\n",
              "      cursor: pointer;\n",
              "      display: none;\n",
              "      fill: #1967D2;\n",
              "      height: 32px;\n",
              "      padding: 0 0 0 0;\n",
              "      width: 32px;\n",
              "    }\n",
              "\n",
              "    .colab-df-convert:hover {\n",
              "      background-color: #E2EBFA;\n",
              "      box-shadow: 0px 1px 2px rgba(60, 64, 67, 0.3), 0px 1px 3px 1px rgba(60, 64, 67, 0.15);\n",
              "      fill: #174EA6;\n",
              "    }\n",
              "\n",
              "    [theme=dark] .colab-df-convert {\n",
              "      background-color: #3B4455;\n",
              "      fill: #D2E3FC;\n",
              "    }\n",
              "\n",
              "    [theme=dark] .colab-df-convert:hover {\n",
              "      background-color: #434B5C;\n",
              "      box-shadow: 0px 1px 3px 1px rgba(0, 0, 0, 0.15);\n",
              "      filter: drop-shadow(0px 1px 2px rgba(0, 0, 0, 0.3));\n",
              "      fill: #FFFFFF;\n",
              "    }\n",
              "  </style>\n",
              "\n",
              "      <script>\n",
              "        const buttonEl =\n",
              "          document.querySelector('#df-5f54637e-1544-45cc-9fb4-0f61ba4a4448 button.colab-df-convert');\n",
              "        buttonEl.style.display =\n",
              "          google.colab.kernel.accessAllowed ? 'block' : 'none';\n",
              "\n",
              "        async function convertToInteractive(key) {\n",
              "          const element = document.querySelector('#df-5f54637e-1544-45cc-9fb4-0f61ba4a4448');\n",
              "          const dataTable =\n",
              "            await google.colab.kernel.invokeFunction('convertToInteractive',\n",
              "                                                     [key], {});\n",
              "          if (!dataTable) return;\n",
              "\n",
              "          const docLinkHtml = 'Like what you see? Visit the ' +\n",
              "            '<a target=\"_blank\" href=https://colab.research.google.com/notebooks/data_table.ipynb>data table notebook</a>'\n",
              "            + ' to learn more about interactive tables.';\n",
              "          element.innerHTML = '';\n",
              "          dataTable['output_type'] = 'display_data';\n",
              "          await google.colab.output.renderOutput(dataTable, element);\n",
              "          const docLink = document.createElement('div');\n",
              "          docLink.innerHTML = docLinkHtml;\n",
              "          element.appendChild(docLink);\n",
              "        }\n",
              "      </script>\n",
              "    </div>\n",
              "  </div>\n",
              "  "
            ]
          },
          "metadata": {},
          "execution_count": 1117
        }
      ]
    },
    {
      "cell_type": "markdown",
      "source": [
        "Rare oranı 0.01'in altında kalan kategorik değişkenlerin sınıflarını bir araya getirdik."
      ],
      "metadata": {
        "id": "CIf4Z23MIGET"
      }
    },
    {
      "cell_type": "code",
      "source": [
        "rare_analyser(df, \"SURVIVED\", cat_cols)"
      ],
      "metadata": {
        "colab": {
          "base_uri": "https://localhost:8080/"
        },
        "id": "UCbRr4ZxHLnl",
        "outputId": "919d217e-2528-47d3-a8a4-78ca883bcd00"
      },
      "execution_count": 1118,
      "outputs": [
        {
          "output_type": "stream",
          "name": "stdout",
          "text": [
            "SEX : 2\n",
            "   COUNT  RATIO  TARGET_MEAN\n",
            "0    314  0.352        0.742\n",
            "1    577  0.648        0.189\n",
            "\n",
            "\n",
            "EMBARKED : 3\n",
            "   COUNT  RATIO  TARGET_MEAN\n",
            "C    168  0.189        0.554\n",
            "Q     77  0.086        0.390\n",
            "S    646  0.725        0.339\n",
            "\n",
            "\n",
            "NEW_IS_ALONE : 2\n",
            "   COUNT  RATIO  TARGET_MEAN\n",
            "0    354  0.397        0.506\n",
            "1    537  0.603        0.304\n",
            "\n",
            "\n",
            "NEW_TITLE : 5\n",
            "        COUNT  RATIO  TARGET_MEAN\n",
            "Master     40  0.045        0.575\n",
            "Miss      182  0.204        0.698\n",
            "Mr        517  0.580        0.157\n",
            "Mrs       125  0.140        0.792\n",
            "Rare       27  0.030        0.444\n",
            "\n",
            "\n",
            "NEW_AGE_CAT : 3\n",
            "        COUNT  RATIO  TARGET_MEAN\n",
            "mature    735  0.825        0.363\n",
            "senior     39  0.044        0.308\n",
            "young     117  0.131        0.538\n",
            "\n",
            "\n",
            "NEW_SEX_CAT : 6\n",
            "              COUNT  RATIO  TARGET_MEAN\n",
            "maturefemale    172  0.193        0.779\n",
            "maturemale      401  0.450        0.175\n",
            "seniorfemale     22  0.025        0.909\n",
            "seniormale       52  0.058        0.135\n",
            "youngfemale     120  0.135        0.658\n",
            "youngmale       124  0.139        0.258\n",
            "\n",
            "\n",
            "SURVIVED : 2\n",
            "   COUNT  RATIO  TARGET_MEAN\n",
            "0    549  0.616        0.000\n",
            "1    342  0.384        1.000\n",
            "\n",
            "\n",
            "PCLASS : 3\n",
            "   COUNT  RATIO  TARGET_MEAN\n",
            "1    216  0.242        0.630\n",
            "2    184  0.207        0.473\n",
            "3    491  0.551        0.242\n",
            "\n",
            "\n",
            "SIBSP : 7\n",
            "   COUNT  RATIO  TARGET_MEAN\n",
            "0    608  0.682        0.345\n",
            "1    209  0.235        0.536\n",
            "2     28  0.031        0.464\n",
            "3     16  0.018        0.250\n",
            "4     18  0.020        0.167\n",
            "5      5  0.006        0.000\n",
            "8      7  0.008        0.000\n",
            "\n",
            "\n",
            "PARCH : 7\n",
            "   COUNT  RATIO  TARGET_MEAN\n",
            "0    678  0.761        0.344\n",
            "1    118  0.132        0.551\n",
            "2     80  0.090        0.500\n",
            "3      5  0.006        0.600\n",
            "4      4  0.004        0.000\n",
            "5      5  0.006        0.200\n",
            "6      1  0.001        0.000\n",
            "\n",
            "\n",
            "NEW_CABIN_FLAG : 2\n",
            "   COUNT  RATIO  TARGET_MEAN\n",
            "0    687  0.771        0.300\n",
            "1    204  0.229        0.667\n",
            "\n",
            "\n",
            "NEW_NAME_WORD_COUNT : 8\n",
            "    COUNT  RATIO  TARGET_MEAN\n",
            "3     305  0.342        0.292\n",
            "4     388  0.435        0.340\n",
            "5      96  0.108        0.427\n",
            "6      53  0.059        0.774\n",
            "7      38  0.043        0.842\n",
            "8       9  0.010        0.556\n",
            "9       1  0.001        1.000\n",
            "14      1  0.001        1.000\n",
            "\n",
            "\n",
            "NEW_NAME_DR : 2\n",
            "   COUNT  RATIO  TARGET_MEAN\n",
            "0    881  0.989        0.383\n",
            "1     10  0.011        0.500\n",
            "\n",
            "\n",
            "NEW_FAMILY_SIZE : 9\n",
            "    COUNT  RATIO  TARGET_MEAN\n",
            "1     537  0.603        0.304\n",
            "2     161  0.181        0.553\n",
            "3     102  0.114        0.578\n",
            "4      29  0.033        0.724\n",
            "5      15  0.017        0.200\n",
            "6      22  0.025        0.136\n",
            "7      12  0.013        0.333\n",
            "8       6  0.007        0.000\n",
            "11      7  0.008        0.000\n",
            "\n",
            "\n"
          ]
        }
      ]
    },
    {
      "cell_type": "markdown",
      "source": [
        "Rare encoding işleminin sonucu görmek "
      ],
      "metadata": {
        "id": "YBlsov-yJ4W_"
      }
    },
    {
      "cell_type": "code",
      "source": [
        "df[\"NEW_TITLE\"].value_counts()"
      ],
      "metadata": {
        "colab": {
          "base_uri": "https://localhost:8080/"
        },
        "id": "lbDYmA6MHLk2",
        "outputId": "389e220a-24bb-4434-c613-ff46a324448f"
      },
      "execution_count": 1119,
      "outputs": [
        {
          "output_type": "execute_result",
          "data": {
            "text/plain": [
              "Mr        517\n",
              "Miss      182\n",
              "Mrs       125\n",
              "Master     40\n",
              "Rare       27\n",
              "Name: NEW_TITLE, dtype: int64"
            ]
          },
          "metadata": {},
          "execution_count": 1119
        }
      ]
    },
    {
      "cell_type": "markdown",
      "source": [
        "**One Hot Encoding**"
      ],
      "metadata": {
        "id": "jttpYdgTKrAc"
      }
    },
    {
      "cell_type": "markdown",
      "source": [
        "* Eşsiz sınıf değeri 2 olanları zaten label encoder'dan geçirdik.\n",
        "* O yüzden One Hot Encoder'dan eşsiz sınıf değeri 10'dan küçük 2'den büyük olanları geçirelim."
      ],
      "metadata": {
        "id": "GcRSnkqkKymJ"
      }
    },
    {
      "cell_type": "code",
      "source": [
        "ohe_cols = [col for col in df.columns if 10 >= df[col].nunique() > 2]"
      ],
      "metadata": {
        "id": "UmHW-7nHJwsK"
      },
      "execution_count": 1120,
      "outputs": []
    },
    {
      "cell_type": "code",
      "source": [
        "ohe_cols"
      ],
      "metadata": {
        "colab": {
          "base_uri": "https://localhost:8080/"
        },
        "id": "JOmOzrRkJ-eO",
        "outputId": "ff51e29c-e695-4756-dd46-5ad7831640ee"
      },
      "execution_count": 1121,
      "outputs": [
        {
          "output_type": "execute_result",
          "data": {
            "text/plain": [
              "['PCLASS',\n",
              " 'SIBSP',\n",
              " 'PARCH',\n",
              " 'EMBARKED',\n",
              " 'NEW_NAME_WORD_COUNT',\n",
              " 'NEW_TITLE',\n",
              " 'NEW_FAMILY_SIZE',\n",
              " 'NEW_AGE_CAT',\n",
              " 'NEW_SEX_CAT']"
            ]
          },
          "metadata": {},
          "execution_count": 1121
        }
      ]
    },
    {
      "cell_type": "code",
      "source": [
        "def one_hot_encoder(dataframe, categorical_cols, drop_first=True):\n",
        "  dataframe = pd.get_dummies(df, columns=categorical_cols, drop_first = drop_first)\n",
        "  return dataframe"
      ],
      "metadata": {
        "id": "BcKhYXLhJ-bS"
      },
      "execution_count": 1122,
      "outputs": []
    },
    {
      "cell_type": "code",
      "source": [
        "df = one_hot_encoder(df, ohe_cols)"
      ],
      "metadata": {
        "id": "fbf2VSYXJ-YL"
      },
      "execution_count": 1123,
      "outputs": []
    },
    {
      "cell_type": "code",
      "source": [
        "df.head()"
      ],
      "metadata": {
        "colab": {
          "base_uri": "https://localhost:8080/",
          "height": 270
        },
        "id": "GfQAKsVjJ-Vb",
        "outputId": "a1ad24e7-4c2c-43be-c816-6d78044be92e"
      },
      "execution_count": 1124,
      "outputs": [
        {
          "output_type": "execute_result",
          "data": {
            "text/plain": [
              "   SURVIVED  SEX    AGE   FARE  NEW_CABIN_FLAG  NEW_IS_ALONE  NEW_NAME_COUNT  NEW_NAME_DR  NEW_AGE_PCLASS  PCLASS_2  PCLASS_3  SIBSP_1  SIBSP_2  SIBSP_3  SIBSP_4  SIBSP_5  SIBSP_8  PARCH_1  PARCH_2  PARCH_3  PARCH_4  PARCH_5  PARCH_6  EMBARKED_Q  EMBARKED_S  NEW_NAME_WORD_COUNT_4  NEW_NAME_WORD_COUNT_5  NEW_NAME_WORD_COUNT_6  NEW_NAME_WORD_COUNT_7  NEW_NAME_WORD_COUNT_8  NEW_NAME_WORD_COUNT_9  NEW_NAME_WORD_COUNT_14  NEW_TITLE_Miss  NEW_TITLE_Mr  NEW_TITLE_Mrs  NEW_TITLE_Rare  NEW_FAMILY_SIZE_2  NEW_FAMILY_SIZE_3  NEW_FAMILY_SIZE_4  NEW_FAMILY_SIZE_5  NEW_FAMILY_SIZE_6  NEW_FAMILY_SIZE_7  NEW_FAMILY_SIZE_8  NEW_FAMILY_SIZE_11  NEW_AGE_CAT_senior  NEW_AGE_CAT_young  NEW_SEX_CAT_maturemale  NEW_SEX_CAT_seniorfemale  NEW_SEX_CAT_seniormale  NEW_SEX_CAT_youngfemale  NEW_SEX_CAT_youngmale\n",
              "0         0    1 22.000  7.250               0             0              23            0          66.000         0         1        1        0        0        0        0        0        0        0        0        0        0        0           0           1                      1                      0                      0                      0                      0                      0                       0               0             1              0               0                  1                  0                  0                  0                  0                  0                  0                   0                   0                  0                       1                         0                       0                        0                      0\n",
              "1         1    0 38.000 65.634               1             0              45            0          38.000         0         0        1        0        0        0        0        0        0        0        0        0        0        0           0           0                      0                      0                      0                      1                      0                      0                       0               0             0              1               0                  1                  0                  0                  0                  0                  0                  0                   0                   0                  0                       0                         0                       0                        0                      0\n",
              "2         1    0 26.000  7.925               0             1              22            0          78.000         0         1        0        0        0        0        0        0        0        0        0        0        0        0           0           1                      0                      0                      0                      0                      0                      0                       0               1             0              0               0                  0                  0                  0                  0                  0                  0                  0                   0                   0                  0                       0                         0                       0                        0                      0\n",
              "3         1    0 35.000 53.100               1             0              44            0          35.000         0         0        1        0        0        0        0        0        0        0        0        0        0        0           0           1                      0                      0                      0                      1                      0                      0                       0               0             0              1               0                  1                  0                  0                  0                  0                  0                  0                   0                   0                  0                       0                         0                       0                        0                      0\n",
              "4         0    1 35.000  8.050               0             1              24            0         105.000         0         1        0        0        0        0        0        0        0        0        0        0        0        0           0           1                      1                      0                      0                      0                      0                      0                       0               0             1              0               0                  0                  0                  0                  0                  0                  0                  0                   0                   0                  0                       1                         0                       0                        0                      0"
            ],
            "text/html": [
              "\n",
              "  <div id=\"df-339e1d4c-318a-4f10-b96b-5333714f1b10\">\n",
              "    <div class=\"colab-df-container\">\n",
              "      <div>\n",
              "<style scoped>\n",
              "    .dataframe tbody tr th:only-of-type {\n",
              "        vertical-align: middle;\n",
              "    }\n",
              "\n",
              "    .dataframe tbody tr th {\n",
              "        vertical-align: top;\n",
              "    }\n",
              "\n",
              "    .dataframe thead th {\n",
              "        text-align: right;\n",
              "    }\n",
              "</style>\n",
              "<table border=\"1\" class=\"dataframe\">\n",
              "  <thead>\n",
              "    <tr style=\"text-align: right;\">\n",
              "      <th></th>\n",
              "      <th>SURVIVED</th>\n",
              "      <th>SEX</th>\n",
              "      <th>AGE</th>\n",
              "      <th>FARE</th>\n",
              "      <th>NEW_CABIN_FLAG</th>\n",
              "      <th>NEW_IS_ALONE</th>\n",
              "      <th>NEW_NAME_COUNT</th>\n",
              "      <th>NEW_NAME_DR</th>\n",
              "      <th>NEW_AGE_PCLASS</th>\n",
              "      <th>PCLASS_2</th>\n",
              "      <th>PCLASS_3</th>\n",
              "      <th>SIBSP_1</th>\n",
              "      <th>SIBSP_2</th>\n",
              "      <th>SIBSP_3</th>\n",
              "      <th>SIBSP_4</th>\n",
              "      <th>SIBSP_5</th>\n",
              "      <th>SIBSP_8</th>\n",
              "      <th>PARCH_1</th>\n",
              "      <th>PARCH_2</th>\n",
              "      <th>PARCH_3</th>\n",
              "      <th>PARCH_4</th>\n",
              "      <th>PARCH_5</th>\n",
              "      <th>PARCH_6</th>\n",
              "      <th>EMBARKED_Q</th>\n",
              "      <th>EMBARKED_S</th>\n",
              "      <th>NEW_NAME_WORD_COUNT_4</th>\n",
              "      <th>NEW_NAME_WORD_COUNT_5</th>\n",
              "      <th>NEW_NAME_WORD_COUNT_6</th>\n",
              "      <th>NEW_NAME_WORD_COUNT_7</th>\n",
              "      <th>NEW_NAME_WORD_COUNT_8</th>\n",
              "      <th>NEW_NAME_WORD_COUNT_9</th>\n",
              "      <th>NEW_NAME_WORD_COUNT_14</th>\n",
              "      <th>NEW_TITLE_Miss</th>\n",
              "      <th>NEW_TITLE_Mr</th>\n",
              "      <th>NEW_TITLE_Mrs</th>\n",
              "      <th>NEW_TITLE_Rare</th>\n",
              "      <th>NEW_FAMILY_SIZE_2</th>\n",
              "      <th>NEW_FAMILY_SIZE_3</th>\n",
              "      <th>NEW_FAMILY_SIZE_4</th>\n",
              "      <th>NEW_FAMILY_SIZE_5</th>\n",
              "      <th>NEW_FAMILY_SIZE_6</th>\n",
              "      <th>NEW_FAMILY_SIZE_7</th>\n",
              "      <th>NEW_FAMILY_SIZE_8</th>\n",
              "      <th>NEW_FAMILY_SIZE_11</th>\n",
              "      <th>NEW_AGE_CAT_senior</th>\n",
              "      <th>NEW_AGE_CAT_young</th>\n",
              "      <th>NEW_SEX_CAT_maturemale</th>\n",
              "      <th>NEW_SEX_CAT_seniorfemale</th>\n",
              "      <th>NEW_SEX_CAT_seniormale</th>\n",
              "      <th>NEW_SEX_CAT_youngfemale</th>\n",
              "      <th>NEW_SEX_CAT_youngmale</th>\n",
              "    </tr>\n",
              "  </thead>\n",
              "  <tbody>\n",
              "    <tr>\n",
              "      <th>0</th>\n",
              "      <td>0</td>\n",
              "      <td>1</td>\n",
              "      <td>22.000</td>\n",
              "      <td>7.250</td>\n",
              "      <td>0</td>\n",
              "      <td>0</td>\n",
              "      <td>23</td>\n",
              "      <td>0</td>\n",
              "      <td>66.000</td>\n",
              "      <td>0</td>\n",
              "      <td>1</td>\n",
              "      <td>1</td>\n",
              "      <td>0</td>\n",
              "      <td>0</td>\n",
              "      <td>0</td>\n",
              "      <td>0</td>\n",
              "      <td>0</td>\n",
              "      <td>0</td>\n",
              "      <td>0</td>\n",
              "      <td>0</td>\n",
              "      <td>0</td>\n",
              "      <td>0</td>\n",
              "      <td>0</td>\n",
              "      <td>0</td>\n",
              "      <td>1</td>\n",
              "      <td>1</td>\n",
              "      <td>0</td>\n",
              "      <td>0</td>\n",
              "      <td>0</td>\n",
              "      <td>0</td>\n",
              "      <td>0</td>\n",
              "      <td>0</td>\n",
              "      <td>0</td>\n",
              "      <td>1</td>\n",
              "      <td>0</td>\n",
              "      <td>0</td>\n",
              "      <td>1</td>\n",
              "      <td>0</td>\n",
              "      <td>0</td>\n",
              "      <td>0</td>\n",
              "      <td>0</td>\n",
              "      <td>0</td>\n",
              "      <td>0</td>\n",
              "      <td>0</td>\n",
              "      <td>0</td>\n",
              "      <td>0</td>\n",
              "      <td>1</td>\n",
              "      <td>0</td>\n",
              "      <td>0</td>\n",
              "      <td>0</td>\n",
              "      <td>0</td>\n",
              "    </tr>\n",
              "    <tr>\n",
              "      <th>1</th>\n",
              "      <td>1</td>\n",
              "      <td>0</td>\n",
              "      <td>38.000</td>\n",
              "      <td>65.634</td>\n",
              "      <td>1</td>\n",
              "      <td>0</td>\n",
              "      <td>45</td>\n",
              "      <td>0</td>\n",
              "      <td>38.000</td>\n",
              "      <td>0</td>\n",
              "      <td>0</td>\n",
              "      <td>1</td>\n",
              "      <td>0</td>\n",
              "      <td>0</td>\n",
              "      <td>0</td>\n",
              "      <td>0</td>\n",
              "      <td>0</td>\n",
              "      <td>0</td>\n",
              "      <td>0</td>\n",
              "      <td>0</td>\n",
              "      <td>0</td>\n",
              "      <td>0</td>\n",
              "      <td>0</td>\n",
              "      <td>0</td>\n",
              "      <td>0</td>\n",
              "      <td>0</td>\n",
              "      <td>0</td>\n",
              "      <td>0</td>\n",
              "      <td>1</td>\n",
              "      <td>0</td>\n",
              "      <td>0</td>\n",
              "      <td>0</td>\n",
              "      <td>0</td>\n",
              "      <td>0</td>\n",
              "      <td>1</td>\n",
              "      <td>0</td>\n",
              "      <td>1</td>\n",
              "      <td>0</td>\n",
              "      <td>0</td>\n",
              "      <td>0</td>\n",
              "      <td>0</td>\n",
              "      <td>0</td>\n",
              "      <td>0</td>\n",
              "      <td>0</td>\n",
              "      <td>0</td>\n",
              "      <td>0</td>\n",
              "      <td>0</td>\n",
              "      <td>0</td>\n",
              "      <td>0</td>\n",
              "      <td>0</td>\n",
              "      <td>0</td>\n",
              "    </tr>\n",
              "    <tr>\n",
              "      <th>2</th>\n",
              "      <td>1</td>\n",
              "      <td>0</td>\n",
              "      <td>26.000</td>\n",
              "      <td>7.925</td>\n",
              "      <td>0</td>\n",
              "      <td>1</td>\n",
              "      <td>22</td>\n",
              "      <td>0</td>\n",
              "      <td>78.000</td>\n",
              "      <td>0</td>\n",
              "      <td>1</td>\n",
              "      <td>0</td>\n",
              "      <td>0</td>\n",
              "      <td>0</td>\n",
              "      <td>0</td>\n",
              "      <td>0</td>\n",
              "      <td>0</td>\n",
              "      <td>0</td>\n",
              "      <td>0</td>\n",
              "      <td>0</td>\n",
              "      <td>0</td>\n",
              "      <td>0</td>\n",
              "      <td>0</td>\n",
              "      <td>0</td>\n",
              "      <td>1</td>\n",
              "      <td>0</td>\n",
              "      <td>0</td>\n",
              "      <td>0</td>\n",
              "      <td>0</td>\n",
              "      <td>0</td>\n",
              "      <td>0</td>\n",
              "      <td>0</td>\n",
              "      <td>1</td>\n",
              "      <td>0</td>\n",
              "      <td>0</td>\n",
              "      <td>0</td>\n",
              "      <td>0</td>\n",
              "      <td>0</td>\n",
              "      <td>0</td>\n",
              "      <td>0</td>\n",
              "      <td>0</td>\n",
              "      <td>0</td>\n",
              "      <td>0</td>\n",
              "      <td>0</td>\n",
              "      <td>0</td>\n",
              "      <td>0</td>\n",
              "      <td>0</td>\n",
              "      <td>0</td>\n",
              "      <td>0</td>\n",
              "      <td>0</td>\n",
              "      <td>0</td>\n",
              "    </tr>\n",
              "    <tr>\n",
              "      <th>3</th>\n",
              "      <td>1</td>\n",
              "      <td>0</td>\n",
              "      <td>35.000</td>\n",
              "      <td>53.100</td>\n",
              "      <td>1</td>\n",
              "      <td>0</td>\n",
              "      <td>44</td>\n",
              "      <td>0</td>\n",
              "      <td>35.000</td>\n",
              "      <td>0</td>\n",
              "      <td>0</td>\n",
              "      <td>1</td>\n",
              "      <td>0</td>\n",
              "      <td>0</td>\n",
              "      <td>0</td>\n",
              "      <td>0</td>\n",
              "      <td>0</td>\n",
              "      <td>0</td>\n",
              "      <td>0</td>\n",
              "      <td>0</td>\n",
              "      <td>0</td>\n",
              "      <td>0</td>\n",
              "      <td>0</td>\n",
              "      <td>0</td>\n",
              "      <td>1</td>\n",
              "      <td>0</td>\n",
              "      <td>0</td>\n",
              "      <td>0</td>\n",
              "      <td>1</td>\n",
              "      <td>0</td>\n",
              "      <td>0</td>\n",
              "      <td>0</td>\n",
              "      <td>0</td>\n",
              "      <td>0</td>\n",
              "      <td>1</td>\n",
              "      <td>0</td>\n",
              "      <td>1</td>\n",
              "      <td>0</td>\n",
              "      <td>0</td>\n",
              "      <td>0</td>\n",
              "      <td>0</td>\n",
              "      <td>0</td>\n",
              "      <td>0</td>\n",
              "      <td>0</td>\n",
              "      <td>0</td>\n",
              "      <td>0</td>\n",
              "      <td>0</td>\n",
              "      <td>0</td>\n",
              "      <td>0</td>\n",
              "      <td>0</td>\n",
              "      <td>0</td>\n",
              "    </tr>\n",
              "    <tr>\n",
              "      <th>4</th>\n",
              "      <td>0</td>\n",
              "      <td>1</td>\n",
              "      <td>35.000</td>\n",
              "      <td>8.050</td>\n",
              "      <td>0</td>\n",
              "      <td>1</td>\n",
              "      <td>24</td>\n",
              "      <td>0</td>\n",
              "      <td>105.000</td>\n",
              "      <td>0</td>\n",
              "      <td>1</td>\n",
              "      <td>0</td>\n",
              "      <td>0</td>\n",
              "      <td>0</td>\n",
              "      <td>0</td>\n",
              "      <td>0</td>\n",
              "      <td>0</td>\n",
              "      <td>0</td>\n",
              "      <td>0</td>\n",
              "      <td>0</td>\n",
              "      <td>0</td>\n",
              "      <td>0</td>\n",
              "      <td>0</td>\n",
              "      <td>0</td>\n",
              "      <td>1</td>\n",
              "      <td>1</td>\n",
              "      <td>0</td>\n",
              "      <td>0</td>\n",
              "      <td>0</td>\n",
              "      <td>0</td>\n",
              "      <td>0</td>\n",
              "      <td>0</td>\n",
              "      <td>0</td>\n",
              "      <td>1</td>\n",
              "      <td>0</td>\n",
              "      <td>0</td>\n",
              "      <td>0</td>\n",
              "      <td>0</td>\n",
              "      <td>0</td>\n",
              "      <td>0</td>\n",
              "      <td>0</td>\n",
              "      <td>0</td>\n",
              "      <td>0</td>\n",
              "      <td>0</td>\n",
              "      <td>0</td>\n",
              "      <td>0</td>\n",
              "      <td>1</td>\n",
              "      <td>0</td>\n",
              "      <td>0</td>\n",
              "      <td>0</td>\n",
              "      <td>0</td>\n",
              "    </tr>\n",
              "  </tbody>\n",
              "</table>\n",
              "</div>\n",
              "      <button class=\"colab-df-convert\" onclick=\"convertToInteractive('df-339e1d4c-318a-4f10-b96b-5333714f1b10')\"\n",
              "              title=\"Convert this dataframe to an interactive table.\"\n",
              "              style=\"display:none;\">\n",
              "        \n",
              "  <svg xmlns=\"http://www.w3.org/2000/svg\" height=\"24px\"viewBox=\"0 0 24 24\"\n",
              "       width=\"24px\">\n",
              "    <path d=\"M0 0h24v24H0V0z\" fill=\"none\"/>\n",
              "    <path d=\"M18.56 5.44l.94 2.06.94-2.06 2.06-.94-2.06-.94-.94-2.06-.94 2.06-2.06.94zm-11 1L8.5 8.5l.94-2.06 2.06-.94-2.06-.94L8.5 2.5l-.94 2.06-2.06.94zm10 10l.94 2.06.94-2.06 2.06-.94-2.06-.94-.94-2.06-.94 2.06-2.06.94z\"/><path d=\"M17.41 7.96l-1.37-1.37c-.4-.4-.92-.59-1.43-.59-.52 0-1.04.2-1.43.59L10.3 9.45l-7.72 7.72c-.78.78-.78 2.05 0 2.83L4 21.41c.39.39.9.59 1.41.59.51 0 1.02-.2 1.41-.59l7.78-7.78 2.81-2.81c.8-.78.8-2.07 0-2.86zM5.41 20L4 18.59l7.72-7.72 1.47 1.35L5.41 20z\"/>\n",
              "  </svg>\n",
              "      </button>\n",
              "      \n",
              "  <style>\n",
              "    .colab-df-container {\n",
              "      display:flex;\n",
              "      flex-wrap:wrap;\n",
              "      gap: 12px;\n",
              "    }\n",
              "\n",
              "    .colab-df-convert {\n",
              "      background-color: #E8F0FE;\n",
              "      border: none;\n",
              "      border-radius: 50%;\n",
              "      cursor: pointer;\n",
              "      display: none;\n",
              "      fill: #1967D2;\n",
              "      height: 32px;\n",
              "      padding: 0 0 0 0;\n",
              "      width: 32px;\n",
              "    }\n",
              "\n",
              "    .colab-df-convert:hover {\n",
              "      background-color: #E2EBFA;\n",
              "      box-shadow: 0px 1px 2px rgba(60, 64, 67, 0.3), 0px 1px 3px 1px rgba(60, 64, 67, 0.15);\n",
              "      fill: #174EA6;\n",
              "    }\n",
              "\n",
              "    [theme=dark] .colab-df-convert {\n",
              "      background-color: #3B4455;\n",
              "      fill: #D2E3FC;\n",
              "    }\n",
              "\n",
              "    [theme=dark] .colab-df-convert:hover {\n",
              "      background-color: #434B5C;\n",
              "      box-shadow: 0px 1px 3px 1px rgba(0, 0, 0, 0.15);\n",
              "      filter: drop-shadow(0px 1px 2px rgba(0, 0, 0, 0.3));\n",
              "      fill: #FFFFFF;\n",
              "    }\n",
              "  </style>\n",
              "\n",
              "      <script>\n",
              "        const buttonEl =\n",
              "          document.querySelector('#df-339e1d4c-318a-4f10-b96b-5333714f1b10 button.colab-df-convert');\n",
              "        buttonEl.style.display =\n",
              "          google.colab.kernel.accessAllowed ? 'block' : 'none';\n",
              "\n",
              "        async function convertToInteractive(key) {\n",
              "          const element = document.querySelector('#df-339e1d4c-318a-4f10-b96b-5333714f1b10');\n",
              "          const dataTable =\n",
              "            await google.colab.kernel.invokeFunction('convertToInteractive',\n",
              "                                                     [key], {});\n",
              "          if (!dataTable) return;\n",
              "\n",
              "          const docLinkHtml = 'Like what you see? Visit the ' +\n",
              "            '<a target=\"_blank\" href=https://colab.research.google.com/notebooks/data_table.ipynb>data table notebook</a>'\n",
              "            + ' to learn more about interactive tables.';\n",
              "          element.innerHTML = '';\n",
              "          dataTable['output_type'] = 'display_data';\n",
              "          await google.colab.output.renderOutput(dataTable, element);\n",
              "          const docLink = document.createElement('div');\n",
              "          docLink.innerHTML = docLinkHtml;\n",
              "          element.appendChild(docLink);\n",
              "        }\n",
              "      </script>\n",
              "    </div>\n",
              "  </div>\n",
              "  "
            ]
          },
          "metadata": {},
          "execution_count": 1124
        }
      ]
    },
    {
      "cell_type": "markdown",
      "source": [
        "Tekrardan değişkenlerimizi tiplerine göre ayıralım."
      ],
      "metadata": {
        "id": "uEOS75kTL2zs"
      }
    },
    {
      "cell_type": "code",
      "source": [
        "cat_cols, num_cols, cat_but_car = grab_col_names(df)"
      ],
      "metadata": {
        "colab": {
          "base_uri": "https://localhost:8080/"
        },
        "id": "9hBWYHofJ-PV",
        "outputId": "83becd3a-dd57-433a-b13a-0eeee8397a5e"
      },
      "execution_count": 1125,
      "outputs": [
        {
          "output_type": "stream",
          "name": "stdout",
          "text": [
            "Obsertavions - (Gözlem Sayısı): 891\n",
            "Variables (Değişken Sayısı): 51\n",
            "cat_cols (Kategorik Değişkenler): 5\n",
            "num_cols (Sayısal Değişkenler): 4\n",
            "cat_but_car (Kardinalitesi Yüksek Değişkenler): 0\n",
            "num_but_cat (Sayısal Görünümlü Kategorik Değişkenler): 5\n"
          ]
        }
      ]
    },
    {
      "cell_type": "markdown",
      "source": [
        "## **Scaling**"
      ],
      "metadata": {
        "id": "cJUj3O8xTxyf"
      }
    },
    {
      "cell_type": "markdown",
      "source": [
        "Standart Scaler ile ölçekledirme yapalım.\n",
        "* Ölçeklendirme yapmamızın sebebi sayısal değişkenleri dağılımını bozmadan bir arada değerlendirme imkanı sağlar."
      ],
      "metadata": {
        "id": "Y1BO8_TCUC0S"
      }
    },
    {
      "cell_type": "code",
      "source": [
        "cat_cols, num_cols, cat_but_car = grab_col_names(df)"
      ],
      "metadata": {
        "colab": {
          "base_uri": "https://localhost:8080/"
        },
        "id": "0NMcBq-QL7od",
        "outputId": "eb57600f-2d2d-4c89-de33-4b9e2d602a5d"
      },
      "execution_count": 1126,
      "outputs": [
        {
          "output_type": "stream",
          "name": "stdout",
          "text": [
            "Obsertavions - (Gözlem Sayısı): 891\n",
            "Variables (Değişken Sayısı): 51\n",
            "cat_cols (Kategorik Değişkenler): 5\n",
            "num_cols (Sayısal Değişkenler): 4\n",
            "cat_but_car (Kardinalitesi Yüksek Değişkenler): 0\n",
            "num_but_cat (Sayısal Görünümlü Kategorik Değişkenler): 5\n"
          ]
        }
      ]
    },
    {
      "cell_type": "code",
      "source": [
        "num_cols"
      ],
      "metadata": {
        "colab": {
          "base_uri": "https://localhost:8080/"
        },
        "id": "L1I7kfqcL7lv",
        "outputId": "377df904-0d14-4d59-f746-3e8e3badf59d"
      },
      "execution_count": 1127,
      "outputs": [
        {
          "output_type": "execute_result",
          "data": {
            "text/plain": [
              "['AGE', 'FARE', 'NEW_NAME_COUNT', 'NEW_AGE_PCLASS']"
            ]
          },
          "metadata": {},
          "execution_count": 1127
        }
      ]
    },
    {
      "cell_type": "code",
      "execution_count": 1128,
      "metadata": {
        "id": "rB70MGsxdxw6"
      },
      "outputs": [],
      "source": [
        "scaler = StandardScaler()"
      ]
    },
    {
      "cell_type": "code",
      "execution_count": 1129,
      "metadata": {
        "id": "6FhVCHM8e697"
      },
      "outputs": [],
      "source": [
        "df[num_cols] = scaler.fit_transform(df[num_cols])"
      ]
    },
    {
      "cell_type": "code",
      "execution_count": 1130,
      "metadata": {
        "colab": {
          "base_uri": "https://localhost:8080/",
          "height": 206
        },
        "id": "3vOGQ6BFe66x",
        "outputId": "cd30005d-2850-41b4-f00c-899bb753a56f"
      },
      "outputs": [
        {
          "output_type": "execute_result",
          "data": {
            "text/plain": [
              "     AGE   FARE  NEW_NAME_COUNT  NEW_AGE_PCLASS\n",
              "0 -0.561 -0.821          -0.437           0.066\n",
              "1  0.663  2.032           2.248          -0.790\n",
              "2 -0.255 -0.788          -0.559           0.434\n",
              "3  0.434  1.419           2.126          -0.882\n",
              "4  0.434 -0.781          -0.315           1.260"
            ],
            "text/html": [
              "\n",
              "  <div id=\"df-329f796a-f31c-4c41-8e4a-4ec62c3a06b3\">\n",
              "    <div class=\"colab-df-container\">\n",
              "      <div>\n",
              "<style scoped>\n",
              "    .dataframe tbody tr th:only-of-type {\n",
              "        vertical-align: middle;\n",
              "    }\n",
              "\n",
              "    .dataframe tbody tr th {\n",
              "        vertical-align: top;\n",
              "    }\n",
              "\n",
              "    .dataframe thead th {\n",
              "        text-align: right;\n",
              "    }\n",
              "</style>\n",
              "<table border=\"1\" class=\"dataframe\">\n",
              "  <thead>\n",
              "    <tr style=\"text-align: right;\">\n",
              "      <th></th>\n",
              "      <th>AGE</th>\n",
              "      <th>FARE</th>\n",
              "      <th>NEW_NAME_COUNT</th>\n",
              "      <th>NEW_AGE_PCLASS</th>\n",
              "    </tr>\n",
              "  </thead>\n",
              "  <tbody>\n",
              "    <tr>\n",
              "      <th>0</th>\n",
              "      <td>-0.561</td>\n",
              "      <td>-0.821</td>\n",
              "      <td>-0.437</td>\n",
              "      <td>0.066</td>\n",
              "    </tr>\n",
              "    <tr>\n",
              "      <th>1</th>\n",
              "      <td>0.663</td>\n",
              "      <td>2.032</td>\n",
              "      <td>2.248</td>\n",
              "      <td>-0.790</td>\n",
              "    </tr>\n",
              "    <tr>\n",
              "      <th>2</th>\n",
              "      <td>-0.255</td>\n",
              "      <td>-0.788</td>\n",
              "      <td>-0.559</td>\n",
              "      <td>0.434</td>\n",
              "    </tr>\n",
              "    <tr>\n",
              "      <th>3</th>\n",
              "      <td>0.434</td>\n",
              "      <td>1.419</td>\n",
              "      <td>2.126</td>\n",
              "      <td>-0.882</td>\n",
              "    </tr>\n",
              "    <tr>\n",
              "      <th>4</th>\n",
              "      <td>0.434</td>\n",
              "      <td>-0.781</td>\n",
              "      <td>-0.315</td>\n",
              "      <td>1.260</td>\n",
              "    </tr>\n",
              "  </tbody>\n",
              "</table>\n",
              "</div>\n",
              "      <button class=\"colab-df-convert\" onclick=\"convertToInteractive('df-329f796a-f31c-4c41-8e4a-4ec62c3a06b3')\"\n",
              "              title=\"Convert this dataframe to an interactive table.\"\n",
              "              style=\"display:none;\">\n",
              "        \n",
              "  <svg xmlns=\"http://www.w3.org/2000/svg\" height=\"24px\"viewBox=\"0 0 24 24\"\n",
              "       width=\"24px\">\n",
              "    <path d=\"M0 0h24v24H0V0z\" fill=\"none\"/>\n",
              "    <path d=\"M18.56 5.44l.94 2.06.94-2.06 2.06-.94-2.06-.94-.94-2.06-.94 2.06-2.06.94zm-11 1L8.5 8.5l.94-2.06 2.06-.94-2.06-.94L8.5 2.5l-.94 2.06-2.06.94zm10 10l.94 2.06.94-2.06 2.06-.94-2.06-.94-.94-2.06-.94 2.06-2.06.94z\"/><path d=\"M17.41 7.96l-1.37-1.37c-.4-.4-.92-.59-1.43-.59-.52 0-1.04.2-1.43.59L10.3 9.45l-7.72 7.72c-.78.78-.78 2.05 0 2.83L4 21.41c.39.39.9.59 1.41.59.51 0 1.02-.2 1.41-.59l7.78-7.78 2.81-2.81c.8-.78.8-2.07 0-2.86zM5.41 20L4 18.59l7.72-7.72 1.47 1.35L5.41 20z\"/>\n",
              "  </svg>\n",
              "      </button>\n",
              "      \n",
              "  <style>\n",
              "    .colab-df-container {\n",
              "      display:flex;\n",
              "      flex-wrap:wrap;\n",
              "      gap: 12px;\n",
              "    }\n",
              "\n",
              "    .colab-df-convert {\n",
              "      background-color: #E8F0FE;\n",
              "      border: none;\n",
              "      border-radius: 50%;\n",
              "      cursor: pointer;\n",
              "      display: none;\n",
              "      fill: #1967D2;\n",
              "      height: 32px;\n",
              "      padding: 0 0 0 0;\n",
              "      width: 32px;\n",
              "    }\n",
              "\n",
              "    .colab-df-convert:hover {\n",
              "      background-color: #E2EBFA;\n",
              "      box-shadow: 0px 1px 2px rgba(60, 64, 67, 0.3), 0px 1px 3px 1px rgba(60, 64, 67, 0.15);\n",
              "      fill: #174EA6;\n",
              "    }\n",
              "\n",
              "    [theme=dark] .colab-df-convert {\n",
              "      background-color: #3B4455;\n",
              "      fill: #D2E3FC;\n",
              "    }\n",
              "\n",
              "    [theme=dark] .colab-df-convert:hover {\n",
              "      background-color: #434B5C;\n",
              "      box-shadow: 0px 1px 3px 1px rgba(0, 0, 0, 0.15);\n",
              "      filter: drop-shadow(0px 1px 2px rgba(0, 0, 0, 0.3));\n",
              "      fill: #FFFFFF;\n",
              "    }\n",
              "  </style>\n",
              "\n",
              "      <script>\n",
              "        const buttonEl =\n",
              "          document.querySelector('#df-329f796a-f31c-4c41-8e4a-4ec62c3a06b3 button.colab-df-convert');\n",
              "        buttonEl.style.display =\n",
              "          google.colab.kernel.accessAllowed ? 'block' : 'none';\n",
              "\n",
              "        async function convertToInteractive(key) {\n",
              "          const element = document.querySelector('#df-329f796a-f31c-4c41-8e4a-4ec62c3a06b3');\n",
              "          const dataTable =\n",
              "            await google.colab.kernel.invokeFunction('convertToInteractive',\n",
              "                                                     [key], {});\n",
              "          if (!dataTable) return;\n",
              "\n",
              "          const docLinkHtml = 'Like what you see? Visit the ' +\n",
              "            '<a target=\"_blank\" href=https://colab.research.google.com/notebooks/data_table.ipynb>data table notebook</a>'\n",
              "            + ' to learn more about interactive tables.';\n",
              "          element.innerHTML = '';\n",
              "          dataTable['output_type'] = 'display_data';\n",
              "          await google.colab.output.renderOutput(dataTable, element);\n",
              "          const docLink = document.createElement('div');\n",
              "          docLink.innerHTML = docLinkHtml;\n",
              "          element.appendChild(docLink);\n",
              "        }\n",
              "      </script>\n",
              "    </div>\n",
              "  </div>\n",
              "  "
            ]
          },
          "metadata": {},
          "execution_count": 1130
        }
      ],
      "source": [
        "df[num_cols].head()"
      ]
    },
    {
      "cell_type": "code",
      "source": [
        "df.head()"
      ],
      "metadata": {
        "colab": {
          "base_uri": "https://localhost:8080/",
          "height": 270
        },
        "id": "JwK_e_MtL7fZ",
        "outputId": "9e0d9054-5df8-484c-aa2b-dc5f3ce1f01b"
      },
      "execution_count": 1131,
      "outputs": [
        {
          "output_type": "execute_result",
          "data": {
            "text/plain": [
              "   SURVIVED  SEX    AGE   FARE  NEW_CABIN_FLAG  NEW_IS_ALONE  NEW_NAME_COUNT  NEW_NAME_DR  NEW_AGE_PCLASS  PCLASS_2  PCLASS_3  SIBSP_1  SIBSP_2  SIBSP_3  SIBSP_4  SIBSP_5  SIBSP_8  PARCH_1  PARCH_2  PARCH_3  PARCH_4  PARCH_5  PARCH_6  EMBARKED_Q  EMBARKED_S  NEW_NAME_WORD_COUNT_4  NEW_NAME_WORD_COUNT_5  NEW_NAME_WORD_COUNT_6  NEW_NAME_WORD_COUNT_7  NEW_NAME_WORD_COUNT_8  NEW_NAME_WORD_COUNT_9  NEW_NAME_WORD_COUNT_14  NEW_TITLE_Miss  NEW_TITLE_Mr  NEW_TITLE_Mrs  NEW_TITLE_Rare  NEW_FAMILY_SIZE_2  NEW_FAMILY_SIZE_3  NEW_FAMILY_SIZE_4  NEW_FAMILY_SIZE_5  NEW_FAMILY_SIZE_6  NEW_FAMILY_SIZE_7  NEW_FAMILY_SIZE_8  NEW_FAMILY_SIZE_11  NEW_AGE_CAT_senior  NEW_AGE_CAT_young  NEW_SEX_CAT_maturemale  NEW_SEX_CAT_seniorfemale  NEW_SEX_CAT_seniormale  NEW_SEX_CAT_youngfemale  NEW_SEX_CAT_youngmale\n",
              "0         0    1 -0.561 -0.821               0             0          -0.437            0           0.066         0         1        1        0        0        0        0        0        0        0        0        0        0        0           0           1                      1                      0                      0                      0                      0                      0                       0               0             1              0               0                  1                  0                  0                  0                  0                  0                  0                   0                   0                  0                       1                         0                       0                        0                      0\n",
              "1         1    0  0.663  2.032               1             0           2.248            0          -0.790         0         0        1        0        0        0        0        0        0        0        0        0        0        0           0           0                      0                      0                      0                      1                      0                      0                       0               0             0              1               0                  1                  0                  0                  0                  0                  0                  0                   0                   0                  0                       0                         0                       0                        0                      0\n",
              "2         1    0 -0.255 -0.788               0             1          -0.559            0           0.434         0         1        0        0        0        0        0        0        0        0        0        0        0        0           0           1                      0                      0                      0                      0                      0                      0                       0               1             0              0               0                  0                  0                  0                  0                  0                  0                  0                   0                   0                  0                       0                         0                       0                        0                      0\n",
              "3         1    0  0.434  1.419               1             0           2.126            0          -0.882         0         0        1        0        0        0        0        0        0        0        0        0        0        0           0           1                      0                      0                      0                      1                      0                      0                       0               0             0              1               0                  1                  0                  0                  0                  0                  0                  0                   0                   0                  0                       0                         0                       0                        0                      0\n",
              "4         0    1  0.434 -0.781               0             1          -0.315            0           1.260         0         1        0        0        0        0        0        0        0        0        0        0        0        0           0           1                      1                      0                      0                      0                      0                      0                       0               0             1              0               0                  0                  0                  0                  0                  0                  0                  0                   0                   0                  0                       1                         0                       0                        0                      0"
            ],
            "text/html": [
              "\n",
              "  <div id=\"df-6812b111-e877-4fb9-ad88-ede96db985ce\">\n",
              "    <div class=\"colab-df-container\">\n",
              "      <div>\n",
              "<style scoped>\n",
              "    .dataframe tbody tr th:only-of-type {\n",
              "        vertical-align: middle;\n",
              "    }\n",
              "\n",
              "    .dataframe tbody tr th {\n",
              "        vertical-align: top;\n",
              "    }\n",
              "\n",
              "    .dataframe thead th {\n",
              "        text-align: right;\n",
              "    }\n",
              "</style>\n",
              "<table border=\"1\" class=\"dataframe\">\n",
              "  <thead>\n",
              "    <tr style=\"text-align: right;\">\n",
              "      <th></th>\n",
              "      <th>SURVIVED</th>\n",
              "      <th>SEX</th>\n",
              "      <th>AGE</th>\n",
              "      <th>FARE</th>\n",
              "      <th>NEW_CABIN_FLAG</th>\n",
              "      <th>NEW_IS_ALONE</th>\n",
              "      <th>NEW_NAME_COUNT</th>\n",
              "      <th>NEW_NAME_DR</th>\n",
              "      <th>NEW_AGE_PCLASS</th>\n",
              "      <th>PCLASS_2</th>\n",
              "      <th>PCLASS_3</th>\n",
              "      <th>SIBSP_1</th>\n",
              "      <th>SIBSP_2</th>\n",
              "      <th>SIBSP_3</th>\n",
              "      <th>SIBSP_4</th>\n",
              "      <th>SIBSP_5</th>\n",
              "      <th>SIBSP_8</th>\n",
              "      <th>PARCH_1</th>\n",
              "      <th>PARCH_2</th>\n",
              "      <th>PARCH_3</th>\n",
              "      <th>PARCH_4</th>\n",
              "      <th>PARCH_5</th>\n",
              "      <th>PARCH_6</th>\n",
              "      <th>EMBARKED_Q</th>\n",
              "      <th>EMBARKED_S</th>\n",
              "      <th>NEW_NAME_WORD_COUNT_4</th>\n",
              "      <th>NEW_NAME_WORD_COUNT_5</th>\n",
              "      <th>NEW_NAME_WORD_COUNT_6</th>\n",
              "      <th>NEW_NAME_WORD_COUNT_7</th>\n",
              "      <th>NEW_NAME_WORD_COUNT_8</th>\n",
              "      <th>NEW_NAME_WORD_COUNT_9</th>\n",
              "      <th>NEW_NAME_WORD_COUNT_14</th>\n",
              "      <th>NEW_TITLE_Miss</th>\n",
              "      <th>NEW_TITLE_Mr</th>\n",
              "      <th>NEW_TITLE_Mrs</th>\n",
              "      <th>NEW_TITLE_Rare</th>\n",
              "      <th>NEW_FAMILY_SIZE_2</th>\n",
              "      <th>NEW_FAMILY_SIZE_3</th>\n",
              "      <th>NEW_FAMILY_SIZE_4</th>\n",
              "      <th>NEW_FAMILY_SIZE_5</th>\n",
              "      <th>NEW_FAMILY_SIZE_6</th>\n",
              "      <th>NEW_FAMILY_SIZE_7</th>\n",
              "      <th>NEW_FAMILY_SIZE_8</th>\n",
              "      <th>NEW_FAMILY_SIZE_11</th>\n",
              "      <th>NEW_AGE_CAT_senior</th>\n",
              "      <th>NEW_AGE_CAT_young</th>\n",
              "      <th>NEW_SEX_CAT_maturemale</th>\n",
              "      <th>NEW_SEX_CAT_seniorfemale</th>\n",
              "      <th>NEW_SEX_CAT_seniormale</th>\n",
              "      <th>NEW_SEX_CAT_youngfemale</th>\n",
              "      <th>NEW_SEX_CAT_youngmale</th>\n",
              "    </tr>\n",
              "  </thead>\n",
              "  <tbody>\n",
              "    <tr>\n",
              "      <th>0</th>\n",
              "      <td>0</td>\n",
              "      <td>1</td>\n",
              "      <td>-0.561</td>\n",
              "      <td>-0.821</td>\n",
              "      <td>0</td>\n",
              "      <td>0</td>\n",
              "      <td>-0.437</td>\n",
              "      <td>0</td>\n",
              "      <td>0.066</td>\n",
              "      <td>0</td>\n",
              "      <td>1</td>\n",
              "      <td>1</td>\n",
              "      <td>0</td>\n",
              "      <td>0</td>\n",
              "      <td>0</td>\n",
              "      <td>0</td>\n",
              "      <td>0</td>\n",
              "      <td>0</td>\n",
              "      <td>0</td>\n",
              "      <td>0</td>\n",
              "      <td>0</td>\n",
              "      <td>0</td>\n",
              "      <td>0</td>\n",
              "      <td>0</td>\n",
              "      <td>1</td>\n",
              "      <td>1</td>\n",
              "      <td>0</td>\n",
              "      <td>0</td>\n",
              "      <td>0</td>\n",
              "      <td>0</td>\n",
              "      <td>0</td>\n",
              "      <td>0</td>\n",
              "      <td>0</td>\n",
              "      <td>1</td>\n",
              "      <td>0</td>\n",
              "      <td>0</td>\n",
              "      <td>1</td>\n",
              "      <td>0</td>\n",
              "      <td>0</td>\n",
              "      <td>0</td>\n",
              "      <td>0</td>\n",
              "      <td>0</td>\n",
              "      <td>0</td>\n",
              "      <td>0</td>\n",
              "      <td>0</td>\n",
              "      <td>0</td>\n",
              "      <td>1</td>\n",
              "      <td>0</td>\n",
              "      <td>0</td>\n",
              "      <td>0</td>\n",
              "      <td>0</td>\n",
              "    </tr>\n",
              "    <tr>\n",
              "      <th>1</th>\n",
              "      <td>1</td>\n",
              "      <td>0</td>\n",
              "      <td>0.663</td>\n",
              "      <td>2.032</td>\n",
              "      <td>1</td>\n",
              "      <td>0</td>\n",
              "      <td>2.248</td>\n",
              "      <td>0</td>\n",
              "      <td>-0.790</td>\n",
              "      <td>0</td>\n",
              "      <td>0</td>\n",
              "      <td>1</td>\n",
              "      <td>0</td>\n",
              "      <td>0</td>\n",
              "      <td>0</td>\n",
              "      <td>0</td>\n",
              "      <td>0</td>\n",
              "      <td>0</td>\n",
              "      <td>0</td>\n",
              "      <td>0</td>\n",
              "      <td>0</td>\n",
              "      <td>0</td>\n",
              "      <td>0</td>\n",
              "      <td>0</td>\n",
              "      <td>0</td>\n",
              "      <td>0</td>\n",
              "      <td>0</td>\n",
              "      <td>0</td>\n",
              "      <td>1</td>\n",
              "      <td>0</td>\n",
              "      <td>0</td>\n",
              "      <td>0</td>\n",
              "      <td>0</td>\n",
              "      <td>0</td>\n",
              "      <td>1</td>\n",
              "      <td>0</td>\n",
              "      <td>1</td>\n",
              "      <td>0</td>\n",
              "      <td>0</td>\n",
              "      <td>0</td>\n",
              "      <td>0</td>\n",
              "      <td>0</td>\n",
              "      <td>0</td>\n",
              "      <td>0</td>\n",
              "      <td>0</td>\n",
              "      <td>0</td>\n",
              "      <td>0</td>\n",
              "      <td>0</td>\n",
              "      <td>0</td>\n",
              "      <td>0</td>\n",
              "      <td>0</td>\n",
              "    </tr>\n",
              "    <tr>\n",
              "      <th>2</th>\n",
              "      <td>1</td>\n",
              "      <td>0</td>\n",
              "      <td>-0.255</td>\n",
              "      <td>-0.788</td>\n",
              "      <td>0</td>\n",
              "      <td>1</td>\n",
              "      <td>-0.559</td>\n",
              "      <td>0</td>\n",
              "      <td>0.434</td>\n",
              "      <td>0</td>\n",
              "      <td>1</td>\n",
              "      <td>0</td>\n",
              "      <td>0</td>\n",
              "      <td>0</td>\n",
              "      <td>0</td>\n",
              "      <td>0</td>\n",
              "      <td>0</td>\n",
              "      <td>0</td>\n",
              "      <td>0</td>\n",
              "      <td>0</td>\n",
              "      <td>0</td>\n",
              "      <td>0</td>\n",
              "      <td>0</td>\n",
              "      <td>0</td>\n",
              "      <td>1</td>\n",
              "      <td>0</td>\n",
              "      <td>0</td>\n",
              "      <td>0</td>\n",
              "      <td>0</td>\n",
              "      <td>0</td>\n",
              "      <td>0</td>\n",
              "      <td>0</td>\n",
              "      <td>1</td>\n",
              "      <td>0</td>\n",
              "      <td>0</td>\n",
              "      <td>0</td>\n",
              "      <td>0</td>\n",
              "      <td>0</td>\n",
              "      <td>0</td>\n",
              "      <td>0</td>\n",
              "      <td>0</td>\n",
              "      <td>0</td>\n",
              "      <td>0</td>\n",
              "      <td>0</td>\n",
              "      <td>0</td>\n",
              "      <td>0</td>\n",
              "      <td>0</td>\n",
              "      <td>0</td>\n",
              "      <td>0</td>\n",
              "      <td>0</td>\n",
              "      <td>0</td>\n",
              "    </tr>\n",
              "    <tr>\n",
              "      <th>3</th>\n",
              "      <td>1</td>\n",
              "      <td>0</td>\n",
              "      <td>0.434</td>\n",
              "      <td>1.419</td>\n",
              "      <td>1</td>\n",
              "      <td>0</td>\n",
              "      <td>2.126</td>\n",
              "      <td>0</td>\n",
              "      <td>-0.882</td>\n",
              "      <td>0</td>\n",
              "      <td>0</td>\n",
              "      <td>1</td>\n",
              "      <td>0</td>\n",
              "      <td>0</td>\n",
              "      <td>0</td>\n",
              "      <td>0</td>\n",
              "      <td>0</td>\n",
              "      <td>0</td>\n",
              "      <td>0</td>\n",
              "      <td>0</td>\n",
              "      <td>0</td>\n",
              "      <td>0</td>\n",
              "      <td>0</td>\n",
              "      <td>0</td>\n",
              "      <td>1</td>\n",
              "      <td>0</td>\n",
              "      <td>0</td>\n",
              "      <td>0</td>\n",
              "      <td>1</td>\n",
              "      <td>0</td>\n",
              "      <td>0</td>\n",
              "      <td>0</td>\n",
              "      <td>0</td>\n",
              "      <td>0</td>\n",
              "      <td>1</td>\n",
              "      <td>0</td>\n",
              "      <td>1</td>\n",
              "      <td>0</td>\n",
              "      <td>0</td>\n",
              "      <td>0</td>\n",
              "      <td>0</td>\n",
              "      <td>0</td>\n",
              "      <td>0</td>\n",
              "      <td>0</td>\n",
              "      <td>0</td>\n",
              "      <td>0</td>\n",
              "      <td>0</td>\n",
              "      <td>0</td>\n",
              "      <td>0</td>\n",
              "      <td>0</td>\n",
              "      <td>0</td>\n",
              "    </tr>\n",
              "    <tr>\n",
              "      <th>4</th>\n",
              "      <td>0</td>\n",
              "      <td>1</td>\n",
              "      <td>0.434</td>\n",
              "      <td>-0.781</td>\n",
              "      <td>0</td>\n",
              "      <td>1</td>\n",
              "      <td>-0.315</td>\n",
              "      <td>0</td>\n",
              "      <td>1.260</td>\n",
              "      <td>0</td>\n",
              "      <td>1</td>\n",
              "      <td>0</td>\n",
              "      <td>0</td>\n",
              "      <td>0</td>\n",
              "      <td>0</td>\n",
              "      <td>0</td>\n",
              "      <td>0</td>\n",
              "      <td>0</td>\n",
              "      <td>0</td>\n",
              "      <td>0</td>\n",
              "      <td>0</td>\n",
              "      <td>0</td>\n",
              "      <td>0</td>\n",
              "      <td>0</td>\n",
              "      <td>1</td>\n",
              "      <td>1</td>\n",
              "      <td>0</td>\n",
              "      <td>0</td>\n",
              "      <td>0</td>\n",
              "      <td>0</td>\n",
              "      <td>0</td>\n",
              "      <td>0</td>\n",
              "      <td>0</td>\n",
              "      <td>1</td>\n",
              "      <td>0</td>\n",
              "      <td>0</td>\n",
              "      <td>0</td>\n",
              "      <td>0</td>\n",
              "      <td>0</td>\n",
              "      <td>0</td>\n",
              "      <td>0</td>\n",
              "      <td>0</td>\n",
              "      <td>0</td>\n",
              "      <td>0</td>\n",
              "      <td>0</td>\n",
              "      <td>0</td>\n",
              "      <td>1</td>\n",
              "      <td>0</td>\n",
              "      <td>0</td>\n",
              "      <td>0</td>\n",
              "      <td>0</td>\n",
              "    </tr>\n",
              "  </tbody>\n",
              "</table>\n",
              "</div>\n",
              "      <button class=\"colab-df-convert\" onclick=\"convertToInteractive('df-6812b111-e877-4fb9-ad88-ede96db985ce')\"\n",
              "              title=\"Convert this dataframe to an interactive table.\"\n",
              "              style=\"display:none;\">\n",
              "        \n",
              "  <svg xmlns=\"http://www.w3.org/2000/svg\" height=\"24px\"viewBox=\"0 0 24 24\"\n",
              "       width=\"24px\">\n",
              "    <path d=\"M0 0h24v24H0V0z\" fill=\"none\"/>\n",
              "    <path d=\"M18.56 5.44l.94 2.06.94-2.06 2.06-.94-2.06-.94-.94-2.06-.94 2.06-2.06.94zm-11 1L8.5 8.5l.94-2.06 2.06-.94-2.06-.94L8.5 2.5l-.94 2.06-2.06.94zm10 10l.94 2.06.94-2.06 2.06-.94-2.06-.94-.94-2.06-.94 2.06-2.06.94z\"/><path d=\"M17.41 7.96l-1.37-1.37c-.4-.4-.92-.59-1.43-.59-.52 0-1.04.2-1.43.59L10.3 9.45l-7.72 7.72c-.78.78-.78 2.05 0 2.83L4 21.41c.39.39.9.59 1.41.59.51 0 1.02-.2 1.41-.59l7.78-7.78 2.81-2.81c.8-.78.8-2.07 0-2.86zM5.41 20L4 18.59l7.72-7.72 1.47 1.35L5.41 20z\"/>\n",
              "  </svg>\n",
              "      </button>\n",
              "      \n",
              "  <style>\n",
              "    .colab-df-container {\n",
              "      display:flex;\n",
              "      flex-wrap:wrap;\n",
              "      gap: 12px;\n",
              "    }\n",
              "\n",
              "    .colab-df-convert {\n",
              "      background-color: #E8F0FE;\n",
              "      border: none;\n",
              "      border-radius: 50%;\n",
              "      cursor: pointer;\n",
              "      display: none;\n",
              "      fill: #1967D2;\n",
              "      height: 32px;\n",
              "      padding: 0 0 0 0;\n",
              "      width: 32px;\n",
              "    }\n",
              "\n",
              "    .colab-df-convert:hover {\n",
              "      background-color: #E2EBFA;\n",
              "      box-shadow: 0px 1px 2px rgba(60, 64, 67, 0.3), 0px 1px 3px 1px rgba(60, 64, 67, 0.15);\n",
              "      fill: #174EA6;\n",
              "    }\n",
              "\n",
              "    [theme=dark] .colab-df-convert {\n",
              "      background-color: #3B4455;\n",
              "      fill: #D2E3FC;\n",
              "    }\n",
              "\n",
              "    [theme=dark] .colab-df-convert:hover {\n",
              "      background-color: #434B5C;\n",
              "      box-shadow: 0px 1px 3px 1px rgba(0, 0, 0, 0.15);\n",
              "      filter: drop-shadow(0px 1px 2px rgba(0, 0, 0, 0.3));\n",
              "      fill: #FFFFFF;\n",
              "    }\n",
              "  </style>\n",
              "\n",
              "      <script>\n",
              "        const buttonEl =\n",
              "          document.querySelector('#df-6812b111-e877-4fb9-ad88-ede96db985ce button.colab-df-convert');\n",
              "        buttonEl.style.display =\n",
              "          google.colab.kernel.accessAllowed ? 'block' : 'none';\n",
              "\n",
              "        async function convertToInteractive(key) {\n",
              "          const element = document.querySelector('#df-6812b111-e877-4fb9-ad88-ede96db985ce');\n",
              "          const dataTable =\n",
              "            await google.colab.kernel.invokeFunction('convertToInteractive',\n",
              "                                                     [key], {});\n",
              "          if (!dataTable) return;\n",
              "\n",
              "          const docLinkHtml = 'Like what you see? Visit the ' +\n",
              "            '<a target=\"_blank\" href=https://colab.research.google.com/notebooks/data_table.ipynb>data table notebook</a>'\n",
              "            + ' to learn more about interactive tables.';\n",
              "          element.innerHTML = '';\n",
              "          dataTable['output_type'] = 'display_data';\n",
              "          await google.colab.output.renderOutput(dataTable, element);\n",
              "          const docLink = document.createElement('div');\n",
              "          docLink.innerHTML = docLinkHtml;\n",
              "          element.appendChild(docLink);\n",
              "        }\n",
              "      </script>\n",
              "    </div>\n",
              "  </div>\n",
              "  "
            ]
          },
          "metadata": {},
          "execution_count": 1131
        }
      ]
    },
    {
      "cell_type": "markdown",
      "source": [
        "* Artık Feature Engineering ve Data Pre-Processing işlemlerinin sonuna geldik.\n",
        "* Modelleme basamağına geçebiliriz."
      ],
      "metadata": {
        "id": "MPwee493VUHm"
      }
    },
    {
      "cell_type": "code",
      "source": [
        "df.shape"
      ],
      "metadata": {
        "colab": {
          "base_uri": "https://localhost:8080/"
        },
        "id": "O5GLzixXL7ch",
        "outputId": "4c94eeb0-00aa-4ded-f180-d8150067c47d"
      },
      "execution_count": 1132,
      "outputs": [
        {
          "output_type": "execute_result",
          "data": {
            "text/plain": [
              "(891, 51)"
            ]
          },
          "metadata": {},
          "execution_count": 1132
        }
      ]
    },
    {
      "cell_type": "markdown",
      "source": [
        "12 değişken ile başlamıştık şuan 51 değişken oldu."
      ],
      "metadata": {
        "id": "3OhIs2zZV7pa"
      }
    },
    {
      "cell_type": "markdown",
      "source": [
        "# **3.Step: Modelling**"
      ],
      "metadata": {
        "id": "Z5ivkcTzWGE2"
      }
    },
    {
      "cell_type": "markdown",
      "source": [
        "* Öncelikle veri setimizi Holdout yöntemiyle özellikler ve hedef değişken olarak ikiye bölelim.\n",
        "* Ardından eğitim ve test verisi olarak ikiye bölelim."
      ],
      "metadata": {
        "id": "Mfb0dzswWyLo"
      }
    },
    {
      "cell_type": "code",
      "execution_count": 1133,
      "metadata": {
        "id": "bHbE8FVvfktb"
      },
      "outputs": [],
      "source": [
        "y = df[\"SURVIVED\"]"
      ]
    },
    {
      "cell_type": "code",
      "execution_count": 1134,
      "metadata": {
        "id": "ZVDRcEInieIm"
      },
      "outputs": [],
      "source": [
        "X = df.drop([\"SURVIVED\"], axis=1)"
      ]
    },
    {
      "cell_type": "code",
      "source": [
        "y[:5]"
      ],
      "metadata": {
        "colab": {
          "base_uri": "https://localhost:8080/"
        },
        "id": "Ylhs_bCKL7Wh",
        "outputId": "606d5e43-38e7-4919-efe6-8133647c0a20"
      },
      "execution_count": 1135,
      "outputs": [
        {
          "output_type": "execute_result",
          "data": {
            "text/plain": [
              "0    0\n",
              "1    1\n",
              "2    1\n",
              "3    1\n",
              "4    0\n",
              "Name: SURVIVED, dtype: int64"
            ]
          },
          "metadata": {},
          "execution_count": 1135
        }
      ]
    },
    {
      "cell_type": "code",
      "source": [
        "X.head()"
      ],
      "metadata": {
        "colab": {
          "base_uri": "https://localhost:8080/",
          "height": 270
        },
        "id": "JC75wBgHL7RU",
        "outputId": "64fc97d0-db34-4cd3-e5fd-02a48a515686"
      },
      "execution_count": 1136,
      "outputs": [
        {
          "output_type": "execute_result",
          "data": {
            "text/plain": [
              "   SEX    AGE   FARE  NEW_CABIN_FLAG  NEW_IS_ALONE  NEW_NAME_COUNT  NEW_NAME_DR  NEW_AGE_PCLASS  PCLASS_2  PCLASS_3  SIBSP_1  SIBSP_2  SIBSP_3  SIBSP_4  SIBSP_5  SIBSP_8  PARCH_1  PARCH_2  PARCH_3  PARCH_4  PARCH_5  PARCH_6  EMBARKED_Q  EMBARKED_S  NEW_NAME_WORD_COUNT_4  NEW_NAME_WORD_COUNT_5  NEW_NAME_WORD_COUNT_6  NEW_NAME_WORD_COUNT_7  NEW_NAME_WORD_COUNT_8  NEW_NAME_WORD_COUNT_9  NEW_NAME_WORD_COUNT_14  NEW_TITLE_Miss  NEW_TITLE_Mr  NEW_TITLE_Mrs  NEW_TITLE_Rare  NEW_FAMILY_SIZE_2  NEW_FAMILY_SIZE_3  NEW_FAMILY_SIZE_4  NEW_FAMILY_SIZE_5  NEW_FAMILY_SIZE_6  NEW_FAMILY_SIZE_7  NEW_FAMILY_SIZE_8  NEW_FAMILY_SIZE_11  NEW_AGE_CAT_senior  NEW_AGE_CAT_young  NEW_SEX_CAT_maturemale  NEW_SEX_CAT_seniorfemale  NEW_SEX_CAT_seniormale  NEW_SEX_CAT_youngfemale  NEW_SEX_CAT_youngmale\n",
              "0    1 -0.561 -0.821               0             0          -0.437            0           0.066         0         1        1        0        0        0        0        0        0        0        0        0        0        0           0           1                      1                      0                      0                      0                      0                      0                       0               0             1              0               0                  1                  0                  0                  0                  0                  0                  0                   0                   0                  0                       1                         0                       0                        0                      0\n",
              "1    0  0.663  2.032               1             0           2.248            0          -0.790         0         0        1        0        0        0        0        0        0        0        0        0        0        0           0           0                      0                      0                      0                      1                      0                      0                       0               0             0              1               0                  1                  0                  0                  0                  0                  0                  0                   0                   0                  0                       0                         0                       0                        0                      0\n",
              "2    0 -0.255 -0.788               0             1          -0.559            0           0.434         0         1        0        0        0        0        0        0        0        0        0        0        0        0           0           1                      0                      0                      0                      0                      0                      0                       0               1             0              0               0                  0                  0                  0                  0                  0                  0                  0                   0                   0                  0                       0                         0                       0                        0                      0\n",
              "3    0  0.434  1.419               1             0           2.126            0          -0.882         0         0        1        0        0        0        0        0        0        0        0        0        0        0           0           1                      0                      0                      0                      1                      0                      0                       0               0             0              1               0                  1                  0                  0                  0                  0                  0                  0                   0                   0                  0                       0                         0                       0                        0                      0\n",
              "4    1  0.434 -0.781               0             1          -0.315            0           1.260         0         1        0        0        0        0        0        0        0        0        0        0        0        0           0           1                      1                      0                      0                      0                      0                      0                       0               0             1              0               0                  0                  0                  0                  0                  0                  0                  0                   0                   0                  0                       1                         0                       0                        0                      0"
            ],
            "text/html": [
              "\n",
              "  <div id=\"df-a5a5f13a-56ed-4488-90b9-2be2e74287ce\">\n",
              "    <div class=\"colab-df-container\">\n",
              "      <div>\n",
              "<style scoped>\n",
              "    .dataframe tbody tr th:only-of-type {\n",
              "        vertical-align: middle;\n",
              "    }\n",
              "\n",
              "    .dataframe tbody tr th {\n",
              "        vertical-align: top;\n",
              "    }\n",
              "\n",
              "    .dataframe thead th {\n",
              "        text-align: right;\n",
              "    }\n",
              "</style>\n",
              "<table border=\"1\" class=\"dataframe\">\n",
              "  <thead>\n",
              "    <tr style=\"text-align: right;\">\n",
              "      <th></th>\n",
              "      <th>SEX</th>\n",
              "      <th>AGE</th>\n",
              "      <th>FARE</th>\n",
              "      <th>NEW_CABIN_FLAG</th>\n",
              "      <th>NEW_IS_ALONE</th>\n",
              "      <th>NEW_NAME_COUNT</th>\n",
              "      <th>NEW_NAME_DR</th>\n",
              "      <th>NEW_AGE_PCLASS</th>\n",
              "      <th>PCLASS_2</th>\n",
              "      <th>PCLASS_3</th>\n",
              "      <th>SIBSP_1</th>\n",
              "      <th>SIBSP_2</th>\n",
              "      <th>SIBSP_3</th>\n",
              "      <th>SIBSP_4</th>\n",
              "      <th>SIBSP_5</th>\n",
              "      <th>SIBSP_8</th>\n",
              "      <th>PARCH_1</th>\n",
              "      <th>PARCH_2</th>\n",
              "      <th>PARCH_3</th>\n",
              "      <th>PARCH_4</th>\n",
              "      <th>PARCH_5</th>\n",
              "      <th>PARCH_6</th>\n",
              "      <th>EMBARKED_Q</th>\n",
              "      <th>EMBARKED_S</th>\n",
              "      <th>NEW_NAME_WORD_COUNT_4</th>\n",
              "      <th>NEW_NAME_WORD_COUNT_5</th>\n",
              "      <th>NEW_NAME_WORD_COUNT_6</th>\n",
              "      <th>NEW_NAME_WORD_COUNT_7</th>\n",
              "      <th>NEW_NAME_WORD_COUNT_8</th>\n",
              "      <th>NEW_NAME_WORD_COUNT_9</th>\n",
              "      <th>NEW_NAME_WORD_COUNT_14</th>\n",
              "      <th>NEW_TITLE_Miss</th>\n",
              "      <th>NEW_TITLE_Mr</th>\n",
              "      <th>NEW_TITLE_Mrs</th>\n",
              "      <th>NEW_TITLE_Rare</th>\n",
              "      <th>NEW_FAMILY_SIZE_2</th>\n",
              "      <th>NEW_FAMILY_SIZE_3</th>\n",
              "      <th>NEW_FAMILY_SIZE_4</th>\n",
              "      <th>NEW_FAMILY_SIZE_5</th>\n",
              "      <th>NEW_FAMILY_SIZE_6</th>\n",
              "      <th>NEW_FAMILY_SIZE_7</th>\n",
              "      <th>NEW_FAMILY_SIZE_8</th>\n",
              "      <th>NEW_FAMILY_SIZE_11</th>\n",
              "      <th>NEW_AGE_CAT_senior</th>\n",
              "      <th>NEW_AGE_CAT_young</th>\n",
              "      <th>NEW_SEX_CAT_maturemale</th>\n",
              "      <th>NEW_SEX_CAT_seniorfemale</th>\n",
              "      <th>NEW_SEX_CAT_seniormale</th>\n",
              "      <th>NEW_SEX_CAT_youngfemale</th>\n",
              "      <th>NEW_SEX_CAT_youngmale</th>\n",
              "    </tr>\n",
              "  </thead>\n",
              "  <tbody>\n",
              "    <tr>\n",
              "      <th>0</th>\n",
              "      <td>1</td>\n",
              "      <td>-0.561</td>\n",
              "      <td>-0.821</td>\n",
              "      <td>0</td>\n",
              "      <td>0</td>\n",
              "      <td>-0.437</td>\n",
              "      <td>0</td>\n",
              "      <td>0.066</td>\n",
              "      <td>0</td>\n",
              "      <td>1</td>\n",
              "      <td>1</td>\n",
              "      <td>0</td>\n",
              "      <td>0</td>\n",
              "      <td>0</td>\n",
              "      <td>0</td>\n",
              "      <td>0</td>\n",
              "      <td>0</td>\n",
              "      <td>0</td>\n",
              "      <td>0</td>\n",
              "      <td>0</td>\n",
              "      <td>0</td>\n",
              "      <td>0</td>\n",
              "      <td>0</td>\n",
              "      <td>1</td>\n",
              "      <td>1</td>\n",
              "      <td>0</td>\n",
              "      <td>0</td>\n",
              "      <td>0</td>\n",
              "      <td>0</td>\n",
              "      <td>0</td>\n",
              "      <td>0</td>\n",
              "      <td>0</td>\n",
              "      <td>1</td>\n",
              "      <td>0</td>\n",
              "      <td>0</td>\n",
              "      <td>1</td>\n",
              "      <td>0</td>\n",
              "      <td>0</td>\n",
              "      <td>0</td>\n",
              "      <td>0</td>\n",
              "      <td>0</td>\n",
              "      <td>0</td>\n",
              "      <td>0</td>\n",
              "      <td>0</td>\n",
              "      <td>0</td>\n",
              "      <td>1</td>\n",
              "      <td>0</td>\n",
              "      <td>0</td>\n",
              "      <td>0</td>\n",
              "      <td>0</td>\n",
              "    </tr>\n",
              "    <tr>\n",
              "      <th>1</th>\n",
              "      <td>0</td>\n",
              "      <td>0.663</td>\n",
              "      <td>2.032</td>\n",
              "      <td>1</td>\n",
              "      <td>0</td>\n",
              "      <td>2.248</td>\n",
              "      <td>0</td>\n",
              "      <td>-0.790</td>\n",
              "      <td>0</td>\n",
              "      <td>0</td>\n",
              "      <td>1</td>\n",
              "      <td>0</td>\n",
              "      <td>0</td>\n",
              "      <td>0</td>\n",
              "      <td>0</td>\n",
              "      <td>0</td>\n",
              "      <td>0</td>\n",
              "      <td>0</td>\n",
              "      <td>0</td>\n",
              "      <td>0</td>\n",
              "      <td>0</td>\n",
              "      <td>0</td>\n",
              "      <td>0</td>\n",
              "      <td>0</td>\n",
              "      <td>0</td>\n",
              "      <td>0</td>\n",
              "      <td>0</td>\n",
              "      <td>1</td>\n",
              "      <td>0</td>\n",
              "      <td>0</td>\n",
              "      <td>0</td>\n",
              "      <td>0</td>\n",
              "      <td>0</td>\n",
              "      <td>1</td>\n",
              "      <td>0</td>\n",
              "      <td>1</td>\n",
              "      <td>0</td>\n",
              "      <td>0</td>\n",
              "      <td>0</td>\n",
              "      <td>0</td>\n",
              "      <td>0</td>\n",
              "      <td>0</td>\n",
              "      <td>0</td>\n",
              "      <td>0</td>\n",
              "      <td>0</td>\n",
              "      <td>0</td>\n",
              "      <td>0</td>\n",
              "      <td>0</td>\n",
              "      <td>0</td>\n",
              "      <td>0</td>\n",
              "    </tr>\n",
              "    <tr>\n",
              "      <th>2</th>\n",
              "      <td>0</td>\n",
              "      <td>-0.255</td>\n",
              "      <td>-0.788</td>\n",
              "      <td>0</td>\n",
              "      <td>1</td>\n",
              "      <td>-0.559</td>\n",
              "      <td>0</td>\n",
              "      <td>0.434</td>\n",
              "      <td>0</td>\n",
              "      <td>1</td>\n",
              "      <td>0</td>\n",
              "      <td>0</td>\n",
              "      <td>0</td>\n",
              "      <td>0</td>\n",
              "      <td>0</td>\n",
              "      <td>0</td>\n",
              "      <td>0</td>\n",
              "      <td>0</td>\n",
              "      <td>0</td>\n",
              "      <td>0</td>\n",
              "      <td>0</td>\n",
              "      <td>0</td>\n",
              "      <td>0</td>\n",
              "      <td>1</td>\n",
              "      <td>0</td>\n",
              "      <td>0</td>\n",
              "      <td>0</td>\n",
              "      <td>0</td>\n",
              "      <td>0</td>\n",
              "      <td>0</td>\n",
              "      <td>0</td>\n",
              "      <td>1</td>\n",
              "      <td>0</td>\n",
              "      <td>0</td>\n",
              "      <td>0</td>\n",
              "      <td>0</td>\n",
              "      <td>0</td>\n",
              "      <td>0</td>\n",
              "      <td>0</td>\n",
              "      <td>0</td>\n",
              "      <td>0</td>\n",
              "      <td>0</td>\n",
              "      <td>0</td>\n",
              "      <td>0</td>\n",
              "      <td>0</td>\n",
              "      <td>0</td>\n",
              "      <td>0</td>\n",
              "      <td>0</td>\n",
              "      <td>0</td>\n",
              "      <td>0</td>\n",
              "    </tr>\n",
              "    <tr>\n",
              "      <th>3</th>\n",
              "      <td>0</td>\n",
              "      <td>0.434</td>\n",
              "      <td>1.419</td>\n",
              "      <td>1</td>\n",
              "      <td>0</td>\n",
              "      <td>2.126</td>\n",
              "      <td>0</td>\n",
              "      <td>-0.882</td>\n",
              "      <td>0</td>\n",
              "      <td>0</td>\n",
              "      <td>1</td>\n",
              "      <td>0</td>\n",
              "      <td>0</td>\n",
              "      <td>0</td>\n",
              "      <td>0</td>\n",
              "      <td>0</td>\n",
              "      <td>0</td>\n",
              "      <td>0</td>\n",
              "      <td>0</td>\n",
              "      <td>0</td>\n",
              "      <td>0</td>\n",
              "      <td>0</td>\n",
              "      <td>0</td>\n",
              "      <td>1</td>\n",
              "      <td>0</td>\n",
              "      <td>0</td>\n",
              "      <td>0</td>\n",
              "      <td>1</td>\n",
              "      <td>0</td>\n",
              "      <td>0</td>\n",
              "      <td>0</td>\n",
              "      <td>0</td>\n",
              "      <td>0</td>\n",
              "      <td>1</td>\n",
              "      <td>0</td>\n",
              "      <td>1</td>\n",
              "      <td>0</td>\n",
              "      <td>0</td>\n",
              "      <td>0</td>\n",
              "      <td>0</td>\n",
              "      <td>0</td>\n",
              "      <td>0</td>\n",
              "      <td>0</td>\n",
              "      <td>0</td>\n",
              "      <td>0</td>\n",
              "      <td>0</td>\n",
              "      <td>0</td>\n",
              "      <td>0</td>\n",
              "      <td>0</td>\n",
              "      <td>0</td>\n",
              "    </tr>\n",
              "    <tr>\n",
              "      <th>4</th>\n",
              "      <td>1</td>\n",
              "      <td>0.434</td>\n",
              "      <td>-0.781</td>\n",
              "      <td>0</td>\n",
              "      <td>1</td>\n",
              "      <td>-0.315</td>\n",
              "      <td>0</td>\n",
              "      <td>1.260</td>\n",
              "      <td>0</td>\n",
              "      <td>1</td>\n",
              "      <td>0</td>\n",
              "      <td>0</td>\n",
              "      <td>0</td>\n",
              "      <td>0</td>\n",
              "      <td>0</td>\n",
              "      <td>0</td>\n",
              "      <td>0</td>\n",
              "      <td>0</td>\n",
              "      <td>0</td>\n",
              "      <td>0</td>\n",
              "      <td>0</td>\n",
              "      <td>0</td>\n",
              "      <td>0</td>\n",
              "      <td>1</td>\n",
              "      <td>1</td>\n",
              "      <td>0</td>\n",
              "      <td>0</td>\n",
              "      <td>0</td>\n",
              "      <td>0</td>\n",
              "      <td>0</td>\n",
              "      <td>0</td>\n",
              "      <td>0</td>\n",
              "      <td>1</td>\n",
              "      <td>0</td>\n",
              "      <td>0</td>\n",
              "      <td>0</td>\n",
              "      <td>0</td>\n",
              "      <td>0</td>\n",
              "      <td>0</td>\n",
              "      <td>0</td>\n",
              "      <td>0</td>\n",
              "      <td>0</td>\n",
              "      <td>0</td>\n",
              "      <td>0</td>\n",
              "      <td>0</td>\n",
              "      <td>1</td>\n",
              "      <td>0</td>\n",
              "      <td>0</td>\n",
              "      <td>0</td>\n",
              "      <td>0</td>\n",
              "    </tr>\n",
              "  </tbody>\n",
              "</table>\n",
              "</div>\n",
              "      <button class=\"colab-df-convert\" onclick=\"convertToInteractive('df-a5a5f13a-56ed-4488-90b9-2be2e74287ce')\"\n",
              "              title=\"Convert this dataframe to an interactive table.\"\n",
              "              style=\"display:none;\">\n",
              "        \n",
              "  <svg xmlns=\"http://www.w3.org/2000/svg\" height=\"24px\"viewBox=\"0 0 24 24\"\n",
              "       width=\"24px\">\n",
              "    <path d=\"M0 0h24v24H0V0z\" fill=\"none\"/>\n",
              "    <path d=\"M18.56 5.44l.94 2.06.94-2.06 2.06-.94-2.06-.94-.94-2.06-.94 2.06-2.06.94zm-11 1L8.5 8.5l.94-2.06 2.06-.94-2.06-.94L8.5 2.5l-.94 2.06-2.06.94zm10 10l.94 2.06.94-2.06 2.06-.94-2.06-.94-.94-2.06-.94 2.06-2.06.94z\"/><path d=\"M17.41 7.96l-1.37-1.37c-.4-.4-.92-.59-1.43-.59-.52 0-1.04.2-1.43.59L10.3 9.45l-7.72 7.72c-.78.78-.78 2.05 0 2.83L4 21.41c.39.39.9.59 1.41.59.51 0 1.02-.2 1.41-.59l7.78-7.78 2.81-2.81c.8-.78.8-2.07 0-2.86zM5.41 20L4 18.59l7.72-7.72 1.47 1.35L5.41 20z\"/>\n",
              "  </svg>\n",
              "      </button>\n",
              "      \n",
              "  <style>\n",
              "    .colab-df-container {\n",
              "      display:flex;\n",
              "      flex-wrap:wrap;\n",
              "      gap: 12px;\n",
              "    }\n",
              "\n",
              "    .colab-df-convert {\n",
              "      background-color: #E8F0FE;\n",
              "      border: none;\n",
              "      border-radius: 50%;\n",
              "      cursor: pointer;\n",
              "      display: none;\n",
              "      fill: #1967D2;\n",
              "      height: 32px;\n",
              "      padding: 0 0 0 0;\n",
              "      width: 32px;\n",
              "    }\n",
              "\n",
              "    .colab-df-convert:hover {\n",
              "      background-color: #E2EBFA;\n",
              "      box-shadow: 0px 1px 2px rgba(60, 64, 67, 0.3), 0px 1px 3px 1px rgba(60, 64, 67, 0.15);\n",
              "      fill: #174EA6;\n",
              "    }\n",
              "\n",
              "    [theme=dark] .colab-df-convert {\n",
              "      background-color: #3B4455;\n",
              "      fill: #D2E3FC;\n",
              "    }\n",
              "\n",
              "    [theme=dark] .colab-df-convert:hover {\n",
              "      background-color: #434B5C;\n",
              "      box-shadow: 0px 1px 3px 1px rgba(0, 0, 0, 0.15);\n",
              "      filter: drop-shadow(0px 1px 2px rgba(0, 0, 0, 0.3));\n",
              "      fill: #FFFFFF;\n",
              "    }\n",
              "  </style>\n",
              "\n",
              "      <script>\n",
              "        const buttonEl =\n",
              "          document.querySelector('#df-a5a5f13a-56ed-4488-90b9-2be2e74287ce button.colab-df-convert');\n",
              "        buttonEl.style.display =\n",
              "          google.colab.kernel.accessAllowed ? 'block' : 'none';\n",
              "\n",
              "        async function convertToInteractive(key) {\n",
              "          const element = document.querySelector('#df-a5a5f13a-56ed-4488-90b9-2be2e74287ce');\n",
              "          const dataTable =\n",
              "            await google.colab.kernel.invokeFunction('convertToInteractive',\n",
              "                                                     [key], {});\n",
              "          if (!dataTable) return;\n",
              "\n",
              "          const docLinkHtml = 'Like what you see? Visit the ' +\n",
              "            '<a target=\"_blank\" href=https://colab.research.google.com/notebooks/data_table.ipynb>data table notebook</a>'\n",
              "            + ' to learn more about interactive tables.';\n",
              "          element.innerHTML = '';\n",
              "          dataTable['output_type'] = 'display_data';\n",
              "          await google.colab.output.renderOutput(dataTable, element);\n",
              "          const docLink = document.createElement('div');\n",
              "          docLink.innerHTML = docLinkHtml;\n",
              "          element.appendChild(docLink);\n",
              "        }\n",
              "      </script>\n",
              "    </div>\n",
              "  </div>\n",
              "  "
            ]
          },
          "metadata": {},
          "execution_count": 1136
        }
      ]
    },
    {
      "cell_type": "code",
      "source": [
        "X_train, X_test, y_train, y_test = train_test_split(X, y, test_size=0.30, random_state=17)"
      ],
      "metadata": {
        "id": "ozhUuy5pL7Oo"
      },
      "execution_count": 1137,
      "outputs": []
    },
    {
      "cell_type": "markdown",
      "source": [
        "* Eğitim setiyle model kuracağız test setiyle modelin başarısını ölçeceğiz."
      ],
      "metadata": {
        "id": "Gyo2jcaZXRWy"
      }
    },
    {
      "cell_type": "code",
      "source": [
        "X_train.head()"
      ],
      "metadata": {
        "colab": {
          "base_uri": "https://localhost:8080/",
          "height": 270
        },
        "id": "ebB91ez2XcA7",
        "outputId": "1946099b-83a8-49be-b542-207d55e0b72d"
      },
      "execution_count": 1138,
      "outputs": [
        {
          "output_type": "execute_result",
          "data": {
            "text/plain": [
              "     SEX    AGE   FARE  NEW_CABIN_FLAG  NEW_IS_ALONE  NEW_NAME_COUNT  NEW_NAME_DR  NEW_AGE_PCLASS  PCLASS_2  PCLASS_3  SIBSP_1  SIBSP_2  SIBSP_3  SIBSP_4  SIBSP_5  SIBSP_8  PARCH_1  PARCH_2  PARCH_3  PARCH_4  PARCH_5  PARCH_6  EMBARKED_Q  EMBARKED_S  NEW_NAME_WORD_COUNT_4  NEW_NAME_WORD_COUNT_5  NEW_NAME_WORD_COUNT_6  NEW_NAME_WORD_COUNT_7  NEW_NAME_WORD_COUNT_8  NEW_NAME_WORD_COUNT_9  NEW_NAME_WORD_COUNT_14  NEW_TITLE_Miss  NEW_TITLE_Mr  NEW_TITLE_Mrs  NEW_TITLE_Rare  NEW_FAMILY_SIZE_2  NEW_FAMILY_SIZE_3  NEW_FAMILY_SIZE_4  NEW_FAMILY_SIZE_5  NEW_FAMILY_SIZE_6  NEW_FAMILY_SIZE_7  NEW_FAMILY_SIZE_8  NEW_FAMILY_SIZE_11  NEW_AGE_CAT_senior  NEW_AGE_CAT_young  NEW_SEX_CAT_maturemale  NEW_SEX_CAT_seniorfemale  NEW_SEX_CAT_seniormale  NEW_SEX_CAT_youngfemale  NEW_SEX_CAT_youngmale\n",
              "66     0 -0.025 -0.662               1             1           0.174            0          -0.178         1         0        0        0        0        0        0        0        0        0        0        0        0        0           0           1                      1                      0                      0                      0                      0                      0                       0               0             0              1               0                  0                  0                  0                  0                  0                  0                  0                   0                   0                  0                       0                         0                       0                        0                      0\n",
              "381    0 -2.167 -0.406               0             0           0.052            0          -1.862         0         1        0        0        0        0        0        0        0        1        0        0        0        0           0           0                      1                      0                      0                      0                      0                      0                       0               1             0              0               0                  0                  1                  0                  0                  0                  0                  0                   0                   0                  1                       0                         0                       0                        1                      0\n",
              "223    1  0.051 -0.789               0             1          -0.803            0           0.801         0         1        0        0        0        0        0        0        0        0        0        0        0        0           0           1                      0                      0                      0                      0                      0                      0                       0               0             1              0               0                  0                  0                  0                  0                  0                  0                  0                   0                   0                  0                       1                         0                       0                        0                      0\n",
              "629    1  0.051 -0.797               0             1          -0.315            0           0.801         0         1        0        0        0        0        0        0        0        0        0        0        0        0           1           0                      1                      0                      0                      0                      0                      0                       0               0             1              0               0                  0                  0                  0                  0                  0                  0                  0                   0                   0                  0                       1                         0                       0                        0                      0\n",
              "337    0  0.893  2.032               1             1           0.540            0          -0.699         0         0        0        0        0        0        0        0        0        0        0        0        0        0           0           0                      1                      0                      0                      0                      0                      0                       0               1             0              0               0                  0                  0                  0                  0                  0                  0                  0                   0                   0                  0                       0                         0                       0                        0                      0"
            ],
            "text/html": [
              "\n",
              "  <div id=\"df-53758866-8fde-45b6-8b7b-dd29c0df42e3\">\n",
              "    <div class=\"colab-df-container\">\n",
              "      <div>\n",
              "<style scoped>\n",
              "    .dataframe tbody tr th:only-of-type {\n",
              "        vertical-align: middle;\n",
              "    }\n",
              "\n",
              "    .dataframe tbody tr th {\n",
              "        vertical-align: top;\n",
              "    }\n",
              "\n",
              "    .dataframe thead th {\n",
              "        text-align: right;\n",
              "    }\n",
              "</style>\n",
              "<table border=\"1\" class=\"dataframe\">\n",
              "  <thead>\n",
              "    <tr style=\"text-align: right;\">\n",
              "      <th></th>\n",
              "      <th>SEX</th>\n",
              "      <th>AGE</th>\n",
              "      <th>FARE</th>\n",
              "      <th>NEW_CABIN_FLAG</th>\n",
              "      <th>NEW_IS_ALONE</th>\n",
              "      <th>NEW_NAME_COUNT</th>\n",
              "      <th>NEW_NAME_DR</th>\n",
              "      <th>NEW_AGE_PCLASS</th>\n",
              "      <th>PCLASS_2</th>\n",
              "      <th>PCLASS_3</th>\n",
              "      <th>SIBSP_1</th>\n",
              "      <th>SIBSP_2</th>\n",
              "      <th>SIBSP_3</th>\n",
              "      <th>SIBSP_4</th>\n",
              "      <th>SIBSP_5</th>\n",
              "      <th>SIBSP_8</th>\n",
              "      <th>PARCH_1</th>\n",
              "      <th>PARCH_2</th>\n",
              "      <th>PARCH_3</th>\n",
              "      <th>PARCH_4</th>\n",
              "      <th>PARCH_5</th>\n",
              "      <th>PARCH_6</th>\n",
              "      <th>EMBARKED_Q</th>\n",
              "      <th>EMBARKED_S</th>\n",
              "      <th>NEW_NAME_WORD_COUNT_4</th>\n",
              "      <th>NEW_NAME_WORD_COUNT_5</th>\n",
              "      <th>NEW_NAME_WORD_COUNT_6</th>\n",
              "      <th>NEW_NAME_WORD_COUNT_7</th>\n",
              "      <th>NEW_NAME_WORD_COUNT_8</th>\n",
              "      <th>NEW_NAME_WORD_COUNT_9</th>\n",
              "      <th>NEW_NAME_WORD_COUNT_14</th>\n",
              "      <th>NEW_TITLE_Miss</th>\n",
              "      <th>NEW_TITLE_Mr</th>\n",
              "      <th>NEW_TITLE_Mrs</th>\n",
              "      <th>NEW_TITLE_Rare</th>\n",
              "      <th>NEW_FAMILY_SIZE_2</th>\n",
              "      <th>NEW_FAMILY_SIZE_3</th>\n",
              "      <th>NEW_FAMILY_SIZE_4</th>\n",
              "      <th>NEW_FAMILY_SIZE_5</th>\n",
              "      <th>NEW_FAMILY_SIZE_6</th>\n",
              "      <th>NEW_FAMILY_SIZE_7</th>\n",
              "      <th>NEW_FAMILY_SIZE_8</th>\n",
              "      <th>NEW_FAMILY_SIZE_11</th>\n",
              "      <th>NEW_AGE_CAT_senior</th>\n",
              "      <th>NEW_AGE_CAT_young</th>\n",
              "      <th>NEW_SEX_CAT_maturemale</th>\n",
              "      <th>NEW_SEX_CAT_seniorfemale</th>\n",
              "      <th>NEW_SEX_CAT_seniormale</th>\n",
              "      <th>NEW_SEX_CAT_youngfemale</th>\n",
              "      <th>NEW_SEX_CAT_youngmale</th>\n",
              "    </tr>\n",
              "  </thead>\n",
              "  <tbody>\n",
              "    <tr>\n",
              "      <th>66</th>\n",
              "      <td>0</td>\n",
              "      <td>-0.025</td>\n",
              "      <td>-0.662</td>\n",
              "      <td>1</td>\n",
              "      <td>1</td>\n",
              "      <td>0.174</td>\n",
              "      <td>0</td>\n",
              "      <td>-0.178</td>\n",
              "      <td>1</td>\n",
              "      <td>0</td>\n",
              "      <td>0</td>\n",
              "      <td>0</td>\n",
              "      <td>0</td>\n",
              "      <td>0</td>\n",
              "      <td>0</td>\n",
              "      <td>0</td>\n",
              "      <td>0</td>\n",
              "      <td>0</td>\n",
              "      <td>0</td>\n",
              "      <td>0</td>\n",
              "      <td>0</td>\n",
              "      <td>0</td>\n",
              "      <td>0</td>\n",
              "      <td>1</td>\n",
              "      <td>1</td>\n",
              "      <td>0</td>\n",
              "      <td>0</td>\n",
              "      <td>0</td>\n",
              "      <td>0</td>\n",
              "      <td>0</td>\n",
              "      <td>0</td>\n",
              "      <td>0</td>\n",
              "      <td>0</td>\n",
              "      <td>1</td>\n",
              "      <td>0</td>\n",
              "      <td>0</td>\n",
              "      <td>0</td>\n",
              "      <td>0</td>\n",
              "      <td>0</td>\n",
              "      <td>0</td>\n",
              "      <td>0</td>\n",
              "      <td>0</td>\n",
              "      <td>0</td>\n",
              "      <td>0</td>\n",
              "      <td>0</td>\n",
              "      <td>0</td>\n",
              "      <td>0</td>\n",
              "      <td>0</td>\n",
              "      <td>0</td>\n",
              "      <td>0</td>\n",
              "    </tr>\n",
              "    <tr>\n",
              "      <th>381</th>\n",
              "      <td>0</td>\n",
              "      <td>-2.167</td>\n",
              "      <td>-0.406</td>\n",
              "      <td>0</td>\n",
              "      <td>0</td>\n",
              "      <td>0.052</td>\n",
              "      <td>0</td>\n",
              "      <td>-1.862</td>\n",
              "      <td>0</td>\n",
              "      <td>1</td>\n",
              "      <td>0</td>\n",
              "      <td>0</td>\n",
              "      <td>0</td>\n",
              "      <td>0</td>\n",
              "      <td>0</td>\n",
              "      <td>0</td>\n",
              "      <td>0</td>\n",
              "      <td>1</td>\n",
              "      <td>0</td>\n",
              "      <td>0</td>\n",
              "      <td>0</td>\n",
              "      <td>0</td>\n",
              "      <td>0</td>\n",
              "      <td>0</td>\n",
              "      <td>1</td>\n",
              "      <td>0</td>\n",
              "      <td>0</td>\n",
              "      <td>0</td>\n",
              "      <td>0</td>\n",
              "      <td>0</td>\n",
              "      <td>0</td>\n",
              "      <td>1</td>\n",
              "      <td>0</td>\n",
              "      <td>0</td>\n",
              "      <td>0</td>\n",
              "      <td>0</td>\n",
              "      <td>1</td>\n",
              "      <td>0</td>\n",
              "      <td>0</td>\n",
              "      <td>0</td>\n",
              "      <td>0</td>\n",
              "      <td>0</td>\n",
              "      <td>0</td>\n",
              "      <td>0</td>\n",
              "      <td>1</td>\n",
              "      <td>0</td>\n",
              "      <td>0</td>\n",
              "      <td>0</td>\n",
              "      <td>1</td>\n",
              "      <td>0</td>\n",
              "    </tr>\n",
              "    <tr>\n",
              "      <th>223</th>\n",
              "      <td>1</td>\n",
              "      <td>0.051</td>\n",
              "      <td>-0.789</td>\n",
              "      <td>0</td>\n",
              "      <td>1</td>\n",
              "      <td>-0.803</td>\n",
              "      <td>0</td>\n",
              "      <td>0.801</td>\n",
              "      <td>0</td>\n",
              "      <td>1</td>\n",
              "      <td>0</td>\n",
              "      <td>0</td>\n",
              "      <td>0</td>\n",
              "      <td>0</td>\n",
              "      <td>0</td>\n",
              "      <td>0</td>\n",
              "      <td>0</td>\n",
              "      <td>0</td>\n",
              "      <td>0</td>\n",
              "      <td>0</td>\n",
              "      <td>0</td>\n",
              "      <td>0</td>\n",
              "      <td>0</td>\n",
              "      <td>1</td>\n",
              "      <td>0</td>\n",
              "      <td>0</td>\n",
              "      <td>0</td>\n",
              "      <td>0</td>\n",
              "      <td>0</td>\n",
              "      <td>0</td>\n",
              "      <td>0</td>\n",
              "      <td>0</td>\n",
              "      <td>1</td>\n",
              "      <td>0</td>\n",
              "      <td>0</td>\n",
              "      <td>0</td>\n",
              "      <td>0</td>\n",
              "      <td>0</td>\n",
              "      <td>0</td>\n",
              "      <td>0</td>\n",
              "      <td>0</td>\n",
              "      <td>0</td>\n",
              "      <td>0</td>\n",
              "      <td>0</td>\n",
              "      <td>0</td>\n",
              "      <td>1</td>\n",
              "      <td>0</td>\n",
              "      <td>0</td>\n",
              "      <td>0</td>\n",
              "      <td>0</td>\n",
              "    </tr>\n",
              "    <tr>\n",
              "      <th>629</th>\n",
              "      <td>1</td>\n",
              "      <td>0.051</td>\n",
              "      <td>-0.797</td>\n",
              "      <td>0</td>\n",
              "      <td>1</td>\n",
              "      <td>-0.315</td>\n",
              "      <td>0</td>\n",
              "      <td>0.801</td>\n",
              "      <td>0</td>\n",
              "      <td>1</td>\n",
              "      <td>0</td>\n",
              "      <td>0</td>\n",
              "      <td>0</td>\n",
              "      <td>0</td>\n",
              "      <td>0</td>\n",
              "      <td>0</td>\n",
              "      <td>0</td>\n",
              "      <td>0</td>\n",
              "      <td>0</td>\n",
              "      <td>0</td>\n",
              "      <td>0</td>\n",
              "      <td>0</td>\n",
              "      <td>1</td>\n",
              "      <td>0</td>\n",
              "      <td>1</td>\n",
              "      <td>0</td>\n",
              "      <td>0</td>\n",
              "      <td>0</td>\n",
              "      <td>0</td>\n",
              "      <td>0</td>\n",
              "      <td>0</td>\n",
              "      <td>0</td>\n",
              "      <td>1</td>\n",
              "      <td>0</td>\n",
              "      <td>0</td>\n",
              "      <td>0</td>\n",
              "      <td>0</td>\n",
              "      <td>0</td>\n",
              "      <td>0</td>\n",
              "      <td>0</td>\n",
              "      <td>0</td>\n",
              "      <td>0</td>\n",
              "      <td>0</td>\n",
              "      <td>0</td>\n",
              "      <td>0</td>\n",
              "      <td>1</td>\n",
              "      <td>0</td>\n",
              "      <td>0</td>\n",
              "      <td>0</td>\n",
              "      <td>0</td>\n",
              "    </tr>\n",
              "    <tr>\n",
              "      <th>337</th>\n",
              "      <td>0</td>\n",
              "      <td>0.893</td>\n",
              "      <td>2.032</td>\n",
              "      <td>1</td>\n",
              "      <td>1</td>\n",
              "      <td>0.540</td>\n",
              "      <td>0</td>\n",
              "      <td>-0.699</td>\n",
              "      <td>0</td>\n",
              "      <td>0</td>\n",
              "      <td>0</td>\n",
              "      <td>0</td>\n",
              "      <td>0</td>\n",
              "      <td>0</td>\n",
              "      <td>0</td>\n",
              "      <td>0</td>\n",
              "      <td>0</td>\n",
              "      <td>0</td>\n",
              "      <td>0</td>\n",
              "      <td>0</td>\n",
              "      <td>0</td>\n",
              "      <td>0</td>\n",
              "      <td>0</td>\n",
              "      <td>0</td>\n",
              "      <td>1</td>\n",
              "      <td>0</td>\n",
              "      <td>0</td>\n",
              "      <td>0</td>\n",
              "      <td>0</td>\n",
              "      <td>0</td>\n",
              "      <td>0</td>\n",
              "      <td>1</td>\n",
              "      <td>0</td>\n",
              "      <td>0</td>\n",
              "      <td>0</td>\n",
              "      <td>0</td>\n",
              "      <td>0</td>\n",
              "      <td>0</td>\n",
              "      <td>0</td>\n",
              "      <td>0</td>\n",
              "      <td>0</td>\n",
              "      <td>0</td>\n",
              "      <td>0</td>\n",
              "      <td>0</td>\n",
              "      <td>0</td>\n",
              "      <td>0</td>\n",
              "      <td>0</td>\n",
              "      <td>0</td>\n",
              "      <td>0</td>\n",
              "      <td>0</td>\n",
              "    </tr>\n",
              "  </tbody>\n",
              "</table>\n",
              "</div>\n",
              "      <button class=\"colab-df-convert\" onclick=\"convertToInteractive('df-53758866-8fde-45b6-8b7b-dd29c0df42e3')\"\n",
              "              title=\"Convert this dataframe to an interactive table.\"\n",
              "              style=\"display:none;\">\n",
              "        \n",
              "  <svg xmlns=\"http://www.w3.org/2000/svg\" height=\"24px\"viewBox=\"0 0 24 24\"\n",
              "       width=\"24px\">\n",
              "    <path d=\"M0 0h24v24H0V0z\" fill=\"none\"/>\n",
              "    <path d=\"M18.56 5.44l.94 2.06.94-2.06 2.06-.94-2.06-.94-.94-2.06-.94 2.06-2.06.94zm-11 1L8.5 8.5l.94-2.06 2.06-.94-2.06-.94L8.5 2.5l-.94 2.06-2.06.94zm10 10l.94 2.06.94-2.06 2.06-.94-2.06-.94-.94-2.06-.94 2.06-2.06.94z\"/><path d=\"M17.41 7.96l-1.37-1.37c-.4-.4-.92-.59-1.43-.59-.52 0-1.04.2-1.43.59L10.3 9.45l-7.72 7.72c-.78.78-.78 2.05 0 2.83L4 21.41c.39.39.9.59 1.41.59.51 0 1.02-.2 1.41-.59l7.78-7.78 2.81-2.81c.8-.78.8-2.07 0-2.86zM5.41 20L4 18.59l7.72-7.72 1.47 1.35L5.41 20z\"/>\n",
              "  </svg>\n",
              "      </button>\n",
              "      \n",
              "  <style>\n",
              "    .colab-df-container {\n",
              "      display:flex;\n",
              "      flex-wrap:wrap;\n",
              "      gap: 12px;\n",
              "    }\n",
              "\n",
              "    .colab-df-convert {\n",
              "      background-color: #E8F0FE;\n",
              "      border: none;\n",
              "      border-radius: 50%;\n",
              "      cursor: pointer;\n",
              "      display: none;\n",
              "      fill: #1967D2;\n",
              "      height: 32px;\n",
              "      padding: 0 0 0 0;\n",
              "      width: 32px;\n",
              "    }\n",
              "\n",
              "    .colab-df-convert:hover {\n",
              "      background-color: #E2EBFA;\n",
              "      box-shadow: 0px 1px 2px rgba(60, 64, 67, 0.3), 0px 1px 3px 1px rgba(60, 64, 67, 0.15);\n",
              "      fill: #174EA6;\n",
              "    }\n",
              "\n",
              "    [theme=dark] .colab-df-convert {\n",
              "      background-color: #3B4455;\n",
              "      fill: #D2E3FC;\n",
              "    }\n",
              "\n",
              "    [theme=dark] .colab-df-convert:hover {\n",
              "      background-color: #434B5C;\n",
              "      box-shadow: 0px 1px 3px 1px rgba(0, 0, 0, 0.15);\n",
              "      filter: drop-shadow(0px 1px 2px rgba(0, 0, 0, 0.3));\n",
              "      fill: #FFFFFF;\n",
              "    }\n",
              "  </style>\n",
              "\n",
              "      <script>\n",
              "        const buttonEl =\n",
              "          document.querySelector('#df-53758866-8fde-45b6-8b7b-dd29c0df42e3 button.colab-df-convert');\n",
              "        buttonEl.style.display =\n",
              "          google.colab.kernel.accessAllowed ? 'block' : 'none';\n",
              "\n",
              "        async function convertToInteractive(key) {\n",
              "          const element = document.querySelector('#df-53758866-8fde-45b6-8b7b-dd29c0df42e3');\n",
              "          const dataTable =\n",
              "            await google.colab.kernel.invokeFunction('convertToInteractive',\n",
              "                                                     [key], {});\n",
              "          if (!dataTable) return;\n",
              "\n",
              "          const docLinkHtml = 'Like what you see? Visit the ' +\n",
              "            '<a target=\"_blank\" href=https://colab.research.google.com/notebooks/data_table.ipynb>data table notebook</a>'\n",
              "            + ' to learn more about interactive tables.';\n",
              "          element.innerHTML = '';\n",
              "          dataTable['output_type'] = 'display_data';\n",
              "          await google.colab.output.renderOutput(dataTable, element);\n",
              "          const docLink = document.createElement('div');\n",
              "          docLink.innerHTML = docLinkHtml;\n",
              "          element.appendChild(docLink);\n",
              "        }\n",
              "      </script>\n",
              "    </div>\n",
              "  </div>\n",
              "  "
            ]
          },
          "metadata": {},
          "execution_count": 1138
        }
      ]
    },
    {
      "cell_type": "code",
      "source": [
        "X_test.head()"
      ],
      "metadata": {
        "colab": {
          "base_uri": "https://localhost:8080/",
          "height": 270
        },
        "id": "x63akkV7Xh_U",
        "outputId": "da5848f6-2cfa-4854-afc6-7660088cc360"
      },
      "execution_count": 1139,
      "outputs": [
        {
          "output_type": "execute_result",
          "data": {
            "text/plain": [
              "     SEX    AGE   FARE  NEW_CABIN_FLAG  NEW_IS_ALONE  NEW_NAME_COUNT  NEW_NAME_DR  NEW_AGE_PCLASS  PCLASS_2  PCLASS_3  SIBSP_1  SIBSP_2  SIBSP_3  SIBSP_4  SIBSP_5  SIBSP_8  PARCH_1  PARCH_2  PARCH_3  PARCH_4  PARCH_5  PARCH_6  EMBARKED_Q  EMBARKED_S  NEW_NAME_WORD_COUNT_4  NEW_NAME_WORD_COUNT_5  NEW_NAME_WORD_COUNT_6  NEW_NAME_WORD_COUNT_7  NEW_NAME_WORD_COUNT_8  NEW_NAME_WORD_COUNT_9  NEW_NAME_WORD_COUNT_14  NEW_TITLE_Miss  NEW_TITLE_Mr  NEW_TITLE_Mrs  NEW_TITLE_Rare  NEW_FAMILY_SIZE_2  NEW_FAMILY_SIZE_3  NEW_FAMILY_SIZE_4  NEW_FAMILY_SIZE_5  NEW_FAMILY_SIZE_6  NEW_FAMILY_SIZE_7  NEW_FAMILY_SIZE_8  NEW_FAMILY_SIZE_11  NEW_AGE_CAT_senior  NEW_AGE_CAT_young  NEW_SEX_CAT_maturemale  NEW_SEX_CAT_seniorfemale  NEW_SEX_CAT_seniormale  NEW_SEX_CAT_youngfemale  NEW_SEX_CAT_youngmale\n",
              "890    1  0.204 -0.796               0             1          -0.925            0           0.985         0         1        0        0        0        0        0        0        0        0        0        0        0        0           1           0                      0                      0                      0                      0                      0                      0                       0               0             1              0               0                  0                  0                  0                  0                  0                  0                  0                   0                   0                  0                       1                         0                       0                        0                      0\n",
              "498    0 -0.331  2.032               1             0           2.248            0          -1.188         0         0        1        0        0        0        0        0        0        1        0        0        0        0           0           1                      0                      0                      0                      0                      1                      0                       0               0             0              1               0                  0                  0                  1                  0                  0                  0                  0                   0                   0                  0                       0                         0                       0                        0                      0\n",
              "664    1 -0.714 -0.788               0             0           0.052            0          -0.117         0         1        1        0        0        0        0        0        0        0        0        0        0        0           0           1                      1                      0                      0                      0                      0                      0                       0               0             1              0               0                  1                  0                  0                  0                  0                  0                  0                   0                   0                  0                       0                         0                       0                        0                      1\n",
              "261    1 -2.014  0.359               0             0           0.784            0          -1.678         0         1        0        0        0        1        0        0        0        1        0        0        0        0           0           1                      0                      1                      0                      0                      0                      0                       0               0             0              0               0                  0                  0                  0                  0                  0                  1                  0                   0                   0                  1                       0                         0                       0                        0                      1\n",
              "716    0  0.663  2.032               1             1           0.296            0          -0.790         0         0        0        0        0        0        0        0        0        0        0        0        0        0           0           0                      1                      0                      0                      0                      0                      0                       0               1             0              0               0                  0                  0                  0                  0                  0                  0                  0                   0                   0                  0                       0                         0                       0                        0                      0"
            ],
            "text/html": [
              "\n",
              "  <div id=\"df-35ad51d3-0332-46be-8409-b6729536fa95\">\n",
              "    <div class=\"colab-df-container\">\n",
              "      <div>\n",
              "<style scoped>\n",
              "    .dataframe tbody tr th:only-of-type {\n",
              "        vertical-align: middle;\n",
              "    }\n",
              "\n",
              "    .dataframe tbody tr th {\n",
              "        vertical-align: top;\n",
              "    }\n",
              "\n",
              "    .dataframe thead th {\n",
              "        text-align: right;\n",
              "    }\n",
              "</style>\n",
              "<table border=\"1\" class=\"dataframe\">\n",
              "  <thead>\n",
              "    <tr style=\"text-align: right;\">\n",
              "      <th></th>\n",
              "      <th>SEX</th>\n",
              "      <th>AGE</th>\n",
              "      <th>FARE</th>\n",
              "      <th>NEW_CABIN_FLAG</th>\n",
              "      <th>NEW_IS_ALONE</th>\n",
              "      <th>NEW_NAME_COUNT</th>\n",
              "      <th>NEW_NAME_DR</th>\n",
              "      <th>NEW_AGE_PCLASS</th>\n",
              "      <th>PCLASS_2</th>\n",
              "      <th>PCLASS_3</th>\n",
              "      <th>SIBSP_1</th>\n",
              "      <th>SIBSP_2</th>\n",
              "      <th>SIBSP_3</th>\n",
              "      <th>SIBSP_4</th>\n",
              "      <th>SIBSP_5</th>\n",
              "      <th>SIBSP_8</th>\n",
              "      <th>PARCH_1</th>\n",
              "      <th>PARCH_2</th>\n",
              "      <th>PARCH_3</th>\n",
              "      <th>PARCH_4</th>\n",
              "      <th>PARCH_5</th>\n",
              "      <th>PARCH_6</th>\n",
              "      <th>EMBARKED_Q</th>\n",
              "      <th>EMBARKED_S</th>\n",
              "      <th>NEW_NAME_WORD_COUNT_4</th>\n",
              "      <th>NEW_NAME_WORD_COUNT_5</th>\n",
              "      <th>NEW_NAME_WORD_COUNT_6</th>\n",
              "      <th>NEW_NAME_WORD_COUNT_7</th>\n",
              "      <th>NEW_NAME_WORD_COUNT_8</th>\n",
              "      <th>NEW_NAME_WORD_COUNT_9</th>\n",
              "      <th>NEW_NAME_WORD_COUNT_14</th>\n",
              "      <th>NEW_TITLE_Miss</th>\n",
              "      <th>NEW_TITLE_Mr</th>\n",
              "      <th>NEW_TITLE_Mrs</th>\n",
              "      <th>NEW_TITLE_Rare</th>\n",
              "      <th>NEW_FAMILY_SIZE_2</th>\n",
              "      <th>NEW_FAMILY_SIZE_3</th>\n",
              "      <th>NEW_FAMILY_SIZE_4</th>\n",
              "      <th>NEW_FAMILY_SIZE_5</th>\n",
              "      <th>NEW_FAMILY_SIZE_6</th>\n",
              "      <th>NEW_FAMILY_SIZE_7</th>\n",
              "      <th>NEW_FAMILY_SIZE_8</th>\n",
              "      <th>NEW_FAMILY_SIZE_11</th>\n",
              "      <th>NEW_AGE_CAT_senior</th>\n",
              "      <th>NEW_AGE_CAT_young</th>\n",
              "      <th>NEW_SEX_CAT_maturemale</th>\n",
              "      <th>NEW_SEX_CAT_seniorfemale</th>\n",
              "      <th>NEW_SEX_CAT_seniormale</th>\n",
              "      <th>NEW_SEX_CAT_youngfemale</th>\n",
              "      <th>NEW_SEX_CAT_youngmale</th>\n",
              "    </tr>\n",
              "  </thead>\n",
              "  <tbody>\n",
              "    <tr>\n",
              "      <th>890</th>\n",
              "      <td>1</td>\n",
              "      <td>0.204</td>\n",
              "      <td>-0.796</td>\n",
              "      <td>0</td>\n",
              "      <td>1</td>\n",
              "      <td>-0.925</td>\n",
              "      <td>0</td>\n",
              "      <td>0.985</td>\n",
              "      <td>0</td>\n",
              "      <td>1</td>\n",
              "      <td>0</td>\n",
              "      <td>0</td>\n",
              "      <td>0</td>\n",
              "      <td>0</td>\n",
              "      <td>0</td>\n",
              "      <td>0</td>\n",
              "      <td>0</td>\n",
              "      <td>0</td>\n",
              "      <td>0</td>\n",
              "      <td>0</td>\n",
              "      <td>0</td>\n",
              "      <td>0</td>\n",
              "      <td>1</td>\n",
              "      <td>0</td>\n",
              "      <td>0</td>\n",
              "      <td>0</td>\n",
              "      <td>0</td>\n",
              "      <td>0</td>\n",
              "      <td>0</td>\n",
              "      <td>0</td>\n",
              "      <td>0</td>\n",
              "      <td>0</td>\n",
              "      <td>1</td>\n",
              "      <td>0</td>\n",
              "      <td>0</td>\n",
              "      <td>0</td>\n",
              "      <td>0</td>\n",
              "      <td>0</td>\n",
              "      <td>0</td>\n",
              "      <td>0</td>\n",
              "      <td>0</td>\n",
              "      <td>0</td>\n",
              "      <td>0</td>\n",
              "      <td>0</td>\n",
              "      <td>0</td>\n",
              "      <td>1</td>\n",
              "      <td>0</td>\n",
              "      <td>0</td>\n",
              "      <td>0</td>\n",
              "      <td>0</td>\n",
              "    </tr>\n",
              "    <tr>\n",
              "      <th>498</th>\n",
              "      <td>0</td>\n",
              "      <td>-0.331</td>\n",
              "      <td>2.032</td>\n",
              "      <td>1</td>\n",
              "      <td>0</td>\n",
              "      <td>2.248</td>\n",
              "      <td>0</td>\n",
              "      <td>-1.188</td>\n",
              "      <td>0</td>\n",
              "      <td>0</td>\n",
              "      <td>1</td>\n",
              "      <td>0</td>\n",
              "      <td>0</td>\n",
              "      <td>0</td>\n",
              "      <td>0</td>\n",
              "      <td>0</td>\n",
              "      <td>0</td>\n",
              "      <td>1</td>\n",
              "      <td>0</td>\n",
              "      <td>0</td>\n",
              "      <td>0</td>\n",
              "      <td>0</td>\n",
              "      <td>0</td>\n",
              "      <td>1</td>\n",
              "      <td>0</td>\n",
              "      <td>0</td>\n",
              "      <td>0</td>\n",
              "      <td>0</td>\n",
              "      <td>1</td>\n",
              "      <td>0</td>\n",
              "      <td>0</td>\n",
              "      <td>0</td>\n",
              "      <td>0</td>\n",
              "      <td>1</td>\n",
              "      <td>0</td>\n",
              "      <td>0</td>\n",
              "      <td>0</td>\n",
              "      <td>1</td>\n",
              "      <td>0</td>\n",
              "      <td>0</td>\n",
              "      <td>0</td>\n",
              "      <td>0</td>\n",
              "      <td>0</td>\n",
              "      <td>0</td>\n",
              "      <td>0</td>\n",
              "      <td>0</td>\n",
              "      <td>0</td>\n",
              "      <td>0</td>\n",
              "      <td>0</td>\n",
              "      <td>0</td>\n",
              "    </tr>\n",
              "    <tr>\n",
              "      <th>664</th>\n",
              "      <td>1</td>\n",
              "      <td>-0.714</td>\n",
              "      <td>-0.788</td>\n",
              "      <td>0</td>\n",
              "      <td>0</td>\n",
              "      <td>0.052</td>\n",
              "      <td>0</td>\n",
              "      <td>-0.117</td>\n",
              "      <td>0</td>\n",
              "      <td>1</td>\n",
              "      <td>1</td>\n",
              "      <td>0</td>\n",
              "      <td>0</td>\n",
              "      <td>0</td>\n",
              "      <td>0</td>\n",
              "      <td>0</td>\n",
              "      <td>0</td>\n",
              "      <td>0</td>\n",
              "      <td>0</td>\n",
              "      <td>0</td>\n",
              "      <td>0</td>\n",
              "      <td>0</td>\n",
              "      <td>0</td>\n",
              "      <td>1</td>\n",
              "      <td>1</td>\n",
              "      <td>0</td>\n",
              "      <td>0</td>\n",
              "      <td>0</td>\n",
              "      <td>0</td>\n",
              "      <td>0</td>\n",
              "      <td>0</td>\n",
              "      <td>0</td>\n",
              "      <td>1</td>\n",
              "      <td>0</td>\n",
              "      <td>0</td>\n",
              "      <td>1</td>\n",
              "      <td>0</td>\n",
              "      <td>0</td>\n",
              "      <td>0</td>\n",
              "      <td>0</td>\n",
              "      <td>0</td>\n",
              "      <td>0</td>\n",
              "      <td>0</td>\n",
              "      <td>0</td>\n",
              "      <td>0</td>\n",
              "      <td>0</td>\n",
              "      <td>0</td>\n",
              "      <td>0</td>\n",
              "      <td>0</td>\n",
              "      <td>1</td>\n",
              "    </tr>\n",
              "    <tr>\n",
              "      <th>261</th>\n",
              "      <td>1</td>\n",
              "      <td>-2.014</td>\n",
              "      <td>0.359</td>\n",
              "      <td>0</td>\n",
              "      <td>0</td>\n",
              "      <td>0.784</td>\n",
              "      <td>0</td>\n",
              "      <td>-1.678</td>\n",
              "      <td>0</td>\n",
              "      <td>1</td>\n",
              "      <td>0</td>\n",
              "      <td>0</td>\n",
              "      <td>0</td>\n",
              "      <td>1</td>\n",
              "      <td>0</td>\n",
              "      <td>0</td>\n",
              "      <td>0</td>\n",
              "      <td>1</td>\n",
              "      <td>0</td>\n",
              "      <td>0</td>\n",
              "      <td>0</td>\n",
              "      <td>0</td>\n",
              "      <td>0</td>\n",
              "      <td>1</td>\n",
              "      <td>0</td>\n",
              "      <td>1</td>\n",
              "      <td>0</td>\n",
              "      <td>0</td>\n",
              "      <td>0</td>\n",
              "      <td>0</td>\n",
              "      <td>0</td>\n",
              "      <td>0</td>\n",
              "      <td>0</td>\n",
              "      <td>0</td>\n",
              "      <td>0</td>\n",
              "      <td>0</td>\n",
              "      <td>0</td>\n",
              "      <td>0</td>\n",
              "      <td>0</td>\n",
              "      <td>0</td>\n",
              "      <td>1</td>\n",
              "      <td>0</td>\n",
              "      <td>0</td>\n",
              "      <td>0</td>\n",
              "      <td>1</td>\n",
              "      <td>0</td>\n",
              "      <td>0</td>\n",
              "      <td>0</td>\n",
              "      <td>0</td>\n",
              "      <td>1</td>\n",
              "    </tr>\n",
              "    <tr>\n",
              "      <th>716</th>\n",
              "      <td>0</td>\n",
              "      <td>0.663</td>\n",
              "      <td>2.032</td>\n",
              "      <td>1</td>\n",
              "      <td>1</td>\n",
              "      <td>0.296</td>\n",
              "      <td>0</td>\n",
              "      <td>-0.790</td>\n",
              "      <td>0</td>\n",
              "      <td>0</td>\n",
              "      <td>0</td>\n",
              "      <td>0</td>\n",
              "      <td>0</td>\n",
              "      <td>0</td>\n",
              "      <td>0</td>\n",
              "      <td>0</td>\n",
              "      <td>0</td>\n",
              "      <td>0</td>\n",
              "      <td>0</td>\n",
              "      <td>0</td>\n",
              "      <td>0</td>\n",
              "      <td>0</td>\n",
              "      <td>0</td>\n",
              "      <td>0</td>\n",
              "      <td>1</td>\n",
              "      <td>0</td>\n",
              "      <td>0</td>\n",
              "      <td>0</td>\n",
              "      <td>0</td>\n",
              "      <td>0</td>\n",
              "      <td>0</td>\n",
              "      <td>1</td>\n",
              "      <td>0</td>\n",
              "      <td>0</td>\n",
              "      <td>0</td>\n",
              "      <td>0</td>\n",
              "      <td>0</td>\n",
              "      <td>0</td>\n",
              "      <td>0</td>\n",
              "      <td>0</td>\n",
              "      <td>0</td>\n",
              "      <td>0</td>\n",
              "      <td>0</td>\n",
              "      <td>0</td>\n",
              "      <td>0</td>\n",
              "      <td>0</td>\n",
              "      <td>0</td>\n",
              "      <td>0</td>\n",
              "      <td>0</td>\n",
              "      <td>0</td>\n",
              "    </tr>\n",
              "  </tbody>\n",
              "</table>\n",
              "</div>\n",
              "      <button class=\"colab-df-convert\" onclick=\"convertToInteractive('df-35ad51d3-0332-46be-8409-b6729536fa95')\"\n",
              "              title=\"Convert this dataframe to an interactive table.\"\n",
              "              style=\"display:none;\">\n",
              "        \n",
              "  <svg xmlns=\"http://www.w3.org/2000/svg\" height=\"24px\"viewBox=\"0 0 24 24\"\n",
              "       width=\"24px\">\n",
              "    <path d=\"M0 0h24v24H0V0z\" fill=\"none\"/>\n",
              "    <path d=\"M18.56 5.44l.94 2.06.94-2.06 2.06-.94-2.06-.94-.94-2.06-.94 2.06-2.06.94zm-11 1L8.5 8.5l.94-2.06 2.06-.94-2.06-.94L8.5 2.5l-.94 2.06-2.06.94zm10 10l.94 2.06.94-2.06 2.06-.94-2.06-.94-.94-2.06-.94 2.06-2.06.94z\"/><path d=\"M17.41 7.96l-1.37-1.37c-.4-.4-.92-.59-1.43-.59-.52 0-1.04.2-1.43.59L10.3 9.45l-7.72 7.72c-.78.78-.78 2.05 0 2.83L4 21.41c.39.39.9.59 1.41.59.51 0 1.02-.2 1.41-.59l7.78-7.78 2.81-2.81c.8-.78.8-2.07 0-2.86zM5.41 20L4 18.59l7.72-7.72 1.47 1.35L5.41 20z\"/>\n",
              "  </svg>\n",
              "      </button>\n",
              "      \n",
              "  <style>\n",
              "    .colab-df-container {\n",
              "      display:flex;\n",
              "      flex-wrap:wrap;\n",
              "      gap: 12px;\n",
              "    }\n",
              "\n",
              "    .colab-df-convert {\n",
              "      background-color: #E8F0FE;\n",
              "      border: none;\n",
              "      border-radius: 50%;\n",
              "      cursor: pointer;\n",
              "      display: none;\n",
              "      fill: #1967D2;\n",
              "      height: 32px;\n",
              "      padding: 0 0 0 0;\n",
              "      width: 32px;\n",
              "    }\n",
              "\n",
              "    .colab-df-convert:hover {\n",
              "      background-color: #E2EBFA;\n",
              "      box-shadow: 0px 1px 2px rgba(60, 64, 67, 0.3), 0px 1px 3px 1px rgba(60, 64, 67, 0.15);\n",
              "      fill: #174EA6;\n",
              "    }\n",
              "\n",
              "    [theme=dark] .colab-df-convert {\n",
              "      background-color: #3B4455;\n",
              "      fill: #D2E3FC;\n",
              "    }\n",
              "\n",
              "    [theme=dark] .colab-df-convert:hover {\n",
              "      background-color: #434B5C;\n",
              "      box-shadow: 0px 1px 3px 1px rgba(0, 0, 0, 0.15);\n",
              "      filter: drop-shadow(0px 1px 2px rgba(0, 0, 0, 0.3));\n",
              "      fill: #FFFFFF;\n",
              "    }\n",
              "  </style>\n",
              "\n",
              "      <script>\n",
              "        const buttonEl =\n",
              "          document.querySelector('#df-35ad51d3-0332-46be-8409-b6729536fa95 button.colab-df-convert');\n",
              "        buttonEl.style.display =\n",
              "          google.colab.kernel.accessAllowed ? 'block' : 'none';\n",
              "\n",
              "        async function convertToInteractive(key) {\n",
              "          const element = document.querySelector('#df-35ad51d3-0332-46be-8409-b6729536fa95');\n",
              "          const dataTable =\n",
              "            await google.colab.kernel.invokeFunction('convertToInteractive',\n",
              "                                                     [key], {});\n",
              "          if (!dataTable) return;\n",
              "\n",
              "          const docLinkHtml = 'Like what you see? Visit the ' +\n",
              "            '<a target=\"_blank\" href=https://colab.research.google.com/notebooks/data_table.ipynb>data table notebook</a>'\n",
              "            + ' to learn more about interactive tables.';\n",
              "          element.innerHTML = '';\n",
              "          dataTable['output_type'] = 'display_data';\n",
              "          await google.colab.output.renderOutput(dataTable, element);\n",
              "          const docLink = document.createElement('div');\n",
              "          docLink.innerHTML = docLinkHtml;\n",
              "          element.appendChild(docLink);\n",
              "        }\n",
              "      </script>\n",
              "    </div>\n",
              "  </div>\n",
              "  "
            ]
          },
          "metadata": {},
          "execution_count": 1139
        }
      ]
    },
    {
      "cell_type": "code",
      "source": [
        "y_train[:5]"
      ],
      "metadata": {
        "colab": {
          "base_uri": "https://localhost:8080/"
        },
        "id": "rHeHhMKZXjxV",
        "outputId": "5d9cb387-bc9b-41ca-b96c-9b2c24355571"
      },
      "execution_count": 1140,
      "outputs": [
        {
          "output_type": "execute_result",
          "data": {
            "text/plain": [
              "66     1\n",
              "381    1\n",
              "223    0\n",
              "629    0\n",
              "337    1\n",
              "Name: SURVIVED, dtype: int64"
            ]
          },
          "metadata": {},
          "execution_count": 1140
        }
      ]
    },
    {
      "cell_type": "code",
      "source": [
        "y_test[:5]"
      ],
      "metadata": {
        "colab": {
          "base_uri": "https://localhost:8080/"
        },
        "id": "Z7smAdUNXmyO",
        "outputId": "fb1e059e-e9c0-4d13-e98f-1aee85f773b5"
      },
      "execution_count": 1141,
      "outputs": [
        {
          "output_type": "execute_result",
          "data": {
            "text/plain": [
              "890    0\n",
              "498    0\n",
              "664    1\n",
              "261    1\n",
              "716    1\n",
              "Name: SURVIVED, dtype: int64"
            ]
          },
          "metadata": {},
          "execution_count": 1141
        }
      ]
    },
    {
      "cell_type": "markdown",
      "source": [
        "## **Random Forest**"
      ],
      "metadata": {
        "id": "pJVdWQwTX7gM"
      }
    },
    {
      "cell_type": "markdown",
      "source": [
        "**Model**"
      ],
      "metadata": {
        "id": "NlaPU62RYG8P"
      }
    },
    {
      "cell_type": "code",
      "source": [
        "rf_model = RandomForestClassifier(random_state=42)"
      ],
      "metadata": {
        "id": "C4RFvDjIX10T"
      },
      "execution_count": 1142,
      "outputs": []
    },
    {
      "cell_type": "code",
      "source": [
        "rf_model = rf_model.fit(X_train, y_train)"
      ],
      "metadata": {
        "id": "A8OfjYJZYeZi"
      },
      "execution_count": 1143,
      "outputs": []
    },
    {
      "cell_type": "markdown",
      "source": [
        "**Tahmin**"
      ],
      "metadata": {
        "id": "8j9mSRJSYJWD"
      }
    },
    {
      "cell_type": "code",
      "source": [
        "y_pred = rf_model.predict(X_test)"
      ],
      "metadata": {
        "id": "QLH0VQ29YE4v"
      },
      "execution_count": 1144,
      "outputs": []
    },
    {
      "cell_type": "code",
      "source": [
        "y_pred[0:5]"
      ],
      "metadata": {
        "colab": {
          "base_uri": "https://localhost:8080/"
        },
        "id": "oZ2TgIB1Yl42",
        "outputId": "7b09f690-8802-4f44-c1e6-040ba3115029"
      },
      "execution_count": 1145,
      "outputs": [
        {
          "output_type": "execute_result",
          "data": {
            "text/plain": [
              "array([0, 1, 0, 0, 1])"
            ]
          },
          "metadata": {},
          "execution_count": 1145
        }
      ]
    },
    {
      "cell_type": "markdown",
      "source": [
        "**Başarı Testi**"
      ],
      "metadata": {
        "id": "nSOhg99xYMPK"
      }
    },
    {
      "cell_type": "code",
      "source": [
        "accuracy_score(y_pred, y_test)"
      ],
      "metadata": {
        "colab": {
          "base_uri": "https://localhost:8080/"
        },
        "id": "f5eGonYXYPCu",
        "outputId": "f7fc1593-13a7-482c-af41-b401dc69aac1"
      },
      "execution_count": 1146,
      "outputs": [
        {
          "output_type": "execute_result",
          "data": {
            "text/plain": [
              "0.8208955223880597"
            ]
          },
          "metadata": {},
          "execution_count": 1146
        }
      ]
    },
    {
      "cell_type": "markdown",
      "source": [
        "## **KNN**"
      ],
      "metadata": {
        "id": "_vLM4TrNYq61"
      }
    },
    {
      "cell_type": "markdown",
      "source": [
        "**Model**"
      ],
      "metadata": {
        "id": "oITYEO0AZS2G"
      }
    },
    {
      "cell_type": "code",
      "source": [
        "knn_model = KNeighborsClassifier()"
      ],
      "metadata": {
        "id": "WAP5HbyjYlD6"
      },
      "execution_count": 1147,
      "outputs": []
    },
    {
      "cell_type": "code",
      "source": [
        "knn_model = knn_model.fit(X_train, y_train)"
      ],
      "metadata": {
        "id": "iCmyhP4uY7iD"
      },
      "execution_count": 1148,
      "outputs": []
    },
    {
      "cell_type": "markdown",
      "source": [
        "**Tahmin**"
      ],
      "metadata": {
        "id": "H7N1GCgdZYwc"
      }
    },
    {
      "cell_type": "code",
      "source": [
        "y_pred = knn_model.predict(X_test)"
      ],
      "metadata": {
        "id": "oGAUk8KZZYwc"
      },
      "execution_count": 1149,
      "outputs": []
    },
    {
      "cell_type": "code",
      "source": [
        "y_pred[0:5]"
      ],
      "metadata": {
        "colab": {
          "base_uri": "https://localhost:8080/"
        },
        "outputId": "ba6aad1b-ddc1-43c7-c729-061bdab08b32",
        "id": "5ZSX1xz2ZYwd"
      },
      "execution_count": 1150,
      "outputs": [
        {
          "output_type": "execute_result",
          "data": {
            "text/plain": [
              "array([0, 1, 0, 0, 1])"
            ]
          },
          "metadata": {},
          "execution_count": 1150
        }
      ]
    },
    {
      "cell_type": "markdown",
      "source": [
        "**Başarı Testi**"
      ],
      "metadata": {
        "id": "CS8ywrTvZYwd"
      }
    },
    {
      "cell_type": "code",
      "source": [
        "accuracy_score(y_pred, y_test)"
      ],
      "metadata": {
        "colab": {
          "base_uri": "https://localhost:8080/"
        },
        "outputId": "a900dfa0-cb58-4e9d-df9f-bad1043ac1ff",
        "id": "X9EAZZDIZYwd"
      },
      "execution_count": 1151,
      "outputs": [
        {
          "output_type": "execute_result",
          "data": {
            "text/plain": [
              "0.7947761194029851"
            ]
          },
          "metadata": {},
          "execution_count": 1151
        }
      ]
    },
    {
      "cell_type": "markdown",
      "source": [
        "## **XGBoost**"
      ],
      "metadata": {
        "id": "jS3cuoqXZgP2"
      }
    },
    {
      "cell_type": "markdown",
      "source": [
        "**Model**"
      ],
      "metadata": {
        "id": "DDW0e7MDZlks"
      }
    },
    {
      "cell_type": "code",
      "source": [
        "xgb_model = XGBClassifier(random_state=42)"
      ],
      "metadata": {
        "id": "yq7ia6x5Zlks"
      },
      "execution_count": 1152,
      "outputs": []
    },
    {
      "cell_type": "code",
      "source": [
        "xgb_model = xgb_model.fit(X_train, y_train)"
      ],
      "metadata": {
        "id": "ty1csOrIZlkt"
      },
      "execution_count": 1153,
      "outputs": []
    },
    {
      "cell_type": "markdown",
      "source": [
        "**Tahmin**"
      ],
      "metadata": {
        "id": "LzK0NNVAZlkt"
      }
    },
    {
      "cell_type": "code",
      "source": [
        "y_pred = xgb_model.predict(X_test)"
      ],
      "metadata": {
        "id": "UqVVVI_3Zlku"
      },
      "execution_count": 1154,
      "outputs": []
    },
    {
      "cell_type": "code",
      "source": [
        "y_pred[0:5]"
      ],
      "metadata": {
        "colab": {
          "base_uri": "https://localhost:8080/"
        },
        "outputId": "bd63e5cb-94a0-499a-b423-f56180658e44",
        "id": "dzxk9FdlZlku"
      },
      "execution_count": 1155,
      "outputs": [
        {
          "output_type": "execute_result",
          "data": {
            "text/plain": [
              "array([0, 1, 0, 0, 1])"
            ]
          },
          "metadata": {},
          "execution_count": 1155
        }
      ]
    },
    {
      "cell_type": "markdown",
      "source": [
        "**Başarı Testi**"
      ],
      "metadata": {
        "id": "I4tkYTGhZlku"
      }
    },
    {
      "cell_type": "code",
      "source": [
        "accuracy_score(y_pred, y_test)"
      ],
      "metadata": {
        "colab": {
          "base_uri": "https://localhost:8080/"
        },
        "outputId": "ae9b1fcf-358f-416e-e468-68badd934b44",
        "id": "k-cYuiJ6Zlkv"
      },
      "execution_count": 1156,
      "outputs": [
        {
          "output_type": "execute_result",
          "data": {
            "text/plain": [
              "0.7761194029850746"
            ]
          },
          "metadata": {},
          "execution_count": 1156
        }
      ]
    },
    {
      "cell_type": "markdown",
      "source": [
        "## **LightGBM**"
      ],
      "metadata": {
        "id": "MO6pZRWtZwWR"
      }
    },
    {
      "cell_type": "markdown",
      "source": [
        "**Model**"
      ],
      "metadata": {
        "id": "uP3p8TS-Z6-6"
      }
    },
    {
      "cell_type": "code",
      "source": [
        "gbm_model = GradientBoostingClassifier(random_state=42)"
      ],
      "metadata": {
        "id": "k5GimfGYZ6-6"
      },
      "execution_count": 1157,
      "outputs": []
    },
    {
      "cell_type": "code",
      "source": [
        "gbm_model = gbm_model.fit(X_train, y_train)"
      ],
      "metadata": {
        "id": "6gb-gCI8Z6-7"
      },
      "execution_count": 1158,
      "outputs": []
    },
    {
      "cell_type": "markdown",
      "source": [
        "**Tahmin**"
      ],
      "metadata": {
        "id": "CepQUQecZ6-7"
      }
    },
    {
      "cell_type": "code",
      "source": [
        "y_pred = xgb_model.predict(X_test)"
      ],
      "metadata": {
        "id": "UEIS29NZZ6-7"
      },
      "execution_count": 1159,
      "outputs": []
    },
    {
      "cell_type": "code",
      "source": [
        "y_pred[0:5]"
      ],
      "metadata": {
        "colab": {
          "base_uri": "https://localhost:8080/"
        },
        "outputId": "e0f97cb4-ad4f-4d9d-92a8-b614df7ca11e",
        "id": "g8iShOlLZ6-7"
      },
      "execution_count": 1160,
      "outputs": [
        {
          "output_type": "execute_result",
          "data": {
            "text/plain": [
              "array([0, 1, 0, 0, 1])"
            ]
          },
          "metadata": {},
          "execution_count": 1160
        }
      ]
    },
    {
      "cell_type": "markdown",
      "source": [
        "**Başarı Testi**"
      ],
      "metadata": {
        "id": "Y_bskRwDZ6-8"
      }
    },
    {
      "cell_type": "code",
      "source": [
        "accuracy_score(y_pred, y_test)"
      ],
      "metadata": {
        "colab": {
          "base_uri": "https://localhost:8080/"
        },
        "outputId": "203e8a29-8fd1-4f01-9df5-cd7afa12785e",
        "id": "u5qu3Rk9Z6-8"
      },
      "execution_count": 1161,
      "outputs": [
        {
          "output_type": "execute_result",
          "data": {
            "text/plain": [
              "0.7761194029850746"
            ]
          },
          "metadata": {},
          "execution_count": 1161
        }
      ]
    },
    {
      "cell_type": "markdown",
      "source": [
        "## **Destek Vektör Makinesi**"
      ],
      "metadata": {
        "id": "7s8p3s0Nap79"
      }
    },
    {
      "cell_type": "markdown",
      "source": [
        "**Model**"
      ],
      "metadata": {
        "id": "wib-mEJvasei"
      }
    },
    {
      "cell_type": "code",
      "source": [
        "svm_model = SVC(random_state = 42)"
      ],
      "metadata": {
        "id": "EURklDK7asej"
      },
      "execution_count": 1162,
      "outputs": []
    },
    {
      "cell_type": "code",
      "source": [
        "svm_model = svm_model.fit(X_train, y_train)"
      ],
      "metadata": {
        "id": "vO_s5jFLasej"
      },
      "execution_count": 1163,
      "outputs": []
    },
    {
      "cell_type": "markdown",
      "source": [
        "**Tahmin**"
      ],
      "metadata": {
        "id": "VhXD_o5Oasej"
      }
    },
    {
      "cell_type": "code",
      "source": [
        "y_pred = svm_model.predict(X_test)"
      ],
      "metadata": {
        "id": "5o5zzdwCasek"
      },
      "execution_count": 1164,
      "outputs": []
    },
    {
      "cell_type": "code",
      "source": [
        "y_pred[0:5]"
      ],
      "metadata": {
        "colab": {
          "base_uri": "https://localhost:8080/"
        },
        "outputId": "b560cf16-be7b-4104-dd72-cb41f759899d",
        "id": "vu1EZV9masek"
      },
      "execution_count": 1165,
      "outputs": [
        {
          "output_type": "execute_result",
          "data": {
            "text/plain": [
              "array([0, 1, 0, 0, 1])"
            ]
          },
          "metadata": {},
          "execution_count": 1165
        }
      ]
    },
    {
      "cell_type": "markdown",
      "source": [
        "**Başarı Testi**"
      ],
      "metadata": {
        "id": "cZ0-ziArasek"
      }
    },
    {
      "cell_type": "code",
      "source": [
        "accuracy_score(y_pred, y_test)"
      ],
      "metadata": {
        "colab": {
          "base_uri": "https://localhost:8080/"
        },
        "outputId": "ea90ec23-dd25-44b2-871c-633420b9b66b",
        "id": "4D0-dgegasel"
      },
      "execution_count": 1166,
      "outputs": [
        {
          "output_type": "execute_result",
          "data": {
            "text/plain": [
              "0.7910447761194029"
            ]
          },
          "metadata": {},
          "execution_count": 1166
        }
      ]
    },
    {
      "cell_type": "markdown",
      "source": [
        "## **Logistic Regresyon**"
      ],
      "metadata": {
        "id": "N3pTB8DScCMV"
      }
    },
    {
      "cell_type": "markdown",
      "source": [
        "**Model**"
      ],
      "metadata": {
        "id": "pyRWVXRGcWfw"
      }
    },
    {
      "cell_type": "code",
      "source": [
        "lr_model = LogisticRegression(random_state=42)"
      ],
      "metadata": {
        "id": "7dCP7F4gcWfx"
      },
      "execution_count": 1167,
      "outputs": []
    },
    {
      "cell_type": "code",
      "source": [
        "lr_model = lr_model.fit(X_train, y_train)"
      ],
      "metadata": {
        "id": "TY3WAaercWfx"
      },
      "execution_count": 1168,
      "outputs": []
    },
    {
      "cell_type": "markdown",
      "source": [
        "**Tahmin**"
      ],
      "metadata": {
        "id": "BmmJyhMFcWfy"
      }
    },
    {
      "cell_type": "code",
      "source": [
        "y_pred = lr_model.predict(X_test)"
      ],
      "metadata": {
        "id": "2HUggPQRcWfy"
      },
      "execution_count": 1169,
      "outputs": []
    },
    {
      "cell_type": "code",
      "source": [
        "y_pred[0:5]"
      ],
      "metadata": {
        "colab": {
          "base_uri": "https://localhost:8080/"
        },
        "outputId": "89779a98-4362-420c-f416-9e84d089a03d",
        "id": "4v70oD5ScWfy"
      },
      "execution_count": 1170,
      "outputs": [
        {
          "output_type": "execute_result",
          "data": {
            "text/plain": [
              "array([0, 1, 0, 0, 1])"
            ]
          },
          "metadata": {},
          "execution_count": 1170
        }
      ]
    },
    {
      "cell_type": "markdown",
      "source": [
        "**Başarı Testi**"
      ],
      "metadata": {
        "id": "CwcbeIFBcWfz"
      }
    },
    {
      "cell_type": "code",
      "source": [
        "accuracy_score(y_pred, y_test)"
      ],
      "metadata": {
        "colab": {
          "base_uri": "https://localhost:8080/"
        },
        "outputId": "8c483718-7549-4b22-dd8a-2231a5d845f4",
        "id": "XHw3O17bcWfz"
      },
      "execution_count": 1171,
      "outputs": [
        {
          "output_type": "execute_result",
          "data": {
            "text/plain": [
              "0.7985074626865671"
            ]
          },
          "metadata": {},
          "execution_count": 1171
        }
      ]
    },
    {
      "cell_type": "markdown",
      "source": [
        "## **Decision Tree**"
      ],
      "metadata": {
        "id": "BGD8tmyoeYgX"
      }
    },
    {
      "cell_type": "markdown",
      "source": [
        "**Model**"
      ],
      "metadata": {
        "id": "3GyxN8esefgp"
      }
    },
    {
      "cell_type": "code",
      "source": [
        "dt_model = DecisionTreeClassifier(random_state=42)"
      ],
      "metadata": {
        "id": "fgGaObamefgq"
      },
      "execution_count": 1172,
      "outputs": []
    },
    {
      "cell_type": "code",
      "source": [
        "dt_model = dt_model.fit(X_train, y_train)"
      ],
      "metadata": {
        "id": "1rKvzcYBefgq"
      },
      "execution_count": 1173,
      "outputs": []
    },
    {
      "cell_type": "markdown",
      "source": [
        "**Tahmin**"
      ],
      "metadata": {
        "id": "PKuj0WRGefgr"
      }
    },
    {
      "cell_type": "code",
      "source": [
        "y_pred = dt_model.predict(X_test)"
      ],
      "metadata": {
        "id": "9iwQy1S_efgr"
      },
      "execution_count": 1174,
      "outputs": []
    },
    {
      "cell_type": "code",
      "source": [
        "y_pred[0:5]"
      ],
      "metadata": {
        "colab": {
          "base_uri": "https://localhost:8080/"
        },
        "outputId": "d94fe667-afee-41ea-eeec-ff7f3feb8799",
        "id": "3vt4ZZlOefgr"
      },
      "execution_count": 1175,
      "outputs": [
        {
          "output_type": "execute_result",
          "data": {
            "text/plain": [
              "array([0, 0, 0, 0, 1])"
            ]
          },
          "metadata": {},
          "execution_count": 1175
        }
      ]
    },
    {
      "cell_type": "markdown",
      "source": [
        "**Başarı Testi**"
      ],
      "metadata": {
        "id": "RDcfLJtHefgs"
      }
    },
    {
      "cell_type": "code",
      "source": [
        "accuracy_score(y_pred, y_test)"
      ],
      "metadata": {
        "colab": {
          "base_uri": "https://localhost:8080/"
        },
        "outputId": "e050ca17-46d1-482b-f9db-192d69755da7",
        "id": "ddbz6Tinefgs"
      },
      "execution_count": 1176,
      "outputs": [
        {
          "output_type": "execute_result",
          "data": {
            "text/plain": [
              "0.7425373134328358"
            ]
          },
          "metadata": {},
          "execution_count": 1176
        }
      ]
    },
    {
      "cell_type": "markdown",
      "source": [
        "# **Result**"
      ],
      "metadata": {
        "id": "gaKVf1kafwrJ"
      }
    },
    {
      "cell_type": "markdown",
      "source": [
        "0.82 başarı ile Random Forest algoritması en iyi sonucu vermiştir."
      ],
      "metadata": {
        "id": "cFS4mtxMf2M4"
      }
    }
  ]
}