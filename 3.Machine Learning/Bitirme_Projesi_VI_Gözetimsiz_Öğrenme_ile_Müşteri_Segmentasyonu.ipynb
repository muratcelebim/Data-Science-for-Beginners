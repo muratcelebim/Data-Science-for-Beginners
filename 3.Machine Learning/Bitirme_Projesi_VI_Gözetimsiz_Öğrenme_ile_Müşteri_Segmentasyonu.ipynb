{
  "nbformat": 4,
  "nbformat_minor": 0,
  "metadata": {
    "colab": {
      "provenance": [],
      "collapsed_sections": [
        "TZ0GpDNbXVk4",
        "H06HrH5ACtNC",
        "s5hVDR3z7yvH",
        "t26dfxyZ8Ege",
        "7qnA-Uhe5mKJ",
        "RDHPAg5b5nnT",
        "SdIW6JubCGVK",
        "04RiAgoIDLGe",
        "r7s2f3FSPQZ-",
        "kKifGfIlPYmg",
        "hcsmgKQARtZw",
        "at_f0d5gSslX",
        "pYuXf19tLiCU",
        "aNmDSZN7Rd0I",
        "bRwGFCDlfJya",
        "FiRNFS03lxFj",
        "HelPBtztpmB0"
      ]
    },
    "kernelspec": {
      "name": "python3",
      "display_name": "Python 3"
    },
    "language_info": {
      "name": "python"
    }
  },
  "cells": [
    {
      "cell_type": "markdown",
      "metadata": {
        "id": "TZ0GpDNbXVk4"
      },
      "source": [
        "# **Kütüphanelerin Import Edilmesi**"
      ]
    },
    {
      "cell_type": "code",
      "source": [
        "pip install yellowbrick"
      ],
      "metadata": {
        "colab": {
          "base_uri": "https://localhost:8080/"
        },
        "id": "SL56LgRXFsRz",
        "outputId": "ed4046c7-20b3-4355-ed05-b26596bb1d6d"
      },
      "execution_count": 573,
      "outputs": [
        {
          "output_type": "stream",
          "name": "stdout",
          "text": [
            "Looking in indexes: https://pypi.org/simple, https://us-python.pkg.dev/colab-wheels/public/simple/\n",
            "Requirement already satisfied: yellowbrick in /usr/local/lib/python3.8/dist-packages (1.5)\n",
            "Requirement already satisfied: cycler>=0.10.0 in /usr/local/lib/python3.8/dist-packages (from yellowbrick) (0.11.0)\n",
            "Requirement already satisfied: numpy>=1.16.0 in /usr/local/lib/python3.8/dist-packages (from yellowbrick) (1.21.6)\n",
            "Requirement already satisfied: scikit-learn>=1.0.0 in /usr/local/lib/python3.8/dist-packages (from yellowbrick) (1.0.2)\n",
            "Requirement already satisfied: matplotlib!=3.0.0,>=2.0.2 in /usr/local/lib/python3.8/dist-packages (from yellowbrick) (3.2.2)\n",
            "Requirement already satisfied: scipy>=1.0.0 in /usr/local/lib/python3.8/dist-packages (from yellowbrick) (1.7.3)\n",
            "Requirement already satisfied: python-dateutil>=2.1 in /usr/local/lib/python3.8/dist-packages (from matplotlib!=3.0.0,>=2.0.2->yellowbrick) (2.8.2)\n",
            "Requirement already satisfied: kiwisolver>=1.0.1 in /usr/local/lib/python3.8/dist-packages (from matplotlib!=3.0.0,>=2.0.2->yellowbrick) (1.4.4)\n",
            "Requirement already satisfied: pyparsing!=2.0.4,!=2.1.2,!=2.1.6,>=2.0.1 in /usr/local/lib/python3.8/dist-packages (from matplotlib!=3.0.0,>=2.0.2->yellowbrick) (3.0.9)\n",
            "Requirement already satisfied: joblib>=0.11 in /usr/local/lib/python3.8/dist-packages (from scikit-learn>=1.0.0->yellowbrick) (1.2.0)\n",
            "Requirement already satisfied: threadpoolctl>=2.0.0 in /usr/local/lib/python3.8/dist-packages (from scikit-learn>=1.0.0->yellowbrick) (3.1.0)\n",
            "Requirement already satisfied: six>=1.5 in /usr/local/lib/python3.8/dist-packages (from python-dateutil>=2.1->matplotlib!=3.0.0,>=2.0.2->yellowbrick) (1.15.0)\n"
          ]
        }
      ]
    },
    {
      "cell_type": "code",
      "source": [
        "#################################################################################\n",
        "# Denetimsiz Öğrenme Problemleri için Kütüphanelerin Import Edilmesi\n",
        "#################################################################################\n",
        "\n",
        "#################################################################################\n",
        "# K-Means algoritması için kütüphanenin import edilmesi.\n",
        "#################################################################################\n",
        "from sklearn.cluster import KMeans\n",
        "from yellowbrick.cluster import KElbowVisualizer\n",
        "\n",
        "\n",
        "#################################################################################\n",
        "# Hiyerarşik Kümeleme için ilgili Kütüphanelerin Import Edilmesi.\n",
        "#################################################################################\n",
        "from scipy.cluster.hierarchy import linkage\n",
        "from scipy.cluster.hierarchy import dendrogram\n",
        "\n",
        "\n",
        "#################################################################################\n",
        "# Temel Bileşen Analizi Algoritması için Kütüphanin Import Edilmesi\n",
        "#################################################################################\n",
        "from sklearn.decomposition import PCA\n",
        "\n",
        "\n",
        "#################################################################################\n",
        "# Veri Manipülasyonu ve Matematiksel Hesaplamalar için Kütüphanelerin Import Edilmesi.\n",
        "#################################################################################\n",
        "import numpy as np\n",
        "import pandas as pd\n",
        "\n",
        "\n",
        "#################################################################################\n",
        "# Grafik Çizimleri için Kütüphanelerin Import Edilmesi.\n",
        "#################################################################################\n",
        "import seaborn as sns\n",
        "import matplotlib.pyplot as plt\n",
        "from matplotlib import pyplot as plt\n",
        "from matplotlib.pyplot import figure\n",
        "\n",
        "\n",
        "#################################################################################\n",
        "# Ölçeklendirme için Kütüphanelerin Import Edilmesi.\n",
        "#################################################################################\n",
        "from sklearn.preprocessing import MinMaxScaler\n",
        "from sklearn.preprocessing import StandardScaler\n",
        "\n",
        "\n",
        "#################################################################################\n",
        "# Tarih - Saat Değişkenleri için Gerekli Kütüphanenin Import Edilmesi\n",
        "#################################################################################\n",
        "import datetime\n",
        "\n",
        "\n",
        "#################################################################################\n",
        "# Rastgele sayı üretmek için kütüphanenin import edilmesi.\n",
        "#################################################################################\n",
        "import random\n",
        "\n",
        "\n",
        "#################################################################################\n",
        "# Çıktı göründüleri için ayarlamaların yapılması.\n",
        "#################################################################################\n",
        "pd.set_option(\"display.max_columns\", None)\n",
        "pd.set_option(\"display.max_rows\", None)\n",
        "# pd.set_option(\"display.float_format\", lambda x: \"%3.f\" % x)\n",
        "pd.options.display.float_format = '{:,.3f}'.format\n",
        "pd.set_option(\"display.width\", 5000)\n",
        "\n",
        "\n",
        "#################################################################################\n",
        "# Bazı Uyarıları Almamak için Kütüpanelerin Import Edilmesi.\n",
        "#################################################################################\n",
        "import warnings\n",
        "from warnings import filterwarnings\n",
        "filterwarnings('ignore')\n",
        "warnings.simplefilter(action=\"ignore\", category=Warning) #Olası bazı hataları ignore ediyoruz, görmezden geliyoruz."
      ],
      "metadata": {
        "id": "5TA5OwcqFHUG"
      },
      "execution_count": 574,
      "outputs": []
    },
    {
      "cell_type": "markdown",
      "source": [
        "## **CART için Kütüphane Kurulumları**"
      ],
      "metadata": {
        "id": "H06HrH5ACtNC"
      }
    },
    {
      "cell_type": "code",
      "source": [
        "pip install pydotplus"
      ],
      "metadata": {
        "colab": {
          "base_uri": "https://localhost:8080/"
        },
        "outputId": "8b89144c-c84f-49c0-b349-755e3fb707ee",
        "id": "ZqFQccpYCzVn"
      },
      "execution_count": 575,
      "outputs": [
        {
          "output_type": "stream",
          "name": "stdout",
          "text": [
            "Looking in indexes: https://pypi.org/simple, https://us-python.pkg.dev/colab-wheels/public/simple/\n",
            "Requirement already satisfied: pydotplus in /usr/local/lib/python3.8/dist-packages (2.0.2)\n",
            "Requirement already satisfied: pyparsing>=2.0.1 in /usr/local/lib/python3.8/dist-packages (from pydotplus) (3.0.9)\n"
          ]
        }
      ]
    },
    {
      "cell_type": "code",
      "source": [
        "pip install skompiler"
      ],
      "metadata": {
        "colab": {
          "base_uri": "https://localhost:8080/"
        },
        "outputId": "c75d3669-9067-40a5-bc6e-1805d75c85f1",
        "id": "Qh8rHQU2CzVo"
      },
      "execution_count": 576,
      "outputs": [
        {
          "output_type": "stream",
          "name": "stdout",
          "text": [
            "Looking in indexes: https://pypi.org/simple, https://us-python.pkg.dev/colab-wheels/public/simple/\n",
            "Requirement already satisfied: skompiler in /usr/local/lib/python3.8/dist-packages (0.7)\n",
            "Requirement already satisfied: scikit-learn>=0.22 in /usr/local/lib/python3.8/dist-packages (from skompiler) (1.0.2)\n",
            "Requirement already satisfied: threadpoolctl>=2.0.0 in /usr/local/lib/python3.8/dist-packages (from scikit-learn>=0.22->skompiler) (3.1.0)\n",
            "Requirement already satisfied: scipy>=1.1.0 in /usr/local/lib/python3.8/dist-packages (from scikit-learn>=0.22->skompiler) (1.7.3)\n",
            "Requirement already satisfied: joblib>=0.11 in /usr/local/lib/python3.8/dist-packages (from scikit-learn>=0.22->skompiler) (1.2.0)\n",
            "Requirement already satisfied: numpy>=1.14.6 in /usr/local/lib/python3.8/dist-packages (from scikit-learn>=0.22->skompiler) (1.21.6)\n"
          ]
        }
      ]
    },
    {
      "cell_type": "code",
      "source": [
        "pip install astor"
      ],
      "metadata": {
        "colab": {
          "base_uri": "https://localhost:8080/"
        },
        "outputId": "dee44edc-826e-4e3b-e13f-66d506580e4f",
        "id": "C99obOIBCzVo"
      },
      "execution_count": 577,
      "outputs": [
        {
          "output_type": "stream",
          "name": "stdout",
          "text": [
            "Looking in indexes: https://pypi.org/simple, https://us-python.pkg.dev/colab-wheels/public/simple/\n",
            "Requirement already satisfied: astor in /usr/local/lib/python3.8/dist-packages (0.8.1)\n"
          ]
        }
      ]
    },
    {
      "cell_type": "code",
      "source": [
        "pip install joblib"
      ],
      "metadata": {
        "colab": {
          "base_uri": "https://localhost:8080/"
        },
        "outputId": "07523013-34b0-4d7a-fb97-602621a563a1",
        "id": "ymkb8KrNCzVo"
      },
      "execution_count": 578,
      "outputs": [
        {
          "output_type": "stream",
          "name": "stdout",
          "text": [
            "Looking in indexes: https://pypi.org/simple, https://us-python.pkg.dev/colab-wheels/public/simple/\n",
            "Requirement already satisfied: joblib in /usr/local/lib/python3.8/dist-packages (1.2.0)\n"
          ]
        }
      ]
    },
    {
      "cell_type": "markdown",
      "source": [
        "# **İş Problemi**"
      ],
      "metadata": {
        "id": "s5hVDR3z7yvH"
      }
    },
    {
      "cell_type": "markdown",
      "source": [
        "FLO müşterilerini segmentlere ayırıp bu segmentlere göre\n",
        "pazarlama stratejileri belirlemek istiyor. Buna yönelik\n",
        "olarak müşterilerin davranışları tanımlanacak ve bu\n",
        "davranışlardaki öbeklenmelere göre gruplar oluşturulacak.\n"
      ],
      "metadata": {
        "id": "R8TY005K4_cT"
      }
    },
    {
      "cell_type": "markdown",
      "source": [
        "# **Veri Seti Hikayesi**"
      ],
      "metadata": {
        "id": "t26dfxyZ8Ege"
      }
    },
    {
      "cell_type": "markdown",
      "source": [
        "Veri seti Flo’dan son alışverişlerini 2020 - 2021 yıllarında OmniChannel (hem online hem offline alışveriş yapan) \n",
        "olarak yapan müşterilerin geçmiş alışveriş davranışlarından elde edilen bilgilerden oluşmaktadır. "
      ],
      "metadata": {
        "id": "VNwaaR2g8GE9"
      }
    },
    {
      "cell_type": "markdown",
      "source": [
        "![image.png](data:image/png;base64,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)"
      ],
      "metadata": {
        "id": "VVDz4jCH5WGR"
      }
    },
    {
      "cell_type": "markdown",
      "source": [
        "# **Proje Görevleri**"
      ],
      "metadata": {
        "id": "7qnA-Uhe5mKJ"
      }
    },
    {
      "cell_type": "markdown",
      "source": [
        "## **Görev 1 : Veriyi Hazırlama**"
      ],
      "metadata": {
        "id": "RDHPAg5b5nnT"
      }
    },
    {
      "cell_type": "markdown",
      "source": [
        "### **Adım 1:** flo_data_20K.csv verisini okutunuz"
      ],
      "metadata": {
        "id": "SdIW6JubCGVK"
      }
    },
    {
      "cell_type": "code",
      "source": [
        "df = pd.read_csv(\"/content/drive/MyDrive/Sıfırdan Başlayanlar İçin Veri Bilimi - miuul/Ödevler - Projeler miuul/3.Machine Learning/6.Proje: Flo Gözetimsiz Öğrenme ile Müşteri Segmentasyonu/flo_data_20k.csv/flo_data_20k.csv\")"
      ],
      "metadata": {
        "id": "X_qKyeoS50My"
      },
      "execution_count": 579,
      "outputs": []
    },
    {
      "cell_type": "code",
      "source": [
        "df.head()"
      ],
      "metadata": {
        "colab": {
          "base_uri": "https://localhost:8080/",
          "height": 0
        },
        "id": "qCR6kjbQ50KN",
        "outputId": "e697934b-1fab-4597-d0ec-ee41dd3f4350"
      },
      "execution_count": 580,
      "outputs": [
        {
          "output_type": "execute_result",
          "data": {
            "text/plain": [
              "                              master_id order_channel last_order_channel first_order_date last_order_date last_order_date_online last_order_date_offline  order_num_total_ever_online  order_num_total_ever_offline  customer_value_total_ever_offline  customer_value_total_ever_online       interested_in_categories_12\n",
              "0  cc294636-19f0-11eb-8d74-000d3a38a36f   Android App            Offline       2020-10-30      2021-02-26             2021-02-21              2021-02-26                        4.000                         1.000                            139.990                           799.380                           [KADIN]\n",
              "1  f431bd5a-ab7b-11e9-a2fc-000d3a38a36f   Android App             Mobile       2017-02-08      2021-02-16             2021-02-16              2020-01-10                       19.000                         2.000                            159.970                         1,853.580  [ERKEK, COCUK, KADIN, AKTIFSPOR]\n",
              "2  69b69676-1a40-11ea-941b-000d3a38a36f   Android App        Android App       2019-11-27      2020-11-27             2020-11-27              2019-12-01                        3.000                         2.000                            189.970                           395.350                    [ERKEK, KADIN]\n",
              "3  1854e56c-491f-11eb-806e-000d3a38a36f   Android App        Android App       2021-01-06      2021-01-17             2021-01-17              2021-01-06                        1.000                         1.000                             39.990                            81.980               [AKTIFCOCUK, COCUK]\n",
              "4  d6ea1074-f1f5-11e9-9346-000d3a38a36f       Desktop            Desktop       2019-08-03      2021-03-07             2021-03-07              2019-08-03                        1.000                         1.000                             49.990                           159.990                       [AKTIFSPOR]"
            ],
            "text/html": [
              "\n",
              "  <div id=\"df-98dc6b1b-6dd2-4ec0-bce5-92f22bb43125\">\n",
              "    <div class=\"colab-df-container\">\n",
              "      <div>\n",
              "<style scoped>\n",
              "    .dataframe tbody tr th:only-of-type {\n",
              "        vertical-align: middle;\n",
              "    }\n",
              "\n",
              "    .dataframe tbody tr th {\n",
              "        vertical-align: top;\n",
              "    }\n",
              "\n",
              "    .dataframe thead th {\n",
              "        text-align: right;\n",
              "    }\n",
              "</style>\n",
              "<table border=\"1\" class=\"dataframe\">\n",
              "  <thead>\n",
              "    <tr style=\"text-align: right;\">\n",
              "      <th></th>\n",
              "      <th>master_id</th>\n",
              "      <th>order_channel</th>\n",
              "      <th>last_order_channel</th>\n",
              "      <th>first_order_date</th>\n",
              "      <th>last_order_date</th>\n",
              "      <th>last_order_date_online</th>\n",
              "      <th>last_order_date_offline</th>\n",
              "      <th>order_num_total_ever_online</th>\n",
              "      <th>order_num_total_ever_offline</th>\n",
              "      <th>customer_value_total_ever_offline</th>\n",
              "      <th>customer_value_total_ever_online</th>\n",
              "      <th>interested_in_categories_12</th>\n",
              "    </tr>\n",
              "  </thead>\n",
              "  <tbody>\n",
              "    <tr>\n",
              "      <th>0</th>\n",
              "      <td>cc294636-19f0-11eb-8d74-000d3a38a36f</td>\n",
              "      <td>Android App</td>\n",
              "      <td>Offline</td>\n",
              "      <td>2020-10-30</td>\n",
              "      <td>2021-02-26</td>\n",
              "      <td>2021-02-21</td>\n",
              "      <td>2021-02-26</td>\n",
              "      <td>4.000</td>\n",
              "      <td>1.000</td>\n",
              "      <td>139.990</td>\n",
              "      <td>799.380</td>\n",
              "      <td>[KADIN]</td>\n",
              "    </tr>\n",
              "    <tr>\n",
              "      <th>1</th>\n",
              "      <td>f431bd5a-ab7b-11e9-a2fc-000d3a38a36f</td>\n",
              "      <td>Android App</td>\n",
              "      <td>Mobile</td>\n",
              "      <td>2017-02-08</td>\n",
              "      <td>2021-02-16</td>\n",
              "      <td>2021-02-16</td>\n",
              "      <td>2020-01-10</td>\n",
              "      <td>19.000</td>\n",
              "      <td>2.000</td>\n",
              "      <td>159.970</td>\n",
              "      <td>1,853.580</td>\n",
              "      <td>[ERKEK, COCUK, KADIN, AKTIFSPOR]</td>\n",
              "    </tr>\n",
              "    <tr>\n",
              "      <th>2</th>\n",
              "      <td>69b69676-1a40-11ea-941b-000d3a38a36f</td>\n",
              "      <td>Android App</td>\n",
              "      <td>Android App</td>\n",
              "      <td>2019-11-27</td>\n",
              "      <td>2020-11-27</td>\n",
              "      <td>2020-11-27</td>\n",
              "      <td>2019-12-01</td>\n",
              "      <td>3.000</td>\n",
              "      <td>2.000</td>\n",
              "      <td>189.970</td>\n",
              "      <td>395.350</td>\n",
              "      <td>[ERKEK, KADIN]</td>\n",
              "    </tr>\n",
              "    <tr>\n",
              "      <th>3</th>\n",
              "      <td>1854e56c-491f-11eb-806e-000d3a38a36f</td>\n",
              "      <td>Android App</td>\n",
              "      <td>Android App</td>\n",
              "      <td>2021-01-06</td>\n",
              "      <td>2021-01-17</td>\n",
              "      <td>2021-01-17</td>\n",
              "      <td>2021-01-06</td>\n",
              "      <td>1.000</td>\n",
              "      <td>1.000</td>\n",
              "      <td>39.990</td>\n",
              "      <td>81.980</td>\n",
              "      <td>[AKTIFCOCUK, COCUK]</td>\n",
              "    </tr>\n",
              "    <tr>\n",
              "      <th>4</th>\n",
              "      <td>d6ea1074-f1f5-11e9-9346-000d3a38a36f</td>\n",
              "      <td>Desktop</td>\n",
              "      <td>Desktop</td>\n",
              "      <td>2019-08-03</td>\n",
              "      <td>2021-03-07</td>\n",
              "      <td>2021-03-07</td>\n",
              "      <td>2019-08-03</td>\n",
              "      <td>1.000</td>\n",
              "      <td>1.000</td>\n",
              "      <td>49.990</td>\n",
              "      <td>159.990</td>\n",
              "      <td>[AKTIFSPOR]</td>\n",
              "    </tr>\n",
              "  </tbody>\n",
              "</table>\n",
              "</div>\n",
              "      <button class=\"colab-df-convert\" onclick=\"convertToInteractive('df-98dc6b1b-6dd2-4ec0-bce5-92f22bb43125')\"\n",
              "              title=\"Convert this dataframe to an interactive table.\"\n",
              "              style=\"display:none;\">\n",
              "        \n",
              "  <svg xmlns=\"http://www.w3.org/2000/svg\" height=\"24px\"viewBox=\"0 0 24 24\"\n",
              "       width=\"24px\">\n",
              "    <path d=\"M0 0h24v24H0V0z\" fill=\"none\"/>\n",
              "    <path d=\"M18.56 5.44l.94 2.06.94-2.06 2.06-.94-2.06-.94-.94-2.06-.94 2.06-2.06.94zm-11 1L8.5 8.5l.94-2.06 2.06-.94-2.06-.94L8.5 2.5l-.94 2.06-2.06.94zm10 10l.94 2.06.94-2.06 2.06-.94-2.06-.94-.94-2.06-.94 2.06-2.06.94z\"/><path d=\"M17.41 7.96l-1.37-1.37c-.4-.4-.92-.59-1.43-.59-.52 0-1.04.2-1.43.59L10.3 9.45l-7.72 7.72c-.78.78-.78 2.05 0 2.83L4 21.41c.39.39.9.59 1.41.59.51 0 1.02-.2 1.41-.59l7.78-7.78 2.81-2.81c.8-.78.8-2.07 0-2.86zM5.41 20L4 18.59l7.72-7.72 1.47 1.35L5.41 20z\"/>\n",
              "  </svg>\n",
              "      </button>\n",
              "      \n",
              "  <style>\n",
              "    .colab-df-container {\n",
              "      display:flex;\n",
              "      flex-wrap:wrap;\n",
              "      gap: 12px;\n",
              "    }\n",
              "\n",
              "    .colab-df-convert {\n",
              "      background-color: #E8F0FE;\n",
              "      border: none;\n",
              "      border-radius: 50%;\n",
              "      cursor: pointer;\n",
              "      display: none;\n",
              "      fill: #1967D2;\n",
              "      height: 32px;\n",
              "      padding: 0 0 0 0;\n",
              "      width: 32px;\n",
              "    }\n",
              "\n",
              "    .colab-df-convert:hover {\n",
              "      background-color: #E2EBFA;\n",
              "      box-shadow: 0px 1px 2px rgba(60, 64, 67, 0.3), 0px 1px 3px 1px rgba(60, 64, 67, 0.15);\n",
              "      fill: #174EA6;\n",
              "    }\n",
              "\n",
              "    [theme=dark] .colab-df-convert {\n",
              "      background-color: #3B4455;\n",
              "      fill: #D2E3FC;\n",
              "    }\n",
              "\n",
              "    [theme=dark] .colab-df-convert:hover {\n",
              "      background-color: #434B5C;\n",
              "      box-shadow: 0px 1px 3px 1px rgba(0, 0, 0, 0.15);\n",
              "      filter: drop-shadow(0px 1px 2px rgba(0, 0, 0, 0.3));\n",
              "      fill: #FFFFFF;\n",
              "    }\n",
              "  </style>\n",
              "\n",
              "      <script>\n",
              "        const buttonEl =\n",
              "          document.querySelector('#df-98dc6b1b-6dd2-4ec0-bce5-92f22bb43125 button.colab-df-convert');\n",
              "        buttonEl.style.display =\n",
              "          google.colab.kernel.accessAllowed ? 'block' : 'none';\n",
              "\n",
              "        async function convertToInteractive(key) {\n",
              "          const element = document.querySelector('#df-98dc6b1b-6dd2-4ec0-bce5-92f22bb43125');\n",
              "          const dataTable =\n",
              "            await google.colab.kernel.invokeFunction('convertToInteractive',\n",
              "                                                     [key], {});\n",
              "          if (!dataTable) return;\n",
              "\n",
              "          const docLinkHtml = 'Like what you see? Visit the ' +\n",
              "            '<a target=\"_blank\" href=https://colab.research.google.com/notebooks/data_table.ipynb>data table notebook</a>'\n",
              "            + ' to learn more about interactive tables.';\n",
              "          element.innerHTML = '';\n",
              "          dataTable['output_type'] = 'display_data';\n",
              "          await google.colab.output.renderOutput(dataTable, element);\n",
              "          const docLink = document.createElement('div');\n",
              "          docLink.innerHTML = docLinkHtml;\n",
              "          element.appendChild(docLink);\n",
              "        }\n",
              "      </script>\n",
              "    </div>\n",
              "  </div>\n",
              "  "
            ]
          },
          "metadata": {},
          "execution_count": 580
        }
      ]
    },
    {
      "cell_type": "markdown",
      "source": [
        "### **Adım 2:** Müşterileri segmentlerken kullanacağınız değişkenleri seçiniz."
      ],
      "metadata": {
        "id": "04RiAgoIDLGe"
      }
    },
    {
      "cell_type": "markdown",
      "source": [
        "Not: Tenure (Müşterinin yaşı), Recency (en son kaç gün önce alışveriş yaptığı) gibi yeni değişkenler oluşturabilirsiniz."
      ],
      "metadata": {
        "id": "QtL4SmcJDQ0f"
      }
    },
    {
      "cell_type": "code",
      "source": [
        "df.head()"
      ],
      "metadata": {
        "colab": {
          "base_uri": "https://localhost:8080/",
          "height": 0
        },
        "id": "py_H9ISg50Ef",
        "outputId": "e28ff937-4f5c-401b-801b-bb36d729c110"
      },
      "execution_count": 581,
      "outputs": [
        {
          "output_type": "execute_result",
          "data": {
            "text/plain": [
              "                              master_id order_channel last_order_channel first_order_date last_order_date last_order_date_online last_order_date_offline  order_num_total_ever_online  order_num_total_ever_offline  customer_value_total_ever_offline  customer_value_total_ever_online       interested_in_categories_12\n",
              "0  cc294636-19f0-11eb-8d74-000d3a38a36f   Android App            Offline       2020-10-30      2021-02-26             2021-02-21              2021-02-26                        4.000                         1.000                            139.990                           799.380                           [KADIN]\n",
              "1  f431bd5a-ab7b-11e9-a2fc-000d3a38a36f   Android App             Mobile       2017-02-08      2021-02-16             2021-02-16              2020-01-10                       19.000                         2.000                            159.970                         1,853.580  [ERKEK, COCUK, KADIN, AKTIFSPOR]\n",
              "2  69b69676-1a40-11ea-941b-000d3a38a36f   Android App        Android App       2019-11-27      2020-11-27             2020-11-27              2019-12-01                        3.000                         2.000                            189.970                           395.350                    [ERKEK, KADIN]\n",
              "3  1854e56c-491f-11eb-806e-000d3a38a36f   Android App        Android App       2021-01-06      2021-01-17             2021-01-17              2021-01-06                        1.000                         1.000                             39.990                            81.980               [AKTIFCOCUK, COCUK]\n",
              "4  d6ea1074-f1f5-11e9-9346-000d3a38a36f       Desktop            Desktop       2019-08-03      2021-03-07             2021-03-07              2019-08-03                        1.000                         1.000                             49.990                           159.990                       [AKTIFSPOR]"
            ],
            "text/html": [
              "\n",
              "  <div id=\"df-eab7cb9e-2647-467e-8ebb-7c7da2bdcb83\">\n",
              "    <div class=\"colab-df-container\">\n",
              "      <div>\n",
              "<style scoped>\n",
              "    .dataframe tbody tr th:only-of-type {\n",
              "        vertical-align: middle;\n",
              "    }\n",
              "\n",
              "    .dataframe tbody tr th {\n",
              "        vertical-align: top;\n",
              "    }\n",
              "\n",
              "    .dataframe thead th {\n",
              "        text-align: right;\n",
              "    }\n",
              "</style>\n",
              "<table border=\"1\" class=\"dataframe\">\n",
              "  <thead>\n",
              "    <tr style=\"text-align: right;\">\n",
              "      <th></th>\n",
              "      <th>master_id</th>\n",
              "      <th>order_channel</th>\n",
              "      <th>last_order_channel</th>\n",
              "      <th>first_order_date</th>\n",
              "      <th>last_order_date</th>\n",
              "      <th>last_order_date_online</th>\n",
              "      <th>last_order_date_offline</th>\n",
              "      <th>order_num_total_ever_online</th>\n",
              "      <th>order_num_total_ever_offline</th>\n",
              "      <th>customer_value_total_ever_offline</th>\n",
              "      <th>customer_value_total_ever_online</th>\n",
              "      <th>interested_in_categories_12</th>\n",
              "    </tr>\n",
              "  </thead>\n",
              "  <tbody>\n",
              "    <tr>\n",
              "      <th>0</th>\n",
              "      <td>cc294636-19f0-11eb-8d74-000d3a38a36f</td>\n",
              "      <td>Android App</td>\n",
              "      <td>Offline</td>\n",
              "      <td>2020-10-30</td>\n",
              "      <td>2021-02-26</td>\n",
              "      <td>2021-02-21</td>\n",
              "      <td>2021-02-26</td>\n",
              "      <td>4.000</td>\n",
              "      <td>1.000</td>\n",
              "      <td>139.990</td>\n",
              "      <td>799.380</td>\n",
              "      <td>[KADIN]</td>\n",
              "    </tr>\n",
              "    <tr>\n",
              "      <th>1</th>\n",
              "      <td>f431bd5a-ab7b-11e9-a2fc-000d3a38a36f</td>\n",
              "      <td>Android App</td>\n",
              "      <td>Mobile</td>\n",
              "      <td>2017-02-08</td>\n",
              "      <td>2021-02-16</td>\n",
              "      <td>2021-02-16</td>\n",
              "      <td>2020-01-10</td>\n",
              "      <td>19.000</td>\n",
              "      <td>2.000</td>\n",
              "      <td>159.970</td>\n",
              "      <td>1,853.580</td>\n",
              "      <td>[ERKEK, COCUK, KADIN, AKTIFSPOR]</td>\n",
              "    </tr>\n",
              "    <tr>\n",
              "      <th>2</th>\n",
              "      <td>69b69676-1a40-11ea-941b-000d3a38a36f</td>\n",
              "      <td>Android App</td>\n",
              "      <td>Android App</td>\n",
              "      <td>2019-11-27</td>\n",
              "      <td>2020-11-27</td>\n",
              "      <td>2020-11-27</td>\n",
              "      <td>2019-12-01</td>\n",
              "      <td>3.000</td>\n",
              "      <td>2.000</td>\n",
              "      <td>189.970</td>\n",
              "      <td>395.350</td>\n",
              "      <td>[ERKEK, KADIN]</td>\n",
              "    </tr>\n",
              "    <tr>\n",
              "      <th>3</th>\n",
              "      <td>1854e56c-491f-11eb-806e-000d3a38a36f</td>\n",
              "      <td>Android App</td>\n",
              "      <td>Android App</td>\n",
              "      <td>2021-01-06</td>\n",
              "      <td>2021-01-17</td>\n",
              "      <td>2021-01-17</td>\n",
              "      <td>2021-01-06</td>\n",
              "      <td>1.000</td>\n",
              "      <td>1.000</td>\n",
              "      <td>39.990</td>\n",
              "      <td>81.980</td>\n",
              "      <td>[AKTIFCOCUK, COCUK]</td>\n",
              "    </tr>\n",
              "    <tr>\n",
              "      <th>4</th>\n",
              "      <td>d6ea1074-f1f5-11e9-9346-000d3a38a36f</td>\n",
              "      <td>Desktop</td>\n",
              "      <td>Desktop</td>\n",
              "      <td>2019-08-03</td>\n",
              "      <td>2021-03-07</td>\n",
              "      <td>2021-03-07</td>\n",
              "      <td>2019-08-03</td>\n",
              "      <td>1.000</td>\n",
              "      <td>1.000</td>\n",
              "      <td>49.990</td>\n",
              "      <td>159.990</td>\n",
              "      <td>[AKTIFSPOR]</td>\n",
              "    </tr>\n",
              "  </tbody>\n",
              "</table>\n",
              "</div>\n",
              "      <button class=\"colab-df-convert\" onclick=\"convertToInteractive('df-eab7cb9e-2647-467e-8ebb-7c7da2bdcb83')\"\n",
              "              title=\"Convert this dataframe to an interactive table.\"\n",
              "              style=\"display:none;\">\n",
              "        \n",
              "  <svg xmlns=\"http://www.w3.org/2000/svg\" height=\"24px\"viewBox=\"0 0 24 24\"\n",
              "       width=\"24px\">\n",
              "    <path d=\"M0 0h24v24H0V0z\" fill=\"none\"/>\n",
              "    <path d=\"M18.56 5.44l.94 2.06.94-2.06 2.06-.94-2.06-.94-.94-2.06-.94 2.06-2.06.94zm-11 1L8.5 8.5l.94-2.06 2.06-.94-2.06-.94L8.5 2.5l-.94 2.06-2.06.94zm10 10l.94 2.06.94-2.06 2.06-.94-2.06-.94-.94-2.06-.94 2.06-2.06.94z\"/><path d=\"M17.41 7.96l-1.37-1.37c-.4-.4-.92-.59-1.43-.59-.52 0-1.04.2-1.43.59L10.3 9.45l-7.72 7.72c-.78.78-.78 2.05 0 2.83L4 21.41c.39.39.9.59 1.41.59.51 0 1.02-.2 1.41-.59l7.78-7.78 2.81-2.81c.8-.78.8-2.07 0-2.86zM5.41 20L4 18.59l7.72-7.72 1.47 1.35L5.41 20z\"/>\n",
              "  </svg>\n",
              "      </button>\n",
              "      \n",
              "  <style>\n",
              "    .colab-df-container {\n",
              "      display:flex;\n",
              "      flex-wrap:wrap;\n",
              "      gap: 12px;\n",
              "    }\n",
              "\n",
              "    .colab-df-convert {\n",
              "      background-color: #E8F0FE;\n",
              "      border: none;\n",
              "      border-radius: 50%;\n",
              "      cursor: pointer;\n",
              "      display: none;\n",
              "      fill: #1967D2;\n",
              "      height: 32px;\n",
              "      padding: 0 0 0 0;\n",
              "      width: 32px;\n",
              "    }\n",
              "\n",
              "    .colab-df-convert:hover {\n",
              "      background-color: #E2EBFA;\n",
              "      box-shadow: 0px 1px 2px rgba(60, 64, 67, 0.3), 0px 1px 3px 1px rgba(60, 64, 67, 0.15);\n",
              "      fill: #174EA6;\n",
              "    }\n",
              "\n",
              "    [theme=dark] .colab-df-convert {\n",
              "      background-color: #3B4455;\n",
              "      fill: #D2E3FC;\n",
              "    }\n",
              "\n",
              "    [theme=dark] .colab-df-convert:hover {\n",
              "      background-color: #434B5C;\n",
              "      box-shadow: 0px 1px 3px 1px rgba(0, 0, 0, 0.15);\n",
              "      filter: drop-shadow(0px 1px 2px rgba(0, 0, 0, 0.3));\n",
              "      fill: #FFFFFF;\n",
              "    }\n",
              "  </style>\n",
              "\n",
              "      <script>\n",
              "        const buttonEl =\n",
              "          document.querySelector('#df-eab7cb9e-2647-467e-8ebb-7c7da2bdcb83 button.colab-df-convert');\n",
              "        buttonEl.style.display =\n",
              "          google.colab.kernel.accessAllowed ? 'block' : 'none';\n",
              "\n",
              "        async function convertToInteractive(key) {\n",
              "          const element = document.querySelector('#df-eab7cb9e-2647-467e-8ebb-7c7da2bdcb83');\n",
              "          const dataTable =\n",
              "            await google.colab.kernel.invokeFunction('convertToInteractive',\n",
              "                                                     [key], {});\n",
              "          if (!dataTable) return;\n",
              "\n",
              "          const docLinkHtml = 'Like what you see? Visit the ' +\n",
              "            '<a target=\"_blank\" href=https://colab.research.google.com/notebooks/data_table.ipynb>data table notebook</a>'\n",
              "            + ' to learn more about interactive tables.';\n",
              "          element.innerHTML = '';\n",
              "          dataTable['output_type'] = 'display_data';\n",
              "          await google.colab.output.renderOutput(dataTable, element);\n",
              "          const docLink = document.createElement('div');\n",
              "          docLink.innerHTML = docLinkHtml;\n",
              "          element.appendChild(docLink);\n",
              "        }\n",
              "      </script>\n",
              "    </div>\n",
              "  </div>\n",
              "  "
            ]
          },
          "metadata": {},
          "execution_count": 581
        }
      ]
    },
    {
      "cell_type": "markdown",
      "source": [
        "**Rahat çalışabilmek adına değişken isimlerini tek tip boyuta hale getirelim.**"
      ],
      "metadata": {
        "id": "axyseBaeE0sS"
      }
    },
    {
      "cell_type": "code",
      "source": [
        "df.columns = [col.upper() for col in df.columns]"
      ],
      "metadata": {
        "id": "yYR_nk-PFOgQ"
      },
      "execution_count": 582,
      "outputs": []
    },
    {
      "cell_type": "code",
      "source": [
        "df.head()"
      ],
      "metadata": {
        "colab": {
          "base_uri": "https://localhost:8080/",
          "height": 0
        },
        "id": "MQCKg4moFP_9",
        "outputId": "c2d11f39-5151-4b83-99ad-7ba862cd55ff"
      },
      "execution_count": 583,
      "outputs": [
        {
          "output_type": "execute_result",
          "data": {
            "text/plain": [
              "                              MASTER_ID ORDER_CHANNEL LAST_ORDER_CHANNEL FIRST_ORDER_DATE LAST_ORDER_DATE LAST_ORDER_DATE_ONLINE LAST_ORDER_DATE_OFFLINE  ORDER_NUM_TOTAL_EVER_ONLINE  ORDER_NUM_TOTAL_EVER_OFFLINE  CUSTOMER_VALUE_TOTAL_EVER_OFFLINE  CUSTOMER_VALUE_TOTAL_EVER_ONLINE       INTERESTED_IN_CATEGORIES_12\n",
              "0  cc294636-19f0-11eb-8d74-000d3a38a36f   Android App            Offline       2020-10-30      2021-02-26             2021-02-21              2021-02-26                        4.000                         1.000                            139.990                           799.380                           [KADIN]\n",
              "1  f431bd5a-ab7b-11e9-a2fc-000d3a38a36f   Android App             Mobile       2017-02-08      2021-02-16             2021-02-16              2020-01-10                       19.000                         2.000                            159.970                         1,853.580  [ERKEK, COCUK, KADIN, AKTIFSPOR]\n",
              "2  69b69676-1a40-11ea-941b-000d3a38a36f   Android App        Android App       2019-11-27      2020-11-27             2020-11-27              2019-12-01                        3.000                         2.000                            189.970                           395.350                    [ERKEK, KADIN]\n",
              "3  1854e56c-491f-11eb-806e-000d3a38a36f   Android App        Android App       2021-01-06      2021-01-17             2021-01-17              2021-01-06                        1.000                         1.000                             39.990                            81.980               [AKTIFCOCUK, COCUK]\n",
              "4  d6ea1074-f1f5-11e9-9346-000d3a38a36f       Desktop            Desktop       2019-08-03      2021-03-07             2021-03-07              2019-08-03                        1.000                         1.000                             49.990                           159.990                       [AKTIFSPOR]"
            ],
            "text/html": [
              "\n",
              "  <div id=\"df-c60b564c-caa6-4cf7-b1c7-3c3b555504ec\">\n",
              "    <div class=\"colab-df-container\">\n",
              "      <div>\n",
              "<style scoped>\n",
              "    .dataframe tbody tr th:only-of-type {\n",
              "        vertical-align: middle;\n",
              "    }\n",
              "\n",
              "    .dataframe tbody tr th {\n",
              "        vertical-align: top;\n",
              "    }\n",
              "\n",
              "    .dataframe thead th {\n",
              "        text-align: right;\n",
              "    }\n",
              "</style>\n",
              "<table border=\"1\" class=\"dataframe\">\n",
              "  <thead>\n",
              "    <tr style=\"text-align: right;\">\n",
              "      <th></th>\n",
              "      <th>MASTER_ID</th>\n",
              "      <th>ORDER_CHANNEL</th>\n",
              "      <th>LAST_ORDER_CHANNEL</th>\n",
              "      <th>FIRST_ORDER_DATE</th>\n",
              "      <th>LAST_ORDER_DATE</th>\n",
              "      <th>LAST_ORDER_DATE_ONLINE</th>\n",
              "      <th>LAST_ORDER_DATE_OFFLINE</th>\n",
              "      <th>ORDER_NUM_TOTAL_EVER_ONLINE</th>\n",
              "      <th>ORDER_NUM_TOTAL_EVER_OFFLINE</th>\n",
              "      <th>CUSTOMER_VALUE_TOTAL_EVER_OFFLINE</th>\n",
              "      <th>CUSTOMER_VALUE_TOTAL_EVER_ONLINE</th>\n",
              "      <th>INTERESTED_IN_CATEGORIES_12</th>\n",
              "    </tr>\n",
              "  </thead>\n",
              "  <tbody>\n",
              "    <tr>\n",
              "      <th>0</th>\n",
              "      <td>cc294636-19f0-11eb-8d74-000d3a38a36f</td>\n",
              "      <td>Android App</td>\n",
              "      <td>Offline</td>\n",
              "      <td>2020-10-30</td>\n",
              "      <td>2021-02-26</td>\n",
              "      <td>2021-02-21</td>\n",
              "      <td>2021-02-26</td>\n",
              "      <td>4.000</td>\n",
              "      <td>1.000</td>\n",
              "      <td>139.990</td>\n",
              "      <td>799.380</td>\n",
              "      <td>[KADIN]</td>\n",
              "    </tr>\n",
              "    <tr>\n",
              "      <th>1</th>\n",
              "      <td>f431bd5a-ab7b-11e9-a2fc-000d3a38a36f</td>\n",
              "      <td>Android App</td>\n",
              "      <td>Mobile</td>\n",
              "      <td>2017-02-08</td>\n",
              "      <td>2021-02-16</td>\n",
              "      <td>2021-02-16</td>\n",
              "      <td>2020-01-10</td>\n",
              "      <td>19.000</td>\n",
              "      <td>2.000</td>\n",
              "      <td>159.970</td>\n",
              "      <td>1,853.580</td>\n",
              "      <td>[ERKEK, COCUK, KADIN, AKTIFSPOR]</td>\n",
              "    </tr>\n",
              "    <tr>\n",
              "      <th>2</th>\n",
              "      <td>69b69676-1a40-11ea-941b-000d3a38a36f</td>\n",
              "      <td>Android App</td>\n",
              "      <td>Android App</td>\n",
              "      <td>2019-11-27</td>\n",
              "      <td>2020-11-27</td>\n",
              "      <td>2020-11-27</td>\n",
              "      <td>2019-12-01</td>\n",
              "      <td>3.000</td>\n",
              "      <td>2.000</td>\n",
              "      <td>189.970</td>\n",
              "      <td>395.350</td>\n",
              "      <td>[ERKEK, KADIN]</td>\n",
              "    </tr>\n",
              "    <tr>\n",
              "      <th>3</th>\n",
              "      <td>1854e56c-491f-11eb-806e-000d3a38a36f</td>\n",
              "      <td>Android App</td>\n",
              "      <td>Android App</td>\n",
              "      <td>2021-01-06</td>\n",
              "      <td>2021-01-17</td>\n",
              "      <td>2021-01-17</td>\n",
              "      <td>2021-01-06</td>\n",
              "      <td>1.000</td>\n",
              "      <td>1.000</td>\n",
              "      <td>39.990</td>\n",
              "      <td>81.980</td>\n",
              "      <td>[AKTIFCOCUK, COCUK]</td>\n",
              "    </tr>\n",
              "    <tr>\n",
              "      <th>4</th>\n",
              "      <td>d6ea1074-f1f5-11e9-9346-000d3a38a36f</td>\n",
              "      <td>Desktop</td>\n",
              "      <td>Desktop</td>\n",
              "      <td>2019-08-03</td>\n",
              "      <td>2021-03-07</td>\n",
              "      <td>2021-03-07</td>\n",
              "      <td>2019-08-03</td>\n",
              "      <td>1.000</td>\n",
              "      <td>1.000</td>\n",
              "      <td>49.990</td>\n",
              "      <td>159.990</td>\n",
              "      <td>[AKTIFSPOR]</td>\n",
              "    </tr>\n",
              "  </tbody>\n",
              "</table>\n",
              "</div>\n",
              "      <button class=\"colab-df-convert\" onclick=\"convertToInteractive('df-c60b564c-caa6-4cf7-b1c7-3c3b555504ec')\"\n",
              "              title=\"Convert this dataframe to an interactive table.\"\n",
              "              style=\"display:none;\">\n",
              "        \n",
              "  <svg xmlns=\"http://www.w3.org/2000/svg\" height=\"24px\"viewBox=\"0 0 24 24\"\n",
              "       width=\"24px\">\n",
              "    <path d=\"M0 0h24v24H0V0z\" fill=\"none\"/>\n",
              "    <path d=\"M18.56 5.44l.94 2.06.94-2.06 2.06-.94-2.06-.94-.94-2.06-.94 2.06-2.06.94zm-11 1L8.5 8.5l.94-2.06 2.06-.94-2.06-.94L8.5 2.5l-.94 2.06-2.06.94zm10 10l.94 2.06.94-2.06 2.06-.94-2.06-.94-.94-2.06-.94 2.06-2.06.94z\"/><path d=\"M17.41 7.96l-1.37-1.37c-.4-.4-.92-.59-1.43-.59-.52 0-1.04.2-1.43.59L10.3 9.45l-7.72 7.72c-.78.78-.78 2.05 0 2.83L4 21.41c.39.39.9.59 1.41.59.51 0 1.02-.2 1.41-.59l7.78-7.78 2.81-2.81c.8-.78.8-2.07 0-2.86zM5.41 20L4 18.59l7.72-7.72 1.47 1.35L5.41 20z\"/>\n",
              "  </svg>\n",
              "      </button>\n",
              "      \n",
              "  <style>\n",
              "    .colab-df-container {\n",
              "      display:flex;\n",
              "      flex-wrap:wrap;\n",
              "      gap: 12px;\n",
              "    }\n",
              "\n",
              "    .colab-df-convert {\n",
              "      background-color: #E8F0FE;\n",
              "      border: none;\n",
              "      border-radius: 50%;\n",
              "      cursor: pointer;\n",
              "      display: none;\n",
              "      fill: #1967D2;\n",
              "      height: 32px;\n",
              "      padding: 0 0 0 0;\n",
              "      width: 32px;\n",
              "    }\n",
              "\n",
              "    .colab-df-convert:hover {\n",
              "      background-color: #E2EBFA;\n",
              "      box-shadow: 0px 1px 2px rgba(60, 64, 67, 0.3), 0px 1px 3px 1px rgba(60, 64, 67, 0.15);\n",
              "      fill: #174EA6;\n",
              "    }\n",
              "\n",
              "    [theme=dark] .colab-df-convert {\n",
              "      background-color: #3B4455;\n",
              "      fill: #D2E3FC;\n",
              "    }\n",
              "\n",
              "    [theme=dark] .colab-df-convert:hover {\n",
              "      background-color: #434B5C;\n",
              "      box-shadow: 0px 1px 3px 1px rgba(0, 0, 0, 0.15);\n",
              "      filter: drop-shadow(0px 1px 2px rgba(0, 0, 0, 0.3));\n",
              "      fill: #FFFFFF;\n",
              "    }\n",
              "  </style>\n",
              "\n",
              "      <script>\n",
              "        const buttonEl =\n",
              "          document.querySelector('#df-c60b564c-caa6-4cf7-b1c7-3c3b555504ec button.colab-df-convert');\n",
              "        buttonEl.style.display =\n",
              "          google.colab.kernel.accessAllowed ? 'block' : 'none';\n",
              "\n",
              "        async function convertToInteractive(key) {\n",
              "          const element = document.querySelector('#df-c60b564c-caa6-4cf7-b1c7-3c3b555504ec');\n",
              "          const dataTable =\n",
              "            await google.colab.kernel.invokeFunction('convertToInteractive',\n",
              "                                                     [key], {});\n",
              "          if (!dataTable) return;\n",
              "\n",
              "          const docLinkHtml = 'Like what you see? Visit the ' +\n",
              "            '<a target=\"_blank\" href=https://colab.research.google.com/notebooks/data_table.ipynb>data table notebook</a>'\n",
              "            + ' to learn more about interactive tables.';\n",
              "          element.innerHTML = '';\n",
              "          dataTable['output_type'] = 'display_data';\n",
              "          await google.colab.output.renderOutput(dataTable, element);\n",
              "          const docLink = document.createElement('div');\n",
              "          docLink.innerHTML = docLinkHtml;\n",
              "          element.appendChild(docLink);\n",
              "        }\n",
              "      </script>\n",
              "    </div>\n",
              "  </div>\n",
              "  "
            ]
          },
          "metadata": {},
          "execution_count": 583
        }
      ]
    },
    {
      "cell_type": "code",
      "source": [
        "df.info()"
      ],
      "metadata": {
        "colab": {
          "base_uri": "https://localhost:8080/"
        },
        "id": "w0HnIkB95z5v",
        "outputId": "d7d729c5-6b8f-4e2b-d857-42659a945a82"
      },
      "execution_count": 584,
      "outputs": [
        {
          "output_type": "stream",
          "name": "stdout",
          "text": [
            "<class 'pandas.core.frame.DataFrame'>\n",
            "RangeIndex: 19945 entries, 0 to 19944\n",
            "Data columns (total 12 columns):\n",
            " #   Column                             Non-Null Count  Dtype  \n",
            "---  ------                             --------------  -----  \n",
            " 0   MASTER_ID                          19945 non-null  object \n",
            " 1   ORDER_CHANNEL                      19945 non-null  object \n",
            " 2   LAST_ORDER_CHANNEL                 19945 non-null  object \n",
            " 3   FIRST_ORDER_DATE                   19945 non-null  object \n",
            " 4   LAST_ORDER_DATE                    19945 non-null  object \n",
            " 5   LAST_ORDER_DATE_ONLINE             19945 non-null  object \n",
            " 6   LAST_ORDER_DATE_OFFLINE            19945 non-null  object \n",
            " 7   ORDER_NUM_TOTAL_EVER_ONLINE        19945 non-null  float64\n",
            " 8   ORDER_NUM_TOTAL_EVER_OFFLINE       19945 non-null  float64\n",
            " 9   CUSTOMER_VALUE_TOTAL_EVER_OFFLINE  19945 non-null  float64\n",
            " 10  CUSTOMER_VALUE_TOTAL_EVER_ONLINE   19945 non-null  float64\n",
            " 11  INTERESTED_IN_CATEGORIES_12        19945 non-null  object \n",
            "dtypes: float64(4), object(8)\n",
            "memory usage: 1.8+ MB\n"
          ]
        }
      ]
    },
    {
      "cell_type": "markdown",
      "source": [
        "**Tarih değişkenlerimizi veri tiplerini time olarak güncelleyelim.**"
      ],
      "metadata": {
        "id": "aEIX5kU_E7jR"
      }
    },
    {
      "cell_type": "code",
      "source": [
        "df[\"FIRST_ORDER_DATE\"] = pd.to_datetime(df[\"FIRST_ORDER_DATE\"], format = \"%Y-%m-%d\")"
      ],
      "metadata": {
        "id": "3_W_uv6c5z_N"
      },
      "execution_count": 585,
      "outputs": []
    },
    {
      "cell_type": "code",
      "source": [
        "df[\"LAST_ORDER_DATE\"] = pd.to_datetime(df[\"LAST_ORDER_DATE\"], format = \"%Y-%m-%d\")"
      ],
      "metadata": {
        "id": "1diVpNCeGvzq"
      },
      "execution_count": 586,
      "outputs": []
    },
    {
      "cell_type": "code",
      "source": [
        "df[\"LAST_ORDER_DATE_ONLINE\"] = pd.to_datetime(df[\"LAST_ORDER_DATE_ONLINE\"], format = \"%Y-%m-%d\")"
      ],
      "metadata": {
        "id": "QQ1rukreGvsQ"
      },
      "execution_count": 587,
      "outputs": []
    },
    {
      "cell_type": "code",
      "source": [
        "df[\"LAST_ORDER_DATE_OFFLINE\"] = pd.to_datetime(df[\"LAST_ORDER_DATE_OFFLINE\"], format = \"%Y-%m-%d\")"
      ],
      "metadata": {
        "id": "dspRfIlcGvos"
      },
      "execution_count": 588,
      "outputs": []
    },
    {
      "cell_type": "markdown",
      "source": [
        "**Yeni değişkenler türetelim.**"
      ],
      "metadata": {
        "id": "Tz53zsGoFNPr"
      }
    },
    {
      "cell_type": "markdown",
      "source": [
        "**NEW_RECENCY**"
      ],
      "metadata": {
        "id": "OQxLRk2tLOvx"
      }
    },
    {
      "cell_type": "code",
      "source": [
        "import datetime"
      ],
      "metadata": {
        "id": "0WWM6jOKIb3a"
      },
      "execution_count": 589,
      "outputs": []
    },
    {
      "cell_type": "code",
      "source": [
        "df[\"NEW_RECENCY\"] = datetime.datetime.today() - df[\"LAST_ORDER_DATE\"]"
      ],
      "metadata": {
        "id": "08jPifwBG-uk"
      },
      "execution_count": 590,
      "outputs": []
    },
    {
      "cell_type": "code",
      "source": [
        "df[\"NEW_RECENCY\"] = df[\"NEW_RECENCY\"].apply(lambda x: x.days)"
      ],
      "metadata": {
        "id": "sc900V3-KFnp"
      },
      "execution_count": 591,
      "outputs": []
    },
    {
      "cell_type": "code",
      "source": [
        "df[\"NEW_RECENCY\"].head()"
      ],
      "metadata": {
        "colab": {
          "base_uri": "https://localhost:8080/"
        },
        "id": "D5ylv1xxJ-rX",
        "outputId": "4f1b12e8-79f5-4981-db6c-a02bd1a46391"
      },
      "execution_count": 592,
      "outputs": [
        {
          "output_type": "execute_result",
          "data": {
            "text/plain": [
              "0    688\n",
              "1    698\n",
              "2    779\n",
              "3    728\n",
              "4    679\n",
              "Name: NEW_RECENCY, dtype: int64"
            ]
          },
          "metadata": {},
          "execution_count": 592
        }
      ]
    },
    {
      "cell_type": "markdown",
      "source": [
        "**NEW_RECENCY_ONLINE**"
      ],
      "metadata": {
        "id": "Ok0XgS9lLiIL"
      }
    },
    {
      "cell_type": "code",
      "source": [
        "df[\"NEW_RECENCY_ONLINE\"] = (datetime.datetime.today() - df[\"LAST_ORDER_DATE_ONLINE\"])"
      ],
      "metadata": {
        "id": "1n5uNyVBLiIT"
      },
      "execution_count": 593,
      "outputs": []
    },
    {
      "cell_type": "code",
      "source": [
        "df[\"NEW_RECENCY_ONLINE\"] = df[\"NEW_RECENCY_ONLINE\"].apply(lambda x: x.days)"
      ],
      "metadata": {
        "id": "CdaSC9LYLiIU"
      },
      "execution_count": 594,
      "outputs": []
    },
    {
      "cell_type": "code",
      "source": [
        "df[\"NEW_RECENCY_ONLINE\"].head()"
      ],
      "metadata": {
        "colab": {
          "base_uri": "https://localhost:8080/"
        },
        "id": "rrVEy_pALiIU",
        "outputId": "b5d5147e-7eb3-40c8-9def-da9ff190b3f3"
      },
      "execution_count": 595,
      "outputs": [
        {
          "output_type": "execute_result",
          "data": {
            "text/plain": [
              "0    693\n",
              "1    698\n",
              "2    779\n",
              "3    728\n",
              "4    679\n",
              "Name: NEW_RECENCY_ONLINE, dtype: int64"
            ]
          },
          "metadata": {},
          "execution_count": 595
        }
      ]
    },
    {
      "cell_type": "markdown",
      "source": [
        "**NEW_RECENCY_OFLINE**"
      ],
      "metadata": {
        "id": "-6o-rq2yL0pr"
      }
    },
    {
      "cell_type": "code",
      "source": [
        "df[\"NEW_RECENCY_OFLINE\"] = (datetime.datetime.today() - df[\"LAST_ORDER_DATE_OFFLINE\"])"
      ],
      "metadata": {
        "id": "Ax2kyVUhL0pz"
      },
      "execution_count": 596,
      "outputs": []
    },
    {
      "cell_type": "code",
      "source": [
        "df[\"NEW_RECENCY_OFLINE\"] = df[\"NEW_RECENCY_OFLINE\"].apply(lambda x: x.days)"
      ],
      "metadata": {
        "id": "bY3T3OYzL0pz"
      },
      "execution_count": 597,
      "outputs": []
    },
    {
      "cell_type": "code",
      "source": [
        "df[\"NEW_RECENCY_OFLINE\"].head()"
      ],
      "metadata": {
        "colab": {
          "base_uri": "https://localhost:8080/"
        },
        "outputId": "12378e3b-99fa-41d4-9434-cbf5b669a95b",
        "id": "CWY8-TIiL0pz"
      },
      "execution_count": 598,
      "outputs": [
        {
          "output_type": "execute_result",
          "data": {
            "text/plain": [
              "0     688\n",
              "1    1101\n",
              "2    1141\n",
              "3     739\n",
              "4    1261\n",
              "Name: NEW_RECENCY_OFLINE, dtype: int64"
            ]
          },
          "metadata": {},
          "execution_count": 598
        }
      ]
    },
    {
      "cell_type": "markdown",
      "source": [
        "**NEW_ORDER_NUM_TOTAL_EVER**"
      ],
      "metadata": {
        "id": "Y3NInULYMV1n"
      }
    },
    {
      "cell_type": "code",
      "source": [
        "df[\"NEW_ORDER_NUM_TOTAL_EVER\"] = df[\"ORDER_NUM_TOTAL_EVER_ONLINE\"] + df[\"ORDER_NUM_TOTAL_EVER_OFFLINE\"]"
      ],
      "metadata": {
        "id": "Utfc0qA8LNIL"
      },
      "execution_count": 599,
      "outputs": []
    },
    {
      "cell_type": "markdown",
      "source": [
        "**NEW_CUSTOMER_VALUE_TOTAL_EVER**"
      ],
      "metadata": {
        "id": "Axwwhga-NK_g"
      }
    },
    {
      "cell_type": "code",
      "source": [
        "df[\"NEW_CUSTOMER_VALUE_TOTAL_EVER\"] = df[\"CUSTOMER_VALUE_TOTAL_EVER_OFFLINE\"] + df[\"CUSTOMER_VALUE_TOTAL_EVER_ONLINE\"]"
      ],
      "metadata": {
        "id": "-qoMKb8YNWaf"
      },
      "execution_count": 600,
      "outputs": []
    },
    {
      "cell_type": "code",
      "source": [
        "df.head()"
      ],
      "metadata": {
        "colab": {
          "base_uri": "https://localhost:8080/",
          "height": 0
        },
        "id": "_Jgq7xe8LNFR",
        "outputId": "17bbba02-80c4-4c5e-cd35-e9bb1d36ab2e"
      },
      "execution_count": 601,
      "outputs": [
        {
          "output_type": "execute_result",
          "data": {
            "text/plain": [
              "                              MASTER_ID ORDER_CHANNEL LAST_ORDER_CHANNEL FIRST_ORDER_DATE LAST_ORDER_DATE LAST_ORDER_DATE_ONLINE LAST_ORDER_DATE_OFFLINE  ORDER_NUM_TOTAL_EVER_ONLINE  ORDER_NUM_TOTAL_EVER_OFFLINE  CUSTOMER_VALUE_TOTAL_EVER_OFFLINE  CUSTOMER_VALUE_TOTAL_EVER_ONLINE       INTERESTED_IN_CATEGORIES_12  NEW_RECENCY  NEW_RECENCY_ONLINE  NEW_RECENCY_OFLINE  NEW_ORDER_NUM_TOTAL_EVER  NEW_CUSTOMER_VALUE_TOTAL_EVER\n",
              "0  cc294636-19f0-11eb-8d74-000d3a38a36f   Android App            Offline       2020-10-30      2021-02-26             2021-02-21              2021-02-26                        4.000                         1.000                            139.990                           799.380                           [KADIN]          688                 693                 688                     5.000                        939.370\n",
              "1  f431bd5a-ab7b-11e9-a2fc-000d3a38a36f   Android App             Mobile       2017-02-08      2021-02-16             2021-02-16              2020-01-10                       19.000                         2.000                            159.970                         1,853.580  [ERKEK, COCUK, KADIN, AKTIFSPOR]          698                 698                1101                    21.000                      2,013.550\n",
              "2  69b69676-1a40-11ea-941b-000d3a38a36f   Android App        Android App       2019-11-27      2020-11-27             2020-11-27              2019-12-01                        3.000                         2.000                            189.970                           395.350                    [ERKEK, KADIN]          779                 779                1141                     5.000                        585.320\n",
              "3  1854e56c-491f-11eb-806e-000d3a38a36f   Android App        Android App       2021-01-06      2021-01-17             2021-01-17              2021-01-06                        1.000                         1.000                             39.990                            81.980               [AKTIFCOCUK, COCUK]          728                 728                 739                     2.000                        121.970\n",
              "4  d6ea1074-f1f5-11e9-9346-000d3a38a36f       Desktop            Desktop       2019-08-03      2021-03-07             2021-03-07              2019-08-03                        1.000                         1.000                             49.990                           159.990                       [AKTIFSPOR]          679                 679                1261                     2.000                        209.980"
            ],
            "text/html": [
              "\n",
              "  <div id=\"df-1637bcc9-7ed6-49f1-920c-73cf425c4cfb\">\n",
              "    <div class=\"colab-df-container\">\n",
              "      <div>\n",
              "<style scoped>\n",
              "    .dataframe tbody tr th:only-of-type {\n",
              "        vertical-align: middle;\n",
              "    }\n",
              "\n",
              "    .dataframe tbody tr th {\n",
              "        vertical-align: top;\n",
              "    }\n",
              "\n",
              "    .dataframe thead th {\n",
              "        text-align: right;\n",
              "    }\n",
              "</style>\n",
              "<table border=\"1\" class=\"dataframe\">\n",
              "  <thead>\n",
              "    <tr style=\"text-align: right;\">\n",
              "      <th></th>\n",
              "      <th>MASTER_ID</th>\n",
              "      <th>ORDER_CHANNEL</th>\n",
              "      <th>LAST_ORDER_CHANNEL</th>\n",
              "      <th>FIRST_ORDER_DATE</th>\n",
              "      <th>LAST_ORDER_DATE</th>\n",
              "      <th>LAST_ORDER_DATE_ONLINE</th>\n",
              "      <th>LAST_ORDER_DATE_OFFLINE</th>\n",
              "      <th>ORDER_NUM_TOTAL_EVER_ONLINE</th>\n",
              "      <th>ORDER_NUM_TOTAL_EVER_OFFLINE</th>\n",
              "      <th>CUSTOMER_VALUE_TOTAL_EVER_OFFLINE</th>\n",
              "      <th>CUSTOMER_VALUE_TOTAL_EVER_ONLINE</th>\n",
              "      <th>INTERESTED_IN_CATEGORIES_12</th>\n",
              "      <th>NEW_RECENCY</th>\n",
              "      <th>NEW_RECENCY_ONLINE</th>\n",
              "      <th>NEW_RECENCY_OFLINE</th>\n",
              "      <th>NEW_ORDER_NUM_TOTAL_EVER</th>\n",
              "      <th>NEW_CUSTOMER_VALUE_TOTAL_EVER</th>\n",
              "    </tr>\n",
              "  </thead>\n",
              "  <tbody>\n",
              "    <tr>\n",
              "      <th>0</th>\n",
              "      <td>cc294636-19f0-11eb-8d74-000d3a38a36f</td>\n",
              "      <td>Android App</td>\n",
              "      <td>Offline</td>\n",
              "      <td>2020-10-30</td>\n",
              "      <td>2021-02-26</td>\n",
              "      <td>2021-02-21</td>\n",
              "      <td>2021-02-26</td>\n",
              "      <td>4.000</td>\n",
              "      <td>1.000</td>\n",
              "      <td>139.990</td>\n",
              "      <td>799.380</td>\n",
              "      <td>[KADIN]</td>\n",
              "      <td>688</td>\n",
              "      <td>693</td>\n",
              "      <td>688</td>\n",
              "      <td>5.000</td>\n",
              "      <td>939.370</td>\n",
              "    </tr>\n",
              "    <tr>\n",
              "      <th>1</th>\n",
              "      <td>f431bd5a-ab7b-11e9-a2fc-000d3a38a36f</td>\n",
              "      <td>Android App</td>\n",
              "      <td>Mobile</td>\n",
              "      <td>2017-02-08</td>\n",
              "      <td>2021-02-16</td>\n",
              "      <td>2021-02-16</td>\n",
              "      <td>2020-01-10</td>\n",
              "      <td>19.000</td>\n",
              "      <td>2.000</td>\n",
              "      <td>159.970</td>\n",
              "      <td>1,853.580</td>\n",
              "      <td>[ERKEK, COCUK, KADIN, AKTIFSPOR]</td>\n",
              "      <td>698</td>\n",
              "      <td>698</td>\n",
              "      <td>1101</td>\n",
              "      <td>21.000</td>\n",
              "      <td>2,013.550</td>\n",
              "    </tr>\n",
              "    <tr>\n",
              "      <th>2</th>\n",
              "      <td>69b69676-1a40-11ea-941b-000d3a38a36f</td>\n",
              "      <td>Android App</td>\n",
              "      <td>Android App</td>\n",
              "      <td>2019-11-27</td>\n",
              "      <td>2020-11-27</td>\n",
              "      <td>2020-11-27</td>\n",
              "      <td>2019-12-01</td>\n",
              "      <td>3.000</td>\n",
              "      <td>2.000</td>\n",
              "      <td>189.970</td>\n",
              "      <td>395.350</td>\n",
              "      <td>[ERKEK, KADIN]</td>\n",
              "      <td>779</td>\n",
              "      <td>779</td>\n",
              "      <td>1141</td>\n",
              "      <td>5.000</td>\n",
              "      <td>585.320</td>\n",
              "    </tr>\n",
              "    <tr>\n",
              "      <th>3</th>\n",
              "      <td>1854e56c-491f-11eb-806e-000d3a38a36f</td>\n",
              "      <td>Android App</td>\n",
              "      <td>Android App</td>\n",
              "      <td>2021-01-06</td>\n",
              "      <td>2021-01-17</td>\n",
              "      <td>2021-01-17</td>\n",
              "      <td>2021-01-06</td>\n",
              "      <td>1.000</td>\n",
              "      <td>1.000</td>\n",
              "      <td>39.990</td>\n",
              "      <td>81.980</td>\n",
              "      <td>[AKTIFCOCUK, COCUK]</td>\n",
              "      <td>728</td>\n",
              "      <td>728</td>\n",
              "      <td>739</td>\n",
              "      <td>2.000</td>\n",
              "      <td>121.970</td>\n",
              "    </tr>\n",
              "    <tr>\n",
              "      <th>4</th>\n",
              "      <td>d6ea1074-f1f5-11e9-9346-000d3a38a36f</td>\n",
              "      <td>Desktop</td>\n",
              "      <td>Desktop</td>\n",
              "      <td>2019-08-03</td>\n",
              "      <td>2021-03-07</td>\n",
              "      <td>2021-03-07</td>\n",
              "      <td>2019-08-03</td>\n",
              "      <td>1.000</td>\n",
              "      <td>1.000</td>\n",
              "      <td>49.990</td>\n",
              "      <td>159.990</td>\n",
              "      <td>[AKTIFSPOR]</td>\n",
              "      <td>679</td>\n",
              "      <td>679</td>\n",
              "      <td>1261</td>\n",
              "      <td>2.000</td>\n",
              "      <td>209.980</td>\n",
              "    </tr>\n",
              "  </tbody>\n",
              "</table>\n",
              "</div>\n",
              "      <button class=\"colab-df-convert\" onclick=\"convertToInteractive('df-1637bcc9-7ed6-49f1-920c-73cf425c4cfb')\"\n",
              "              title=\"Convert this dataframe to an interactive table.\"\n",
              "              style=\"display:none;\">\n",
              "        \n",
              "  <svg xmlns=\"http://www.w3.org/2000/svg\" height=\"24px\"viewBox=\"0 0 24 24\"\n",
              "       width=\"24px\">\n",
              "    <path d=\"M0 0h24v24H0V0z\" fill=\"none\"/>\n",
              "    <path d=\"M18.56 5.44l.94 2.06.94-2.06 2.06-.94-2.06-.94-.94-2.06-.94 2.06-2.06.94zm-11 1L8.5 8.5l.94-2.06 2.06-.94-2.06-.94L8.5 2.5l-.94 2.06-2.06.94zm10 10l.94 2.06.94-2.06 2.06-.94-2.06-.94-.94-2.06-.94 2.06-2.06.94z\"/><path d=\"M17.41 7.96l-1.37-1.37c-.4-.4-.92-.59-1.43-.59-.52 0-1.04.2-1.43.59L10.3 9.45l-7.72 7.72c-.78.78-.78 2.05 0 2.83L4 21.41c.39.39.9.59 1.41.59.51 0 1.02-.2 1.41-.59l7.78-7.78 2.81-2.81c.8-.78.8-2.07 0-2.86zM5.41 20L4 18.59l7.72-7.72 1.47 1.35L5.41 20z\"/>\n",
              "  </svg>\n",
              "      </button>\n",
              "      \n",
              "  <style>\n",
              "    .colab-df-container {\n",
              "      display:flex;\n",
              "      flex-wrap:wrap;\n",
              "      gap: 12px;\n",
              "    }\n",
              "\n",
              "    .colab-df-convert {\n",
              "      background-color: #E8F0FE;\n",
              "      border: none;\n",
              "      border-radius: 50%;\n",
              "      cursor: pointer;\n",
              "      display: none;\n",
              "      fill: #1967D2;\n",
              "      height: 32px;\n",
              "      padding: 0 0 0 0;\n",
              "      width: 32px;\n",
              "    }\n",
              "\n",
              "    .colab-df-convert:hover {\n",
              "      background-color: #E2EBFA;\n",
              "      box-shadow: 0px 1px 2px rgba(60, 64, 67, 0.3), 0px 1px 3px 1px rgba(60, 64, 67, 0.15);\n",
              "      fill: #174EA6;\n",
              "    }\n",
              "\n",
              "    [theme=dark] .colab-df-convert {\n",
              "      background-color: #3B4455;\n",
              "      fill: #D2E3FC;\n",
              "    }\n",
              "\n",
              "    [theme=dark] .colab-df-convert:hover {\n",
              "      background-color: #434B5C;\n",
              "      box-shadow: 0px 1px 3px 1px rgba(0, 0, 0, 0.15);\n",
              "      filter: drop-shadow(0px 1px 2px rgba(0, 0, 0, 0.3));\n",
              "      fill: #FFFFFF;\n",
              "    }\n",
              "  </style>\n",
              "\n",
              "      <script>\n",
              "        const buttonEl =\n",
              "          document.querySelector('#df-1637bcc9-7ed6-49f1-920c-73cf425c4cfb button.colab-df-convert');\n",
              "        buttonEl.style.display =\n",
              "          google.colab.kernel.accessAllowed ? 'block' : 'none';\n",
              "\n",
              "        async function convertToInteractive(key) {\n",
              "          const element = document.querySelector('#df-1637bcc9-7ed6-49f1-920c-73cf425c4cfb');\n",
              "          const dataTable =\n",
              "            await google.colab.kernel.invokeFunction('convertToInteractive',\n",
              "                                                     [key], {});\n",
              "          if (!dataTable) return;\n",
              "\n",
              "          const docLinkHtml = 'Like what you see? Visit the ' +\n",
              "            '<a target=\"_blank\" href=https://colab.research.google.com/notebooks/data_table.ipynb>data table notebook</a>'\n",
              "            + ' to learn more about interactive tables.';\n",
              "          element.innerHTML = '';\n",
              "          dataTable['output_type'] = 'display_data';\n",
              "          await google.colab.output.renderOutput(dataTable, element);\n",
              "          const docLink = document.createElement('div');\n",
              "          docLink.innerHTML = docLinkHtml;\n",
              "          element.appendChild(docLink);\n",
              "        }\n",
              "      </script>\n",
              "    </div>\n",
              "  </div>\n",
              "  "
            ]
          },
          "metadata": {},
          "execution_count": 601
        }
      ]
    },
    {
      "cell_type": "code",
      "source": [
        "def grab_col_names(dataframe, cat_th = 10, car_th = 20):\n",
        "  \"\"\"\n",
        "    Veri setindeki kategorik, numerik ve kategorik fakat kardinal değişkenlerin isimlerini verir.\n",
        "    Not: Kategorik değişkenlerin içerisinde numerik görünümlü kategorik değişkenler de dahildir.\n",
        "\n",
        "    Parameters\n",
        "    ----------\n",
        "    dataframe: dataframe\n",
        "        değişken isimleri alınmak istenen dataframe'dir.\n",
        "    cat_th: int, float\n",
        "        numerik fakat kategorik olan değişkenler için sınıf eşik değeri\n",
        "    car_th: int, float\n",
        "        kategorik fakat kardinal değişkenler için sınıf eşik değeri\n",
        "\n",
        "    Returns\n",
        "    -------\n",
        "    cat_cols: list\n",
        "        Kategorik değişken listesi\n",
        "    num_cols: list\n",
        "        Numerik değişken listesi\n",
        "    cat_but_car: list\n",
        "        Kategorik görünümlü kardinal değişken listesi\n",
        "\n",
        "    Notes\n",
        "    ------\n",
        "    cat_cols + num_cols + cat_but_car = toplam değişken sayısı\n",
        "    num_but_cat cat_cols'un içerisinde.\n",
        "  \"\"\"\n",
        "  # Kategorik Değişkenler: cat_cols & num_but_car\n",
        "  cat_cols = [col for col in dataframe.columns if dataframe[col].dtypes == \"O\"]\n",
        "  num_but_cat = [col for col in dataframe.columns if dataframe[col].nunique() < cat_th and dataframe[col].dtypes != \"O\"] \n",
        "  cat_but_car = [col for col in dataframe.columns if dataframe[col].nunique() > car_th and dataframe[col].dtypes == \"O\"]\n",
        "  cat_cols += num_but_cat\n",
        "  cat_cols = [col for col in cat_cols if col not in cat_but_car]\n",
        "\n",
        "  # Numerik Değişkenler: num_cols\n",
        "  num_cols = [col for col in dataframe.columns if dataframe[col].dtypes != \"O\"]\n",
        "  num_cols = [col for col in num_cols if col not in num_but_cat]\n",
        "\n",
        "\n",
        "\n",
        "  # Raporlama Bölümü:\n",
        "  # Raporlama Bölümü:\n",
        "  print(f\"Obsertavions - (Gözlem Sayısı): {dataframe.shape[0]}\")\n",
        "  print(f\"Variables (Değişken Sayısı): {dataframe.shape[1]}\")\n",
        "  print(f\"cat_cols (Kategorik Değişkenler): {len(cat_cols)}\")\n",
        "  print(f\"num_cols (Sayısal Değişkenler): {len(num_cols)}\")\n",
        "  print(f\"cat_but_car (Kardinalitesi Yüksek Değişkenler): {len(cat_but_car)}\")\n",
        "  print(f\"num_but_cat (Sayısal Görünümlü Kategorik Değişkenler): {len(num_but_cat)}\")\n",
        "\n",
        "  return cat_cols, num_cols, cat_but_car"
      ],
      "metadata": {
        "id": "CJ76X2rRLNCw"
      },
      "execution_count": 602,
      "outputs": []
    },
    {
      "cell_type": "code",
      "source": [
        "cat_cols, num_cols, cat_but_car = grab_col_names(df)"
      ],
      "metadata": {
        "colab": {
          "base_uri": "https://localhost:8080/"
        },
        "id": "IxPCBG68LM__",
        "outputId": "06991fcc-f9ea-403f-c28a-ec2cc69de5e1"
      },
      "execution_count": 603,
      "outputs": [
        {
          "output_type": "stream",
          "name": "stdout",
          "text": [
            "Obsertavions - (Gözlem Sayısı): 19945\n",
            "Variables (Değişken Sayısı): 17\n",
            "cat_cols (Kategorik Değişkenler): 2\n",
            "num_cols (Sayısal Değişkenler): 13\n",
            "cat_but_car (Kardinalitesi Yüksek Değişkenler): 2\n",
            "num_but_cat (Sayısal Görünümlü Kategorik Değişkenler): 0\n"
          ]
        }
      ]
    },
    {
      "cell_type": "code",
      "source": [
        "X = df[num_cols]"
      ],
      "metadata": {
        "id": "zm16t6XkLM9j"
      },
      "execution_count": 604,
      "outputs": []
    },
    {
      "cell_type": "code",
      "source": [
        "X.head()"
      ],
      "metadata": {
        "colab": {
          "base_uri": "https://localhost:8080/",
          "height": 0
        },
        "id": "BKodPg5lLM7F",
        "outputId": "71ce21a2-6584-43bf-bd7f-16e6a926ec4a"
      },
      "execution_count": 605,
      "outputs": [
        {
          "output_type": "execute_result",
          "data": {
            "text/plain": [
              "  FIRST_ORDER_DATE LAST_ORDER_DATE LAST_ORDER_DATE_ONLINE LAST_ORDER_DATE_OFFLINE  ORDER_NUM_TOTAL_EVER_ONLINE  ORDER_NUM_TOTAL_EVER_OFFLINE  CUSTOMER_VALUE_TOTAL_EVER_OFFLINE  CUSTOMER_VALUE_TOTAL_EVER_ONLINE  NEW_RECENCY  NEW_RECENCY_ONLINE  NEW_RECENCY_OFLINE  NEW_ORDER_NUM_TOTAL_EVER  NEW_CUSTOMER_VALUE_TOTAL_EVER\n",
              "0       2020-10-30      2021-02-26             2021-02-21              2021-02-26                        4.000                         1.000                            139.990                           799.380          688                 693                 688                     5.000                        939.370\n",
              "1       2017-02-08      2021-02-16             2021-02-16              2020-01-10                       19.000                         2.000                            159.970                         1,853.580          698                 698                1101                    21.000                      2,013.550\n",
              "2       2019-11-27      2020-11-27             2020-11-27              2019-12-01                        3.000                         2.000                            189.970                           395.350          779                 779                1141                     5.000                        585.320\n",
              "3       2021-01-06      2021-01-17             2021-01-17              2021-01-06                        1.000                         1.000                             39.990                            81.980          728                 728                 739                     2.000                        121.970\n",
              "4       2019-08-03      2021-03-07             2021-03-07              2019-08-03                        1.000                         1.000                             49.990                           159.990          679                 679                1261                     2.000                        209.980"
            ],
            "text/html": [
              "\n",
              "  <div id=\"df-52ea2e17-aa1c-4760-8f94-727dddb3265d\">\n",
              "    <div class=\"colab-df-container\">\n",
              "      <div>\n",
              "<style scoped>\n",
              "    .dataframe tbody tr th:only-of-type {\n",
              "        vertical-align: middle;\n",
              "    }\n",
              "\n",
              "    .dataframe tbody tr th {\n",
              "        vertical-align: top;\n",
              "    }\n",
              "\n",
              "    .dataframe thead th {\n",
              "        text-align: right;\n",
              "    }\n",
              "</style>\n",
              "<table border=\"1\" class=\"dataframe\">\n",
              "  <thead>\n",
              "    <tr style=\"text-align: right;\">\n",
              "      <th></th>\n",
              "      <th>FIRST_ORDER_DATE</th>\n",
              "      <th>LAST_ORDER_DATE</th>\n",
              "      <th>LAST_ORDER_DATE_ONLINE</th>\n",
              "      <th>LAST_ORDER_DATE_OFFLINE</th>\n",
              "      <th>ORDER_NUM_TOTAL_EVER_ONLINE</th>\n",
              "      <th>ORDER_NUM_TOTAL_EVER_OFFLINE</th>\n",
              "      <th>CUSTOMER_VALUE_TOTAL_EVER_OFFLINE</th>\n",
              "      <th>CUSTOMER_VALUE_TOTAL_EVER_ONLINE</th>\n",
              "      <th>NEW_RECENCY</th>\n",
              "      <th>NEW_RECENCY_ONLINE</th>\n",
              "      <th>NEW_RECENCY_OFLINE</th>\n",
              "      <th>NEW_ORDER_NUM_TOTAL_EVER</th>\n",
              "      <th>NEW_CUSTOMER_VALUE_TOTAL_EVER</th>\n",
              "    </tr>\n",
              "  </thead>\n",
              "  <tbody>\n",
              "    <tr>\n",
              "      <th>0</th>\n",
              "      <td>2020-10-30</td>\n",
              "      <td>2021-02-26</td>\n",
              "      <td>2021-02-21</td>\n",
              "      <td>2021-02-26</td>\n",
              "      <td>4.000</td>\n",
              "      <td>1.000</td>\n",
              "      <td>139.990</td>\n",
              "      <td>799.380</td>\n",
              "      <td>688</td>\n",
              "      <td>693</td>\n",
              "      <td>688</td>\n",
              "      <td>5.000</td>\n",
              "      <td>939.370</td>\n",
              "    </tr>\n",
              "    <tr>\n",
              "      <th>1</th>\n",
              "      <td>2017-02-08</td>\n",
              "      <td>2021-02-16</td>\n",
              "      <td>2021-02-16</td>\n",
              "      <td>2020-01-10</td>\n",
              "      <td>19.000</td>\n",
              "      <td>2.000</td>\n",
              "      <td>159.970</td>\n",
              "      <td>1,853.580</td>\n",
              "      <td>698</td>\n",
              "      <td>698</td>\n",
              "      <td>1101</td>\n",
              "      <td>21.000</td>\n",
              "      <td>2,013.550</td>\n",
              "    </tr>\n",
              "    <tr>\n",
              "      <th>2</th>\n",
              "      <td>2019-11-27</td>\n",
              "      <td>2020-11-27</td>\n",
              "      <td>2020-11-27</td>\n",
              "      <td>2019-12-01</td>\n",
              "      <td>3.000</td>\n",
              "      <td>2.000</td>\n",
              "      <td>189.970</td>\n",
              "      <td>395.350</td>\n",
              "      <td>779</td>\n",
              "      <td>779</td>\n",
              "      <td>1141</td>\n",
              "      <td>5.000</td>\n",
              "      <td>585.320</td>\n",
              "    </tr>\n",
              "    <tr>\n",
              "      <th>3</th>\n",
              "      <td>2021-01-06</td>\n",
              "      <td>2021-01-17</td>\n",
              "      <td>2021-01-17</td>\n",
              "      <td>2021-01-06</td>\n",
              "      <td>1.000</td>\n",
              "      <td>1.000</td>\n",
              "      <td>39.990</td>\n",
              "      <td>81.980</td>\n",
              "      <td>728</td>\n",
              "      <td>728</td>\n",
              "      <td>739</td>\n",
              "      <td>2.000</td>\n",
              "      <td>121.970</td>\n",
              "    </tr>\n",
              "    <tr>\n",
              "      <th>4</th>\n",
              "      <td>2019-08-03</td>\n",
              "      <td>2021-03-07</td>\n",
              "      <td>2021-03-07</td>\n",
              "      <td>2019-08-03</td>\n",
              "      <td>1.000</td>\n",
              "      <td>1.000</td>\n",
              "      <td>49.990</td>\n",
              "      <td>159.990</td>\n",
              "      <td>679</td>\n",
              "      <td>679</td>\n",
              "      <td>1261</td>\n",
              "      <td>2.000</td>\n",
              "      <td>209.980</td>\n",
              "    </tr>\n",
              "  </tbody>\n",
              "</table>\n",
              "</div>\n",
              "      <button class=\"colab-df-convert\" onclick=\"convertToInteractive('df-52ea2e17-aa1c-4760-8f94-727dddb3265d')\"\n",
              "              title=\"Convert this dataframe to an interactive table.\"\n",
              "              style=\"display:none;\">\n",
              "        \n",
              "  <svg xmlns=\"http://www.w3.org/2000/svg\" height=\"24px\"viewBox=\"0 0 24 24\"\n",
              "       width=\"24px\">\n",
              "    <path d=\"M0 0h24v24H0V0z\" fill=\"none\"/>\n",
              "    <path d=\"M18.56 5.44l.94 2.06.94-2.06 2.06-.94-2.06-.94-.94-2.06-.94 2.06-2.06.94zm-11 1L8.5 8.5l.94-2.06 2.06-.94-2.06-.94L8.5 2.5l-.94 2.06-2.06.94zm10 10l.94 2.06.94-2.06 2.06-.94-2.06-.94-.94-2.06-.94 2.06-2.06.94z\"/><path d=\"M17.41 7.96l-1.37-1.37c-.4-.4-.92-.59-1.43-.59-.52 0-1.04.2-1.43.59L10.3 9.45l-7.72 7.72c-.78.78-.78 2.05 0 2.83L4 21.41c.39.39.9.59 1.41.59.51 0 1.02-.2 1.41-.59l7.78-7.78 2.81-2.81c.8-.78.8-2.07 0-2.86zM5.41 20L4 18.59l7.72-7.72 1.47 1.35L5.41 20z\"/>\n",
              "  </svg>\n",
              "      </button>\n",
              "      \n",
              "  <style>\n",
              "    .colab-df-container {\n",
              "      display:flex;\n",
              "      flex-wrap:wrap;\n",
              "      gap: 12px;\n",
              "    }\n",
              "\n",
              "    .colab-df-convert {\n",
              "      background-color: #E8F0FE;\n",
              "      border: none;\n",
              "      border-radius: 50%;\n",
              "      cursor: pointer;\n",
              "      display: none;\n",
              "      fill: #1967D2;\n",
              "      height: 32px;\n",
              "      padding: 0 0 0 0;\n",
              "      width: 32px;\n",
              "    }\n",
              "\n",
              "    .colab-df-convert:hover {\n",
              "      background-color: #E2EBFA;\n",
              "      box-shadow: 0px 1px 2px rgba(60, 64, 67, 0.3), 0px 1px 3px 1px rgba(60, 64, 67, 0.15);\n",
              "      fill: #174EA6;\n",
              "    }\n",
              "\n",
              "    [theme=dark] .colab-df-convert {\n",
              "      background-color: #3B4455;\n",
              "      fill: #D2E3FC;\n",
              "    }\n",
              "\n",
              "    [theme=dark] .colab-df-convert:hover {\n",
              "      background-color: #434B5C;\n",
              "      box-shadow: 0px 1px 3px 1px rgba(0, 0, 0, 0.15);\n",
              "      filter: drop-shadow(0px 1px 2px rgba(0, 0, 0, 0.3));\n",
              "      fill: #FFFFFF;\n",
              "    }\n",
              "  </style>\n",
              "\n",
              "      <script>\n",
              "        const buttonEl =\n",
              "          document.querySelector('#df-52ea2e17-aa1c-4760-8f94-727dddb3265d button.colab-df-convert');\n",
              "        buttonEl.style.display =\n",
              "          google.colab.kernel.accessAllowed ? 'block' : 'none';\n",
              "\n",
              "        async function convertToInteractive(key) {\n",
              "          const element = document.querySelector('#df-52ea2e17-aa1c-4760-8f94-727dddb3265d');\n",
              "          const dataTable =\n",
              "            await google.colab.kernel.invokeFunction('convertToInteractive',\n",
              "                                                     [key], {});\n",
              "          if (!dataTable) return;\n",
              "\n",
              "          const docLinkHtml = 'Like what you see? Visit the ' +\n",
              "            '<a target=\"_blank\" href=https://colab.research.google.com/notebooks/data_table.ipynb>data table notebook</a>'\n",
              "            + ' to learn more about interactive tables.';\n",
              "          element.innerHTML = '';\n",
              "          dataTable['output_type'] = 'display_data';\n",
              "          await google.colab.output.renderOutput(dataTable, element);\n",
              "          const docLink = document.createElement('div');\n",
              "          docLink.innerHTML = docLinkHtml;\n",
              "          element.appendChild(docLink);\n",
              "        }\n",
              "      </script>\n",
              "    </div>\n",
              "  </div>\n",
              "  "
            ]
          },
          "metadata": {},
          "execution_count": 605
        }
      ]
    },
    {
      "cell_type": "code",
      "source": [
        "X.info()"
      ],
      "metadata": {
        "colab": {
          "base_uri": "https://localhost:8080/"
        },
        "id": "8xGR8TfR5zsj",
        "outputId": "f4aa4d9b-2155-4f3d-bb32-2b46f71b3926"
      },
      "execution_count": 606,
      "outputs": [
        {
          "output_type": "stream",
          "name": "stdout",
          "text": [
            "<class 'pandas.core.frame.DataFrame'>\n",
            "RangeIndex: 19945 entries, 0 to 19944\n",
            "Data columns (total 13 columns):\n",
            " #   Column                             Non-Null Count  Dtype         \n",
            "---  ------                             --------------  -----         \n",
            " 0   FIRST_ORDER_DATE                   19945 non-null  datetime64[ns]\n",
            " 1   LAST_ORDER_DATE                    19945 non-null  datetime64[ns]\n",
            " 2   LAST_ORDER_DATE_ONLINE             19945 non-null  datetime64[ns]\n",
            " 3   LAST_ORDER_DATE_OFFLINE            19945 non-null  datetime64[ns]\n",
            " 4   ORDER_NUM_TOTAL_EVER_ONLINE        19945 non-null  float64       \n",
            " 5   ORDER_NUM_TOTAL_EVER_OFFLINE       19945 non-null  float64       \n",
            " 6   CUSTOMER_VALUE_TOTAL_EVER_OFFLINE  19945 non-null  float64       \n",
            " 7   CUSTOMER_VALUE_TOTAL_EVER_ONLINE   19945 non-null  float64       \n",
            " 8   NEW_RECENCY                        19945 non-null  int64         \n",
            " 9   NEW_RECENCY_ONLINE                 19945 non-null  int64         \n",
            " 10  NEW_RECENCY_OFLINE                 19945 non-null  int64         \n",
            " 11  NEW_ORDER_NUM_TOTAL_EVER           19945 non-null  float64       \n",
            " 12  NEW_CUSTOMER_VALUE_TOTAL_EVER      19945 non-null  float64       \n",
            "dtypes: datetime64[ns](4), float64(6), int64(3)\n",
            "memory usage: 2.0 MB\n"
          ]
        }
      ]
    },
    {
      "cell_type": "code",
      "source": [
        "date_col = [col for col in df.columns if df[col].dtypes == \"datetime64[ns]\"]"
      ],
      "metadata": {
        "id": "VgihjzPm5zqB"
      },
      "execution_count": 607,
      "outputs": []
    },
    {
      "cell_type": "code",
      "source": [
        "X = X.drop(date_col, axis=1)"
      ],
      "metadata": {
        "id": "Vs5D7L-y5znc"
      },
      "execution_count": 608,
      "outputs": []
    },
    {
      "cell_type": "code",
      "source": [
        "X.head()"
      ],
      "metadata": {
        "colab": {
          "base_uri": "https://localhost:8080/",
          "height": 0
        },
        "id": "5wromV8nPF7X",
        "outputId": "c2d2ffb9-4137-4a43-f64e-47b917edd100"
      },
      "execution_count": 609,
      "outputs": [
        {
          "output_type": "execute_result",
          "data": {
            "text/plain": [
              "   ORDER_NUM_TOTAL_EVER_ONLINE  ORDER_NUM_TOTAL_EVER_OFFLINE  CUSTOMER_VALUE_TOTAL_EVER_OFFLINE  CUSTOMER_VALUE_TOTAL_EVER_ONLINE  NEW_RECENCY  NEW_RECENCY_ONLINE  NEW_RECENCY_OFLINE  NEW_ORDER_NUM_TOTAL_EVER  NEW_CUSTOMER_VALUE_TOTAL_EVER\n",
              "0                        4.000                         1.000                            139.990                           799.380          688                 693                 688                     5.000                        939.370\n",
              "1                       19.000                         2.000                            159.970                         1,853.580          698                 698                1101                    21.000                      2,013.550\n",
              "2                        3.000                         2.000                            189.970                           395.350          779                 779                1141                     5.000                        585.320\n",
              "3                        1.000                         1.000                             39.990                            81.980          728                 728                 739                     2.000                        121.970\n",
              "4                        1.000                         1.000                             49.990                           159.990          679                 679                1261                     2.000                        209.980"
            ],
            "text/html": [
              "\n",
              "  <div id=\"df-09faf78b-dced-4ebc-b698-92636d4bd97d\">\n",
              "    <div class=\"colab-df-container\">\n",
              "      <div>\n",
              "<style scoped>\n",
              "    .dataframe tbody tr th:only-of-type {\n",
              "        vertical-align: middle;\n",
              "    }\n",
              "\n",
              "    .dataframe tbody tr th {\n",
              "        vertical-align: top;\n",
              "    }\n",
              "\n",
              "    .dataframe thead th {\n",
              "        text-align: right;\n",
              "    }\n",
              "</style>\n",
              "<table border=\"1\" class=\"dataframe\">\n",
              "  <thead>\n",
              "    <tr style=\"text-align: right;\">\n",
              "      <th></th>\n",
              "      <th>ORDER_NUM_TOTAL_EVER_ONLINE</th>\n",
              "      <th>ORDER_NUM_TOTAL_EVER_OFFLINE</th>\n",
              "      <th>CUSTOMER_VALUE_TOTAL_EVER_OFFLINE</th>\n",
              "      <th>CUSTOMER_VALUE_TOTAL_EVER_ONLINE</th>\n",
              "      <th>NEW_RECENCY</th>\n",
              "      <th>NEW_RECENCY_ONLINE</th>\n",
              "      <th>NEW_RECENCY_OFLINE</th>\n",
              "      <th>NEW_ORDER_NUM_TOTAL_EVER</th>\n",
              "      <th>NEW_CUSTOMER_VALUE_TOTAL_EVER</th>\n",
              "    </tr>\n",
              "  </thead>\n",
              "  <tbody>\n",
              "    <tr>\n",
              "      <th>0</th>\n",
              "      <td>4.000</td>\n",
              "      <td>1.000</td>\n",
              "      <td>139.990</td>\n",
              "      <td>799.380</td>\n",
              "      <td>688</td>\n",
              "      <td>693</td>\n",
              "      <td>688</td>\n",
              "      <td>5.000</td>\n",
              "      <td>939.370</td>\n",
              "    </tr>\n",
              "    <tr>\n",
              "      <th>1</th>\n",
              "      <td>19.000</td>\n",
              "      <td>2.000</td>\n",
              "      <td>159.970</td>\n",
              "      <td>1,853.580</td>\n",
              "      <td>698</td>\n",
              "      <td>698</td>\n",
              "      <td>1101</td>\n",
              "      <td>21.000</td>\n",
              "      <td>2,013.550</td>\n",
              "    </tr>\n",
              "    <tr>\n",
              "      <th>2</th>\n",
              "      <td>3.000</td>\n",
              "      <td>2.000</td>\n",
              "      <td>189.970</td>\n",
              "      <td>395.350</td>\n",
              "      <td>779</td>\n",
              "      <td>779</td>\n",
              "      <td>1141</td>\n",
              "      <td>5.000</td>\n",
              "      <td>585.320</td>\n",
              "    </tr>\n",
              "    <tr>\n",
              "      <th>3</th>\n",
              "      <td>1.000</td>\n",
              "      <td>1.000</td>\n",
              "      <td>39.990</td>\n",
              "      <td>81.980</td>\n",
              "      <td>728</td>\n",
              "      <td>728</td>\n",
              "      <td>739</td>\n",
              "      <td>2.000</td>\n",
              "      <td>121.970</td>\n",
              "    </tr>\n",
              "    <tr>\n",
              "      <th>4</th>\n",
              "      <td>1.000</td>\n",
              "      <td>1.000</td>\n",
              "      <td>49.990</td>\n",
              "      <td>159.990</td>\n",
              "      <td>679</td>\n",
              "      <td>679</td>\n",
              "      <td>1261</td>\n",
              "      <td>2.000</td>\n",
              "      <td>209.980</td>\n",
              "    </tr>\n",
              "  </tbody>\n",
              "</table>\n",
              "</div>\n",
              "      <button class=\"colab-df-convert\" onclick=\"convertToInteractive('df-09faf78b-dced-4ebc-b698-92636d4bd97d')\"\n",
              "              title=\"Convert this dataframe to an interactive table.\"\n",
              "              style=\"display:none;\">\n",
              "        \n",
              "  <svg xmlns=\"http://www.w3.org/2000/svg\" height=\"24px\"viewBox=\"0 0 24 24\"\n",
              "       width=\"24px\">\n",
              "    <path d=\"M0 0h24v24H0V0z\" fill=\"none\"/>\n",
              "    <path d=\"M18.56 5.44l.94 2.06.94-2.06 2.06-.94-2.06-.94-.94-2.06-.94 2.06-2.06.94zm-11 1L8.5 8.5l.94-2.06 2.06-.94-2.06-.94L8.5 2.5l-.94 2.06-2.06.94zm10 10l.94 2.06.94-2.06 2.06-.94-2.06-.94-.94-2.06-.94 2.06-2.06.94z\"/><path d=\"M17.41 7.96l-1.37-1.37c-.4-.4-.92-.59-1.43-.59-.52 0-1.04.2-1.43.59L10.3 9.45l-7.72 7.72c-.78.78-.78 2.05 0 2.83L4 21.41c.39.39.9.59 1.41.59.51 0 1.02-.2 1.41-.59l7.78-7.78 2.81-2.81c.8-.78.8-2.07 0-2.86zM5.41 20L4 18.59l7.72-7.72 1.47 1.35L5.41 20z\"/>\n",
              "  </svg>\n",
              "      </button>\n",
              "      \n",
              "  <style>\n",
              "    .colab-df-container {\n",
              "      display:flex;\n",
              "      flex-wrap:wrap;\n",
              "      gap: 12px;\n",
              "    }\n",
              "\n",
              "    .colab-df-convert {\n",
              "      background-color: #E8F0FE;\n",
              "      border: none;\n",
              "      border-radius: 50%;\n",
              "      cursor: pointer;\n",
              "      display: none;\n",
              "      fill: #1967D2;\n",
              "      height: 32px;\n",
              "      padding: 0 0 0 0;\n",
              "      width: 32px;\n",
              "    }\n",
              "\n",
              "    .colab-df-convert:hover {\n",
              "      background-color: #E2EBFA;\n",
              "      box-shadow: 0px 1px 2px rgba(60, 64, 67, 0.3), 0px 1px 3px 1px rgba(60, 64, 67, 0.15);\n",
              "      fill: #174EA6;\n",
              "    }\n",
              "\n",
              "    [theme=dark] .colab-df-convert {\n",
              "      background-color: #3B4455;\n",
              "      fill: #D2E3FC;\n",
              "    }\n",
              "\n",
              "    [theme=dark] .colab-df-convert:hover {\n",
              "      background-color: #434B5C;\n",
              "      box-shadow: 0px 1px 3px 1px rgba(0, 0, 0, 0.15);\n",
              "      filter: drop-shadow(0px 1px 2px rgba(0, 0, 0, 0.3));\n",
              "      fill: #FFFFFF;\n",
              "    }\n",
              "  </style>\n",
              "\n",
              "      <script>\n",
              "        const buttonEl =\n",
              "          document.querySelector('#df-09faf78b-dced-4ebc-b698-92636d4bd97d button.colab-df-convert');\n",
              "        buttonEl.style.display =\n",
              "          google.colab.kernel.accessAllowed ? 'block' : 'none';\n",
              "\n",
              "        async function convertToInteractive(key) {\n",
              "          const element = document.querySelector('#df-09faf78b-dced-4ebc-b698-92636d4bd97d');\n",
              "          const dataTable =\n",
              "            await google.colab.kernel.invokeFunction('convertToInteractive',\n",
              "                                                     [key], {});\n",
              "          if (!dataTable) return;\n",
              "\n",
              "          const docLinkHtml = 'Like what you see? Visit the ' +\n",
              "            '<a target=\"_blank\" href=https://colab.research.google.com/notebooks/data_table.ipynb>data table notebook</a>'\n",
              "            + ' to learn more about interactive tables.';\n",
              "          element.innerHTML = '';\n",
              "          dataTable['output_type'] = 'display_data';\n",
              "          await google.colab.output.renderOutput(dataTable, element);\n",
              "          const docLink = document.createElement('div');\n",
              "          docLink.innerHTML = docLinkHtml;\n",
              "          element.appendChild(docLink);\n",
              "        }\n",
              "      </script>\n",
              "    </div>\n",
              "  </div>\n",
              "  "
            ]
          },
          "metadata": {},
          "execution_count": 609
        }
      ]
    },
    {
      "cell_type": "markdown",
      "source": [
        "## **Görev 2: K-Means ile Müşteri Segmentasyonu**"
      ],
      "metadata": {
        "id": "r7s2f3FSPQZ-"
      }
    },
    {
      "cell_type": "markdown",
      "source": [
        "### **Adım 1:** Değişkenleri standartlaştırınız."
      ],
      "metadata": {
        "id": "kKifGfIlPYmg"
      }
    },
    {
      "cell_type": "code",
      "source": [
        "ss = MinMaxScaler((0,1))"
      ],
      "metadata": {
        "id": "ZOA2j1lRPksP"
      },
      "execution_count": 610,
      "outputs": []
    },
    {
      "cell_type": "markdown",
      "source": [
        "**Yeni DataFrame'imimizi az önce X olarak atadığımız değişkenden standartlaştırma yaparak df değişkeni olarak tekrar atayıp devam edelim.**"
      ],
      "metadata": {
        "id": "0KdGDycRQhk0"
      }
    },
    {
      "cell_type": "code",
      "source": [
        "df = pd.DataFrame(ss.fit_transform(X), columns=X.columns)"
      ],
      "metadata": {
        "id": "GcbAPICOQLWO"
      },
      "execution_count": 611,
      "outputs": []
    },
    {
      "cell_type": "code",
      "source": [
        "df.head()"
      ],
      "metadata": {
        "colab": {
          "base_uri": "https://localhost:8080/",
          "height": 0
        },
        "id": "jIIRYB_UQLUW",
        "outputId": "3d071e32-2a73-48f3-fed9-7a570f2aeb6b"
      },
      "execution_count": 612,
      "outputs": [
        {
          "output_type": "execute_result",
          "data": {
            "text/plain": [
              "   ORDER_NUM_TOTAL_EVER_ONLINE  ORDER_NUM_TOTAL_EVER_OFFLINE  CUSTOMER_VALUE_TOTAL_EVER_OFFLINE  CUSTOMER_VALUE_TOTAL_EVER_ONLINE  NEW_RECENCY  NEW_RECENCY_ONLINE  NEW_RECENCY_OFLINE  NEW_ORDER_NUM_TOTAL_EVER  NEW_CUSTOMER_VALUE_TOTAL_EVER\n",
              "0                        0.015                         0.000                              0.007                             0.017        0.255               0.037               0.106                     0.015                          0.020\n",
              "1                        0.090                         0.009                              0.008                             0.041        0.282               0.039               0.588                     0.095                          0.043\n",
              "2                        0.010                         0.009                              0.010                             0.008        0.504               0.069               0.635                     0.015                          0.012\n",
              "3                        0.000                         0.000                              0.002                             0.002        0.364               0.050               0.166                     0.000                          0.002\n",
              "4                        0.000                         0.000                              0.002                             0.003        0.230               0.032               0.775                     0.000                          0.004"
            ],
            "text/html": [
              "\n",
              "  <div id=\"df-948d196a-dcea-46ff-8ac0-ee6746b8388b\">\n",
              "    <div class=\"colab-df-container\">\n",
              "      <div>\n",
              "<style scoped>\n",
              "    .dataframe tbody tr th:only-of-type {\n",
              "        vertical-align: middle;\n",
              "    }\n",
              "\n",
              "    .dataframe tbody tr th {\n",
              "        vertical-align: top;\n",
              "    }\n",
              "\n",
              "    .dataframe thead th {\n",
              "        text-align: right;\n",
              "    }\n",
              "</style>\n",
              "<table border=\"1\" class=\"dataframe\">\n",
              "  <thead>\n",
              "    <tr style=\"text-align: right;\">\n",
              "      <th></th>\n",
              "      <th>ORDER_NUM_TOTAL_EVER_ONLINE</th>\n",
              "      <th>ORDER_NUM_TOTAL_EVER_OFFLINE</th>\n",
              "      <th>CUSTOMER_VALUE_TOTAL_EVER_OFFLINE</th>\n",
              "      <th>CUSTOMER_VALUE_TOTAL_EVER_ONLINE</th>\n",
              "      <th>NEW_RECENCY</th>\n",
              "      <th>NEW_RECENCY_ONLINE</th>\n",
              "      <th>NEW_RECENCY_OFLINE</th>\n",
              "      <th>NEW_ORDER_NUM_TOTAL_EVER</th>\n",
              "      <th>NEW_CUSTOMER_VALUE_TOTAL_EVER</th>\n",
              "    </tr>\n",
              "  </thead>\n",
              "  <tbody>\n",
              "    <tr>\n",
              "      <th>0</th>\n",
              "      <td>0.015</td>\n",
              "      <td>0.000</td>\n",
              "      <td>0.007</td>\n",
              "      <td>0.017</td>\n",
              "      <td>0.255</td>\n",
              "      <td>0.037</td>\n",
              "      <td>0.106</td>\n",
              "      <td>0.015</td>\n",
              "      <td>0.020</td>\n",
              "    </tr>\n",
              "    <tr>\n",
              "      <th>1</th>\n",
              "      <td>0.090</td>\n",
              "      <td>0.009</td>\n",
              "      <td>0.008</td>\n",
              "      <td>0.041</td>\n",
              "      <td>0.282</td>\n",
              "      <td>0.039</td>\n",
              "      <td>0.588</td>\n",
              "      <td>0.095</td>\n",
              "      <td>0.043</td>\n",
              "    </tr>\n",
              "    <tr>\n",
              "      <th>2</th>\n",
              "      <td>0.010</td>\n",
              "      <td>0.009</td>\n",
              "      <td>0.010</td>\n",
              "      <td>0.008</td>\n",
              "      <td>0.504</td>\n",
              "      <td>0.069</td>\n",
              "      <td>0.635</td>\n",
              "      <td>0.015</td>\n",
              "      <td>0.012</td>\n",
              "    </tr>\n",
              "    <tr>\n",
              "      <th>3</th>\n",
              "      <td>0.000</td>\n",
              "      <td>0.000</td>\n",
              "      <td>0.002</td>\n",
              "      <td>0.002</td>\n",
              "      <td>0.364</td>\n",
              "      <td>0.050</td>\n",
              "      <td>0.166</td>\n",
              "      <td>0.000</td>\n",
              "      <td>0.002</td>\n",
              "    </tr>\n",
              "    <tr>\n",
              "      <th>4</th>\n",
              "      <td>0.000</td>\n",
              "      <td>0.000</td>\n",
              "      <td>0.002</td>\n",
              "      <td>0.003</td>\n",
              "      <td>0.230</td>\n",
              "      <td>0.032</td>\n",
              "      <td>0.775</td>\n",
              "      <td>0.000</td>\n",
              "      <td>0.004</td>\n",
              "    </tr>\n",
              "  </tbody>\n",
              "</table>\n",
              "</div>\n",
              "      <button class=\"colab-df-convert\" onclick=\"convertToInteractive('df-948d196a-dcea-46ff-8ac0-ee6746b8388b')\"\n",
              "              title=\"Convert this dataframe to an interactive table.\"\n",
              "              style=\"display:none;\">\n",
              "        \n",
              "  <svg xmlns=\"http://www.w3.org/2000/svg\" height=\"24px\"viewBox=\"0 0 24 24\"\n",
              "       width=\"24px\">\n",
              "    <path d=\"M0 0h24v24H0V0z\" fill=\"none\"/>\n",
              "    <path d=\"M18.56 5.44l.94 2.06.94-2.06 2.06-.94-2.06-.94-.94-2.06-.94 2.06-2.06.94zm-11 1L8.5 8.5l.94-2.06 2.06-.94-2.06-.94L8.5 2.5l-.94 2.06-2.06.94zm10 10l.94 2.06.94-2.06 2.06-.94-2.06-.94-.94-2.06-.94 2.06-2.06.94z\"/><path d=\"M17.41 7.96l-1.37-1.37c-.4-.4-.92-.59-1.43-.59-.52 0-1.04.2-1.43.59L10.3 9.45l-7.72 7.72c-.78.78-.78 2.05 0 2.83L4 21.41c.39.39.9.59 1.41.59.51 0 1.02-.2 1.41-.59l7.78-7.78 2.81-2.81c.8-.78.8-2.07 0-2.86zM5.41 20L4 18.59l7.72-7.72 1.47 1.35L5.41 20z\"/>\n",
              "  </svg>\n",
              "      </button>\n",
              "      \n",
              "  <style>\n",
              "    .colab-df-container {\n",
              "      display:flex;\n",
              "      flex-wrap:wrap;\n",
              "      gap: 12px;\n",
              "    }\n",
              "\n",
              "    .colab-df-convert {\n",
              "      background-color: #E8F0FE;\n",
              "      border: none;\n",
              "      border-radius: 50%;\n",
              "      cursor: pointer;\n",
              "      display: none;\n",
              "      fill: #1967D2;\n",
              "      height: 32px;\n",
              "      padding: 0 0 0 0;\n",
              "      width: 32px;\n",
              "    }\n",
              "\n",
              "    .colab-df-convert:hover {\n",
              "      background-color: #E2EBFA;\n",
              "      box-shadow: 0px 1px 2px rgba(60, 64, 67, 0.3), 0px 1px 3px 1px rgba(60, 64, 67, 0.15);\n",
              "      fill: #174EA6;\n",
              "    }\n",
              "\n",
              "    [theme=dark] .colab-df-convert {\n",
              "      background-color: #3B4455;\n",
              "      fill: #D2E3FC;\n",
              "    }\n",
              "\n",
              "    [theme=dark] .colab-df-convert:hover {\n",
              "      background-color: #434B5C;\n",
              "      box-shadow: 0px 1px 3px 1px rgba(0, 0, 0, 0.15);\n",
              "      filter: drop-shadow(0px 1px 2px rgba(0, 0, 0, 0.3));\n",
              "      fill: #FFFFFF;\n",
              "    }\n",
              "  </style>\n",
              "\n",
              "      <script>\n",
              "        const buttonEl =\n",
              "          document.querySelector('#df-948d196a-dcea-46ff-8ac0-ee6746b8388b button.colab-df-convert');\n",
              "        buttonEl.style.display =\n",
              "          google.colab.kernel.accessAllowed ? 'block' : 'none';\n",
              "\n",
              "        async function convertToInteractive(key) {\n",
              "          const element = document.querySelector('#df-948d196a-dcea-46ff-8ac0-ee6746b8388b');\n",
              "          const dataTable =\n",
              "            await google.colab.kernel.invokeFunction('convertToInteractive',\n",
              "                                                     [key], {});\n",
              "          if (!dataTable) return;\n",
              "\n",
              "          const docLinkHtml = 'Like what you see? Visit the ' +\n",
              "            '<a target=\"_blank\" href=https://colab.research.google.com/notebooks/data_table.ipynb>data table notebook</a>'\n",
              "            + ' to learn more about interactive tables.';\n",
              "          element.innerHTML = '';\n",
              "          dataTable['output_type'] = 'display_data';\n",
              "          await google.colab.output.renderOutput(dataTable, element);\n",
              "          const docLink = document.createElement('div');\n",
              "          docLink.innerHTML = docLinkHtml;\n",
              "          element.appendChild(docLink);\n",
              "        }\n",
              "      </script>\n",
              "    </div>\n",
              "  </div>\n",
              "  "
            ]
          },
          "metadata": {},
          "execution_count": 612
        }
      ]
    },
    {
      "cell_type": "markdown",
      "source": [
        "### **Adım 2:** Optimum küme sayısını belirleyiniz."
      ],
      "metadata": {
        "id": "hcsmgKQARtZw"
      }
    },
    {
      "cell_type": "code",
      "source": [
        "kmeans = KMeans()"
      ],
      "metadata": {
        "id": "eMCXYPY0QLRd"
      },
      "execution_count": 613,
      "outputs": []
    },
    {
      "cell_type": "code",
      "source": [
        "ssd = []"
      ],
      "metadata": {
        "id": "JChia1iHQLPG"
      },
      "execution_count": 614,
      "outputs": []
    },
    {
      "cell_type": "code",
      "source": [
        "K = range(1, 30)"
      ],
      "metadata": {
        "id": "3_RKU9qQQLMm"
      },
      "execution_count": 615,
      "outputs": []
    },
    {
      "cell_type": "code",
      "source": [
        "for k in K:\n",
        "  kmeans = KMeans(n_clusters=k).fit(df)\n",
        "  ssd.append(kmeans.inertia_)"
      ],
      "metadata": {
        "id": "omNYySgpR9fN"
      },
      "execution_count": 616,
      "outputs": []
    },
    {
      "cell_type": "code",
      "source": [
        "plt.plot(K, ssd, \"bx-\")\n",
        "plt.xlabel(\"Farklı K Değerlerine Karşılık SSE/SSR/SSD\")\n",
        "plt.title(\"Optimum Küme Sayısı için Elbow Yöntemi\")\n",
        "plt.show()"
      ],
      "metadata": {
        "colab": {
          "base_uri": "https://localhost:8080/",
          "height": 0
        },
        "id": "1q4UsE0hSN3-",
        "outputId": "3faec4e8-eef3-41c2-ad48-91bc919f6c38"
      },
      "execution_count": 617,
      "outputs": [
        {
          "output_type": "display_data",
          "data": {
            "text/plain": [
              "<Figure size 576x396 with 1 Axes>"
            ],
            "image/png": "[encoded data removed]"
          },
          "metadata": {}
        }
      ]
    },
    {
      "cell_type": "code",
      "source": [
        "kmeans = KMeans()"
      ],
      "metadata": {
        "id": "cTvWdKhsR9cC"
      },
      "execution_count": 618,
      "outputs": []
    },
    {
      "cell_type": "code",
      "source": [
        "elbow = KElbowVisualizer(kmeans, k=(2,20))\n",
        "elbow.fit(df)\n",
        "elbow.show();"
      ],
      "metadata": {
        "colab": {
          "base_uri": "https://localhost:8080/",
          "height": 0
        },
        "id": "LBbO0AR4R9Zx",
        "outputId": "82f1d9be-dce2-4c7c-992d-bda700cf0e6a"
      },
      "execution_count": 619,
      "outputs": [
        {
          "output_type": "display_data",
          "data": {
            "text/plain": [
              "<Figure size 576x396 with 2 Axes>"
            ],
            "image/png": "[encoded data removed]"
          },
          "metadata": {}
        }
      ]
    },
    {
      "cell_type": "markdown",
      "source": [
        "**Optimum küme sayısının 6 olduğunu görmekteyiz.**"
      ],
      "metadata": {
        "id": "nv3QWmGIFiEP"
      }
    },
    {
      "cell_type": "markdown",
      "source": [
        "### **Adım 3:** Modelinizi oluşturunuz ve müşterilerinizi segmentleyiniz."
      ],
      "metadata": {
        "id": "at_f0d5gSslX"
      }
    },
    {
      "cell_type": "markdown",
      "source": [
        "**K-Means algoritmasını oluşturalım.**"
      ],
      "metadata": {
        "id": "q9lvBHw0Fobp"
      }
    },
    {
      "cell_type": "code",
      "source": [
        "kmeans = KMeans(n_clusters=elbow.elbow_value_).fit(df)"
      ],
      "metadata": {
        "id": "Bwlpu9aXR9Vj"
      },
      "execution_count": 620,
      "outputs": []
    },
    {
      "cell_type": "markdown",
      "source": [
        "**Algoritmaların parametrelerine bakalım.**"
      ],
      "metadata": {
        "id": "EZXCXggVFx27"
      }
    },
    {
      "cell_type": "code",
      "source": [
        "kmeans.get_params()"
      ],
      "metadata": {
        "colab": {
          "base_uri": "https://localhost:8080/"
        },
        "id": "0Y32KQRuR9Sx",
        "outputId": "e2ec8d3f-aecc-4606-cf72-b72b508cf25c"
      },
      "execution_count": 621,
      "outputs": [
        {
          "output_type": "execute_result",
          "data": {
            "text/plain": [
              "{'algorithm': 'auto',\n",
              " 'copy_x': True,\n",
              " 'init': 'k-means++',\n",
              " 'max_iter': 300,\n",
              " 'n_clusters': 6,\n",
              " 'n_init': 10,\n",
              " 'random_state': None,\n",
              " 'tol': 0.0001,\n",
              " 'verbose': 0}"
            ]
          },
          "metadata": {},
          "execution_count": 621
        }
      ]
    },
    {
      "cell_type": "markdown",
      "source": [
        "**Küme sayısı.**"
      ],
      "metadata": {
        "id": "vo_6W1e1F1pH"
      }
    },
    {
      "cell_type": "code",
      "source": [
        "kmeans.n_clusters"
      ],
      "metadata": {
        "colab": {
          "base_uri": "https://localhost:8080/"
        },
        "id": "D83TaC3KR9QS",
        "outputId": "27a96b87-05f3-4c53-9d19-52dbd27e7bf4"
      },
      "execution_count": 622,
      "outputs": [
        {
          "output_type": "execute_result",
          "data": {
            "text/plain": [
              "6"
            ]
          },
          "metadata": {},
          "execution_count": 622
        }
      ]
    },
    {
      "cell_type": "markdown",
      "source": [
        "**Altı küme ve bu kümelerin merkezlerini inceleyelim.**"
      ],
      "metadata": {
        "id": "BwWO1RbvF7GW"
      }
    },
    {
      "cell_type": "code",
      "source": [
        "kmeans.cluster_centers_"
      ],
      "metadata": {
        "colab": {
          "base_uri": "https://localhost:8080/"
        },
        "id": "7iFEngYfR9OB",
        "outputId": "942b24f4-ab03-47ef-9685-35c81397730f"
      },
      "execution_count": 623,
      "outputs": [
        {
          "output_type": "execute_result",
          "data": {
            "text/plain": [
              "array([[0.01478489, 0.00518858, 0.00961306, 0.01399223, 0.12682804,\n",
              "        0.01745559, 0.68727474, 0.0175128 , 0.01710948],\n",
              "       [0.0111142 , 0.01323782, 0.01878233, 0.01154421, 0.13488748,\n",
              "        0.07713813, 0.13251783, 0.01820705, 0.01831706],\n",
              "       [0.00714251, 0.00726817, 0.01182337, 0.0078723 , 0.87162199,\n",
              "        0.18471403, 0.51499944, 0.0110316 , 0.0119495 ],\n",
              "       [0.00811954, 0.01083427, 0.01615696, 0.00870971, 0.47646735,\n",
              "        0.1260819 , 0.25545007, 0.01392944, 0.01448622],\n",
              "       [0.0036443 , 0.0104466 , 0.01690096, 0.00356253, 0.41732109,\n",
              "        0.65531625, 0.17540513, 0.00926724, 0.00970612],\n",
              "       [0.01086882, 0.00440584, 0.00912689, 0.01087037, 0.50292689,\n",
              "        0.06921882, 0.70541924, 0.01319363, 0.01384009]])"
            ]
          },
          "metadata": {},
          "execution_count": 623
        }
      ]
    },
    {
      "cell_type": "markdown",
      "source": [
        "**Kümelere verilen etiketleri (labels) görmek istersek.**"
      ],
      "metadata": {
        "id": "dKRyRv-aGj9f"
      }
    },
    {
      "cell_type": "code",
      "source": [
        "kmeans.labels_"
      ],
      "metadata": {
        "colab": {
          "base_uri": "https://localhost:8080/"
        },
        "id": "4sIwjku5TL1H",
        "outputId": "7e4f70ac-9c38-4bf5-de16-8c1f1903344a"
      },
      "execution_count": 624,
      "outputs": [
        {
          "output_type": "execute_result",
          "data": {
            "text/plain": [
              "array([1, 0, 5, ..., 0, 1, 2], dtype=int32)"
            ]
          },
          "metadata": {},
          "execution_count": 624
        }
      ]
    },
    {
      "cell_type": "markdown",
      "source": [
        "**Model Sonuç Değerlendirme**"
      ],
      "metadata": {
        "id": "84H3IsUUTRa_"
      }
    },
    {
      "cell_type": "markdown",
      "source": [
        "**SSD Değeri:**"
      ],
      "metadata": {
        "id": "Pkz20d3rTOT8"
      }
    },
    {
      "cell_type": "code",
      "source": [
        "kmeans.inertia_"
      ],
      "metadata": {
        "colab": {
          "base_uri": "https://localhost:8080/"
        },
        "id": "54p6GWvWTLxA",
        "outputId": "f25cd86a-a332-485e-e4bd-372b0975f3f3"
      },
      "execution_count": 625,
      "outputs": [
        {
          "output_type": "execute_result",
          "data": {
            "text/plain": [
              "734.1103605922755"
            ]
          },
          "metadata": {},
          "execution_count": 625
        }
      ]
    },
    {
      "cell_type": "code",
      "source": [
        "clusters_kmeans = kmeans.labels_"
      ],
      "metadata": {
        "id": "33MpFMJSTLtk"
      },
      "execution_count": 626,
      "outputs": []
    },
    {
      "cell_type": "code",
      "source": [
        "np.sort(clusters_kmeans)"
      ],
      "metadata": {
        "id": "QAwhOJa5TLro",
        "colab": {
          "base_uri": "https://localhost:8080/"
        },
        "outputId": "8cc2b714-571b-4256-b4e5-35fea6727c37"
      },
      "execution_count": 627,
      "outputs": [
        {
          "output_type": "execute_result",
          "data": {
            "text/plain": [
              "array([0, 0, 0, ..., 5, 5, 5], dtype=int32)"
            ]
          },
          "metadata": {},
          "execution_count": 627
        }
      ]
    },
    {
      "cell_type": "markdown",
      "source": [
        "**Veri setini tekrar okutup her bir gözlemimize ait olan kümelere yanlarına getirelim.**"
      ],
      "metadata": {
        "id": "JkM-60SZJtAP"
      }
    },
    {
      "cell_type": "code",
      "source": [
        "km_segment_df = pd.read_csv(\"/content/drive/MyDrive/Sıfırdan Başlayanlar İçin Veri Bilimi - miuul/Ödevler - Projeler miuul/3.Machine Learning/6.Proje: Flo Gözetimsiz Öğrenme ile Müşteri Segmentasyonu/flo_data_20k.csv/flo_data_20k.csv\")"
      ],
      "metadata": {
        "id": "XWi1TVejTLmm"
      },
      "execution_count": 628,
      "outputs": []
    },
    {
      "cell_type": "code",
      "source": [
        "km_segment_df[\"cluster\"] = clusters_kmeans"
      ],
      "metadata": {
        "id": "G5BBP3-jTLpn"
      },
      "execution_count": 629,
      "outputs": []
    },
    {
      "cell_type": "code",
      "source": [
        "km_segment_df.head()"
      ],
      "metadata": {
        "id": "EqmY876KTLix",
        "colab": {
          "base_uri": "https://localhost:8080/",
          "height": 0
        },
        "outputId": "4912b940-9e11-4af8-bb81-f17e20d8cd54"
      },
      "execution_count": 630,
      "outputs": [
        {
          "output_type": "execute_result",
          "data": {
            "text/plain": [
              "                              master_id order_channel last_order_channel first_order_date last_order_date last_order_date_online last_order_date_offline  order_num_total_ever_online  order_num_total_ever_offline  customer_value_total_ever_offline  customer_value_total_ever_online       interested_in_categories_12  cluster\n",
              "0  cc294636-19f0-11eb-8d74-000d3a38a36f   Android App            Offline       2020-10-30      2021-02-26             2021-02-21              2021-02-26                        4.000                         1.000                            139.990                           799.380                           [KADIN]        1\n",
              "1  f431bd5a-ab7b-11e9-a2fc-000d3a38a36f   Android App             Mobile       2017-02-08      2021-02-16             2021-02-16              2020-01-10                       19.000                         2.000                            159.970                         1,853.580  [ERKEK, COCUK, KADIN, AKTIFSPOR]        0\n",
              "2  69b69676-1a40-11ea-941b-000d3a38a36f   Android App        Android App       2019-11-27      2020-11-27             2020-11-27              2019-12-01                        3.000                         2.000                            189.970                           395.350                    [ERKEK, KADIN]        5\n",
              "3  1854e56c-491f-11eb-806e-000d3a38a36f   Android App        Android App       2021-01-06      2021-01-17             2021-01-17              2021-01-06                        1.000                         1.000                             39.990                            81.980               [AKTIFCOCUK, COCUK]        3\n",
              "4  d6ea1074-f1f5-11e9-9346-000d3a38a36f       Desktop            Desktop       2019-08-03      2021-03-07             2021-03-07              2019-08-03                        1.000                         1.000                             49.990                           159.990                       [AKTIFSPOR]        0"
            ],
            "text/html": [
              "\n",
              "  <div id=\"df-bdbf89ff-3290-4f27-ac21-aba8b3c69b1f\">\n",
              "    <div class=\"colab-df-container\">\n",
              "      <div>\n",
              "<style scoped>\n",
              "    .dataframe tbody tr th:only-of-type {\n",
              "        vertical-align: middle;\n",
              "    }\n",
              "\n",
              "    .dataframe tbody tr th {\n",
              "        vertical-align: top;\n",
              "    }\n",
              "\n",
              "    .dataframe thead th {\n",
              "        text-align: right;\n",
              "    }\n",
              "</style>\n",
              "<table border=\"1\" class=\"dataframe\">\n",
              "  <thead>\n",
              "    <tr style=\"text-align: right;\">\n",
              "      <th></th>\n",
              "      <th>master_id</th>\n",
              "      <th>order_channel</th>\n",
              "      <th>last_order_channel</th>\n",
              "      <th>first_order_date</th>\n",
              "      <th>last_order_date</th>\n",
              "      <th>last_order_date_online</th>\n",
              "      <th>last_order_date_offline</th>\n",
              "      <th>order_num_total_ever_online</th>\n",
              "      <th>order_num_total_ever_offline</th>\n",
              "      <th>customer_value_total_ever_offline</th>\n",
              "      <th>customer_value_total_ever_online</th>\n",
              "      <th>interested_in_categories_12</th>\n",
              "      <th>cluster</th>\n",
              "    </tr>\n",
              "  </thead>\n",
              "  <tbody>\n",
              "    <tr>\n",
              "      <th>0</th>\n",
              "      <td>cc294636-19f0-11eb-8d74-000d3a38a36f</td>\n",
              "      <td>Android App</td>\n",
              "      <td>Offline</td>\n",
              "      <td>2020-10-30</td>\n",
              "      <td>2021-02-26</td>\n",
              "      <td>2021-02-21</td>\n",
              "      <td>2021-02-26</td>\n",
              "      <td>4.000</td>\n",
              "      <td>1.000</td>\n",
              "      <td>139.990</td>\n",
              "      <td>799.380</td>\n",
              "      <td>[KADIN]</td>\n",
              "      <td>1</td>\n",
              "    </tr>\n",
              "    <tr>\n",
              "      <th>1</th>\n",
              "      <td>f431bd5a-ab7b-11e9-a2fc-000d3a38a36f</td>\n",
              "      <td>Android App</td>\n",
              "      <td>Mobile</td>\n",
              "      <td>2017-02-08</td>\n",
              "      <td>2021-02-16</td>\n",
              "      <td>2021-02-16</td>\n",
              "      <td>2020-01-10</td>\n",
              "      <td>19.000</td>\n",
              "      <td>2.000</td>\n",
              "      <td>159.970</td>\n",
              "      <td>1,853.580</td>\n",
              "      <td>[ERKEK, COCUK, KADIN, AKTIFSPOR]</td>\n",
              "      <td>0</td>\n",
              "    </tr>\n",
              "    <tr>\n",
              "      <th>2</th>\n",
              "      <td>69b69676-1a40-11ea-941b-000d3a38a36f</td>\n",
              "      <td>Android App</td>\n",
              "      <td>Android App</td>\n",
              "      <td>2019-11-27</td>\n",
              "      <td>2020-11-27</td>\n",
              "      <td>2020-11-27</td>\n",
              "      <td>2019-12-01</td>\n",
              "      <td>3.000</td>\n",
              "      <td>2.000</td>\n",
              "      <td>189.970</td>\n",
              "      <td>395.350</td>\n",
              "      <td>[ERKEK, KADIN]</td>\n",
              "      <td>5</td>\n",
              "    </tr>\n",
              "    <tr>\n",
              "      <th>3</th>\n",
              "      <td>1854e56c-491f-11eb-806e-000d3a38a36f</td>\n",
              "      <td>Android App</td>\n",
              "      <td>Android App</td>\n",
              "      <td>2021-01-06</td>\n",
              "      <td>2021-01-17</td>\n",
              "      <td>2021-01-17</td>\n",
              "      <td>2021-01-06</td>\n",
              "      <td>1.000</td>\n",
              "      <td>1.000</td>\n",
              "      <td>39.990</td>\n",
              "      <td>81.980</td>\n",
              "      <td>[AKTIFCOCUK, COCUK]</td>\n",
              "      <td>3</td>\n",
              "    </tr>\n",
              "    <tr>\n",
              "      <th>4</th>\n",
              "      <td>d6ea1074-f1f5-11e9-9346-000d3a38a36f</td>\n",
              "      <td>Desktop</td>\n",
              "      <td>Desktop</td>\n",
              "      <td>2019-08-03</td>\n",
              "      <td>2021-03-07</td>\n",
              "      <td>2021-03-07</td>\n",
              "      <td>2019-08-03</td>\n",
              "      <td>1.000</td>\n",
              "      <td>1.000</td>\n",
              "      <td>49.990</td>\n",
              "      <td>159.990</td>\n",
              "      <td>[AKTIFSPOR]</td>\n",
              "      <td>0</td>\n",
              "    </tr>\n",
              "  </tbody>\n",
              "</table>\n",
              "</div>\n",
              "      <button class=\"colab-df-convert\" onclick=\"convertToInteractive('df-bdbf89ff-3290-4f27-ac21-aba8b3c69b1f')\"\n",
              "              title=\"Convert this dataframe to an interactive table.\"\n",
              "              style=\"display:none;\">\n",
              "        \n",
              "  <svg xmlns=\"http://www.w3.org/2000/svg\" height=\"24px\"viewBox=\"0 0 24 24\"\n",
              "       width=\"24px\">\n",
              "    <path d=\"M0 0h24v24H0V0z\" fill=\"none\"/>\n",
              "    <path d=\"M18.56 5.44l.94 2.06.94-2.06 2.06-.94-2.06-.94-.94-2.06-.94 2.06-2.06.94zm-11 1L8.5 8.5l.94-2.06 2.06-.94-2.06-.94L8.5 2.5l-.94 2.06-2.06.94zm10 10l.94 2.06.94-2.06 2.06-.94-2.06-.94-.94-2.06-.94 2.06-2.06.94z\"/><path d=\"M17.41 7.96l-1.37-1.37c-.4-.4-.92-.59-1.43-.59-.52 0-1.04.2-1.43.59L10.3 9.45l-7.72 7.72c-.78.78-.78 2.05 0 2.83L4 21.41c.39.39.9.59 1.41.59.51 0 1.02-.2 1.41-.59l7.78-7.78 2.81-2.81c.8-.78.8-2.07 0-2.86zM5.41 20L4 18.59l7.72-7.72 1.47 1.35L5.41 20z\"/>\n",
              "  </svg>\n",
              "      </button>\n",
              "      \n",
              "  <style>\n",
              "    .colab-df-container {\n",
              "      display:flex;\n",
              "      flex-wrap:wrap;\n",
              "      gap: 12px;\n",
              "    }\n",
              "\n",
              "    .colab-df-convert {\n",
              "      background-color: #E8F0FE;\n",
              "      border: none;\n",
              "      border-radius: 50%;\n",
              "      cursor: pointer;\n",
              "      display: none;\n",
              "      fill: #1967D2;\n",
              "      height: 32px;\n",
              "      padding: 0 0 0 0;\n",
              "      width: 32px;\n",
              "    }\n",
              "\n",
              "    .colab-df-convert:hover {\n",
              "      background-color: #E2EBFA;\n",
              "      box-shadow: 0px 1px 2px rgba(60, 64, 67, 0.3), 0px 1px 3px 1px rgba(60, 64, 67, 0.15);\n",
              "      fill: #174EA6;\n",
              "    }\n",
              "\n",
              "    [theme=dark] .colab-df-convert {\n",
              "      background-color: #3B4455;\n",
              "      fill: #D2E3FC;\n",
              "    }\n",
              "\n",
              "    [theme=dark] .colab-df-convert:hover {\n",
              "      background-color: #434B5C;\n",
              "      box-shadow: 0px 1px 3px 1px rgba(0, 0, 0, 0.15);\n",
              "      filter: drop-shadow(0px 1px 2px rgba(0, 0, 0, 0.3));\n",
              "      fill: #FFFFFF;\n",
              "    }\n",
              "  </style>\n",
              "\n",
              "      <script>\n",
              "        const buttonEl =\n",
              "          document.querySelector('#df-bdbf89ff-3290-4f27-ac21-aba8b3c69b1f button.colab-df-convert');\n",
              "        buttonEl.style.display =\n",
              "          google.colab.kernel.accessAllowed ? 'block' : 'none';\n",
              "\n",
              "        async function convertToInteractive(key) {\n",
              "          const element = document.querySelector('#df-bdbf89ff-3290-4f27-ac21-aba8b3c69b1f');\n",
              "          const dataTable =\n",
              "            await google.colab.kernel.invokeFunction('convertToInteractive',\n",
              "                                                     [key], {});\n",
              "          if (!dataTable) return;\n",
              "\n",
              "          const docLinkHtml = 'Like what you see? Visit the ' +\n",
              "            '<a target=\"_blank\" href=https://colab.research.google.com/notebooks/data_table.ipynb>data table notebook</a>'\n",
              "            + ' to learn more about interactive tables.';\n",
              "          element.innerHTML = '';\n",
              "          dataTable['output_type'] = 'display_data';\n",
              "          await google.colab.output.renderOutput(dataTable, element);\n",
              "          const docLink = document.createElement('div');\n",
              "          docLink.innerHTML = docLinkHtml;\n",
              "          element.appendChild(docLink);\n",
              "        }\n",
              "      </script>\n",
              "    </div>\n",
              "  </div>\n",
              "  "
            ]
          },
          "metadata": {},
          "execution_count": 630
        }
      ]
    },
    {
      "cell_type": "markdown",
      "source": [
        "**Her bir gözlemimizin ait olduğu küme değerleri 0'dan 5'e değil de 1'den 6'ya şeklinde yapalım.**"
      ],
      "metadata": {
        "id": "C7IhMWnlKQ3u"
      }
    },
    {
      "cell_type": "code",
      "source": [
        "km_segment_df[\"cluster\"] = km_segment_df[\"cluster\"] + 1"
      ],
      "metadata": {
        "id": "G0MuSpOYTLgQ"
      },
      "execution_count": 631,
      "outputs": []
    },
    {
      "cell_type": "markdown",
      "source": [
        "**Her bir gözlemimizin hangi kümeye ait olduğunu görmek istersek:**"
      ],
      "metadata": {
        "id": "CG9vPH--LS-Q"
      }
    },
    {
      "cell_type": "code",
      "source": [
        "for col in range(1, 7):\n",
        "  print(km_segment_df[km_segment_df[\"cluster\"] == col].head())\n",
        "  print()"
      ],
      "metadata": {
        "id": "jM9DYuT4TLdu",
        "colab": {
          "base_uri": "https://localhost:8080/"
        },
        "outputId": "8f96a482-2b7f-46c1-dcea-f25293117b17"
      },
      "execution_count": 632,
      "outputs": [
        {
          "output_type": "stream",
          "name": "stdout",
          "text": [
            "                               master_id order_channel last_order_channel first_order_date last_order_date last_order_date_online last_order_date_offline  order_num_total_ever_online  order_num_total_ever_offline  customer_value_total_ever_offline  customer_value_total_ever_online       interested_in_categories_12  cluster\n",
            "1   f431bd5a-ab7b-11e9-a2fc-000d3a38a36f   Android App             Mobile       2017-02-08      2021-02-16             2021-02-16              2020-01-10                       19.000                         2.000                            159.970                         1,853.580  [ERKEK, COCUK, KADIN, AKTIFSPOR]        1\n",
            "4   d6ea1074-f1f5-11e9-9346-000d3a38a36f       Desktop            Desktop       2019-08-03      2021-03-07             2021-03-07              2019-08-03                        1.000                         1.000                             49.990                           159.990                       [AKTIFSPOR]        1\n",
            "8   cfbda69e-5b4f-11ea-aca7-000d3a38a36f   Android App        Android App       2020-01-23      2021-03-07             2021-03-07              2020-01-25                        3.000                         2.000                            120.480                           934.210             [ERKEK, COCUK, KADIN]        1\n",
            "14  241f0ad0-afb5-11e9-9757-000d3a38a36f       Ios App            Ios App       2018-12-28      2021-05-30             2021-05-30              2019-10-20                       23.000                         1.000                            139.000                         4,274.290                [ERKEK, AKTIFSPOR]        1\n",
            "30  1618f596-130a-11ea-a001-000d3a38a36f   Android App        Android App       2019-03-02      2021-04-11             2021-04-11              2019-03-16                        2.000                         3.000                            399.950                           432.870                       [AKTIFSPOR]        1\n",
            "\n",
            "                               master_id order_channel last_order_channel first_order_date last_order_date last_order_date_online last_order_date_offline  order_num_total_ever_online  order_num_total_ever_offline  customer_value_total_ever_offline  customer_value_total_ever_online     interested_in_categories_12  cluster\n",
            "0   cc294636-19f0-11eb-8d74-000d3a38a36f   Android App            Offline       2020-10-30      2021-02-26             2021-02-21              2021-02-26                        4.000                         1.000                            139.990                           799.380                         [KADIN]        2\n",
            "5   e585280e-aae1-11e9-a2fc-000d3a38a36f       Desktop            Offline       2018-11-18      2021-03-13             2018-11-18              2021-03-13                        1.000                         2.000                            150.870                            49.990                         [KADIN]        2\n",
            "11  c2e15af2-9eed-11e9-9897-000d3a38a36f   Android App        Android App       2015-07-05      2021-05-19             2021-05-19              2020-07-10                       19.000                         1.000                             90.490                         2,771.110       [COCUK, KADIN, AKTIFSPOR]        2\n",
            "12  2854f11a-0185-11ea-a5e8-000d3a38a36f        Mobile            Offline       2019-11-07      2021-04-14             2020-11-02              2021-04-14                        2.000                         2.000                            179.980                           132.470              [ERKEK, AKTIFSPOR]        2\n",
            "18  1ee5ae66-7237-11eb-aa44-000d3a38a36f   Android App        Android App       2021-02-17      2021-04-11             2021-04-11              2021-02-17                        1.000                         1.000                             59.990                           207.130  [AKTIFCOCUK, COCUK, AKTIFSPOR]        2\n",
            "\n",
            "                               master_id order_channel last_order_channel first_order_date last_order_date last_order_date_online last_order_date_offline  order_num_total_ever_online  order_num_total_ever_offline  customer_value_total_ever_offline  customer_value_total_ever_online interested_in_categories_12  cluster\n",
            "7   3f1b4dc8-8a7d-11ea-8ec0-000d3a38a36f        Mobile            Offline       2020-05-15      2020-08-12             2020-05-15              2020-08-12                        1.000                         1.000                             49.990                           113.640                     [COCUK]        3\n",
            "10  ae608ece-c9d8-11ea-a31e-000d3a38a36f       Ios App            Offline       2020-07-19      2020-07-25             2020-07-19              2020-07-25                        1.000                         1.000                             74.990                            39.990  [AKTIFCOCUK, COCUK, KADIN]        3\n",
            "15  13ed97a4-b167-11e9-89fa-000d3a38a36f        Mobile            Desktop       2019-06-13      2020-08-17             2020-08-17              2020-07-28                        7.000                         1.000                            112.970                           819.390  [AKTIFCOCUK, COCUK, KADIN]        3\n",
            "19  2730793e-3908-11ea-85d6-000d3a38a36f        Mobile             Mobile       2019-07-29      2020-06-19             2020-06-19              2019-07-29                        1.000                         1.000                             34.990                           279.990                     [ERKEK]        3\n",
            "22  1a9b39d8-40ac-11ea-9be8-000d3a38a36f   Android App        Android App       2019-11-17      2020-05-31             2020-05-31              2019-11-17                        1.000                         1.000                            119.980                            99.990                     [KADIN]        3\n",
            "\n",
            "                               master_id order_channel last_order_channel first_order_date last_order_date last_order_date_online last_order_date_offline  order_num_total_ever_online  order_num_total_ever_offline  customer_value_total_ever_offline  customer_value_total_ever_online interested_in_categories_12  cluster\n",
            "3   1854e56c-491f-11eb-806e-000d3a38a36f   Android App        Android App       2021-01-06      2021-01-17             2021-01-17              2021-01-06                        1.000                         1.000                             39.990                            81.980         [AKTIFCOCUK, COCUK]        4\n",
            "16  d9b77226-a509-11e9-a2fc-000d3a38a36f        Mobile            Offline       2019-02-03      2020-11-11             2019-02-03              2020-11-11                        1.000                         4.000                            400.450                            94.800                     [COCUK]        4\n",
            "21  7b289956-d691-11e9-93bc-000d3a38a36f   Android App            Offline       2019-08-28      2020-11-26             2020-05-17              2020-11-26                        1.000                         2.000                            495.690                           234.980              [ERKEK, KADIN]        4\n",
            "23  4fbb0cbe-9085-11ea-af25-000d3a38a36f   Android App            Offline       2020-05-11      2021-01-29             2020-05-11              2021-01-29                        1.000                         1.000                            172.970                            69.480              [COCUK, KADIN]        4\n",
            "25  6ff327d4-b0e1-11e9-9757-000d3a38a36f   Android App            Offline       2020-02-04      2021-01-19             2020-10-23              2021-01-19                        1.000                         2.000                            243.460                           103.990                     [KADIN]        4\n",
            "\n",
            "                                master_id order_channel last_order_channel first_order_date last_order_date last_order_date_online last_order_date_offline  order_num_total_ever_online  order_num_total_ever_offline  customer_value_total_ever_offline  customer_value_total_ever_online            interested_in_categories_12  cluster\n",
            "64   15fa60d6-9eb1-11e9-9897-000d3a38a36f        Mobile            Offline       2016-03-17      2021-02-02             2016-03-17              2021-02-02                        1.000                         3.000                            320.850                            43.190  [AKTIFCOCUK, COCUK, KADIN, AKTIFSPOR]        5\n",
            "94   4e24ed86-9e9e-11e9-9897-000d3a38a36f       Desktop            Offline       2016-06-24      2021-05-28             2016-06-24              2021-05-28                        1.000                         3.000                            395.950                           119.990                     [ERKEK, AKTIFSPOR]        5\n",
            "99   9c328802-a6ce-11e9-a2fc-000d3a38a36f       Desktop            Offline       2014-06-28      2021-04-09             2014-06-28              2021-04-09                        1.000                         2.000                            690.780                           154.990                                     []        5\n",
            "104  861090c6-a923-11e9-a2fc-000d3a38a36f       Desktop            Offline       2016-09-22      2021-01-13             2016-09-22              2021-01-13                        1.000                         1.000                            799.990                           279.000                                     []        5\n",
            "134  6817921c-a96a-11e9-a2fc-000d3a38a36f       Desktop            Offline       2015-12-25      2021-05-21             2017-02-02              2021-05-21                        5.000                         3.000                             98.910                           343.020                                [COCUK]        5\n",
            "\n",
            "                               master_id order_channel last_order_channel first_order_date last_order_date last_order_date_online last_order_date_offline  order_num_total_ever_online  order_num_total_ever_offline  customer_value_total_ever_offline  customer_value_total_ever_online interested_in_categories_12  cluster\n",
            "2   69b69676-1a40-11ea-941b-000d3a38a36f   Android App        Android App       2019-11-27      2020-11-27             2020-11-27              2019-12-01                        3.000                         2.000                            189.970                           395.350              [ERKEK, KADIN]        6\n",
            "6   c445e4ee-6242-11ea-9d1a-000d3a38a36f   Android App        Android App       2020-03-04      2020-10-18             2020-10-18              2020-03-04                        3.000                         1.000                             59.990                           315.940                 [AKTIFSPOR]        6\n",
            "9   1143f032-440d-11ea-8b43-000d3a38a36f        Mobile             Mobile       2019-07-30      2020-10-04             2020-10-04              2019-07-30                        1.000                         1.000                             69.980                            95.980          [KADIN, AKTIFSPOR]        6\n",
            "13  ec6c382a-3e97-11ea-a823-000d3a38a36f   Android App        Android App       2019-07-14      2021-01-05             2021-01-05              2019-09-20                        1.000                         3.000                            457.800                            99.990                 [AKTIFSPOR]        6\n",
            "17  efb82ba4-aaba-11e9-a2fc-000d3a38a36f       Ios App            Ios App       2019-07-10      2021-01-20             2021-01-20              2019-07-10                        2.000                         2.000                            428.970                           459.890          [ERKEK, AKTIFSPOR]        6\n",
            "\n"
          ]
        }
      ]
    },
    {
      "cell_type": "markdown",
      "source": [
        "### **Adım 4:** Herbir segmenti istatistiksel olarak inceleyeniz."
      ],
      "metadata": {
        "id": "pYuXf19tLiCU"
      }
    },
    {
      "cell_type": "markdown",
      "source": [
        "**Her bir küme etiketine göre değişkenlerimizi gruplayıp ortalama, içerisinde kaç veri olduğunu ve medyan gibi istatisitksel değerlere erişelim.**"
      ],
      "metadata": {
        "id": "Jp4O3UKkGx3-"
      }
    },
    {
      "cell_type": "code",
      "source": [
        "km_segment_df.groupby(\"cluster\").agg([\"count\", \"mean\", \"median\"])"
      ],
      "metadata": {
        "colab": {
          "base_uri": "https://localhost:8080/",
          "height": 0
        },
        "id": "oSJA9JjHLzJ_",
        "outputId": "519da65c-6409-4a7e-cc5c-46628a3fed21"
      },
      "execution_count": 633,
      "outputs": [
        {
          "output_type": "execute_result",
          "data": {
            "text/plain": [
              "        order_num_total_ever_online              order_num_total_ever_offline              customer_value_total_ever_offline                 customer_value_total_ever_online                \n",
              "                              count  mean median                        count  mean median                             count    mean  median                            count    mean  median\n",
              "cluster                                                                                                                                                                                      \n",
              "1                              4690 3.941  2.000                         4690 1.560  1.000                              4690 184.042 139.950                             4690 645.309 393.200\n",
              "2                              5135 3.211  2.000                         5135 2.429  2.000                              5135 350.112 259.970                             5135 534.812 289.970\n",
              "3                              2752 2.421  1.500                         2752 1.785  1.000                              2752 224.171 159.895                             2752 368.834 234.975\n",
              "4                              2862 2.616  2.000                         2862 2.171  2.000                              2862 302.607 227.480                             2862 406.793 256.205\n",
              "5                               928 1.725  1.000                          928 2.128  2.000                               928 316.062 230.975                              928 174.042 119.990\n",
              "6                              3578 3.164  2.000                         3578 1.476  1.000                              3578 175.298 129.990                             3578 504.624 308.490"
            ],
            "text/html": [
              "\n",
              "  <div id=\"df-d49a5d5c-a5be-42ac-9bda-b8f83cb76c69\">\n",
              "    <div class=\"colab-df-container\">\n",
              "      <div>\n",
              "<style scoped>\n",
              "    .dataframe tbody tr th:only-of-type {\n",
              "        vertical-align: middle;\n",
              "    }\n",
              "\n",
              "    .dataframe tbody tr th {\n",
              "        vertical-align: top;\n",
              "    }\n",
              "\n",
              "    .dataframe thead tr th {\n",
              "        text-align: left;\n",
              "    }\n",
              "\n",
              "    .dataframe thead tr:last-of-type th {\n",
              "        text-align: right;\n",
              "    }\n",
              "</style>\n",
              "<table border=\"1\" class=\"dataframe\">\n",
              "  <thead>\n",
              "    <tr>\n",
              "      <th></th>\n",
              "      <th colspan=\"3\" halign=\"left\">order_num_total_ever_online</th>\n",
              "      <th colspan=\"3\" halign=\"left\">order_num_total_ever_offline</th>\n",
              "      <th colspan=\"3\" halign=\"left\">customer_value_total_ever_offline</th>\n",
              "      <th colspan=\"3\" halign=\"left\">customer_value_total_ever_online</th>\n",
              "    </tr>\n",
              "    <tr>\n",
              "      <th></th>\n",
              "      <th>count</th>\n",
              "      <th>mean</th>\n",
              "      <th>median</th>\n",
              "      <th>count</th>\n",
              "      <th>mean</th>\n",
              "      <th>median</th>\n",
              "      <th>count</th>\n",
              "      <th>mean</th>\n",
              "      <th>median</th>\n",
              "      <th>count</th>\n",
              "      <th>mean</th>\n",
              "      <th>median</th>\n",
              "    </tr>\n",
              "    <tr>\n",
              "      <th>cluster</th>\n",
              "      <th></th>\n",
              "      <th></th>\n",
              "      <th></th>\n",
              "      <th></th>\n",
              "      <th></th>\n",
              "      <th></th>\n",
              "      <th></th>\n",
              "      <th></th>\n",
              "      <th></th>\n",
              "      <th></th>\n",
              "      <th></th>\n",
              "      <th></th>\n",
              "    </tr>\n",
              "  </thead>\n",
              "  <tbody>\n",
              "    <tr>\n",
              "      <th>1</th>\n",
              "      <td>4690</td>\n",
              "      <td>3.941</td>\n",
              "      <td>2.000</td>\n",
              "      <td>4690</td>\n",
              "      <td>1.560</td>\n",
              "      <td>1.000</td>\n",
              "      <td>4690</td>\n",
              "      <td>184.042</td>\n",
              "      <td>139.950</td>\n",
              "      <td>4690</td>\n",
              "      <td>645.309</td>\n",
              "      <td>393.200</td>\n",
              "    </tr>\n",
              "    <tr>\n",
              "      <th>2</th>\n",
              "      <td>5135</td>\n",
              "      <td>3.211</td>\n",
              "      <td>2.000</td>\n",
              "      <td>5135</td>\n",
              "      <td>2.429</td>\n",
              "      <td>2.000</td>\n",
              "      <td>5135</td>\n",
              "      <td>350.112</td>\n",
              "      <td>259.970</td>\n",
              "      <td>5135</td>\n",
              "      <td>534.812</td>\n",
              "      <td>289.970</td>\n",
              "    </tr>\n",
              "    <tr>\n",
              "      <th>3</th>\n",
              "      <td>2752</td>\n",
              "      <td>2.421</td>\n",
              "      <td>1.500</td>\n",
              "      <td>2752</td>\n",
              "      <td>1.785</td>\n",
              "      <td>1.000</td>\n",
              "      <td>2752</td>\n",
              "      <td>224.171</td>\n",
              "      <td>159.895</td>\n",
              "      <td>2752</td>\n",
              "      <td>368.834</td>\n",
              "      <td>234.975</td>\n",
              "    </tr>\n",
              "    <tr>\n",
              "      <th>4</th>\n",
              "      <td>2862</td>\n",
              "      <td>2.616</td>\n",
              "      <td>2.000</td>\n",
              "      <td>2862</td>\n",
              "      <td>2.171</td>\n",
              "      <td>2.000</td>\n",
              "      <td>2862</td>\n",
              "      <td>302.607</td>\n",
              "      <td>227.480</td>\n",
              "      <td>2862</td>\n",
              "      <td>406.793</td>\n",
              "      <td>256.205</td>\n",
              "    </tr>\n",
              "    <tr>\n",
              "      <th>5</th>\n",
              "      <td>928</td>\n",
              "      <td>1.725</td>\n",
              "      <td>1.000</td>\n",
              "      <td>928</td>\n",
              "      <td>2.128</td>\n",
              "      <td>2.000</td>\n",
              "      <td>928</td>\n",
              "      <td>316.062</td>\n",
              "      <td>230.975</td>\n",
              "      <td>928</td>\n",
              "      <td>174.042</td>\n",
              "      <td>119.990</td>\n",
              "    </tr>\n",
              "    <tr>\n",
              "      <th>6</th>\n",
              "      <td>3578</td>\n",
              "      <td>3.164</td>\n",
              "      <td>2.000</td>\n",
              "      <td>3578</td>\n",
              "      <td>1.476</td>\n",
              "      <td>1.000</td>\n",
              "      <td>3578</td>\n",
              "      <td>175.298</td>\n",
              "      <td>129.990</td>\n",
              "      <td>3578</td>\n",
              "      <td>504.624</td>\n",
              "      <td>308.490</td>\n",
              "    </tr>\n",
              "  </tbody>\n",
              "</table>\n",
              "</div>\n",
              "      <button class=\"colab-df-convert\" onclick=\"convertToInteractive('df-d49a5d5c-a5be-42ac-9bda-b8f83cb76c69')\"\n",
              "              title=\"Convert this dataframe to an interactive table.\"\n",
              "              style=\"display:none;\">\n",
              "        \n",
              "  <svg xmlns=\"http://www.w3.org/2000/svg\" height=\"24px\"viewBox=\"0 0 24 24\"\n",
              "       width=\"24px\">\n",
              "    <path d=\"M0 0h24v24H0V0z\" fill=\"none\"/>\n",
              "    <path d=\"M18.56 5.44l.94 2.06.94-2.06 2.06-.94-2.06-.94-.94-2.06-.94 2.06-2.06.94zm-11 1L8.5 8.5l.94-2.06 2.06-.94-2.06-.94L8.5 2.5l-.94 2.06-2.06.94zm10 10l.94 2.06.94-2.06 2.06-.94-2.06-.94-.94-2.06-.94 2.06-2.06.94z\"/><path d=\"M17.41 7.96l-1.37-1.37c-.4-.4-.92-.59-1.43-.59-.52 0-1.04.2-1.43.59L10.3 9.45l-7.72 7.72c-.78.78-.78 2.05 0 2.83L4 21.41c.39.39.9.59 1.41.59.51 0 1.02-.2 1.41-.59l7.78-7.78 2.81-2.81c.8-.78.8-2.07 0-2.86zM5.41 20L4 18.59l7.72-7.72 1.47 1.35L5.41 20z\"/>\n",
              "  </svg>\n",
              "      </button>\n",
              "      \n",
              "  <style>\n",
              "    .colab-df-container {\n",
              "      display:flex;\n",
              "      flex-wrap:wrap;\n",
              "      gap: 12px;\n",
              "    }\n",
              "\n",
              "    .colab-df-convert {\n",
              "      background-color: #E8F0FE;\n",
              "      border: none;\n",
              "      border-radius: 50%;\n",
              "      cursor: pointer;\n",
              "      display: none;\n",
              "      fill: #1967D2;\n",
              "      height: 32px;\n",
              "      padding: 0 0 0 0;\n",
              "      width: 32px;\n",
              "    }\n",
              "\n",
              "    .colab-df-convert:hover {\n",
              "      background-color: #E2EBFA;\n",
              "      box-shadow: 0px 1px 2px rgba(60, 64, 67, 0.3), 0px 1px 3px 1px rgba(60, 64, 67, 0.15);\n",
              "      fill: #174EA6;\n",
              "    }\n",
              "\n",
              "    [theme=dark] .colab-df-convert {\n",
              "      background-color: #3B4455;\n",
              "      fill: #D2E3FC;\n",
              "    }\n",
              "\n",
              "    [theme=dark] .colab-df-convert:hover {\n",
              "      background-color: #434B5C;\n",
              "      box-shadow: 0px 1px 3px 1px rgba(0, 0, 0, 0.15);\n",
              "      filter: drop-shadow(0px 1px 2px rgba(0, 0, 0, 0.3));\n",
              "      fill: #FFFFFF;\n",
              "    }\n",
              "  </style>\n",
              "\n",
              "      <script>\n",
              "        const buttonEl =\n",
              "          document.querySelector('#df-d49a5d5c-a5be-42ac-9bda-b8f83cb76c69 button.colab-df-convert');\n",
              "        buttonEl.style.display =\n",
              "          google.colab.kernel.accessAllowed ? 'block' : 'none';\n",
              "\n",
              "        async function convertToInteractive(key) {\n",
              "          const element = document.querySelector('#df-d49a5d5c-a5be-42ac-9bda-b8f83cb76c69');\n",
              "          const dataTable =\n",
              "            await google.colab.kernel.invokeFunction('convertToInteractive',\n",
              "                                                     [key], {});\n",
              "          if (!dataTable) return;\n",
              "\n",
              "          const docLinkHtml = 'Like what you see? Visit the ' +\n",
              "            '<a target=\"_blank\" href=https://colab.research.google.com/notebooks/data_table.ipynb>data table notebook</a>'\n",
              "            + ' to learn more about interactive tables.';\n",
              "          element.innerHTML = '';\n",
              "          dataTable['output_type'] = 'display_data';\n",
              "          await google.colab.output.renderOutput(dataTable, element);\n",
              "          const docLink = document.createElement('div');\n",
              "          docLink.innerHTML = docLinkHtml;\n",
              "          element.appendChild(docLink);\n",
              "        }\n",
              "      </script>\n",
              "    </div>\n",
              "  </div>\n",
              "  "
            ]
          },
          "metadata": {},
          "execution_count": 633
        }
      ]
    },
    {
      "cell_type": "markdown",
      "source": [
        "**Küme 1:** \n",
        "* Birinci kümeye ait 2748 müşterimiz bulunmakta.\n",
        "* Ortalama yaklaşık 2.4 sipariş online, 1.7 sipariş offline olarak verildiği görülmekte.\n",
        "* Ortalama olarak yaklaşık 224 para birimi offline, 369 para birimi online olarak alışveriş yapıldığı görülmekte.\n",
        "* Diğer kümeler de benzer şekilde ilerlemektedir.\n",
        "\n",
        "**Küme 2:** \n",
        "* İkinci kümeye ait 4701 müşterimiz bulunmakta.\n",
        "* Ortalama yaklaşık 4 sipariş online, 1.5 sipariş offline olarak verildiği görülmekte.\n",
        "* Ortalama olarak yaklaşık 183.95 para birimi offline, 644.27 para birimi online olarak alışveriş yapıldığı görülmekte.\n",
        "* Diğer kümeler de benzer şekilde ilerlemektedir.\n",
        "\n",
        "**Küme 3:** \n",
        "* Üçüncü kümeye ait 5136 müşterimiz bulunmakta.\n",
        "* Ortalama yaklaşık 3.21 sipariş online, 2.42 sipariş offline olarak verildiği görülmekte.\n",
        "* Ortalama olarak yaklaşık 350.11 para birimi offline, 534.89 para birimi online olarak alışveriş yapıldığı görülmekte.\n",
        "* Diğer kümeler de benzer şekilde ilerlemektedir.\n",
        "\n",
        "**Küme 4:** \n",
        "* Dördüncü kümeye ait 3571 müşterimiz bulunmakta.\n",
        "* Ortalama yaklaşık 3.16 sipariş online, 1.47 sipariş offline olarak verildiği görülmekte.\n",
        "* Ortalama olarak yaklaşık 175.41 para birimi offline, 505.21 para birimi online olarak alışveriş yapıldığı görülmekte.\n",
        "* Diğer kümeler de benzer şekilde ilerlemektedir.\n",
        "\n",
        "**Küme 5:** \n",
        "* Beşinci kümeye ait 2860 müşterimiz bulunmakta.\n",
        "* Ortalama yaklaşık 2.61 sipariş online, 2.17 sipariş offline olarak verildiği görülmekte.\n",
        "* Ortalama olarak yaklaşık 302.70 para birimi offline, 406.71 para birimi online olarak alışveriş yapıldığı görülmekte.\n",
        "- Diğer kümeler de benzer şekilde ilerlemektedir.\n",
        "\n",
        "**Küme 6:** \n",
        "* Altıncı kümeye ait 929 müşterimiz bulunmakta.\n",
        "* Ortalama yaklaşık 1.72 sipariş online, 2.12 sipariş offline olarak verildiği görülmekte.\n",
        "* Ortalama olarak yaklaşık 315.77 para birimi offline, 174.07 para birimi online olarak alışveriş yapıldığı görülmekte.\n",
        "\n",
        "---\n",
        "\n",
        "* Şuan altı kümeye ayırdık vebu bizim için optimum küme sayısı olmuş oldu.\n",
        "* Ama burda sadece algoritmaların verdiği sonuçlara bakmak yerine kendimiz ihtiyaçlarımıza göre müdahele etmemiz gerekebilir.\n",
        "* Örneğin Türkiye'de her ilde mağazamız var ve bu mağazalara teftişe gitmedini istediğimiz ekibimiz var. \n",
        "* Her ile bir kişi göndermek istemek (81 kişi demek oluyor) bu altından kalkılamayacak maliyetlere yol açabilir. \n",
        "* Yani burda birçok farklı açıdan en iyi kararı veriyor olmamız gerekiyor.\n",
        "* O halde şunu diyebiliriz: Coğrafi olarak bölgelere ayırıpp o bölgelere teftiş için personel gönderelim. \n",
        "* Yani yedi personel bizim için yeterli.\n",
        "* Burda başka bir problem ortaya çıkabilir: Bir bölge de ortalama 5 mağazamız varken diğer bölge de ise 20 mağaza olabilir. \n",
        "* Bu durumda da bölgelere ayırdığımızda her bölgeye düşen mağaza sayısını (yani bizim projemiz için müşteri sayısı) dengelememiz gerekiyor.\n",
        "* Bizim projemize odaklanalım.\n",
        "\n",
        "---\n",
        "\n",
        "* Altı kümeye ayırdık, bu küme sayısını programatik olarak hatalarımızı min. yapan optimum küme sayısı olarak bulundu.\n",
        "* Biz burda ortalama değerleri açısından her bir kümenin içindeki her bir değişkenin diğer kümelerdeki ortalama değerler arasındaki farkın min. olduğu noktalarda birleştirme yapabiliriz.\n",
        "* Yani ihtiyaçlarımıza göre altı kümeyi beş kümeye, dört kümeye düşürebiliriz.3. ve 4. kümenin ortalama değerlerine odaklandığımız da dört değişken de iki değişkenin ortalama değerleri birbirine oldukça yakın olduğunu yani bu  iki kümeyi birleştirebileceğimiz anlamına geliyor.\n",
        "\n",
        "---\n",
        "\n",
        "* Aynı şekilde 1. ve 5. kümelere odaklanalım. İçerisinde yer alan dört değişkenin üçününün ortalama değerleri birbirine oldukça yakın. Bundan dolayı bu iki kümeyi birleştirip bir küme haline getirebiliriz."
      ],
      "metadata": {
        "id": "mUpKHewAMZwe"
      }
    },
    {
      "cell_type": "markdown",
      "source": [
        "## **Görev 3:  Hierarchical Clustering ile Müşteri Segmentasyonu**"
      ],
      "metadata": {
        "id": "aNmDSZN7Rd0I"
      }
    },
    {
      "cell_type": "markdown",
      "source": [
        "### **Adım 1:** Görev 2'de standırlaştırdığınız dataframe'i kullanarak optimum küme sayısını belirleyiniz."
      ],
      "metadata": {
        "id": "bRwGFCDlfJya"
      }
    },
    {
      "cell_type": "markdown",
      "source": [
        "**Agglomaerative Birleştirici yöntemini kullanarak Hiyerarşik Kümeleme gerçekleştirelim.**"
      ],
      "metadata": {
        "id": "FHu6FMlnimG3"
      }
    },
    {
      "cell_type": "code",
      "source": [
        "df.head()"
      ],
      "metadata": {
        "colab": {
          "base_uri": "https://localhost:8080/",
          "height": 0
        },
        "id": "ruzIRv8zWObm",
        "outputId": "920ad99c-131c-49bd-9db4-723745a0437a"
      },
      "execution_count": 634,
      "outputs": [
        {
          "output_type": "execute_result",
          "data": {
            "text/plain": [
              "   ORDER_NUM_TOTAL_EVER_ONLINE  ORDER_NUM_TOTAL_EVER_OFFLINE  CUSTOMER_VALUE_TOTAL_EVER_OFFLINE  CUSTOMER_VALUE_TOTAL_EVER_ONLINE  NEW_RECENCY  NEW_RECENCY_ONLINE  NEW_RECENCY_OFLINE  NEW_ORDER_NUM_TOTAL_EVER  NEW_CUSTOMER_VALUE_TOTAL_EVER\n",
              "0                        0.015                         0.000                              0.007                             0.017        0.255               0.037               0.106                     0.015                          0.020\n",
              "1                        0.090                         0.009                              0.008                             0.041        0.282               0.039               0.588                     0.095                          0.043\n",
              "2                        0.010                         0.009                              0.010                             0.008        0.504               0.069               0.635                     0.015                          0.012\n",
              "3                        0.000                         0.000                              0.002                             0.002        0.364               0.050               0.166                     0.000                          0.002\n",
              "4                        0.000                         0.000                              0.002                             0.003        0.230               0.032               0.775                     0.000                          0.004"
            ],
            "text/html": [
              "\n",
              "  <div id=\"df-6b17a645-7697-442c-b36c-3194188e5317\">\n",
              "    <div class=\"colab-df-container\">\n",
              "      <div>\n",
              "<style scoped>\n",
              "    .dataframe tbody tr th:only-of-type {\n",
              "        vertical-align: middle;\n",
              "    }\n",
              "\n",
              "    .dataframe tbody tr th {\n",
              "        vertical-align: top;\n",
              "    }\n",
              "\n",
              "    .dataframe thead th {\n",
              "        text-align: right;\n",
              "    }\n",
              "</style>\n",
              "<table border=\"1\" class=\"dataframe\">\n",
              "  <thead>\n",
              "    <tr style=\"text-align: right;\">\n",
              "      <th></th>\n",
              "      <th>ORDER_NUM_TOTAL_EVER_ONLINE</th>\n",
              "      <th>ORDER_NUM_TOTAL_EVER_OFFLINE</th>\n",
              "      <th>CUSTOMER_VALUE_TOTAL_EVER_OFFLINE</th>\n",
              "      <th>CUSTOMER_VALUE_TOTAL_EVER_ONLINE</th>\n",
              "      <th>NEW_RECENCY</th>\n",
              "      <th>NEW_RECENCY_ONLINE</th>\n",
              "      <th>NEW_RECENCY_OFLINE</th>\n",
              "      <th>NEW_ORDER_NUM_TOTAL_EVER</th>\n",
              "      <th>NEW_CUSTOMER_VALUE_TOTAL_EVER</th>\n",
              "    </tr>\n",
              "  </thead>\n",
              "  <tbody>\n",
              "    <tr>\n",
              "      <th>0</th>\n",
              "      <td>0.015</td>\n",
              "      <td>0.000</td>\n",
              "      <td>0.007</td>\n",
              "      <td>0.017</td>\n",
              "      <td>0.255</td>\n",
              "      <td>0.037</td>\n",
              "      <td>0.106</td>\n",
              "      <td>0.015</td>\n",
              "      <td>0.020</td>\n",
              "    </tr>\n",
              "    <tr>\n",
              "      <th>1</th>\n",
              "      <td>0.090</td>\n",
              "      <td>0.009</td>\n",
              "      <td>0.008</td>\n",
              "      <td>0.041</td>\n",
              "      <td>0.282</td>\n",
              "      <td>0.039</td>\n",
              "      <td>0.588</td>\n",
              "      <td>0.095</td>\n",
              "      <td>0.043</td>\n",
              "    </tr>\n",
              "    <tr>\n",
              "      <th>2</th>\n",
              "      <td>0.010</td>\n",
              "      <td>0.009</td>\n",
              "      <td>0.010</td>\n",
              "      <td>0.008</td>\n",
              "      <td>0.504</td>\n",
              "      <td>0.069</td>\n",
              "      <td>0.635</td>\n",
              "      <td>0.015</td>\n",
              "      <td>0.012</td>\n",
              "    </tr>\n",
              "    <tr>\n",
              "      <th>3</th>\n",
              "      <td>0.000</td>\n",
              "      <td>0.000</td>\n",
              "      <td>0.002</td>\n",
              "      <td>0.002</td>\n",
              "      <td>0.364</td>\n",
              "      <td>0.050</td>\n",
              "      <td>0.166</td>\n",
              "      <td>0.000</td>\n",
              "      <td>0.002</td>\n",
              "    </tr>\n",
              "    <tr>\n",
              "      <th>4</th>\n",
              "      <td>0.000</td>\n",
              "      <td>0.000</td>\n",
              "      <td>0.002</td>\n",
              "      <td>0.003</td>\n",
              "      <td>0.230</td>\n",
              "      <td>0.032</td>\n",
              "      <td>0.775</td>\n",
              "      <td>0.000</td>\n",
              "      <td>0.004</td>\n",
              "    </tr>\n",
              "  </tbody>\n",
              "</table>\n",
              "</div>\n",
              "      <button class=\"colab-df-convert\" onclick=\"convertToInteractive('df-6b17a645-7697-442c-b36c-3194188e5317')\"\n",
              "              title=\"Convert this dataframe to an interactive table.\"\n",
              "              style=\"display:none;\">\n",
              "        \n",
              "  <svg xmlns=\"http://www.w3.org/2000/svg\" height=\"24px\"viewBox=\"0 0 24 24\"\n",
              "       width=\"24px\">\n",
              "    <path d=\"M0 0h24v24H0V0z\" fill=\"none\"/>\n",
              "    <path d=\"M18.56 5.44l.94 2.06.94-2.06 2.06-.94-2.06-.94-.94-2.06-.94 2.06-2.06.94zm-11 1L8.5 8.5l.94-2.06 2.06-.94-2.06-.94L8.5 2.5l-.94 2.06-2.06.94zm10 10l.94 2.06.94-2.06 2.06-.94-2.06-.94-.94-2.06-.94 2.06-2.06.94z\"/><path d=\"M17.41 7.96l-1.37-1.37c-.4-.4-.92-.59-1.43-.59-.52 0-1.04.2-1.43.59L10.3 9.45l-7.72 7.72c-.78.78-.78 2.05 0 2.83L4 21.41c.39.39.9.59 1.41.59.51 0 1.02-.2 1.41-.59l7.78-7.78 2.81-2.81c.8-.78.8-2.07 0-2.86zM5.41 20L4 18.59l7.72-7.72 1.47 1.35L5.41 20z\"/>\n",
              "  </svg>\n",
              "      </button>\n",
              "      \n",
              "  <style>\n",
              "    .colab-df-container {\n",
              "      display:flex;\n",
              "      flex-wrap:wrap;\n",
              "      gap: 12px;\n",
              "    }\n",
              "\n",
              "    .colab-df-convert {\n",
              "      background-color: #E8F0FE;\n",
              "      border: none;\n",
              "      border-radius: 50%;\n",
              "      cursor: pointer;\n",
              "      display: none;\n",
              "      fill: #1967D2;\n",
              "      height: 32px;\n",
              "      padding: 0 0 0 0;\n",
              "      width: 32px;\n",
              "    }\n",
              "\n",
              "    .colab-df-convert:hover {\n",
              "      background-color: #E2EBFA;\n",
              "      box-shadow: 0px 1px 2px rgba(60, 64, 67, 0.3), 0px 1px 3px 1px rgba(60, 64, 67, 0.15);\n",
              "      fill: #174EA6;\n",
              "    }\n",
              "\n",
              "    [theme=dark] .colab-df-convert {\n",
              "      background-color: #3B4455;\n",
              "      fill: #D2E3FC;\n",
              "    }\n",
              "\n",
              "    [theme=dark] .colab-df-convert:hover {\n",
              "      background-color: #434B5C;\n",
              "      box-shadow: 0px 1px 3px 1px rgba(0, 0, 0, 0.15);\n",
              "      filter: drop-shadow(0px 1px 2px rgba(0, 0, 0, 0.3));\n",
              "      fill: #FFFFFF;\n",
              "    }\n",
              "  </style>\n",
              "\n",
              "      <script>\n",
              "        const buttonEl =\n",
              "          document.querySelector('#df-6b17a645-7697-442c-b36c-3194188e5317 button.colab-df-convert');\n",
              "        buttonEl.style.display =\n",
              "          google.colab.kernel.accessAllowed ? 'block' : 'none';\n",
              "\n",
              "        async function convertToInteractive(key) {\n",
              "          const element = document.querySelector('#df-6b17a645-7697-442c-b36c-3194188e5317');\n",
              "          const dataTable =\n",
              "            await google.colab.kernel.invokeFunction('convertToInteractive',\n",
              "                                                     [key], {});\n",
              "          if (!dataTable) return;\n",
              "\n",
              "          const docLinkHtml = 'Like what you see? Visit the ' +\n",
              "            '<a target=\"_blank\" href=https://colab.research.google.com/notebooks/data_table.ipynb>data table notebook</a>'\n",
              "            + ' to learn more about interactive tables.';\n",
              "          element.innerHTML = '';\n",
              "          dataTable['output_type'] = 'display_data';\n",
              "          await google.colab.output.renderOutput(dataTable, element);\n",
              "          const docLink = document.createElement('div');\n",
              "          docLink.innerHTML = docLinkHtml;\n",
              "          element.appendChild(docLink);\n",
              "        }\n",
              "      </script>\n",
              "    </div>\n",
              "  </div>\n",
              "  "
            ]
          },
          "metadata": {},
          "execution_count": 634
        }
      ]
    },
    {
      "cell_type": "code",
      "source": [
        "hc_average = linkage(df, \"average\")"
      ],
      "metadata": {
        "id": "LyrryiDLWOZG"
      },
      "execution_count": 635,
      "outputs": []
    },
    {
      "cell_type": "markdown",
      "source": [
        "**Dendogram şeması oluşturalım ve bu şemayı inceleyelim.**"
      ],
      "metadata": {
        "id": "oPjws65ym2ZN"
      }
    },
    {
      "cell_type": "code",
      "source": [
        "plt.figure(figsize=(10, 5))\n",
        "plt.title(\"Hiyerarşik Kümeleme Dendogramı\")\n",
        "plt.xlabel(\"Gözlem Birimleri\")\n",
        "plt.ylabel(\"Uzaklıklar\")\n",
        "dendrogram(hc_average,\n",
        "           leaf_font_size=10)\n",
        "plt.show()"
      ],
      "metadata": {
        "colab": {
          "base_uri": "https://localhost:8080/",
          "height": 0
        },
        "id": "kTrEfUVDWOWZ",
        "outputId": "8e576c8d-5ce4-44e7-daa7-a1146cf9c3e6"
      },
      "execution_count": 636,
      "outputs": [
        {
          "output_type": "display_data",
          "data": {
            "text/plain": [
              "<Figure size 720x360 with 1 Axes>"
            ],
            "image/png": "[encoded data removed]"
          },
          "metadata": {}
        }
      ]
    },
    {
      "cell_type": "markdown",
      "source": [
        "**Gözlem sayımız çok olduğu için dendogram şemasını anlamak biraz zor oldu.**\n",
        "\n",
        "**Daha az sayıda gözlem göreceğimiz şekilde küme sayısını 10'a düşürelim.**"
      ],
      "metadata": {
        "id": "ERR6aMiRm6Dq"
      }
    },
    {
      "cell_type": "code",
      "source": [
        "plt.figure(figsize=(10, 5))\n",
        "plt.title(\"Hiyerarşik Kümeleme Dendogramı\")\n",
        "plt.xlabel(\"Gözlem Birimleri\")\n",
        "plt.ylabel(\"Uzaklıklar\")\n",
        "dendrogram(hc_average,\n",
        "           truncate_mode = \"lastp\", #trancate modunu aktif etmiş olduk.\n",
        "           p=10,\n",
        "           show_contracted=True ,\n",
        "           leaf_font_size=10)\n",
        "plt.show()"
      ],
      "metadata": {
        "colab": {
          "base_uri": "https://localhost:8080/",
          "height": 0
        },
        "id": "NE-nvTfBWOT2",
        "outputId": "89016ba7-daf2-4fea-9f41-b3de47a036ae"
      },
      "execution_count": 637,
      "outputs": [
        {
          "output_type": "display_data",
          "data": {
            "text/plain": [
              "<Figure size 720x360 with 1 Axes>"
            ],
            "image/png": "[encoded data removed]"
          },
          "metadata": {}
        }
      ]
    },
    {
      "cell_type": "markdown",
      "source": [
        "**Optimum Küme Sayısını Belirleyelim.**"
      ],
      "metadata": {
        "id": "1JCrAVTlkKzY"
      }
    },
    {
      "cell_type": "code",
      "source": [
        "plt.figure(figsize=(7, 5))\n",
        "plt.title(\"Dendrograms\")\n",
        "dend = dendrogram(hc_average,\n",
        "                  truncate_mode= \"lastp\",\n",
        "                  p=10,\n",
        "                  show_contracted=True,\n",
        "                  leaf_font_size=10)\n",
        "plt.axhline(y=0.75, color='b', linestyle='--')\n",
        "plt.axhline(y=1.0, color='r', linestyle='--')\n",
        "plt.axhline(y=1.25, color='b', linestyle='--')\n",
        "plt.show()"
      ],
      "metadata": {
        "colab": {
          "base_uri": "https://localhost:8080/",
          "height": 0
        },
        "id": "88ZKTBDPWORY",
        "outputId": "488c7ff3-88f2-4c58-f9eb-7a206d3f7406"
      },
      "execution_count": 638,
      "outputs": [
        {
          "output_type": "display_data",
          "data": {
            "text/plain": [
              "<Figure size 504x360 with 1 Axes>"
            ],
            "image/png": "[encoded data removed]"
          },
          "metadata": {}
        }
      ]
    },
    {
      "cell_type": "markdown",
      "source": [
        "### **Adım 2:** Modelinizi oluşturunuz ve müşterileriniz segmentleyiniz."
      ],
      "metadata": {
        "id": "FiRNFS03lxFj"
      }
    },
    {
      "cell_type": "markdown",
      "source": [
        "**Final Modeli Oluşturalım**"
      ],
      "metadata": {
        "id": "7_ZLP85jlXVF"
      }
    },
    {
      "cell_type": "code",
      "source": [
        "from sklearn.cluster import AgglomerativeClustering"
      ],
      "metadata": {
        "id": "x0Zz6yxEkU8q"
      },
      "execution_count": 639,
      "outputs": []
    },
    {
      "cell_type": "code",
      "source": [
        "cluster = AgglomerativeClustering(n_clusters=6, linkage=\"average\")"
      ],
      "metadata": {
        "id": "-L8k3TTbkU5V"
      },
      "execution_count": 640,
      "outputs": []
    },
    {
      "cell_type": "code",
      "source": [
        "clusters = cluster.fit_predict(df)"
      ],
      "metadata": {
        "id": "mArq1ADHkU2o"
      },
      "execution_count": 641,
      "outputs": []
    },
    {
      "cell_type": "code",
      "source": [
        "hi_segment_df = pd.read_csv(\"/content/drive/MyDrive/Sıfırdan Başlayanlar İçin Veri Bilimi - miuul/Ödevler - Projeler miuul/3.Machine Learning/6.Proje: Flo Gözetimsiz Öğrenme ile Müşteri Segmentasyonu/flo_data_20k.csv/flo_data_20k.csv\")"
      ],
      "metadata": {
        "id": "dJ9TIDU_kUz1"
      },
      "execution_count": 642,
      "outputs": []
    },
    {
      "cell_type": "markdown",
      "source": [
        "**Oluşturduğu küme etiketlerini (labels) veri setine değişken olarak ekleyelim tıpkı bir denedimli öğrenme problemi gibi.**"
      ],
      "metadata": {
        "id": "iSoKE48TIa1e"
      }
    },
    {
      "cell_type": "code",
      "source": [
        "hi_segment_df[\"hi_cluster_no\"] = clusters"
      ],
      "metadata": {
        "id": "Yms11k9BkUxS"
      },
      "execution_count": 643,
      "outputs": []
    },
    {
      "cell_type": "code",
      "source": [
        "hi_segment_df.head()"
      ],
      "metadata": {
        "colab": {
          "base_uri": "https://localhost:8080/",
          "height": 0
        },
        "id": "4ezFk20yv7eh",
        "outputId": "24821069-55bc-44df-c349-b8a9e7f887e2"
      },
      "execution_count": 644,
      "outputs": [
        {
          "output_type": "execute_result",
          "data": {
            "text/plain": [
              "                              master_id order_channel last_order_channel first_order_date last_order_date last_order_date_online last_order_date_offline  order_num_total_ever_online  order_num_total_ever_offline  customer_value_total_ever_offline  customer_value_total_ever_online       interested_in_categories_12  hi_cluster_no\n",
              "0  cc294636-19f0-11eb-8d74-000d3a38a36f   Android App            Offline       2020-10-30      2021-02-26             2021-02-21              2021-02-26                        4.000                         1.000                            139.990                           799.380                           [KADIN]              0\n",
              "1  f431bd5a-ab7b-11e9-a2fc-000d3a38a36f   Android App             Mobile       2017-02-08      2021-02-16             2021-02-16              2020-01-10                       19.000                         2.000                            159.970                         1,853.580  [ERKEK, COCUK, KADIN, AKTIFSPOR]              0\n",
              "2  69b69676-1a40-11ea-941b-000d3a38a36f   Android App        Android App       2019-11-27      2020-11-27             2020-11-27              2019-12-01                        3.000                         2.000                            189.970                           395.350                    [ERKEK, KADIN]              0\n",
              "3  1854e56c-491f-11eb-806e-000d3a38a36f   Android App        Android App       2021-01-06      2021-01-17             2021-01-17              2021-01-06                        1.000                         1.000                             39.990                            81.980               [AKTIFCOCUK, COCUK]              0\n",
              "4  d6ea1074-f1f5-11e9-9346-000d3a38a36f       Desktop            Desktop       2019-08-03      2021-03-07             2021-03-07              2019-08-03                        1.000                         1.000                             49.990                           159.990                       [AKTIFSPOR]              0"
            ],
            "text/html": [
              "\n",
              "  <div id=\"df-de61e99d-f76d-4e14-b9a6-fcef3be6896b\">\n",
              "    <div class=\"colab-df-container\">\n",
              "      <div>\n",
              "<style scoped>\n",
              "    .dataframe tbody tr th:only-of-type {\n",
              "        vertical-align: middle;\n",
              "    }\n",
              "\n",
              "    .dataframe tbody tr th {\n",
              "        vertical-align: top;\n",
              "    }\n",
              "\n",
              "    .dataframe thead th {\n",
              "        text-align: right;\n",
              "    }\n",
              "</style>\n",
              "<table border=\"1\" class=\"dataframe\">\n",
              "  <thead>\n",
              "    <tr style=\"text-align: right;\">\n",
              "      <th></th>\n",
              "      <th>master_id</th>\n",
              "      <th>order_channel</th>\n",
              "      <th>last_order_channel</th>\n",
              "      <th>first_order_date</th>\n",
              "      <th>last_order_date</th>\n",
              "      <th>last_order_date_online</th>\n",
              "      <th>last_order_date_offline</th>\n",
              "      <th>order_num_total_ever_online</th>\n",
              "      <th>order_num_total_ever_offline</th>\n",
              "      <th>customer_value_total_ever_offline</th>\n",
              "      <th>customer_value_total_ever_online</th>\n",
              "      <th>interested_in_categories_12</th>\n",
              "      <th>hi_cluster_no</th>\n",
              "    </tr>\n",
              "  </thead>\n",
              "  <tbody>\n",
              "    <tr>\n",
              "      <th>0</th>\n",
              "      <td>cc294636-19f0-11eb-8d74-000d3a38a36f</td>\n",
              "      <td>Android App</td>\n",
              "      <td>Offline</td>\n",
              "      <td>2020-10-30</td>\n",
              "      <td>2021-02-26</td>\n",
              "      <td>2021-02-21</td>\n",
              "      <td>2021-02-26</td>\n",
              "      <td>4.000</td>\n",
              "      <td>1.000</td>\n",
              "      <td>139.990</td>\n",
              "      <td>799.380</td>\n",
              "      <td>[KADIN]</td>\n",
              "      <td>0</td>\n",
              "    </tr>\n",
              "    <tr>\n",
              "      <th>1</th>\n",
              "      <td>f431bd5a-ab7b-11e9-a2fc-000d3a38a36f</td>\n",
              "      <td>Android App</td>\n",
              "      <td>Mobile</td>\n",
              "      <td>2017-02-08</td>\n",
              "      <td>2021-02-16</td>\n",
              "      <td>2021-02-16</td>\n",
              "      <td>2020-01-10</td>\n",
              "      <td>19.000</td>\n",
              "      <td>2.000</td>\n",
              "      <td>159.970</td>\n",
              "      <td>1,853.580</td>\n",
              "      <td>[ERKEK, COCUK, KADIN, AKTIFSPOR]</td>\n",
              "      <td>0</td>\n",
              "    </tr>\n",
              "    <tr>\n",
              "      <th>2</th>\n",
              "      <td>69b69676-1a40-11ea-941b-000d3a38a36f</td>\n",
              "      <td>Android App</td>\n",
              "      <td>Android App</td>\n",
              "      <td>2019-11-27</td>\n",
              "      <td>2020-11-27</td>\n",
              "      <td>2020-11-27</td>\n",
              "      <td>2019-12-01</td>\n",
              "      <td>3.000</td>\n",
              "      <td>2.000</td>\n",
              "      <td>189.970</td>\n",
              "      <td>395.350</td>\n",
              "      <td>[ERKEK, KADIN]</td>\n",
              "      <td>0</td>\n",
              "    </tr>\n",
              "    <tr>\n",
              "      <th>3</th>\n",
              "      <td>1854e56c-491f-11eb-806e-000d3a38a36f</td>\n",
              "      <td>Android App</td>\n",
              "      <td>Android App</td>\n",
              "      <td>2021-01-06</td>\n",
              "      <td>2021-01-17</td>\n",
              "      <td>2021-01-17</td>\n",
              "      <td>2021-01-06</td>\n",
              "      <td>1.000</td>\n",
              "      <td>1.000</td>\n",
              "      <td>39.990</td>\n",
              "      <td>81.980</td>\n",
              "      <td>[AKTIFCOCUK, COCUK]</td>\n",
              "      <td>0</td>\n",
              "    </tr>\n",
              "    <tr>\n",
              "      <th>4</th>\n",
              "      <td>d6ea1074-f1f5-11e9-9346-000d3a38a36f</td>\n",
              "      <td>Desktop</td>\n",
              "      <td>Desktop</td>\n",
              "      <td>2019-08-03</td>\n",
              "      <td>2021-03-07</td>\n",
              "      <td>2021-03-07</td>\n",
              "      <td>2019-08-03</td>\n",
              "      <td>1.000</td>\n",
              "      <td>1.000</td>\n",
              "      <td>49.990</td>\n",
              "      <td>159.990</td>\n",
              "      <td>[AKTIFSPOR]</td>\n",
              "      <td>0</td>\n",
              "    </tr>\n",
              "  </tbody>\n",
              "</table>\n",
              "</div>\n",
              "      <button class=\"colab-df-convert\" onclick=\"convertToInteractive('df-de61e99d-f76d-4e14-b9a6-fcef3be6896b')\"\n",
              "              title=\"Convert this dataframe to an interactive table.\"\n",
              "              style=\"display:none;\">\n",
              "        \n",
              "  <svg xmlns=\"http://www.w3.org/2000/svg\" height=\"24px\"viewBox=\"0 0 24 24\"\n",
              "       width=\"24px\">\n",
              "    <path d=\"M0 0h24v24H0V0z\" fill=\"none\"/>\n",
              "    <path d=\"M18.56 5.44l.94 2.06.94-2.06 2.06-.94-2.06-.94-.94-2.06-.94 2.06-2.06.94zm-11 1L8.5 8.5l.94-2.06 2.06-.94-2.06-.94L8.5 2.5l-.94 2.06-2.06.94zm10 10l.94 2.06.94-2.06 2.06-.94-2.06-.94-.94-2.06-.94 2.06-2.06.94z\"/><path d=\"M17.41 7.96l-1.37-1.37c-.4-.4-.92-.59-1.43-.59-.52 0-1.04.2-1.43.59L10.3 9.45l-7.72 7.72c-.78.78-.78 2.05 0 2.83L4 21.41c.39.39.9.59 1.41.59.51 0 1.02-.2 1.41-.59l7.78-7.78 2.81-2.81c.8-.78.8-2.07 0-2.86zM5.41 20L4 18.59l7.72-7.72 1.47 1.35L5.41 20z\"/>\n",
              "  </svg>\n",
              "      </button>\n",
              "      \n",
              "  <style>\n",
              "    .colab-df-container {\n",
              "      display:flex;\n",
              "      flex-wrap:wrap;\n",
              "      gap: 12px;\n",
              "    }\n",
              "\n",
              "    .colab-df-convert {\n",
              "      background-color: #E8F0FE;\n",
              "      border: none;\n",
              "      border-radius: 50%;\n",
              "      cursor: pointer;\n",
              "      display: none;\n",
              "      fill: #1967D2;\n",
              "      height: 32px;\n",
              "      padding: 0 0 0 0;\n",
              "      width: 32px;\n",
              "    }\n",
              "\n",
              "    .colab-df-convert:hover {\n",
              "      background-color: #E2EBFA;\n",
              "      box-shadow: 0px 1px 2px rgba(60, 64, 67, 0.3), 0px 1px 3px 1px rgba(60, 64, 67, 0.15);\n",
              "      fill: #174EA6;\n",
              "    }\n",
              "\n",
              "    [theme=dark] .colab-df-convert {\n",
              "      background-color: #3B4455;\n",
              "      fill: #D2E3FC;\n",
              "    }\n",
              "\n",
              "    [theme=dark] .colab-df-convert:hover {\n",
              "      background-color: #434B5C;\n",
              "      box-shadow: 0px 1px 3px 1px rgba(0, 0, 0, 0.15);\n",
              "      filter: drop-shadow(0px 1px 2px rgba(0, 0, 0, 0.3));\n",
              "      fill: #FFFFFF;\n",
              "    }\n",
              "  </style>\n",
              "\n",
              "      <script>\n",
              "        const buttonEl =\n",
              "          document.querySelector('#df-de61e99d-f76d-4e14-b9a6-fcef3be6896b button.colab-df-convert');\n",
              "        buttonEl.style.display =\n",
              "          google.colab.kernel.accessAllowed ? 'block' : 'none';\n",
              "\n",
              "        async function convertToInteractive(key) {\n",
              "          const element = document.querySelector('#df-de61e99d-f76d-4e14-b9a6-fcef3be6896b');\n",
              "          const dataTable =\n",
              "            await google.colab.kernel.invokeFunction('convertToInteractive',\n",
              "                                                     [key], {});\n",
              "          if (!dataTable) return;\n",
              "\n",
              "          const docLinkHtml = 'Like what you see? Visit the ' +\n",
              "            '<a target=\"_blank\" href=https://colab.research.google.com/notebooks/data_table.ipynb>data table notebook</a>'\n",
              "            + ' to learn more about interactive tables.';\n",
              "          element.innerHTML = '';\n",
              "          dataTable['output_type'] = 'display_data';\n",
              "          await google.colab.output.renderOutput(dataTable, element);\n",
              "          const docLink = document.createElement('div');\n",
              "          docLink.innerHTML = docLinkHtml;\n",
              "          element.appendChild(docLink);\n",
              "        }\n",
              "      </script>\n",
              "    </div>\n",
              "  </div>\n",
              "  "
            ]
          },
          "metadata": {},
          "execution_count": 644
        }
      ]
    },
    {
      "cell_type": "code",
      "source": [
        "hi_segment_df[\"hi_cluster_no\"] = hi_segment_df[\"hi_cluster_no\"] + 1"
      ],
      "metadata": {
        "id": "78ebzm0DkUr8"
      },
      "execution_count": 645,
      "outputs": []
    },
    {
      "cell_type": "code",
      "source": [
        "hi_segment_df[\"kmeans_cluster_no\"] = clusters_kmeans"
      ],
      "metadata": {
        "id": "-2XhKAkJ8TlP"
      },
      "execution_count": 646,
      "outputs": []
    },
    {
      "cell_type": "code",
      "source": [
        "hi_segment_df[\"kmeans_cluster_no\"] = hi_segment_df[\"kmeans_cluster_no\"] + 1"
      ],
      "metadata": {
        "id": "ZmD8HALD9Zb4"
      },
      "execution_count": 647,
      "outputs": []
    },
    {
      "cell_type": "code",
      "source": [
        "hi_segment_df[\"hi_cluster_no\"] = clusters"
      ],
      "metadata": {
        "id": "-0LV1J7L9ZUY"
      },
      "execution_count": 648,
      "outputs": []
    },
    {
      "cell_type": "code",
      "source": [
        "hi_segment_df[\"hi_cluster_no\"] = hi_segment_df[\"hi_cluster_no\"] + 1"
      ],
      "metadata": {
        "id": "-plyOXXV9YZU"
      },
      "execution_count": 649,
      "outputs": []
    },
    {
      "cell_type": "code",
      "source": [
        "hi_segment_df.head()"
      ],
      "metadata": {
        "colab": {
          "base_uri": "https://localhost:8080/",
          "height": 0
        },
        "id": "I5C7jh8494wK",
        "outputId": "cbca942e-fad5-42e1-8278-81c7f49ea200"
      },
      "execution_count": 650,
      "outputs": [
        {
          "output_type": "execute_result",
          "data": {
            "text/plain": [
              "                              master_id order_channel last_order_channel first_order_date last_order_date last_order_date_online last_order_date_offline  order_num_total_ever_online  order_num_total_ever_offline  customer_value_total_ever_offline  customer_value_total_ever_online       interested_in_categories_12  hi_cluster_no  kmeans_cluster_no\n",
              "0  cc294636-19f0-11eb-8d74-000d3a38a36f   Android App            Offline       2020-10-30      2021-02-26             2021-02-21              2021-02-26                        4.000                         1.000                            139.990                           799.380                           [KADIN]              1                  2\n",
              "1  f431bd5a-ab7b-11e9-a2fc-000d3a38a36f   Android App             Mobile       2017-02-08      2021-02-16             2021-02-16              2020-01-10                       19.000                         2.000                            159.970                         1,853.580  [ERKEK, COCUK, KADIN, AKTIFSPOR]              1                  1\n",
              "2  69b69676-1a40-11ea-941b-000d3a38a36f   Android App        Android App       2019-11-27      2020-11-27             2020-11-27              2019-12-01                        3.000                         2.000                            189.970                           395.350                    [ERKEK, KADIN]              1                  6\n",
              "3  1854e56c-491f-11eb-806e-000d3a38a36f   Android App        Android App       2021-01-06      2021-01-17             2021-01-17              2021-01-06                        1.000                         1.000                             39.990                            81.980               [AKTIFCOCUK, COCUK]              1                  4\n",
              "4  d6ea1074-f1f5-11e9-9346-000d3a38a36f       Desktop            Desktop       2019-08-03      2021-03-07             2021-03-07              2019-08-03                        1.000                         1.000                             49.990                           159.990                       [AKTIFSPOR]              1                  1"
            ],
            "text/html": [
              "\n",
              "  <div id=\"df-1a4e6e01-b135-446f-9ab3-d0a658c5a3fa\">\n",
              "    <div class=\"colab-df-container\">\n",
              "      <div>\n",
              "<style scoped>\n",
              "    .dataframe tbody tr th:only-of-type {\n",
              "        vertical-align: middle;\n",
              "    }\n",
              "\n",
              "    .dataframe tbody tr th {\n",
              "        vertical-align: top;\n",
              "    }\n",
              "\n",
              "    .dataframe thead th {\n",
              "        text-align: right;\n",
              "    }\n",
              "</style>\n",
              "<table border=\"1\" class=\"dataframe\">\n",
              "  <thead>\n",
              "    <tr style=\"text-align: right;\">\n",
              "      <th></th>\n",
              "      <th>master_id</th>\n",
              "      <th>order_channel</th>\n",
              "      <th>last_order_channel</th>\n",
              "      <th>first_order_date</th>\n",
              "      <th>last_order_date</th>\n",
              "      <th>last_order_date_online</th>\n",
              "      <th>last_order_date_offline</th>\n",
              "      <th>order_num_total_ever_online</th>\n",
              "      <th>order_num_total_ever_offline</th>\n",
              "      <th>customer_value_total_ever_offline</th>\n",
              "      <th>customer_value_total_ever_online</th>\n",
              "      <th>interested_in_categories_12</th>\n",
              "      <th>hi_cluster_no</th>\n",
              "      <th>kmeans_cluster_no</th>\n",
              "    </tr>\n",
              "  </thead>\n",
              "  <tbody>\n",
              "    <tr>\n",
              "      <th>0</th>\n",
              "      <td>cc294636-19f0-11eb-8d74-000d3a38a36f</td>\n",
              "      <td>Android App</td>\n",
              "      <td>Offline</td>\n",
              "      <td>2020-10-30</td>\n",
              "      <td>2021-02-26</td>\n",
              "      <td>2021-02-21</td>\n",
              "      <td>2021-02-26</td>\n",
              "      <td>4.000</td>\n",
              "      <td>1.000</td>\n",
              "      <td>139.990</td>\n",
              "      <td>799.380</td>\n",
              "      <td>[KADIN]</td>\n",
              "      <td>1</td>\n",
              "      <td>2</td>\n",
              "    </tr>\n",
              "    <tr>\n",
              "      <th>1</th>\n",
              "      <td>f431bd5a-ab7b-11e9-a2fc-000d3a38a36f</td>\n",
              "      <td>Android App</td>\n",
              "      <td>Mobile</td>\n",
              "      <td>2017-02-08</td>\n",
              "      <td>2021-02-16</td>\n",
              "      <td>2021-02-16</td>\n",
              "      <td>2020-01-10</td>\n",
              "      <td>19.000</td>\n",
              "      <td>2.000</td>\n",
              "      <td>159.970</td>\n",
              "      <td>1,853.580</td>\n",
              "      <td>[ERKEK, COCUK, KADIN, AKTIFSPOR]</td>\n",
              "      <td>1</td>\n",
              "      <td>1</td>\n",
              "    </tr>\n",
              "    <tr>\n",
              "      <th>2</th>\n",
              "      <td>69b69676-1a40-11ea-941b-000d3a38a36f</td>\n",
              "      <td>Android App</td>\n",
              "      <td>Android App</td>\n",
              "      <td>2019-11-27</td>\n",
              "      <td>2020-11-27</td>\n",
              "      <td>2020-11-27</td>\n",
              "      <td>2019-12-01</td>\n",
              "      <td>3.000</td>\n",
              "      <td>2.000</td>\n",
              "      <td>189.970</td>\n",
              "      <td>395.350</td>\n",
              "      <td>[ERKEK, KADIN]</td>\n",
              "      <td>1</td>\n",
              "      <td>6</td>\n",
              "    </tr>\n",
              "    <tr>\n",
              "      <th>3</th>\n",
              "      <td>1854e56c-491f-11eb-806e-000d3a38a36f</td>\n",
              "      <td>Android App</td>\n",
              "      <td>Android App</td>\n",
              "      <td>2021-01-06</td>\n",
              "      <td>2021-01-17</td>\n",
              "      <td>2021-01-17</td>\n",
              "      <td>2021-01-06</td>\n",
              "      <td>1.000</td>\n",
              "      <td>1.000</td>\n",
              "      <td>39.990</td>\n",
              "      <td>81.980</td>\n",
              "      <td>[AKTIFCOCUK, COCUK]</td>\n",
              "      <td>1</td>\n",
              "      <td>4</td>\n",
              "    </tr>\n",
              "    <tr>\n",
              "      <th>4</th>\n",
              "      <td>d6ea1074-f1f5-11e9-9346-000d3a38a36f</td>\n",
              "      <td>Desktop</td>\n",
              "      <td>Desktop</td>\n",
              "      <td>2019-08-03</td>\n",
              "      <td>2021-03-07</td>\n",
              "      <td>2021-03-07</td>\n",
              "      <td>2019-08-03</td>\n",
              "      <td>1.000</td>\n",
              "      <td>1.000</td>\n",
              "      <td>49.990</td>\n",
              "      <td>159.990</td>\n",
              "      <td>[AKTIFSPOR]</td>\n",
              "      <td>1</td>\n",
              "      <td>1</td>\n",
              "    </tr>\n",
              "  </tbody>\n",
              "</table>\n",
              "</div>\n",
              "      <button class=\"colab-df-convert\" onclick=\"convertToInteractive('df-1a4e6e01-b135-446f-9ab3-d0a658c5a3fa')\"\n",
              "              title=\"Convert this dataframe to an interactive table.\"\n",
              "              style=\"display:none;\">\n",
              "        \n",
              "  <svg xmlns=\"http://www.w3.org/2000/svg\" height=\"24px\"viewBox=\"0 0 24 24\"\n",
              "       width=\"24px\">\n",
              "    <path d=\"M0 0h24v24H0V0z\" fill=\"none\"/>\n",
              "    <path d=\"M18.56 5.44l.94 2.06.94-2.06 2.06-.94-2.06-.94-.94-2.06-.94 2.06-2.06.94zm-11 1L8.5 8.5l.94-2.06 2.06-.94-2.06-.94L8.5 2.5l-.94 2.06-2.06.94zm10 10l.94 2.06.94-2.06 2.06-.94-2.06-.94-.94-2.06-.94 2.06-2.06.94z\"/><path d=\"M17.41 7.96l-1.37-1.37c-.4-.4-.92-.59-1.43-.59-.52 0-1.04.2-1.43.59L10.3 9.45l-7.72 7.72c-.78.78-.78 2.05 0 2.83L4 21.41c.39.39.9.59 1.41.59.51 0 1.02-.2 1.41-.59l7.78-7.78 2.81-2.81c.8-.78.8-2.07 0-2.86zM5.41 20L4 18.59l7.72-7.72 1.47 1.35L5.41 20z\"/>\n",
              "  </svg>\n",
              "      </button>\n",
              "      \n",
              "  <style>\n",
              "    .colab-df-container {\n",
              "      display:flex;\n",
              "      flex-wrap:wrap;\n",
              "      gap: 12px;\n",
              "    }\n",
              "\n",
              "    .colab-df-convert {\n",
              "      background-color: #E8F0FE;\n",
              "      border: none;\n",
              "      border-radius: 50%;\n",
              "      cursor: pointer;\n",
              "      display: none;\n",
              "      fill: #1967D2;\n",
              "      height: 32px;\n",
              "      padding: 0 0 0 0;\n",
              "      width: 32px;\n",
              "    }\n",
              "\n",
              "    .colab-df-convert:hover {\n",
              "      background-color: #E2EBFA;\n",
              "      box-shadow: 0px 1px 2px rgba(60, 64, 67, 0.3), 0px 1px 3px 1px rgba(60, 64, 67, 0.15);\n",
              "      fill: #174EA6;\n",
              "    }\n",
              "\n",
              "    [theme=dark] .colab-df-convert {\n",
              "      background-color: #3B4455;\n",
              "      fill: #D2E3FC;\n",
              "    }\n",
              "\n",
              "    [theme=dark] .colab-df-convert:hover {\n",
              "      background-color: #434B5C;\n",
              "      box-shadow: 0px 1px 3px 1px rgba(0, 0, 0, 0.15);\n",
              "      filter: drop-shadow(0px 1px 2px rgba(0, 0, 0, 0.3));\n",
              "      fill: #FFFFFF;\n",
              "    }\n",
              "  </style>\n",
              "\n",
              "      <script>\n",
              "        const buttonEl =\n",
              "          document.querySelector('#df-1a4e6e01-b135-446f-9ab3-d0a658c5a3fa button.colab-df-convert');\n",
              "        buttonEl.style.display =\n",
              "          google.colab.kernel.accessAllowed ? 'block' : 'none';\n",
              "\n",
              "        async function convertToInteractive(key) {\n",
              "          const element = document.querySelector('#df-1a4e6e01-b135-446f-9ab3-d0a658c5a3fa');\n",
              "          const dataTable =\n",
              "            await google.colab.kernel.invokeFunction('convertToInteractive',\n",
              "                                                     [key], {});\n",
              "          if (!dataTable) return;\n",
              "\n",
              "          const docLinkHtml = 'Like what you see? Visit the ' +\n",
              "            '<a target=\"_blank\" href=https://colab.research.google.com/notebooks/data_table.ipynb>data table notebook</a>'\n",
              "            + ' to learn more about interactive tables.';\n",
              "          element.innerHTML = '';\n",
              "          dataTable['output_type'] = 'display_data';\n",
              "          await google.colab.output.renderOutput(dataTable, element);\n",
              "          const docLink = document.createElement('div');\n",
              "          docLink.innerHTML = docLinkHtml;\n",
              "          element.appendChild(docLink);\n",
              "        }\n",
              "      </script>\n",
              "    </div>\n",
              "  </div>\n",
              "  "
            ]
          },
          "metadata": {},
          "execution_count": 650
        }
      ]
    },
    {
      "cell_type": "markdown",
      "source": [
        "### **Adım 3:** Her bir segmenti istatistiksel olarak inceleyeniz."
      ],
      "metadata": {
        "id": "HelPBtztpmB0"
      }
    },
    {
      "cell_type": "markdown",
      "source": [
        "**K-Means algoritmasından gelen etiketleri almadan gruplama işlemi gerçekleştirelim.**"
      ],
      "metadata": {
        "id": "ZlUbic4vJBHX"
      }
    },
    {
      "cell_type": "code",
      "source": [
        "hi_segment_df.groupby(\"hi_cluster_no\").agg([\"count\", \"mean\", \"median\"])[[\"order_num_total_ever_online\",\t\"order_num_total_ever_offline\",\t\n",
        "                                                                         \"customer_value_total_ever_offline\",\t\"customer_value_total_ever_online\"]]"
      ],
      "metadata": {
        "colab": {
          "base_uri": "https://localhost:8080/",
          "height": 0
        },
        "id": "ptJQ1u0Jx0nR",
        "outputId": "f2c1d4f2-4ac2-41d2-84c5-2b41b9d64252"
      },
      "execution_count": 651,
      "outputs": [
        {
          "output_type": "execute_result",
          "data": {
            "text/plain": [
              "              order_num_total_ever_online                 order_num_total_ever_offline               customer_value_total_ever_offline                       customer_value_total_ever_online                      \n",
              "                                    count    mean  median                        count   mean median                             count       mean     median                            count       mean     median\n",
              "hi_cluster_no                                                                                                                                                                                                      \n",
              "1                                   19252   3.133   2.000                        19252  1.896  1.000                             19252    249.709    176.460                            19252    499.530    296.440\n",
              "2                                       6  65.000  66.500                            6  1.500  1.000                                 6    501.265    359.835                                6 23,734.687 24,144.180\n",
              "3                                     683   1.653   1.000                          683  2.136  2.000                               683    317.134    239.980                              683    163.442    115.190\n",
              "4                                       1   1.000   1.000                            1  3.000  3.000                                 1 18,119.140 18,119.140                                1  2,587.200  2,587.200\n",
              "5                                       1 200.000 200.000                            1  2.000  2.000                                 1    684.970    684.970                                1 45,220.130 45,220.130\n",
              "6                                       2   1.500   1.500                            2 98.000 98.000                                 2  9,335.855  9,335.855                                2    141.980    141.980"
            ],
            "text/html": [
              "\n",
              "  <div id=\"df-f880c007-334f-4e0a-bd13-1104a0e76a45\">\n",
              "    <div class=\"colab-df-container\">\n",
              "      <div>\n",
              "<style scoped>\n",
              "    .dataframe tbody tr th:only-of-type {\n",
              "        vertical-align: middle;\n",
              "    }\n",
              "\n",
              "    .dataframe tbody tr th {\n",
              "        vertical-align: top;\n",
              "    }\n",
              "\n",
              "    .dataframe thead tr th {\n",
              "        text-align: left;\n",
              "    }\n",
              "\n",
              "    .dataframe thead tr:last-of-type th {\n",
              "        text-align: right;\n",
              "    }\n",
              "</style>\n",
              "<table border=\"1\" class=\"dataframe\">\n",
              "  <thead>\n",
              "    <tr>\n",
              "      <th></th>\n",
              "      <th colspan=\"3\" halign=\"left\">order_num_total_ever_online</th>\n",
              "      <th colspan=\"3\" halign=\"left\">order_num_total_ever_offline</th>\n",
              "      <th colspan=\"3\" halign=\"left\">customer_value_total_ever_offline</th>\n",
              "      <th colspan=\"3\" halign=\"left\">customer_value_total_ever_online</th>\n",
              "    </tr>\n",
              "    <tr>\n",
              "      <th></th>\n",
              "      <th>count</th>\n",
              "      <th>mean</th>\n",
              "      <th>median</th>\n",
              "      <th>count</th>\n",
              "      <th>mean</th>\n",
              "      <th>median</th>\n",
              "      <th>count</th>\n",
              "      <th>mean</th>\n",
              "      <th>median</th>\n",
              "      <th>count</th>\n",
              "      <th>mean</th>\n",
              "      <th>median</th>\n",
              "    </tr>\n",
              "    <tr>\n",
              "      <th>hi_cluster_no</th>\n",
              "      <th></th>\n",
              "      <th></th>\n",
              "      <th></th>\n",
              "      <th></th>\n",
              "      <th></th>\n",
              "      <th></th>\n",
              "      <th></th>\n",
              "      <th></th>\n",
              "      <th></th>\n",
              "      <th></th>\n",
              "      <th></th>\n",
              "      <th></th>\n",
              "    </tr>\n",
              "  </thead>\n",
              "  <tbody>\n",
              "    <tr>\n",
              "      <th>1</th>\n",
              "      <td>19252</td>\n",
              "      <td>3.133</td>\n",
              "      <td>2.000</td>\n",
              "      <td>19252</td>\n",
              "      <td>1.896</td>\n",
              "      <td>1.000</td>\n",
              "      <td>19252</td>\n",
              "      <td>249.709</td>\n",
              "      <td>176.460</td>\n",
              "      <td>19252</td>\n",
              "      <td>499.530</td>\n",
              "      <td>296.440</td>\n",
              "    </tr>\n",
              "    <tr>\n",
              "      <th>2</th>\n",
              "      <td>6</td>\n",
              "      <td>65.000</td>\n",
              "      <td>66.500</td>\n",
              "      <td>6</td>\n",
              "      <td>1.500</td>\n",
              "      <td>1.000</td>\n",
              "      <td>6</td>\n",
              "      <td>501.265</td>\n",
              "      <td>359.835</td>\n",
              "      <td>6</td>\n",
              "      <td>23,734.687</td>\n",
              "      <td>24,144.180</td>\n",
              "    </tr>\n",
              "    <tr>\n",
              "      <th>3</th>\n",
              "      <td>683</td>\n",
              "      <td>1.653</td>\n",
              "      <td>1.000</td>\n",
              "      <td>683</td>\n",
              "      <td>2.136</td>\n",
              "      <td>2.000</td>\n",
              "      <td>683</td>\n",
              "      <td>317.134</td>\n",
              "      <td>239.980</td>\n",
              "      <td>683</td>\n",
              "      <td>163.442</td>\n",
              "      <td>115.190</td>\n",
              "    </tr>\n",
              "    <tr>\n",
              "      <th>4</th>\n",
              "      <td>1</td>\n",
              "      <td>1.000</td>\n",
              "      <td>1.000</td>\n",
              "      <td>1</td>\n",
              "      <td>3.000</td>\n",
              "      <td>3.000</td>\n",
              "      <td>1</td>\n",
              "      <td>18,119.140</td>\n",
              "      <td>18,119.140</td>\n",
              "      <td>1</td>\n",
              "      <td>2,587.200</td>\n",
              "      <td>2,587.200</td>\n",
              "    </tr>\n",
              "    <tr>\n",
              "      <th>5</th>\n",
              "      <td>1</td>\n",
              "      <td>200.000</td>\n",
              "      <td>200.000</td>\n",
              "      <td>1</td>\n",
              "      <td>2.000</td>\n",
              "      <td>2.000</td>\n",
              "      <td>1</td>\n",
              "      <td>684.970</td>\n",
              "      <td>684.970</td>\n",
              "      <td>1</td>\n",
              "      <td>45,220.130</td>\n",
              "      <td>45,220.130</td>\n",
              "    </tr>\n",
              "    <tr>\n",
              "      <th>6</th>\n",
              "      <td>2</td>\n",
              "      <td>1.500</td>\n",
              "      <td>1.500</td>\n",
              "      <td>2</td>\n",
              "      <td>98.000</td>\n",
              "      <td>98.000</td>\n",
              "      <td>2</td>\n",
              "      <td>9,335.855</td>\n",
              "      <td>9,335.855</td>\n",
              "      <td>2</td>\n",
              "      <td>141.980</td>\n",
              "      <td>141.980</td>\n",
              "    </tr>\n",
              "  </tbody>\n",
              "</table>\n",
              "</div>\n",
              "      <button class=\"colab-df-convert\" onclick=\"convertToInteractive('df-f880c007-334f-4e0a-bd13-1104a0e76a45')\"\n",
              "              title=\"Convert this dataframe to an interactive table.\"\n",
              "              style=\"display:none;\">\n",
              "        \n",
              "  <svg xmlns=\"http://www.w3.org/2000/svg\" height=\"24px\"viewBox=\"0 0 24 24\"\n",
              "       width=\"24px\">\n",
              "    <path d=\"M0 0h24v24H0V0z\" fill=\"none\"/>\n",
              "    <path d=\"M18.56 5.44l.94 2.06.94-2.06 2.06-.94-2.06-.94-.94-2.06-.94 2.06-2.06.94zm-11 1L8.5 8.5l.94-2.06 2.06-.94-2.06-.94L8.5 2.5l-.94 2.06-2.06.94zm10 10l.94 2.06.94-2.06 2.06-.94-2.06-.94-.94-2.06-.94 2.06-2.06.94z\"/><path d=\"M17.41 7.96l-1.37-1.37c-.4-.4-.92-.59-1.43-.59-.52 0-1.04.2-1.43.59L10.3 9.45l-7.72 7.72c-.78.78-.78 2.05 0 2.83L4 21.41c.39.39.9.59 1.41.59.51 0 1.02-.2 1.41-.59l7.78-7.78 2.81-2.81c.8-.78.8-2.07 0-2.86zM5.41 20L4 18.59l7.72-7.72 1.47 1.35L5.41 20z\"/>\n",
              "  </svg>\n",
              "      </button>\n",
              "      \n",
              "  <style>\n",
              "    .colab-df-container {\n",
              "      display:flex;\n",
              "      flex-wrap:wrap;\n",
              "      gap: 12px;\n",
              "    }\n",
              "\n",
              "    .colab-df-convert {\n",
              "      background-color: #E8F0FE;\n",
              "      border: none;\n",
              "      border-radius: 50%;\n",
              "      cursor: pointer;\n",
              "      display: none;\n",
              "      fill: #1967D2;\n",
              "      height: 32px;\n",
              "      padding: 0 0 0 0;\n",
              "      width: 32px;\n",
              "    }\n",
              "\n",
              "    .colab-df-convert:hover {\n",
              "      background-color: #E2EBFA;\n",
              "      box-shadow: 0px 1px 2px rgba(60, 64, 67, 0.3), 0px 1px 3px 1px rgba(60, 64, 67, 0.15);\n",
              "      fill: #174EA6;\n",
              "    }\n",
              "\n",
              "    [theme=dark] .colab-df-convert {\n",
              "      background-color: #3B4455;\n",
              "      fill: #D2E3FC;\n",
              "    }\n",
              "\n",
              "    [theme=dark] .colab-df-convert:hover {\n",
              "      background-color: #434B5C;\n",
              "      box-shadow: 0px 1px 3px 1px rgba(0, 0, 0, 0.15);\n",
              "      filter: drop-shadow(0px 1px 2px rgba(0, 0, 0, 0.3));\n",
              "      fill: #FFFFFF;\n",
              "    }\n",
              "  </style>\n",
              "\n",
              "      <script>\n",
              "        const buttonEl =\n",
              "          document.querySelector('#df-f880c007-334f-4e0a-bd13-1104a0e76a45 button.colab-df-convert');\n",
              "        buttonEl.style.display =\n",
              "          google.colab.kernel.accessAllowed ? 'block' : 'none';\n",
              "\n",
              "        async function convertToInteractive(key) {\n",
              "          const element = document.querySelector('#df-f880c007-334f-4e0a-bd13-1104a0e76a45');\n",
              "          const dataTable =\n",
              "            await google.colab.kernel.invokeFunction('convertToInteractive',\n",
              "                                                     [key], {});\n",
              "          if (!dataTable) return;\n",
              "\n",
              "          const docLinkHtml = 'Like what you see? Visit the ' +\n",
              "            '<a target=\"_blank\" href=https://colab.research.google.com/notebooks/data_table.ipynb>data table notebook</a>'\n",
              "            + ' to learn more about interactive tables.';\n",
              "          element.innerHTML = '';\n",
              "          dataTable['output_type'] = 'display_data';\n",
              "          await google.colab.output.renderOutput(dataTable, element);\n",
              "          const docLink = document.createElement('div');\n",
              "          docLink.innerHTML = docLinkHtml;\n",
              "          element.appendChild(docLink);\n",
              "        }\n",
              "      </script>\n",
              "    </div>\n",
              "  </div>\n",
              "  "
            ]
          },
          "metadata": {},
          "execution_count": 651
        }
      ]
    },
    {
      "cell_type": "markdown",
      "source": [
        "**Küme 1:** \n",
        "* Birinci kümeye ait 19252 müşterimiz bulunmakta.\n",
        "* Ortalama yaklaşık 3.13 sipariş online, 1.89 sipariş offline olarak verildiği görülmekte.\n",
        "* Ortalama olarak yaklaşık 249.70 para birimi offline, 499.53 para birimi online olarak alışveriş yapıldığı görülmekte.\n",
        "* Diğer kümeler de benzer şekilde ilerlemektedir.\n",
        "\n",
        "**Küme 2:** \n",
        "* İkinci kümeye ait 6 müşterimiz bulunmakta.\n",
        "* Ortalama yaklaşık 65 sipariş online, 1.5 sipariş offline olarak verildiği görülmekte.\n",
        "* Ortalama olarak yaklaşık 501.26 para birimi offline, 23,744.687 para birimi online olarak alışveriş yapıldığı görülmekte.\n",
        "* Diğer kümeler de benzer şekilde ilerlemektedir.\n",
        "\n",
        "**Küme 3:** \n",
        "* Üçüncü kümeye ait 683 müşterimiz bulunmakta.\n",
        "* Ortalama yaklaşık 1.65 sipariş online, 2.13 sipariş offline olarak verildiği görülmekte.\n",
        "* Ortalama olarak yaklaşık 317.13 para birimi offline, 163.44 para birimi online olarak alışveriş yapıldığı görülmekte.\n",
        "* Diğer kümeler de benzer şekilde ilerlemektedir.\n",
        "\n",
        "**Küme 4:** \n",
        "* Dördüncü kümeye ait 1 müşterimiz bulunmakta.\n",
        "* Ortalama yaklaşık 1 sipariş online, 3 sipariş offline olarak verildiği görülmekte.\n",
        "* Ortalama olarak yaklaşık 18,119.14 para birimi offline, 2,587.20 para birimi online olarak alışveriş yapıldığı görülmekte.\n",
        "* Diğer kümeler de benzer şekilde ilerlemektedir.\n",
        "\n",
        "**Küme 5:** \n",
        "* Beşinci kümeye ait 1 müşterimiz bulunmakta.\n",
        "* Ortalama yaklaşık 200 sipariş online, 2 sipariş offline olarak verildiği görülmekte.\n",
        "* Ortalama olarak yaklaşık 684.97 para birimi offline, 45,220.13 para birimi online olarak alışveriş yapıldığı görülmekte.\n",
        "- Diğer kümeler de benzer şekilde ilerlemektedir.\n",
        "\n",
        "**Küme 6:** \n",
        "* Altıncı kümeye ait 2 müşterimiz bulunmakta.\n",
        "* Ortalama yaklaşık 1.5 sipariş online, 98 sipariş offline olarak verildiği görülmekte.\n",
        "* Ortalama olarak yaklaşık 9,335.85 para birimi offline, 141.98 para birimi online olarak alışveriş yapıldığı görülmekte."
      ],
      "metadata": {
        "id": "TOLotPj2wyU_"
      }
    }
  ]
}